{
 "cells": [
  {
   "cell_type": "markdown",
   "id": "bbfa03a7-c518-4405-9b5d-ade93213bb8f",
   "metadata": {},
   "source": [
    "# Primera Clase \n",
    "## Aprendiendo Python para Estadística \n",
    "Esto es **markdown**  "
   ]
  },
  {
   "cell_type": "code",
   "execution_count": null,
   "id": "fea0684a-2de0-40d7-9572-a8eca94865fe",
   "metadata": {},
   "outputs": [],
   "source": []
  },
  {
   "cell_type": "code",
   "execution_count": 5,
   "id": "2b32c1ea-7ea0-4edf-8f87-a5d6630b140b",
   "metadata": {
    "scrolled": true
   },
   "outputs": [
    {
     "name": "stdout",
     "output_type": "stream",
     "text": [
      "\n"
     ]
    },
    {
     "data": {
      "text/plain": [
       "type"
      ]
     },
     "execution_count": 5,
     "metadata": {},
     "output_type": "execute_result"
    }
   ],
   "source": [
    "# Esto es un comentario \n",
    "# Esto es otra línea de comentario \n",
    "\n",
    "# TIPOS DE DATOS\n",
    "# STRING -> Cadena de caracteres -> texto \n",
    "string = \"Somos de Cuba\"\n",
    "entero = 45\n",
    "decimal = 45.5\n",
    "booleano = True or False\n",
    "mama = \"Sonia\"\n",
    "\n",
    "\n",
    "# Palabras clave \n",
    "print()\n",
    "\n",
    "# import ... from ... as\n",
    "int # entero\n",
    "str # string (texto)\n",
    "bool # booleano verdadero o falso \n",
    "float # decimal\n",
    "type # para saber el tipo del valor de una variable\n",
    "# def \n",
    "# return "
   ]
  },
  {
   "cell_type": "code",
   "execution_count": 6,
   "id": "a47e02cd-3ce2-443b-88a4-d3690f343b5a",
   "metadata": {},
   "outputs": [
    {
     "data": {
      "text/plain": [
       "str"
      ]
     },
     "execution_count": 6,
     "metadata": {},
     "output_type": "execute_result"
    }
   ],
   "source": [
    "# Para saber el tipo de dato: \n",
    "type(mama) # el input (entrada) de la funcion es \"mama\""
   ]
  },
  {
   "cell_type": "code",
   "execution_count": 7,
   "id": "6b92e115-a31a-4595-b1fb-fa55d430198a",
   "metadata": {},
   "outputs": [
    {
     "data": {
      "text/plain": [
       "int"
      ]
     },
     "execution_count": 7,
     "metadata": {},
     "output_type": "execute_result"
    }
   ],
   "source": [
    "type(entero)"
   ]
  },
  {
   "cell_type": "code",
   "execution_count": 8,
   "id": "ea08b264-5b1b-43eb-abed-e76cc22bb9c5",
   "metadata": {},
   "outputs": [
    {
     "data": {
      "text/plain": [
       "float"
      ]
     },
     "execution_count": 8,
     "metadata": {},
     "output_type": "execute_result"
    }
   ],
   "source": [
    "type(decimal)"
   ]
  },
  {
   "cell_type": "code",
   "execution_count": 10,
   "id": "d3fdd048-5fd4-4c91-849f-eb32e69b385e",
   "metadata": {},
   "outputs": [
    {
     "name": "stdout",
     "output_type": "stream",
     "text": [
      "Somos de Cuba\n"
     ]
    }
   ],
   "source": [
    "print(string) # input aquí : string, el output es: Somos de Cuba"
   ]
  },
  {
   "cell_type": "code",
   "execution_count": 13,
   "id": "b0d81c36-6caa-426c-85d1-39a35ae3679c",
   "metadata": {},
   "outputs": [
    {
     "name": "stdout",
     "output_type": "stream",
     "text": [
      "\n"
     ]
    }
   ],
   "source": [
    "print()"
   ]
  },
  {
   "cell_type": "code",
   "execution_count": 12,
   "id": "335b20f3-ff20-4c2f-b651-32dba08cc335",
   "metadata": {},
   "outputs": [
    {
     "data": {
      "text/plain": [
       "str"
      ]
     },
     "execution_count": 12,
     "metadata": {},
     "output_type": "execute_result"
    }
   ],
   "source": [
    "type(\"Elisa\")"
   ]
  },
  {
   "cell_type": "code",
   "execution_count": 16,
   "id": "368cade5-0e80-49d6-b9be-c87004128209",
   "metadata": {},
   "outputs": [],
   "source": [
    "# Las funciones en Python se escriben usando la palabra clave \"def\" \n",
    "def cuadrado(numero):\n",
    "    return numero * numero"
   ]
  },
  {
   "cell_type": "code",
   "execution_count": 24,
   "id": "0d2f1a65-b179-4ab8-835b-0ac891003223",
   "metadata": {},
   "outputs": [
    {
     "data": {
      "text/plain": [
       "289"
      ]
     },
     "execution_count": 24,
     "metadata": {},
     "output_type": "execute_result"
    }
   ],
   "source": [
    "cuadrado(17)"
   ]
  },
  {
   "cell_type": "code",
   "execution_count": 19,
   "id": "bcbb331a-b792-4b46-b782-afd8d2476dbe",
   "metadata": {
    "scrolled": true
   },
   "outputs": [
    {
     "data": {
      "text/plain": [
       "2070.25"
      ]
     },
     "execution_count": 19,
     "metadata": {},
     "output_type": "execute_result"
    }
   ],
   "source": [
    "cuadrado(decimal)"
   ]
  },
  {
   "cell_type": "code",
   "execution_count": 20,
   "id": "86a96143-46ce-44f5-81d7-26311f802013",
   "metadata": {},
   "outputs": [
    {
     "data": {
      "text/plain": [
       "4100625"
      ]
     },
     "execution_count": 20,
     "metadata": {},
     "output_type": "execute_result"
    }
   ],
   "source": [
    "cuadrado(2025)"
   ]
  },
  {
   "cell_type": "code",
   "execution_count": 22,
   "id": "2318b424-8935-4e24-8a1b-33c650793236",
   "metadata": {},
   "outputs": [],
   "source": [
    "def saludar(nombre):\n",
    "    return \"Hola \" + nombre + \"!!!!\""
   ]
  },
  {
   "cell_type": "code",
   "execution_count": 27,
   "id": "742222ed-09d5-401d-bf4e-67cad300d5c1",
   "metadata": {},
   "outputs": [
    {
     "data": {
      "text/plain": [
       "'Hola Delfín!!!!'"
      ]
     },
     "execution_count": 27,
     "metadata": {},
     "output_type": "execute_result"
    }
   ],
   "source": [
    "saludar(\"Delfín\")"
   ]
  },
  {
   "cell_type": "code",
   "execution_count": 28,
   "id": "36526104-e096-4119-9d18-75808c472724",
   "metadata": {},
   "outputs": [],
   "source": [
    "mayor_de_edad = True"
   ]
  },
  {
   "cell_type": "code",
   "execution_count": 29,
   "id": "a514f0f2-6765-4c32-afa9-18b4af36e7f0",
   "metadata": {},
   "outputs": [
    {
     "data": {
      "text/plain": [
       "True"
      ]
     },
     "execution_count": 29,
     "metadata": {},
     "output_type": "execute_result"
    }
   ],
   "source": [
    "mayor_de_edad"
   ]
  },
  {
   "cell_type": "code",
   "execution_count": 58,
   "id": "e721f946-b4d7-44c4-ad2e-d731353d8fc9",
   "metadata": {},
   "outputs": [],
   "source": [
    "# Estructura de datos:\n",
    "# Listas \n",
    "# Diccionarios\n",
    "\n",
    "# Lista -> [ obj1, obj2, obj3, obj4 ]\n",
    "# Diccionarios -> { clave:valor, otra_clave:otro_valor }\n"
   ]
  },
  {
   "cell_type": "code",
   "execution_count": 30,
   "id": "8cb44863-de97-40d2-8252-585a55c98e55",
   "metadata": {},
   "outputs": [],
   "source": [
    "mi_lista_numeros = [1,2,3,4,5]"
   ]
  },
  {
   "cell_type": "code",
   "execution_count": 64,
   "id": "09109193-b396-459d-8c4c-d61fc731ff42",
   "metadata": {},
   "outputs": [
    {
     "data": {
      "text/plain": [
       "[1, 2, 3, 4, 5]"
      ]
     },
     "execution_count": 64,
     "metadata": {},
     "output_type": "execute_result"
    }
   ],
   "source": [
    "mi_lista_numeros"
   ]
  },
  {
   "cell_type": "code",
   "execution_count": 71,
   "id": "1652cce5-207d-4706-9291-270d37814c7b",
   "metadata": {},
   "outputs": [],
   "source": [
    "mi_lista_animales = [\"perro\", \"gato\", \"mono\"]"
   ]
  },
  {
   "cell_type": "code",
   "execution_count": 66,
   "id": "c474bc5d-cdd0-4e56-aa0b-59d5fdf6bc5f",
   "metadata": {},
   "outputs": [
    {
     "data": {
      "text/plain": [
       "['perro', 'gato', 'mono']"
      ]
     },
     "execution_count": 66,
     "metadata": {},
     "output_type": "execute_result"
    }
   ],
   "source": [
    "mi_lista_animales"
   ]
  },
  {
   "cell_type": "code",
   "execution_count": 72,
   "id": "6afef39d-90a9-40bc-adfa-a28730f739cb",
   "metadata": {},
   "outputs": [],
   "source": [
    "mi_lista_booleanos = [True, False, False, True, False]"
   ]
  },
  {
   "cell_type": "code",
   "execution_count": 69,
   "id": "d2fca071-474b-4fb1-9bbe-7566f6731e9b",
   "metadata": {},
   "outputs": [
    {
     "data": {
      "text/plain": [
       "[True, False, False, True, False]"
      ]
     },
     "execution_count": 69,
     "metadata": {},
     "output_type": "execute_result"
    }
   ],
   "source": [
    "mi_lista_booleanos"
   ]
  },
  {
   "cell_type": "code",
   "execution_count": 32,
   "id": "99b1fc4f-f5d4-4b6f-a235-080cb2775486",
   "metadata": {},
   "outputs": [],
   "source": [
    "mi_lista_de_todo = [True, \"Elisa\", 45, 34.78]"
   ]
  },
  {
   "cell_type": "code",
   "execution_count": 33,
   "id": "e3ef58e3-0445-4992-b530-aa8b15568447",
   "metadata": {},
   "outputs": [
    {
     "data": {
      "text/plain": [
       "[True, 'Elisa', 45, 34.78]"
      ]
     },
     "execution_count": 33,
     "metadata": {},
     "output_type": "execute_result"
    }
   ],
   "source": [
    "mi_lista_de_todo"
   ]
  },
  {
   "cell_type": "code",
   "execution_count": 34,
   "id": "2b4da109-ef3d-4aee-8371-6584179ed572",
   "metadata": {},
   "outputs": [],
   "source": [
    "mi_diccionario = {\n",
    "    \"nombre\":\"Sonia\",\n",
    "    \"edad\":79,\n",
    "    \"país\": \"Cuba\"\n",
    "}"
   ]
  },
  {
   "cell_type": "code",
   "execution_count": null,
   "id": "19cd3abc-fd14-4b24-8016-606f63c52242",
   "metadata": {},
   "outputs": [],
   "source": [
    "lista_de_nombres = [\"Elisa\", \"Mar\", \"Basilio\"]"
   ]
  },
  {
   "cell_type": "code",
   "execution_count": null,
   "id": "b2cc23f7-269e-412e-9690-29ebd8b90aa2",
   "metadata": {},
   "outputs": [],
   "source": []
  }
 ],
 "metadata": {
  "kernelspec": {
   "display_name": "Python 3 (ipykernel)",
   "language": "python",
   "name": "python3"
  },
  "language_info": {
   "codemirror_mode": {
    "name": "ipython",
    "version": 3
   },
   "file_extension": ".py",
   "mimetype": "text/x-python",
   "name": "python",
   "nbconvert_exporter": "python",
   "pygments_lexer": "ipython3",
   "version": "3.12.3"
  }
 },
 "nbformat": 4,
 "nbformat_minor": 5
}
