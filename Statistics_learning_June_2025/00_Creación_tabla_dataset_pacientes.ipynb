{
 "cells": [
  {
   "cell_type": "code",
   "execution_count": null,
   "id": "ba4082bf-6d24-4a99-ac12-3a864ae2062e",
   "metadata": {},
   "outputs": [],
   "source": [
    "# CREACION DE LA TABLA dataset_pacientes.csv\n",
    "\n",
    "from faker import Faker\n",
    "import pandas as pd\n",
    "import numpy as np\n",
    "\n",
    "fake = Faker('es_ES')\n",
    "n = 200\n",
    "\n",
    "data = []\n",
    "for i in range(n):\n",
    "    sexo = np.random.choice(['M', 'F'])\n",
    "    edad = np.random.randint(18, 85)\n",
    "    altura = np.random.normal(170 if sexo == 'M' else 160, 7)  # cm\n",
    "    peso = np.random.normal(75 if sexo == 'M' else 62, 12)     # kg\n",
    "    fumador = np.random.choice([True, False], p=[0.23, 0.77])\n",
    "    tension_sistolica = np.random.normal(125, 15) + (5 if fumador else 0)\n",
    "    colesterol = np.random.normal(200, 30) + (10 if fumador else 0)\n",
    "    glucosa = np.random.normal(95, 10)\n",
    "    actividad_fisica = np.random.choice(['Baja', 'Moderada', 'Alta'], p=[0.4, 0.45, 0.15])\n",
    "    enfermedades_cronicas = np.random.poisson(0.7) if edad > 45 else 0\n",
    "    \n",
    "    data.append({\n",
    "        'id': i+1,\n",
    "        'nombre': fake.first_name(),\n",
    "        'sexo': sexo,\n",
    "        'edad': edad,\n",
    "        'altura_cm': round(altura, 1),\n",
    "        'peso_kg': round(peso, 1),\n",
    "        'fumador': fumador,\n",
    "        'tension_sistolica': round(tension_sistolica, 1),\n",
    "        'colesterol': round(colesterol, 1),\n",
    "        'glucosa': round(glucosa, 1),\n",
    "        'actividad_fisica': actividad_fisica,\n",
    "        'enfermedades_cronicas': enfermedades_cronicas\n",
    "    })\n",
    "\n",
    "df = pd.DataFrame(data)"
   ]
  }
 ],
 "metadata": {
  "kernelspec": {
   "display_name": "Python 3 (ipykernel)",
   "language": "python",
   "name": "python3"
  },
  "language_info": {
   "codemirror_mode": {
    "name": "ipython",
    "version": 3
   },
   "file_extension": ".py",
   "mimetype": "text/x-python",
   "name": "python",
   "nbconvert_exporter": "python",
   "pygments_lexer": "ipython3",
   "version": "3.12.3"
  }
 },
 "nbformat": 4,
 "nbformat_minor": 5
}
