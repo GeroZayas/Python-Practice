{
 "cells": [
  {
   "cell_type": "markdown",
   "id": "bbfa03a7-c518-4405-9b5d-ade93213bb8f",
   "metadata": {},
   "source": [
    "# Segunda Clase \n",
    "## Aprendiendo Python para Estadística \n",
    "Esto es **markdown**  "
   ]
  },
  {
   "cell_type": "code",
   "execution_count": 5,
   "id": "38438e3d-0d99-45ab-aeb4-3b0bdaf3d26e",
   "metadata": {},
   "outputs": [],
   "source": [
    "# F Strings \n",
    "\n",
    "name = \"Sonia\"\n",
    "age = 45\n",
    "profession = \"teacher\"\n",
    "country = \"Cuba\"\n",
    "\n",
    "\n",
    "my_string = f\"The teacher is {name}, the age is {age}, the profession is {profession} and the country is {country}\" "
   ]
  },
  {
   "cell_type": "code",
   "execution_count": 6,
   "id": "b46ab57a-95d6-483b-b27e-38fb053e23b8",
   "metadata": {},
   "outputs": [
    {
     "data": {
      "text/plain": [
       "'The teacher is Sonia, the age is 45, the profession is teacher and the country is Cuba'"
      ]
     },
     "execution_count": 6,
     "metadata": {},
     "output_type": "execute_result"
    }
   ],
   "source": [
    "my_string"
   ]
  },
  {
   "cell_type": "code",
   "execution_count": 86,
   "id": "a91969e2-4635-45c3-bd26-a3ad13fb30f4",
   "metadata": {},
   "outputs": [
    {
     "data": {
      "text/plain": [
       "16"
      ]
     },
     "execution_count": 86,
     "metadata": {},
     "output_type": "execute_result"
    }
   ],
   "source": [
    "# OPERACIONES MATEMATICAS \n",
    "# + , - , * , / , // (división entera) , ** (potencia), %  (módulo)\n",
    "# == (igualdad) \n",
    "# != (desigual)\n",
    "# > ( más que ) \n",
    "# < (menos que)\n",
    "# >= (más o igual a )\n",
    "# <= (menos o igual a )\n",
    "\n",
    "8 + 8 "
   ]
  },
  {
   "cell_type": "code",
   "execution_count": 9,
   "id": "1cfde3a6-0c8b-46ba-b558-b3cb6ca25f81",
   "metadata": {},
   "outputs": [
    {
     "data": {
      "text/plain": [
       "30"
      ]
     },
     "execution_count": 9,
     "metadata": {},
     "output_type": "execute_result"
    }
   ],
   "source": [
    "90 - 60"
   ]
  },
  {
   "cell_type": "code",
   "execution_count": 10,
   "id": "b619e2ed-0ea7-444b-b1ad-c5b8bb4539ee",
   "metadata": {},
   "outputs": [
    {
     "data": {
      "text/plain": [
       "6400"
      ]
     },
     "execution_count": 10,
     "metadata": {},
     "output_type": "execute_result"
    }
   ],
   "source": [
    "80 * 80 "
   ]
  },
  {
   "cell_type": "code",
   "execution_count": 11,
   "id": "a6479072-f254-42e3-bd9f-f46a3f283438",
   "metadata": {},
   "outputs": [
    {
     "data": {
      "text/plain": [
       "45.0"
      ]
     },
     "execution_count": 11,
     "metadata": {},
     "output_type": "execute_result"
    }
   ],
   "source": [
    "900 / 20 "
   ]
  },
  {
   "cell_type": "code",
   "execution_count": 13,
   "id": "cebaf82f-0bb0-4d1c-9aae-ba58b59bf0ea",
   "metadata": {},
   "outputs": [
    {
     "data": {
      "text/plain": [
       "1"
      ]
     },
     "execution_count": 13,
     "metadata": {},
     "output_type": "execute_result"
    }
   ],
   "source": [
    "7 // 6 "
   ]
  },
  {
   "cell_type": "code",
   "execution_count": 14,
   "id": "3e8f1975-5e36-4aa1-94fe-7a344cea5845",
   "metadata": {},
   "outputs": [
    {
     "data": {
      "text/plain": [
       "1.6"
      ]
     },
     "execution_count": 14,
     "metadata": {},
     "output_type": "execute_result"
    }
   ],
   "source": [
    "8 / 5 "
   ]
  },
  {
   "cell_type": "code",
   "execution_count": 15,
   "id": "855fa468-f2b4-4bfa-a26d-e149c58471b3",
   "metadata": {},
   "outputs": [
    {
     "data": {
      "text/plain": [
       "1"
      ]
     },
     "execution_count": 15,
     "metadata": {},
     "output_type": "execute_result"
    }
   ],
   "source": [
    "8 // 5"
   ]
  },
  {
   "cell_type": "code",
   "execution_count": 16,
   "id": "1dbc10b7-916e-438f-ae99-15aa29d5d0b0",
   "metadata": {},
   "outputs": [
    {
     "data": {
      "text/plain": [
       "2.2"
      ]
     },
     "execution_count": 16,
     "metadata": {},
     "output_type": "execute_result"
    }
   ],
   "source": [
    "11 / 5 "
   ]
  },
  {
   "cell_type": "code",
   "execution_count": 17,
   "id": "2bf2a86c-8262-45a4-9966-292a60b17121",
   "metadata": {},
   "outputs": [
    {
     "data": {
      "text/plain": [
       "2"
      ]
     },
     "execution_count": 17,
     "metadata": {},
     "output_type": "execute_result"
    }
   ],
   "source": [
    "11 // 5"
   ]
  },
  {
   "cell_type": "code",
   "execution_count": 18,
   "id": "8351781d-beab-4260-96f7-d623f9de2ca8",
   "metadata": {},
   "outputs": [
    {
     "data": {
      "text/plain": [
       "4"
      ]
     },
     "execution_count": 18,
     "metadata": {},
     "output_type": "execute_result"
    }
   ],
   "source": [
    "2 ** 2 "
   ]
  },
  {
   "cell_type": "code",
   "execution_count": 19,
   "id": "870a1d7b-4ae2-4d3e-a4f2-c8d3beb27011",
   "metadata": {},
   "outputs": [
    {
     "data": {
      "text/plain": [
       "256"
      ]
     },
     "execution_count": 19,
     "metadata": {},
     "output_type": "execute_result"
    }
   ],
   "source": [
    "2 ** 8 "
   ]
  },
  {
   "cell_type": "code",
   "execution_count": 24,
   "id": "041e617e-4be1-4124-90e3-11ecd856ca3b",
   "metadata": {},
   "outputs": [
    {
     "data": {
      "text/plain": [
       "2.4"
      ]
     },
     "execution_count": 24,
     "metadata": {},
     "output_type": "execute_result"
    }
   ],
   "source": [
    "12 / 5 "
   ]
  },
  {
   "cell_type": "code",
   "execution_count": 28,
   "id": "ed892950-ac13-431c-ac0f-1ec9b5a10bc7",
   "metadata": {},
   "outputs": [
    {
     "data": {
      "text/plain": [
       "4"
      ]
     },
     "execution_count": 28,
     "metadata": {},
     "output_type": "execute_result"
    }
   ],
   "source": [
    "14 % 5"
   ]
  },
  {
   "cell_type": "code",
   "execution_count": 34,
   "id": "6a2ec07a-1b5d-410d-ad63-25a413d9922c",
   "metadata": {},
   "outputs": [
    {
     "data": {
      "text/plain": [
       "80"
      ]
     },
     "execution_count": 34,
     "metadata": {},
     "output_type": "execute_result"
    }
   ],
   "source": [
    "(5 + 5) * 8"
   ]
  },
  {
   "cell_type": "code",
   "execution_count": 35,
   "id": "c53b9570-7887-4e7a-bfee-9d3e4069777f",
   "metadata": {},
   "outputs": [
    {
     "data": {
      "text/plain": [
       "45"
      ]
     },
     "execution_count": 35,
     "metadata": {},
     "output_type": "execute_result"
    }
   ],
   "source": [
    "5 + 5 * 8 "
   ]
  },
  {
   "cell_type": "code",
   "execution_count": 48,
   "id": "ad1f6a23-657d-4017-b4f2-e6511dc9d491",
   "metadata": {},
   "outputs": [],
   "source": [
    "medicinas = 89"
   ]
  },
  {
   "cell_type": "code",
   "execution_count": 49,
   "id": "7fbccc85-2829-43a1-b04c-4b650ae9cc9a",
   "metadata": {},
   "outputs": [],
   "source": [
    "personas = 8"
   ]
  },
  {
   "cell_type": "code",
   "execution_count": 50,
   "id": "f1fda6ee-ea84-4c2b-9509-73c0c38511ee",
   "metadata": {},
   "outputs": [],
   "source": [
    "total = medicinas * personas"
   ]
  },
  {
   "cell_type": "code",
   "execution_count": 51,
   "id": "b3825e2b-1e34-4a8f-b286-93a644419d5c",
   "metadata": {},
   "outputs": [
    {
     "data": {
      "text/plain": [
       "712"
      ]
     },
     "execution_count": 51,
     "metadata": {},
     "output_type": "execute_result"
    }
   ],
   "source": [
    "total "
   ]
  },
  {
   "cell_type": "code",
   "execution_count": 52,
   "id": "cbe3251f-a442-4a6d-9f6f-fac6175b876f",
   "metadata": {},
   "outputs": [],
   "source": [
    "mi_lista = [total, medicinas, personas] "
   ]
  },
  {
   "cell_type": "code",
   "execution_count": 53,
   "id": "b1a05faa-41a1-4a13-84aa-d04a39430f25",
   "metadata": {},
   "outputs": [
    {
     "data": {
      "text/plain": [
       "[712, 89, 8]"
      ]
     },
     "execution_count": 53,
     "metadata": {},
     "output_type": "execute_result"
    }
   ],
   "source": [
    "mi_lista"
   ]
  },
  {
   "cell_type": "code",
   "execution_count": 54,
   "id": "4b0baa37-abc9-447c-b69f-46eef24131df",
   "metadata": {},
   "outputs": [],
   "source": [
    "# PORCIENTO"
   ]
  },
  {
   "cell_type": "code",
   "execution_count": 55,
   "id": "437ef452-0bfd-4b47-8d62-ddc794bf07e9",
   "metadata": {},
   "outputs": [],
   "source": [
    "# 80 porciento de las medicinas"
   ]
  },
  {
   "cell_type": "code",
   "execution_count": 57,
   "id": "cf2b149a-727d-4b9f-a060-aa1c2d840022",
   "metadata": {},
   "outputs": [],
   "source": [
    "ochenta_porciento = (medicinas * 80) / 100 "
   ]
  },
  {
   "cell_type": "code",
   "execution_count": 58,
   "id": "26ca666e-bc2d-4e30-8cb7-c87ec9937188",
   "metadata": {},
   "outputs": [
    {
     "data": {
      "text/plain": [
       "71.2"
      ]
     },
     "execution_count": 58,
     "metadata": {},
     "output_type": "execute_result"
    }
   ],
   "source": [
    "ochenta_porciento"
   ]
  },
  {
   "cell_type": "code",
   "execution_count": 59,
   "id": "e87dc795-18ce-4ae2-b05b-63e60b52b6a8",
   "metadata": {},
   "outputs": [],
   "source": [
    "total_de_pacientes = 3000"
   ]
  },
  {
   "cell_type": "code",
   "execution_count": 61,
   "id": "2bc5dcb2-4d75-45b9-8420-6dbbd3707088",
   "metadata": {},
   "outputs": [],
   "source": [
    "turnos_por_paciente = 4 "
   ]
  },
  {
   "cell_type": "code",
   "execution_count": 62,
   "id": "f9ab23b0-251f-4c02-89ab-ea203caf4127",
   "metadata": {},
   "outputs": [],
   "source": [
    "total_turnos = total_de_pacientes * turnos_por_paciente"
   ]
  },
  {
   "cell_type": "code",
   "execution_count": 63,
   "id": "46a6c3fe-96c6-4cb2-bc70-945416c81119",
   "metadata": {},
   "outputs": [
    {
     "data": {
      "text/plain": [
       "12000"
      ]
     },
     "execution_count": 63,
     "metadata": {},
     "output_type": "execute_result"
    }
   ],
   "source": [
    "total_turnos"
   ]
  },
  {
   "cell_type": "code",
   "execution_count": 64,
   "id": "dbb17e30-3f89-4beb-99dd-91122ce12665",
   "metadata": {},
   "outputs": [],
   "source": [
    "cantidad_médicos = 12"
   ]
  },
  {
   "cell_type": "code",
   "execution_count": 65,
   "id": "da9693d5-55ac-4b87-b814-6362901bed2c",
   "metadata": {},
   "outputs": [],
   "source": [
    "turnos_por_médicos = total_turnos / cantidad_médicos"
   ]
  },
  {
   "cell_type": "code",
   "execution_count": 66,
   "id": "1373b599-dd71-42fe-9998-ebf7fc1ef9a9",
   "metadata": {},
   "outputs": [
    {
     "data": {
      "text/plain": [
       "1000.0"
      ]
     },
     "execution_count": 66,
     "metadata": {},
     "output_type": "execute_result"
    }
   ],
   "source": [
    "turnos_por_médicos"
   ]
  },
  {
   "cell_type": "code",
   "execution_count": 71,
   "id": "03648593-43f2-4287-ab42-8b87debfe235",
   "metadata": {},
   "outputs": [],
   "source": [
    "turnos_por_mes = turnos_por_médicos // 12 "
   ]
  },
  {
   "cell_type": "code",
   "execution_count": 72,
   "id": "5eb22eb9-e653-4c69-8418-275513402c33",
   "metadata": {},
   "outputs": [
    {
     "data": {
      "text/plain": [
       "83.0"
      ]
     },
     "execution_count": 72,
     "metadata": {},
     "output_type": "execute_result"
    }
   ],
   "source": [
    "turnos_por_mes"
   ]
  },
  {
   "cell_type": "code",
   "execution_count": 73,
   "id": "b9cc8610-8e9a-4b9c-8d7a-0559795a848d",
   "metadata": {},
   "outputs": [],
   "source": [
    "turnos_por_semana = turnos_por_médicos // 52"
   ]
  },
  {
   "cell_type": "code",
   "execution_count": 74,
   "id": "c5fbb3a2-97de-4c0e-be88-f00082dc0878",
   "metadata": {},
   "outputs": [
    {
     "data": {
      "text/plain": [
       "19.0"
      ]
     },
     "execution_count": 74,
     "metadata": {},
     "output_type": "execute_result"
    }
   ],
   "source": [
    "turnos_por_semana"
   ]
  },
  {
   "cell_type": "code",
   "execution_count": 75,
   "id": "43863cb0-80f4-4bd7-8bfb-e2277edb189f",
   "metadata": {},
   "outputs": [],
   "source": [
    "# CONDICIONALES\n",
    "# IF ELIF ELSE"
   ]
  },
  {
   "cell_type": "code",
   "execution_count": 130,
   "id": "0a7834af-9835-493e-ac15-74d60526d9ec",
   "metadata": {},
   "outputs": [],
   "source": [
    "# Si persona enferma, entonces ir a hospital, de lo contrario, ir a casa"
   ]
  },
  {
   "cell_type": "code",
   "execution_count": 135,
   "id": "4923346c-8edd-4353-a3f1-c62922bc58ee",
   "metadata": {},
   "outputs": [],
   "source": [
    "persona_enferma = False"
   ]
  },
  {
   "cell_type": "code",
   "execution_count": 136,
   "id": "ff5b63e1-72cb-43b8-b41e-47462b7c7b93",
   "metadata": {},
   "outputs": [
    {
     "data": {
      "text/plain": [
       "False"
      ]
     },
     "execution_count": 136,
     "metadata": {},
     "output_type": "execute_result"
    }
   ],
   "source": [
    "persona_enferma"
   ]
  },
  {
   "cell_type": "code",
   "execution_count": 137,
   "id": "0d473be6-aa29-4f57-bfaa-aa56617a8010",
   "metadata": {},
   "outputs": [
    {
     "name": "stdout",
     "output_type": "stream",
     "text": [
      "Vete para tu casa!\n"
     ]
    }
   ],
   "source": [
    "if persona_enferma:\n",
    "    print(\"Ir a hospital!!!!\")\n",
    "else:\n",
    "    print(\"Vete para tu casa!\")"
   ]
  },
  {
   "cell_type": "code",
   "execution_count": null,
   "id": "43e6314e-4b38-4dc8-afd8-6f756c134f38",
   "metadata": {},
   "outputs": [],
   "source": []
  }
 ],
 "metadata": {
  "kernelspec": {
   "display_name": "Python 3 (ipykernel)",
   "language": "python",
   "name": "python3"
  },
  "language_info": {
   "codemirror_mode": {
    "name": "ipython",
    "version": 3
   },
   "file_extension": ".py",
   "mimetype": "text/x-python",
   "name": "python",
   "nbconvert_exporter": "python",
   "pygments_lexer": "ipython3",
   "version": "3.12.3"
  }
 },
 "nbformat": 4,
 "nbformat_minor": 5
}
