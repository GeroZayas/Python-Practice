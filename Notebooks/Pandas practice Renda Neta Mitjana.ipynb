{
 "cells": [
  {
   "cell_type": "code",
   "execution_count": 1,
   "id": "216e5404-7aae-4e55-bc95-f46269cb3b28",
   "metadata": {},
   "outputs": [],
   "source": [
    "import pandas as pd"
   ]
  },
  {
   "cell_type": "code",
   "execution_count": 2,
   "id": "ea2cb36f-0342-475e-8c32-91ed62f01bc2",
   "metadata": {},
   "outputs": [],
   "source": [
    "df = pd.read_csv('2020_renda_neta_mitjana_per_llar.csv')"
   ]
  },
  {
   "cell_type": "code",
   "execution_count": 3,
   "id": "6516d216-7b0a-4168-a9b4-02be9d182c2c",
   "metadata": {},
   "outputs": [
    {
     "data": {
      "text/plain": [
       "(1068, 7)"
      ]
     },
     "execution_count": 3,
     "metadata": {},
     "output_type": "execute_result"
    }
   ],
   "source": [
    "df.shape"
   ]
  },
  {
   "cell_type": "code",
   "execution_count": 4,
   "id": "ee97624f-4c31-4742-b42e-9bdf35ca2d63",
   "metadata": {},
   "outputs": [],
   "source": [
    "columns = df.shape[1]"
   ]
  },
  {
   "cell_type": "code",
   "execution_count": 5,
   "id": "de4a66bb-fd15-4f28-9098-39d9fc63ef52",
   "metadata": {},
   "outputs": [
    {
     "data": {
      "text/plain": [
       "7"
      ]
     },
     "execution_count": 5,
     "metadata": {},
     "output_type": "execute_result"
    }
   ],
   "source": [
    "columns"
   ]
  },
  {
   "cell_type": "code",
   "execution_count": 8,
   "id": "fae44508-7463-4131-b45c-4ca824e5bfd4",
   "metadata": {},
   "outputs": [
    {
     "name": "stdout",
     "output_type": "stream",
     "text": [
      "<class 'pandas.core.frame.DataFrame'>\n",
      "RangeIndex: 1068 entries, 0 to 1067\n",
      "Data columns (total 7 columns):\n",
      " #   Column          Non-Null Count  Dtype \n",
      "---  ------          --------------  ----- \n",
      " 0   Any             1068 non-null   int64 \n",
      " 1   Codi_Districte  1068 non-null   int64 \n",
      " 2   Nom_Districte   1068 non-null   object\n",
      " 3   Codi_Barri      1068 non-null   int64 \n",
      " 4   Nom_Barri       1068 non-null   object\n",
      " 5   Seccio_Censal   1068 non-null   int64 \n",
      " 6   Import_Euros    1068 non-null   int64 \n",
      "dtypes: int64(5), object(2)\n",
      "memory usage: 58.5+ KB\n"
     ]
    }
   ],
   "source": [
    "df.info()"
   ]
  },
  {
   "cell_type": "code",
   "execution_count": 9,
   "id": "a03f65f8-c2c4-4d3f-9271-f9b2fba1aeab",
   "metadata": {},
   "outputs": [
    {
     "data": {
      "text/html": [
       "<div>\n",
       "<style scoped>\n",
       "    .dataframe tbody tr th:only-of-type {\n",
       "        vertical-align: middle;\n",
       "    }\n",
       "\n",
       "    .dataframe tbody tr th {\n",
       "        vertical-align: top;\n",
       "    }\n",
       "\n",
       "    .dataframe thead th {\n",
       "        text-align: right;\n",
       "    }\n",
       "</style>\n",
       "<table border=\"1\" class=\"dataframe\">\n",
       "  <thead>\n",
       "    <tr style=\"text-align: right;\">\n",
       "      <th></th>\n",
       "      <th>Any</th>\n",
       "      <th>Codi_Districte</th>\n",
       "      <th>Nom_Districte</th>\n",
       "      <th>Codi_Barri</th>\n",
       "      <th>Nom_Barri</th>\n",
       "      <th>Seccio_Censal</th>\n",
       "      <th>Import_Euros</th>\n",
       "    </tr>\n",
       "  </thead>\n",
       "  <tbody>\n",
       "    <tr>\n",
       "      <th>0</th>\n",
       "      <td>2020</td>\n",
       "      <td>1</td>\n",
       "      <td>Ciutat Vella</td>\n",
       "      <td>1</td>\n",
       "      <td>el Raval</td>\n",
       "      <td>1</td>\n",
       "      <td>27503</td>\n",
       "    </tr>\n",
       "    <tr>\n",
       "      <th>1</th>\n",
       "      <td>2020</td>\n",
       "      <td>1</td>\n",
       "      <td>Ciutat Vella</td>\n",
       "      <td>1</td>\n",
       "      <td>el Raval</td>\n",
       "      <td>2</td>\n",
       "      <td>21913</td>\n",
       "    </tr>\n",
       "    <tr>\n",
       "      <th>2</th>\n",
       "      <td>2020</td>\n",
       "      <td>1</td>\n",
       "      <td>Ciutat Vella</td>\n",
       "      <td>1</td>\n",
       "      <td>el Raval</td>\n",
       "      <td>3</td>\n",
       "      <td>24220</td>\n",
       "    </tr>\n",
       "    <tr>\n",
       "      <th>3</th>\n",
       "      <td>2020</td>\n",
       "      <td>1</td>\n",
       "      <td>Ciutat Vella</td>\n",
       "      <td>1</td>\n",
       "      <td>el Raval</td>\n",
       "      <td>4</td>\n",
       "      <td>27405</td>\n",
       "    </tr>\n",
       "    <tr>\n",
       "      <th>4</th>\n",
       "      <td>2020</td>\n",
       "      <td>1</td>\n",
       "      <td>Ciutat Vella</td>\n",
       "      <td>1</td>\n",
       "      <td>el Raval</td>\n",
       "      <td>5</td>\n",
       "      <td>23014</td>\n",
       "    </tr>\n",
       "  </tbody>\n",
       "</table>\n",
       "</div>"
      ],
      "text/plain": [
       "    Any  Codi_Districte Nom_Districte  Codi_Barri Nom_Barri  Seccio_Censal  \\\n",
       "0  2020               1  Ciutat Vella           1  el Raval              1   \n",
       "1  2020               1  Ciutat Vella           1  el Raval              2   \n",
       "2  2020               1  Ciutat Vella           1  el Raval              3   \n",
       "3  2020               1  Ciutat Vella           1  el Raval              4   \n",
       "4  2020               1  Ciutat Vella           1  el Raval              5   \n",
       "\n",
       "   Import_Euros  \n",
       "0         27503  \n",
       "1         21913  \n",
       "2         24220  \n",
       "3         27405  \n",
       "4         23014  "
      ]
     },
     "execution_count": 9,
     "metadata": {},
     "output_type": "execute_result"
    }
   ],
   "source": [
    "df.head()"
   ]
  },
  {
   "cell_type": "code",
   "execution_count": 10,
   "id": "52eb5b8c-0161-4596-8b07-b83c89e403ac",
   "metadata": {},
   "outputs": [
    {
     "data": {
      "text/html": [
       "<div>\n",
       "<style scoped>\n",
       "    .dataframe tbody tr th:only-of-type {\n",
       "        vertical-align: middle;\n",
       "    }\n",
       "\n",
       "    .dataframe tbody tr th {\n",
       "        vertical-align: top;\n",
       "    }\n",
       "\n",
       "    .dataframe thead th {\n",
       "        text-align: right;\n",
       "    }\n",
       "</style>\n",
       "<table border=\"1\" class=\"dataframe\">\n",
       "  <thead>\n",
       "    <tr style=\"text-align: right;\">\n",
       "      <th></th>\n",
       "      <th>Any</th>\n",
       "      <th>Codi_Districte</th>\n",
       "      <th>Nom_Districte</th>\n",
       "      <th>Codi_Barri</th>\n",
       "      <th>Nom_Barri</th>\n",
       "      <th>Seccio_Censal</th>\n",
       "      <th>Import_Euros</th>\n",
       "    </tr>\n",
       "  </thead>\n",
       "  <tbody>\n",
       "    <tr>\n",
       "      <th>1063</th>\n",
       "      <td>2020</td>\n",
       "      <td>10</td>\n",
       "      <td>Sant Martí</td>\n",
       "      <td>73</td>\n",
       "      <td>la Verneda i la Pau</td>\n",
       "      <td>143</td>\n",
       "      <td>31951</td>\n",
       "    </tr>\n",
       "    <tr>\n",
       "      <th>1064</th>\n",
       "      <td>2020</td>\n",
       "      <td>10</td>\n",
       "      <td>Sant Martí</td>\n",
       "      <td>65</td>\n",
       "      <td>el Clot</td>\n",
       "      <td>234</td>\n",
       "      <td>38690</td>\n",
       "    </tr>\n",
       "    <tr>\n",
       "      <th>1065</th>\n",
       "      <td>2020</td>\n",
       "      <td>10</td>\n",
       "      <td>Sant Martí</td>\n",
       "      <td>69</td>\n",
       "      <td>Diagonal Mar i el Front Marítim del Poblenou</td>\n",
       "      <td>235</td>\n",
       "      <td>28857</td>\n",
       "    </tr>\n",
       "    <tr>\n",
       "      <th>1066</th>\n",
       "      <td>2020</td>\n",
       "      <td>10</td>\n",
       "      <td>Sant Martí</td>\n",
       "      <td>69</td>\n",
       "      <td>Diagonal Mar i el Front Marítim del Poblenou</td>\n",
       "      <td>236</td>\n",
       "      <td>32129</td>\n",
       "    </tr>\n",
       "    <tr>\n",
       "      <th>1067</th>\n",
       "      <td>2020</td>\n",
       "      <td>10</td>\n",
       "      <td>Sant Martí</td>\n",
       "      <td>71</td>\n",
       "      <td>Provençals del Poblenou</td>\n",
       "      <td>237</td>\n",
       "      <td>29058</td>\n",
       "    </tr>\n",
       "  </tbody>\n",
       "</table>\n",
       "</div>"
      ],
      "text/plain": [
       "       Any  Codi_Districte Nom_Districte  Codi_Barri  \\\n",
       "1063  2020              10    Sant Martí          73   \n",
       "1064  2020              10    Sant Martí          65   \n",
       "1065  2020              10    Sant Martí          69   \n",
       "1066  2020              10    Sant Martí          69   \n",
       "1067  2020              10    Sant Martí          71   \n",
       "\n",
       "                                         Nom_Barri  Seccio_Censal  \\\n",
       "1063                           la Verneda i la Pau            143   \n",
       "1064                                       el Clot            234   \n",
       "1065  Diagonal Mar i el Front Marítim del Poblenou            235   \n",
       "1066  Diagonal Mar i el Front Marítim del Poblenou            236   \n",
       "1067                       Provençals del Poblenou            237   \n",
       "\n",
       "      Import_Euros  \n",
       "1063         31951  \n",
       "1064         38690  \n",
       "1065         28857  \n",
       "1066         32129  \n",
       "1067         29058  "
      ]
     },
     "execution_count": 10,
     "metadata": {},
     "output_type": "execute_result"
    }
   ],
   "source": [
    "df.tail()"
   ]
  },
  {
   "cell_type": "code",
   "execution_count": 11,
   "id": "d982ada3-29c1-4931-9753-7c9a7fb846d0",
   "metadata": {},
   "outputs": [],
   "source": [
    "import matplotlib.pyplot as plt"
   ]
  },
  {
   "cell_type": "code",
   "execution_count": 12,
   "id": "79358524-d269-4ae2-a5c4-dead12ce427d",
   "metadata": {},
   "outputs": [
    {
     "data": {
      "text/html": [
       "<div>\n",
       "<style scoped>\n",
       "    .dataframe tbody tr th:only-of-type {\n",
       "        vertical-align: middle;\n",
       "    }\n",
       "\n",
       "    .dataframe tbody tr th {\n",
       "        vertical-align: top;\n",
       "    }\n",
       "\n",
       "    .dataframe thead th {\n",
       "        text-align: right;\n",
       "    }\n",
       "</style>\n",
       "<table border=\"1\" class=\"dataframe\">\n",
       "  <thead>\n",
       "    <tr style=\"text-align: right;\">\n",
       "      <th></th>\n",
       "      <th>Any</th>\n",
       "      <th>Codi_Districte</th>\n",
       "      <th>Codi_Barri</th>\n",
       "      <th>Seccio_Censal</th>\n",
       "      <th>Import_Euros</th>\n",
       "    </tr>\n",
       "  </thead>\n",
       "  <tbody>\n",
       "    <tr>\n",
       "      <th>count</th>\n",
       "      <td>1068.0</td>\n",
       "      <td>1068.000000</td>\n",
       "      <td>1068.000000</td>\n",
       "      <td>1068.000000</td>\n",
       "      <td>1068.000000</td>\n",
       "    </tr>\n",
       "    <tr>\n",
       "      <th>mean</th>\n",
       "      <td>2020.0</td>\n",
       "      <td>5.723783</td>\n",
       "      <td>33.246255</td>\n",
       "      <td>60.645131</td>\n",
       "      <td>40648.088951</td>\n",
       "    </tr>\n",
       "    <tr>\n",
       "      <th>std</th>\n",
       "      <td>0.0</td>\n",
       "      <td>2.938532</td>\n",
       "      <td>21.892988</td>\n",
       "      <td>41.569541</td>\n",
       "      <td>12913.308444</td>\n",
       "    </tr>\n",
       "    <tr>\n",
       "      <th>min</th>\n",
       "      <td>2020.0</td>\n",
       "      <td>1.000000</td>\n",
       "      <td>1.000000</td>\n",
       "      <td>1.000000</td>\n",
       "      <td>18862.000000</td>\n",
       "    </tr>\n",
       "    <tr>\n",
       "      <th>25%</th>\n",
       "      <td>2020.0</td>\n",
       "      <td>3.000000</td>\n",
       "      <td>13.000000</td>\n",
       "      <td>27.750000</td>\n",
       "      <td>32849.750000</td>\n",
       "    </tr>\n",
       "    <tr>\n",
       "      <th>50%</th>\n",
       "      <td>2020.0</td>\n",
       "      <td>6.000000</td>\n",
       "      <td>31.000000</td>\n",
       "      <td>54.000000</td>\n",
       "      <td>38113.500000</td>\n",
       "    </tr>\n",
       "    <tr>\n",
       "      <th>75%</th>\n",
       "      <td>2020.0</td>\n",
       "      <td>8.000000</td>\n",
       "      <td>52.000000</td>\n",
       "      <td>87.000000</td>\n",
       "      <td>44752.500000</td>\n",
       "    </tr>\n",
       "    <tr>\n",
       "      <th>max</th>\n",
       "      <td>2020.0</td>\n",
       "      <td>10.000000</td>\n",
       "      <td>73.000000</td>\n",
       "      <td>237.000000</td>\n",
       "      <td>89731.000000</td>\n",
       "    </tr>\n",
       "  </tbody>\n",
       "</table>\n",
       "</div>"
      ],
      "text/plain": [
       "          Any  Codi_Districte   Codi_Barri  Seccio_Censal  Import_Euros\n",
       "count  1068.0     1068.000000  1068.000000    1068.000000   1068.000000\n",
       "mean   2020.0        5.723783    33.246255      60.645131  40648.088951\n",
       "std       0.0        2.938532    21.892988      41.569541  12913.308444\n",
       "min    2020.0        1.000000     1.000000       1.000000  18862.000000\n",
       "25%    2020.0        3.000000    13.000000      27.750000  32849.750000\n",
       "50%    2020.0        6.000000    31.000000      54.000000  38113.500000\n",
       "75%    2020.0        8.000000    52.000000      87.000000  44752.500000\n",
       "max    2020.0       10.000000    73.000000     237.000000  89731.000000"
      ]
     },
     "execution_count": 12,
     "metadata": {},
     "output_type": "execute_result"
    }
   ],
   "source": [
    "df.describe()"
   ]
  },
  {
   "cell_type": "code",
   "execution_count": 52,
   "id": "faaa5a7b-9519-40b0-a08b-437d305855ea",
   "metadata": {},
   "outputs": [
    {
     "data": {
      "text/html": [
       "<div>\n",
       "<style scoped>\n",
       "    .dataframe tbody tr th:only-of-type {\n",
       "        vertical-align: middle;\n",
       "    }\n",
       "\n",
       "    .dataframe tbody tr th {\n",
       "        vertical-align: top;\n",
       "    }\n",
       "\n",
       "    .dataframe thead th {\n",
       "        text-align: right;\n",
       "    }\n",
       "</style>\n",
       "<table border=\"1\" class=\"dataframe\">\n",
       "  <thead>\n",
       "    <tr style=\"text-align: right;\">\n",
       "      <th></th>\n",
       "      <th>Nom_Barri</th>\n",
       "      <th>Import_Euros</th>\n",
       "    </tr>\n",
       "  </thead>\n",
       "  <tbody>\n",
       "    <tr>\n",
       "      <th>427</th>\n",
       "      <td>les Tres Torres</td>\n",
       "      <td>89731</td>\n",
       "    </tr>\n",
       "    <tr>\n",
       "      <th>404</th>\n",
       "      <td>Sarrià</td>\n",
       "      <td>89731</td>\n",
       "    </tr>\n",
       "    <tr>\n",
       "      <th>430</th>\n",
       "      <td>les Tres Torres</td>\n",
       "      <td>89731</td>\n",
       "    </tr>\n",
       "    <tr>\n",
       "      <th>426</th>\n",
       "      <td>les Tres Torres</td>\n",
       "      <td>89731</td>\n",
       "    </tr>\n",
       "    <tr>\n",
       "      <th>425</th>\n",
       "      <td>les Tres Torres</td>\n",
       "      <td>89731</td>\n",
       "    </tr>\n",
       "    <tr>\n",
       "      <th>...</th>\n",
       "      <td>...</td>\n",
       "      <td>...</td>\n",
       "    </tr>\n",
       "    <tr>\n",
       "      <th>1003</th>\n",
       "      <td>el Besòs i el Maresme</td>\n",
       "      <td>21716</td>\n",
       "    </tr>\n",
       "    <tr>\n",
       "      <th>818</th>\n",
       "      <td>Ciutat Meridiana</td>\n",
       "      <td>21650</td>\n",
       "    </tr>\n",
       "    <tr>\n",
       "      <th>10</th>\n",
       "      <td>el Raval</td>\n",
       "      <td>21571</td>\n",
       "    </tr>\n",
       "    <tr>\n",
       "      <th>756</th>\n",
       "      <td>Can Peguera</td>\n",
       "      <td>21560</td>\n",
       "    </tr>\n",
       "    <tr>\n",
       "      <th>481</th>\n",
       "      <td>el Putxet i el Farró</td>\n",
       "      <td>18862</td>\n",
       "    </tr>\n",
       "  </tbody>\n",
       "</table>\n",
       "<p>1068 rows × 2 columns</p>\n",
       "</div>"
      ],
      "text/plain": [
       "                  Nom_Barri  Import_Euros\n",
       "427         les Tres Torres         89731\n",
       "404                  Sarrià         89731\n",
       "430         les Tres Torres         89731\n",
       "426         les Tres Torres         89731\n",
       "425         les Tres Torres         89731\n",
       "...                     ...           ...\n",
       "1003  el Besòs i el Maresme         21716\n",
       "818        Ciutat Meridiana         21650\n",
       "10                 el Raval         21571\n",
       "756             Can Peguera         21560\n",
       "481    el Putxet i el Farró         18862\n",
       "\n",
       "[1068 rows x 2 columns]"
      ]
     },
     "execution_count": 52,
     "metadata": {},
     "output_type": "execute_result"
    }
   ],
   "source": [
    "out = df.loc[:,['Nom_Barri', 'Import_Euros']]\n",
    "out.sort_values('Import_Euros', ascending = False)"
   ]
  },
  {
   "cell_type": "code",
   "execution_count": 22,
   "id": "78b243db",
   "metadata": {},
   "outputs": [
    {
     "data": {
      "text/plain": [
       "(array(['el Raval', 'el Barri Gòtic', 'la Barceloneta',\n",
       "        'Sant Pere, Santa Caterina i la Ribera', 'el Fort Pienc',\n",
       "        'la Sagrada Família', \"la Dreta de l'Eixample\",\n",
       "        \"l'Antiga Esquerra de l'Eixample\",\n",
       "        \"la Nova Esquerra de l'Eixample\", 'Sant Antoni', 'el Poble Sec',\n",
       "        'la Marina del Prat Vermell', 'la Marina de Port',\n",
       "        'la Font de la Guatlla', 'Hostafrancs', 'la Bordeta',\n",
       "        'Sants-Badal', 'Sants', 'les Corts', 'la Maternitat i Sant Ramon',\n",
       "        'Pedralbes', 'Vallvidrera, el Tibidabo i les Planes', 'Sarrià',\n",
       "        'les Tres Torres', 'Sant Gervasi- la Bonanova',\n",
       "        'Sant Gervasi- Galvany', 'el Putxet i el Farró',\n",
       "        'Vallcarca i els Penitents', 'el Coll', 'la Salut',\n",
       "        'la Vila de Gràcia', \"el Camp d'en Grassot i Gràcia Nova\",\n",
       "        'el Baix Guinardó', 'Can Baró', 'el Guinardó',\n",
       "        \"la Font d'en Fargues\", 'el Carmel', 'la Teixonera',\n",
       "        'Sant Genís dels Agudells', 'Montbau', \"la Vall d'Hebron\",\n",
       "        'la Clota', 'Horta', 'Vilapicina i la Torre Llobeta', 'Porta',\n",
       "        'el Turó de la Peira', 'Can Peguera', 'la Guineueta', 'Canyelles',\n",
       "        'les Roquetes', 'Verdun', 'la Prosperitat', 'la Trinitat Nova',\n",
       "        'Torre Baró', 'Ciutat Meridiana', 'Vallbona', 'la Trinitat Vella',\n",
       "        'Baró de Viver', 'el Bon Pastor', 'Sant Andreu', 'la Sagrera',\n",
       "        'el Congrés i els Indians', 'Navas', \"el Camp de l'Arpa del Clot\",\n",
       "        'el Clot', 'el Parc i la Llacuna del Poblenou',\n",
       "        'la Vila Olímpica del Poblenou', 'el Poblenou',\n",
       "        'Diagonal Mar i el Front Marítim del Poblenou',\n",
       "        'el Besòs i el Maresme', 'Provençals del Poblenou',\n",
       "        'Sant Martí de Provençals', 'la Verneda i la Pau'], dtype=object),\n",
       " 73)"
      ]
     },
     "execution_count": 22,
     "metadata": {},
     "output_type": "execute_result"
    }
   ],
   "source": [
    "barris = df['Nom_Barri'].unique()\n",
    "barris, len(barris)"
   ]
  },
  {
   "cell_type": "code",
   "execution_count": 26,
   "id": "42efd413-87d8-413f-a474-fe2c5e2a1de8",
   "metadata": {},
   "outputs": [
    {
     "data": {
      "text/plain": [
       "Any   Codi_Districte  Nom_Districte   Codi_Barri  Nom_Barri                      Seccio_Censal  Import_Euros\n",
       "2020  1               Ciutat Vella    1           el Raval                       1              27503           1\n",
       "      8               Nou Barris      44          Vilapicina i la Torre Llobeta  9              35182           1\n",
       "      7               Horta-Guinardó  43          Horta                          118            38338           1\n",
       "                                                                                 119            33725           1\n",
       "                                                                                 120            34841           1\n",
       "                                                                                                               ..\n",
       "      4               Les Corts       19          les Corts                      18             52348           1\n",
       "                                                                                 19             66812           1\n",
       "                                                                                 20             54383           1\n",
       "                                                                                 21             59049           1\n",
       "      10              Sant Martí      73          la Verneda i la Pau            143            31951           1\n",
       "Name: count, Length: 1068, dtype: int64"
      ]
     },
     "execution_count": 26,
     "metadata": {},
     "output_type": "execute_result"
    }
   ],
   "source": [
    "df.value_counts()"
   ]
  },
  {
   "cell_type": "code",
   "execution_count": 34,
   "id": "b62877ae-6dab-40bf-a838-2167ee0ee039",
   "metadata": {},
   "outputs": [
    {
     "data": {
      "text/plain": [
       "Nom_Barri\n",
       "Baró de Viver                    24834.000000\n",
       "Can Baró                         36351.285714\n",
       "Can Peguera                      23634.000000\n",
       "Canyelles                        34682.000000\n",
       "Ciutat Meridiana                 24758.333333\n",
       "                                     ...     \n",
       "la Vila Olímpica del Poblenou    60040.600000\n",
       "la Vila de Gràcia                39105.611111\n",
       "les Corts                        51442.200000\n",
       "les Roquetes                     26676.700000\n",
       "les Tres Torres                  83860.181818\n",
       "Name: Import_Euros, Length: 73, dtype: float64"
      ]
     },
     "execution_count": 34,
     "metadata": {},
     "output_type": "execute_result"
    }
   ],
   "source": [
    "df.groupby('Nom_Barri')['Import_Euros'].mean()"
   ]
  },
  {
   "cell_type": "code",
   "execution_count": 40,
   "id": "8bd74321-6a28-4d56-b585-f6bbd1babf8e",
   "metadata": {},
   "outputs": [],
   "source": [
    "df_groups = df.groupby('Nom_Districte')['Import_Euros'].mean().sort_values()"
   ]
  },
  {
   "cell_type": "code",
   "execution_count": 41,
   "id": "24a1fa17-716c-4508-910b-fab1d2585aa3",
   "metadata": {},
   "outputs": [
    {
     "data": {
      "text/plain": [
       "<Axes: title={'center': 'Mean Import_Euros by Nom_Barri'}, xlabel='Nom_Districte'>"
      ]
     },
     "execution_count": 41,
     "metadata": {},
     "output_type": "execute_result"
    },
    {
     "data": {
      "image/png": "[encoded data removed]",
      "text/plain": [
       "<Figure size 640x480 with 1 Axes>"
      ]
     },
     "metadata": {},
     "output_type": "display_data"
    }
   ],
   "source": [
    "df_groups.plot(kind='bar', title='Mean Import_Euros by Nom_Barri', color='blue')"
   ]
  },
  {
   "cell_type": "code",
   "execution_count": null,
   "id": "1bd07486",
   "metadata": {},
   "outputs": [],
   "source": []
  },
  {
   "cell_type": "code",
   "execution_count": null,
   "id": "dc030827",
   "metadata": {},
   "outputs": [],
   "source": []
  },
  {
   "cell_type": "code",
   "execution_count": null,
   "id": "3c5811c2",
   "metadata": {},
   "outputs": [],
   "source": []
  },
  {
   "cell_type": "code",
   "execution_count": null,
   "id": "45793ae1",
   "metadata": {},
   "outputs": [],
   "source": []
  }
 ],
 "metadata": {
  "kernelspec": {
   "display_name": "Python 3 (ipykernel)",
   "language": "python",
   "name": "python3"
  },
  "language_info": {
   "codemirror_mode": {
    "name": "ipython",
    "version": 3
   },
   "file_extension": ".py",
   "mimetype": "text/x-python",
   "name": "python",
   "nbconvert_exporter": "python",
   "pygments_lexer": "ipython3",
   "version": "3.11.2"
  }
 },
 "nbformat": 4,
 "nbformat_minor": 5
}
