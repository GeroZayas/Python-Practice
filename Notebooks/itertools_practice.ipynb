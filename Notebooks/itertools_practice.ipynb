{
 "cells": [
  {
   "cell_type": "code",
   "execution_count": 1,
   "id": "f1b718ae-f338-413d-9d1d-bec5fc09d753",
   "metadata": {},
   "outputs": [],
   "source": [
    "import itertools\n",
    "from random import randint"
   ]
  },
  {
   "cell_type": "code",
   "execution_count": 2,
   "id": "18950fe9-5c3d-4df8-a99b-12640c127bb3",
   "metadata": {},
   "outputs": [],
   "source": [
    "num_list = [randint(1, 101) for x in range(10)]"
   ]
  },
  {
   "cell_type": "code",
   "execution_count": 3,
   "id": "057cf0aa-deca-4b0e-b1b0-741ab239bb73",
   "metadata": {},
   "outputs": [
    {
     "data": {
      "text/plain": [
       "[86, 89, 79, 87, 40, 53, 71, 16, 23, 18]"
      ]
     },
     "execution_count": 3,
     "metadata": {},
     "output_type": "execute_result"
    }
   ],
   "source": [
    "num_list"
   ]
  },
  {
   "cell_type": "markdown",
   "id": "813126b6-7320-4683-a8e4-cf65a33bf616",
   "metadata": {},
   "source": [
    "# Groupby"
   ]
  },
  {
   "cell_type": "code",
   "execution_count": 4,
   "id": "a94b4cbe-3a3a-4e65-8147-1960a5340798",
   "metadata": {},
   "outputs": [],
   "source": [
    "result = itertools.groupby(num_list, key=lambda x: x % 2 == 0)"
   ]
  },
  {
   "cell_type": "code",
   "execution_count": 5,
   "id": "2e29a886-a10c-448f-bdaa-4880b653348c",
   "metadata": {},
   "outputs": [
    {
     "name": "stdout",
     "output_type": "stream",
     "text": [
      "True [86]\n",
      "False [89, 79, 87]\n",
      "True [40]\n",
      "False [53, 71]\n",
      "True [16]\n",
      "False [23]\n",
      "True [18]\n"
     ]
    }
   ],
   "source": [
    "for k, group in result:\n",
    "    print(k, list(group))"
   ]
  },
  {
   "cell_type": "code",
   "execution_count": 6,
   "id": "fdb614a1-56b6-406a-a606-0629dd5dd726",
   "metadata": {},
   "outputs": [],
   "source": [
    "my_str = \"You will know the truth when you decide to live\""
   ]
  },
  {
   "cell_type": "code",
   "execution_count": 7,
   "id": "af92e7b7-ecc4-416d-a886-78f6a5c6ffad",
   "metadata": {},
   "outputs": [],
   "source": [
    "my_list = my_str.split()"
   ]
  },
  {
   "cell_type": "code",
   "execution_count": 8,
   "id": "5467838b-9e02-4acc-8ae2-fa9b67d8f5b2",
   "metadata": {},
   "outputs": [
    {
     "data": {
      "text/plain": [
       "['You', 'will', 'know', 'the', 'truth', 'when', 'you', 'decide', 'to', 'live']"
      ]
     },
     "execution_count": 8,
     "metadata": {},
     "output_type": "execute_result"
    }
   ],
   "source": [
    "my_list"
   ]
  },
  {
   "cell_type": "code",
   "execution_count": 9,
   "id": "a3bb58e2-4e4a-42a8-bc15-b25228b91d56",
   "metadata": {},
   "outputs": [],
   "source": [
    "result = itertools.groupby(my_list, lambda x: len(x) > 4)"
   ]
  },
  {
   "cell_type": "code",
   "execution_count": 10,
   "id": "11459b25-49e6-4f9c-8b56-5658e8a4218e",
   "metadata": {},
   "outputs": [
    {
     "name": "stdout",
     "output_type": "stream",
     "text": [
      "False\n",
      "['You', 'will', 'know', 'the']\n",
      "True\n",
      "['truth']\n",
      "False\n",
      "['when', 'you']\n",
      "True\n",
      "['decide']\n",
      "False\n",
      "['to', 'live']\n"
     ]
    }
   ],
   "source": [
    "for key, group in result:\n",
    "    print(key)\n",
    "    print(list(group))"
   ]
  },
  {
   "cell_type": "markdown",
   "id": "fde34fd4-d347-42a8-b6e5-c37b9f1b3068",
   "metadata": {},
   "source": [
    "# Chain"
   ]
  },
  {
   "cell_type": "code",
   "execution_count": 15,
   "id": "ef06c7f9-01ae-42d0-8b6e-1655d3bdd98a",
   "metadata": {},
   "outputs": [],
   "source": [
    "chain = itertools.chain"
   ]
  },
  {
   "cell_type": "code",
   "execution_count": 16,
   "id": "9ce0f337-3b72-4577-ba54-bcbd02c51650",
   "metadata": {},
   "outputs": [
    {
     "data": {
      "text/plain": [
       "itertools.chain"
      ]
     },
     "execution_count": 16,
     "metadata": {},
     "output_type": "execute_result"
    }
   ],
   "source": [
    "chain"
   ]
  },
  {
   "cell_type": "code",
   "execution_count": 18,
   "id": "25b7f1e0-bba4-4ba3-a7b4-03f179057203",
   "metadata": {},
   "outputs": [],
   "source": [
    "list_names = \"Gero Mar Cristina\".split()"
   ]
  },
  {
   "cell_type": "code",
   "execution_count": 19,
   "id": "4c85c945-4041-49ee-85be-1b44ee7c0dad",
   "metadata": {},
   "outputs": [],
   "source": [
    "list_jobs = \"Programmer HHRR Optometrist\".split()"
   ]
  },
  {
   "cell_type": "code",
   "execution_count": 20,
   "id": "7491613d-2c72-4ffe-b343-4a6f74f24c65",
   "metadata": {},
   "outputs": [
    {
     "data": {
      "text/plain": [
       "(['Gero', 'Mar', 'Cristina'], ['Programmer', 'HHRR', 'Optometrist'])"
      ]
     },
     "execution_count": 20,
     "metadata": {},
     "output_type": "execute_result"
    }
   ],
   "source": [
    "list_names, list_jobs"
   ]
  },
  {
   "cell_type": "code",
   "execution_count": 26,
   "id": "1124f056-840e-4bad-bfda-0733fe936f0c",
   "metadata": {},
   "outputs": [
    {
     "name": "stdout",
     "output_type": "stream",
     "text": [
      "Gero\n",
      "Mar\n",
      "Cristina\n",
      "Programmer\n",
      "HHRR\n",
      "Optometrist\n"
     ]
    }
   ],
   "source": [
    "for item in chain(list_names, list_jobs):\n",
    "    print(item)"
   ]
  },
  {
   "cell_type": "markdown",
   "id": "308051ad-c8f6-4455-a891-22d5fafe3066",
   "metadata": {},
   "source": [
    "# Zip"
   ]
  },
  {
   "cell_type": "code",
   "execution_count": 27,
   "id": "57c80201-221d-4772-8fc2-f314db9f5373",
   "metadata": {},
   "outputs": [
    {
     "name": "stdout",
     "output_type": "stream",
     "text": [
      "Gero -> Programmer\n",
      "Mar -> HHRR\n",
      "Cristina -> Optometrist\n"
     ]
    }
   ],
   "source": [
    "for name, job in zip(list_names, list_jobs):\n",
    "    print(name, \"->\", job)"
   ]
  },
  {
   "cell_type": "markdown",
   "id": "97ce64ab-19f0-4db5-8775-e237420ab2e1",
   "metadata": {},
   "source": [
    "# Zip_longest"
   ]
  },
  {
   "cell_type": "code",
   "execution_count": 28,
   "id": "6e8e6d6e-f0ee-41bc-b8cc-cea30be55c8c",
   "metadata": {},
   "outputs": [
    {
     "data": {
      "text/plain": [
       "['Gero', 'Mar', 'Cristina']"
      ]
     },
     "execution_count": 28,
     "metadata": {},
     "output_type": "execute_result"
    }
   ],
   "source": [
    "list_names"
   ]
  },
  {
   "cell_type": "code",
   "execution_count": 29,
   "id": "f2678795-4feb-47a7-aec5-9bbaa2fef44b",
   "metadata": {},
   "outputs": [],
   "source": [
    "list_names.extend(\"Basilio Sonia\".split())"
   ]
  },
  {
   "cell_type": "code",
   "execution_count": 30,
   "id": "ff57d791-7c34-4897-ac21-f969959ba696",
   "metadata": {},
   "outputs": [
    {
     "data": {
      "text/plain": [
       "['Gero', 'Mar', 'Cristina', 'Basilio', 'Sonia']"
      ]
     },
     "execution_count": 30,
     "metadata": {},
     "output_type": "execute_result"
    }
   ],
   "source": [
    "list_names"
   ]
  },
  {
   "cell_type": "code",
   "execution_count": 31,
   "id": "b3a66750-310c-4db1-92fe-5fa2dc93112f",
   "metadata": {},
   "outputs": [
    {
     "data": {
      "text/plain": [
       "['Programmer', 'HHRR', 'Optometrist']"
      ]
     },
     "execution_count": 31,
     "metadata": {},
     "output_type": "execute_result"
    }
   ],
   "source": [
    "list_jobs"
   ]
  },
  {
   "cell_type": "markdown",
   "id": "68cdca9b-be52-4494-ba4b-233c949cf94a",
   "metadata": {},
   "source": [
    "<h3><b>Zip</b> Stops early<h3>"
   ]
  },
  {
   "cell_type": "code",
   "execution_count": 32,
   "id": "05caa346-3548-4bcd-b82a-bb02f76bc62c",
   "metadata": {},
   "outputs": [
    {
     "name": "stdout",
     "output_type": "stream",
     "text": [
      "Gero -> Programmer\n",
      "Mar -> HHRR\n",
      "Cristina -> Optometrist\n"
     ]
    }
   ],
   "source": [
    "for name, job in zip(list_names, list_jobs):\n",
    "    print(name, \"->\", job)"
   ]
  },
  {
   "cell_type": "markdown",
   "id": "f4770de2-4011-4105-a118-7eeb61c35dcb",
   "metadata": {},
   "source": [
    "<br>\n",
    "<h3>But <b>Zip_longest</b> goes longer :)</h3>\n",
    "<h6>And gives you the other values even if None</h6>"
   ]
  },
  {
   "cell_type": "code",
   "execution_count": 33,
   "id": "58cbd537-c025-46c9-8d0f-c64f7e4a8f6e",
   "metadata": {},
   "outputs": [
    {
     "name": "stdout",
     "output_type": "stream",
     "text": [
      "Gero -> Programmer\n",
      "Mar -> HHRR\n",
      "Cristina -> Optometrist\n",
      "Basilio -> None\n",
      "Sonia -> None\n"
     ]
    }
   ],
   "source": [
    "for name, job in itertools.zip_longest(list_names, list_jobs):\n",
    "    print(name, \"->\", job)"
   ]
  },
  {
   "cell_type": "code",
   "execution_count": null,
   "id": "23c0b05a-167f-4d35-9546-eb9a57ec44e3",
   "metadata": {},
   "outputs": [],
   "source": []
  }
 ],
 "metadata": {
  "kernelspec": {
   "display_name": "Python 3 (ipykernel)",
   "language": "python",
   "name": "python3"
  },
  "language_info": {
   "codemirror_mode": {
    "name": "ipython",
    "version": 3
   },
   "file_extension": ".py",
   "mimetype": "text/x-python",
   "name": "python",
   "nbconvert_exporter": "python",
   "pygments_lexer": "ipython3",
   "version": "3.12.2"
  }
 },
 "nbformat": 4,
 "nbformat_minor": 5
}
