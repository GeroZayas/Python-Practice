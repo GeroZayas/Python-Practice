{
 "cells": [
  {
   "cell_type": "code",
   "execution_count": 55,
   "id": "f1b718ae-f338-413d-9d1d-bec5fc09d753",
   "metadata": {},
   "outputs": [],
   "source": [
    "import itertools\n",
    "from random import randint"
   ]
  },
  {
   "cell_type": "code",
   "execution_count": 56,
   "id": "18950fe9-5c3d-4df8-a99b-12640c127bb3",
   "metadata": {},
   "outputs": [],
   "source": [
    "num_list = [randint(1,101) for x in range(10)]"
   ]
  },
  {
   "cell_type": "code",
   "execution_count": 57,
   "id": "057cf0aa-deca-4b0e-b1b0-741ab239bb73",
   "metadata": {},
   "outputs": [
    {
     "data": {
      "text/plain": [
       "[33, 79, 40, 54, 87, 80, 63, 10, 101, 95]"
      ]
     },
     "execution_count": 57,
     "metadata": {},
     "output_type": "execute_result"
    }
   ],
   "source": [
    "num_list"
   ]
  },
  {
   "cell_type": "code",
   "execution_count": 58,
   "id": "a94b4cbe-3a3a-4e65-8147-1960a5340798",
   "metadata": {},
   "outputs": [],
   "source": [
    "result = itertools.groupby(num_list, key= lambda x: x % 2 == 0)"
   ]
  },
  {
   "cell_type": "code",
   "execution_count": 59,
   "id": "2e29a886-a10c-448f-bdaa-4880b653348c",
   "metadata": {},
   "outputs": [
    {
     "name": "stdout",
     "output_type": "stream",
     "text": [
      "False [33, 79]\n",
      "True [40, 54]\n",
      "False [87]\n",
      "True [80]\n",
      "False [63]\n",
      "True [10]\n",
      "False [101, 95]\n"
     ]
    }
   ],
   "source": [
    "for k, group in result:\n",
    "    print(k, list(group))"
   ]
  },
  {
   "cell_type": "code",
   "execution_count": 60,
   "id": "fdb614a1-56b6-406a-a606-0629dd5dd726",
   "metadata": {},
   "outputs": [],
   "source": [
    "my_str = \"You will know the truth when you decide to live\""
   ]
  },
  {
   "cell_type": "code",
   "execution_count": 61,
   "id": "af92e7b7-ecc4-416d-a886-78f6a5c6ffad",
   "metadata": {},
   "outputs": [],
   "source": [
    "my_list = my_str.split()"
   ]
  },
  {
   "cell_type": "code",
   "execution_count": 70,
   "id": "5467838b-9e02-4acc-8ae2-fa9b67d8f5b2",
   "metadata": {},
   "outputs": [
    {
     "data": {
      "text/plain": [
       "['You', 'will', 'know', 'the', 'truth', 'when', 'you', 'decide', 'to', 'live']"
      ]
     },
     "execution_count": 70,
     "metadata": {},
     "output_type": "execute_result"
    }
   ],
   "source": [
    "my_list"
   ]
  },
  {
   "cell_type": "code",
   "execution_count": 71,
   "id": "a3bb58e2-4e4a-42a8-bc15-b25228b91d56",
   "metadata": {},
   "outputs": [],
   "source": [
    "result = itertools.groupby(my_list, lambda x: len(x) > 4)"
   ]
  },
  {
   "cell_type": "code",
   "execution_count": 72,
   "id": "11459b25-49e6-4f9c-8b56-5658e8a4218e",
   "metadata": {},
   "outputs": [
    {
     "name": "stdout",
     "output_type": "stream",
     "text": [
      "False\n",
      "['You', 'will', 'know', 'the']\n",
      "True\n",
      "['truth']\n",
      "False\n",
      "['when', 'you']\n",
      "True\n",
      "['decide']\n",
      "False\n",
      "['to', 'live']\n"
     ]
    }
   ],
   "source": [
    "for key, group in result:\n",
    "    print(key)\n",
    "    print(list(group))"
   ]
  }
 ],
 "metadata": {
  "kernelspec": {
   "display_name": "Python 3",
   "language": "python",
   "name": "python3"
  },
  "language_info": {
   "codemirror_mode": {
    "name": "ipython",
    "version": 3
   },
   "file_extension": ".py",
   "mimetype": "text/x-python",
   "name": "python",
   "nbconvert_exporter": "python",
   "pygments_lexer": "ipython3",
   "version": "3.11.0"
  }
 },
 "nbformat": 4,
 "nbformat_minor": 5
}
