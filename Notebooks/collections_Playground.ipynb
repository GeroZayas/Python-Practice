{
 "cells": [
  {
   "cell_type": "code",
   "execution_count": 2,
   "id": "1a420e8b-07aa-4890-a773-0629fc8bc413",
   "metadata": {},
   "outputs": [],
   "source": [
    "from collections import *"
   ]
  },
  {
   "cell_type": "code",
   "execution_count": 7,
   "id": "c589603d-fec0-42f7-8f72-83a4ea3fec7a",
   "metadata": {},
   "outputs": [],
   "source": [
    "people = namedtuple(\"People\", field_names=['name','age'])"
   ]
  },
  {
   "cell_type": "code",
   "execution_count": 8,
   "id": "d8a30176-e95f-45da-80d6-f1aa851afe05",
   "metadata": {},
   "outputs": [
    {
     "data": {
      "text/plain": [
       "__main__.People"
      ]
     },
     "execution_count": 8,
     "metadata": {},
     "output_type": "execute_result"
    }
   ],
   "source": [
    "people"
   ]
  },
  {
   "cell_type": "code",
   "execution_count": 21,
   "id": "aeddba2f-c4ab-4e75-902b-6e4b68396a7f",
   "metadata": {},
   "outputs": [
    {
     "data": {
      "text/plain": [
       "People(name='Gero', age=32)"
      ]
     },
     "execution_count": 21,
     "metadata": {},
     "output_type": "execute_result"
    }
   ],
   "source": [
    "gero = people('Gero', 32); gero"
   ]
  },
  {
   "cell_type": "code",
   "execution_count": 10,
   "id": "0459665c-d1f0-4600-80e6-ff6345447677",
   "metadata": {},
   "outputs": [],
   "source": [
    "mar = people('Mar', '32')"
   ]
  },
  {
   "cell_type": "code",
   "execution_count": 11,
   "id": "054eb4c6-62e5-40d6-9ac7-128f95bf6e81",
   "metadata": {},
   "outputs": [
    {
     "data": {
      "text/plain": [
       "People(name='Mar', age='32')"
      ]
     },
     "execution_count": 11,
     "metadata": {},
     "output_type": "execute_result"
    }
   ],
   "source": [
    "mar"
   ]
  },
  {
   "cell_type": "code",
   "execution_count": 28,
   "id": "5dc603e9-205e-4124-bfc5-24da23322daf",
   "metadata": {},
   "outputs": [],
   "source": [
    "li = ['Luna', 'Sol', 'Estrella','Sol']"
   ]
  },
  {
   "cell_type": "code",
   "execution_count": 33,
   "id": "e8ca46cd-3047-451d-9f8a-73ee7c5f53d1",
   "metadata": {},
   "outputs": [],
   "source": [
    "tup = tuple(li)"
   ]
  },
  {
   "cell_type": "code",
   "execution_count": 58,
   "id": "c672283a-8e14-4842-858c-2a00129b1454",
   "metadata": {},
   "outputs": [],
   "source": [
    "cosas_del_cielo = namedtuple('Cosas_del_Cielo', set(li))"
   ]
  },
  {
   "cell_type": "code",
   "execution_count": 62,
   "id": "39b9cea7-e06d-41b3-894c-4a74811c48d1",
   "metadata": {},
   "outputs": [],
   "source": [
    "something = cosas_del_cielo(Luna=\"Moon\", Sol='Sun', Estrella=\"Stars\")"
   ]
  },
  {
   "cell_type": "code",
   "execution_count": 63,
   "id": "655a0b4d-3391-4fca-9147-ffce30781b96",
   "metadata": {},
   "outputs": [
    {
     "data": {
      "text/plain": [
       "Cosas_del_Cielo(Sol='Sun', Estrella='Stars', Luna='Moon')"
      ]
     },
     "execution_count": 63,
     "metadata": {},
     "output_type": "execute_result"
    }
   ],
   "source": [
    "something"
   ]
  },
  {
   "cell_type": "code",
   "execution_count": 64,
   "id": "3ac89a12-3a75-4966-8685-859afc0ee047",
   "metadata": {},
   "outputs": [
    {
     "data": {
      "text/plain": [
       "'Moon'"
      ]
     },
     "execution_count": 64,
     "metadata": {},
     "output_type": "execute_result"
    }
   ],
   "source": [
    "something.Luna"
   ]
  },
  {
   "cell_type": "code",
   "execution_count": 65,
   "id": "829d0bc3-a09f-4f77-b7f4-cabb40670e29",
   "metadata": {},
   "outputs": [],
   "source": [
    "# use COUNTER"
   ]
  },
  {
   "cell_type": "code",
   "execution_count": 67,
   "id": "108dae13-39c2-44aa-922a-f5f21b5ad4f2",
   "metadata": {},
   "outputs": [],
   "source": [
    "c = Counter(li)"
   ]
  },
  {
   "cell_type": "code",
   "execution_count": 68,
   "id": "ba36b4e7-f0d0-42ad-8780-9ed269ca867f",
   "metadata": {},
   "outputs": [
    {
     "data": {
      "text/plain": [
       "Counter({'Luna': 1, 'Sol': 2, 'Estrella': 1})"
      ]
     },
     "execution_count": 68,
     "metadata": {},
     "output_type": "execute_result"
    }
   ],
   "source": [
    "c"
   ]
  },
  {
   "cell_type": "code",
   "execution_count": 70,
   "id": "ccdf45f2-6b81-4d71-9c58-d9439929a147",
   "metadata": {},
   "outputs": [
    {
     "data": {
      "text/plain": [
       "[('Sol', 2), ('Luna', 1), ('Estrella', 1)]"
      ]
     },
     "execution_count": 70,
     "metadata": {},
     "output_type": "execute_result"
    }
   ],
   "source": [
    "c.most_common()"
   ]
  },
  {
   "cell_type": "code",
   "execution_count": 76,
   "id": "4b89dd4d-309d-45fd-ab56-8ec1c76784b6",
   "metadata": {},
   "outputs": [
    {
     "data": {
      "text/plain": [
       "dict_items([('Luna', 1), ('Sol', 2), ('Estrella', 1)])"
      ]
     },
     "execution_count": 76,
     "metadata": {},
     "output_type": "execute_result"
    }
   ],
   "source": [
    "c.items()"
   ]
  },
  {
   "cell_type": "code",
   "execution_count": 77,
   "id": "4b47dbae-aada-4cb0-8b27-933f9dcc1d6f",
   "metadata": {},
   "outputs": [
    {
     "data": {
      "text/plain": [
       "4"
      ]
     },
     "execution_count": 77,
     "metadata": {},
     "output_type": "execute_result"
    }
   ],
   "source": [
    "c.total()"
   ]
  },
  {
   "cell_type": "code",
   "execution_count": 79,
   "id": "b8989425-4925-44a8-bf54-06f77797c4b3",
   "metadata": {},
   "outputs": [],
   "source": [
    "text = \"\"\"Python is a high-level, general-purpose, interpreted, programming language. Its design philosophy emphasizes code readability with the use of significant indentation.[31]\n",
    "\n",
    "Python is dynamically typed and garbage-collected. It supports multiple programming paradigms, including structured (particularly procedural), object-oriented and functional programming. It is often described as a \"batteries included\" language due to its comprehensive standard library.[32][33]\n",
    "\n",
    "Guido van Rossum began working on Python in the late 1980s as a successor to the ABC programming language and first released it in 1991 as Python 0.9.0.[34] Python 2.0 was released in 2000. Python 3.0, released in 2008, was a major revision not completely backward-compatible with earlier versions. Python 2.7.18, released in 2020, was the last release of Python 2.[35]\n",
    "\n",
    "Python consistently ranks as one of the most popular programming languages, and has gained widespread use in the machine learning community.[36][37][38][39] \"\"\""
   ]
  },
  {
   "cell_type": "code",
   "execution_count": 80,
   "id": "051ccd2e-67ae-442b-b07e-3c1535ab4390",
   "metadata": {
    "collapsed": true,
    "jupyter": {
     "outputs_hidden": true
    }
   },
   "outputs": [
    {
     "data": {
      "text/plain": [
       "'Python is a high-level, general-purpose, interpreted, programming language. Its design philosophy emphasizes code readability with the use of significant indentation.[31]\\n\\nPython is dynamically typed and garbage-collected. It supports multiple programming paradigms, including structured (particularly procedural), object-oriented and functional programming. It is often described as a \"batteries included\" language due to its comprehensive standard library.[32][33]\\n\\nGuido van Rossum began working on Python in the late 1980s as a successor to the ABC programming language and first released it in 1991 as Python 0.9.0.[34] Python 2.0 was released in 2000. Python 3.0, released in 2008, was a major revision not completely backward-compatible with earlier versions. Python 2.7.18, released in 2020, was the last release of Python 2.[35]\\n\\nPython consistently ranks as one of the most popular programming languages, and has gained widespread use in the machine learning community.[36][37][38][39] '"
      ]
     },
     "execution_count": 80,
     "metadata": {},
     "output_type": "execute_result"
    }
   ],
   "source": [
    "text"
   ]
  },
  {
   "cell_type": "code",
   "execution_count": 83,
   "id": "ce3fc92a-b10a-4263-94ea-126e9758eca4",
   "metadata": {},
   "outputs": [],
   "source": [
    "letters = Counter(text)"
   ]
  },
  {
   "cell_type": "code",
   "execution_count": 84,
   "id": "b7d5858d-10e8-4abc-bd3c-be9cc5ce26d7",
   "metadata": {
    "collapsed": true,
    "jupyter": {
     "outputs_hidden": true
    }
   },
   "outputs": [
    {
     "data": {
      "text/plain": [
       "Counter({'P': 9,\n",
       "         'y': 19,\n",
       "         't': 54,\n",
       "         'h': 25,\n",
       "         'o': 48,\n",
       "         'n': 62,\n",
       "         ' ': 133,\n",
       "         'i': 57,\n",
       "         's': 51,\n",
       "         'a': 69,\n",
       "         'g': 30,\n",
       "         '-': 5,\n",
       "         'l': 36,\n",
       "         'e': 78,\n",
       "         'v': 5,\n",
       "         ',': 10,\n",
       "         'r': 49,\n",
       "         'p': 24,\n",
       "         'u': 22,\n",
       "         'd': 33,\n",
       "         'm': 23,\n",
       "         '.': 16,\n",
       "         'I': 3,\n",
       "         'z': 1,\n",
       "         'c': 22,\n",
       "         'b': 9,\n",
       "         'w': 8,\n",
       "         'f': 7,\n",
       "         '[': 9,\n",
       "         '3': 11,\n",
       "         '1': 5,\n",
       "         ']': 9,\n",
       "         '\\n': 6,\n",
       "         '(': 1,\n",
       "         ')': 1,\n",
       "         'j': 2,\n",
       "         '\"': 2,\n",
       "         '2': 8,\n",
       "         'G': 1,\n",
       "         'R': 1,\n",
       "         'k': 3,\n",
       "         '9': 5,\n",
       "         '8': 4,\n",
       "         '0': 12,\n",
       "         'A': 1,\n",
       "         'B': 1,\n",
       "         'C': 1,\n",
       "         '4': 1,\n",
       "         '7': 2,\n",
       "         '5': 1,\n",
       "         '6': 1})"
      ]
     },
     "execution_count": 84,
     "metadata": {},
     "output_type": "execute_result"
    }
   ],
   "source": [
    "letters"
   ]
  },
  {
   "cell_type": "code",
   "execution_count": 85,
   "id": "e9b7d6fc-347f-4997-b15b-b202c473f773",
   "metadata": {},
   "outputs": [],
   "source": [
    "words = Counter(text.split())"
   ]
  },
  {
   "cell_type": "code",
   "execution_count": 86,
   "id": "03f78db3-04a4-4fe2-bfdb-1d3e78c4e422",
   "metadata": {
    "collapsed": true,
    "jupyter": {
     "outputs_hidden": true
    }
   },
   "outputs": [
    {
     "data": {
      "text/plain": [
       "Counter({'Python': 9,\n",
       "         'is': 3,\n",
       "         'a': 4,\n",
       "         'high-level,': 1,\n",
       "         'general-purpose,': 1,\n",
       "         'interpreted,': 1,\n",
       "         'programming': 4,\n",
       "         'language.': 1,\n",
       "         'Its': 1,\n",
       "         'design': 1,\n",
       "         'philosophy': 1,\n",
       "         'emphasizes': 1,\n",
       "         'code': 1,\n",
       "         'readability': 1,\n",
       "         'with': 2,\n",
       "         'the': 6,\n",
       "         'use': 2,\n",
       "         'of': 3,\n",
       "         'significant': 1,\n",
       "         'indentation.[31]': 1,\n",
       "         'dynamically': 1,\n",
       "         'typed': 1,\n",
       "         'and': 4,\n",
       "         'garbage-collected.': 1,\n",
       "         'It': 2,\n",
       "         'supports': 1,\n",
       "         'multiple': 1,\n",
       "         'paradigms,': 1,\n",
       "         'including': 1,\n",
       "         'structured': 1,\n",
       "         '(particularly': 1,\n",
       "         'procedural),': 1,\n",
       "         'object-oriented': 1,\n",
       "         'functional': 1,\n",
       "         'programming.': 1,\n",
       "         'often': 1,\n",
       "         'described': 1,\n",
       "         'as': 4,\n",
       "         '\"batteries': 1,\n",
       "         'included\"': 1,\n",
       "         'language': 2,\n",
       "         'due': 1,\n",
       "         'to': 2,\n",
       "         'its': 1,\n",
       "         'comprehensive': 1,\n",
       "         'standard': 1,\n",
       "         'library.[32][33]': 1,\n",
       "         'Guido': 1,\n",
       "         'van': 1,\n",
       "         'Rossum': 1,\n",
       "         'began': 1,\n",
       "         'working': 1,\n",
       "         'on': 1,\n",
       "         'in': 6,\n",
       "         'late': 1,\n",
       "         '1980s': 1,\n",
       "         'successor': 1,\n",
       "         'ABC': 1,\n",
       "         'first': 1,\n",
       "         'released': 4,\n",
       "         'it': 1,\n",
       "         '1991': 1,\n",
       "         '0.9.0.[34]': 1,\n",
       "         '2.0': 1,\n",
       "         'was': 3,\n",
       "         '2000.': 1,\n",
       "         '3.0,': 1,\n",
       "         '2008,': 1,\n",
       "         'major': 1,\n",
       "         'revision': 1,\n",
       "         'not': 1,\n",
       "         'completely': 1,\n",
       "         'backward-compatible': 1,\n",
       "         'earlier': 1,\n",
       "         'versions.': 1,\n",
       "         '2.7.18,': 1,\n",
       "         '2020,': 1,\n",
       "         'last': 1,\n",
       "         'release': 1,\n",
       "         '2.[35]': 1,\n",
       "         'consistently': 1,\n",
       "         'ranks': 1,\n",
       "         'one': 1,\n",
       "         'most': 1,\n",
       "         'popular': 1,\n",
       "         'languages,': 1,\n",
       "         'has': 1,\n",
       "         'gained': 1,\n",
       "         'widespread': 1,\n",
       "         'machine': 1,\n",
       "         'learning': 1,\n",
       "         'community.[36][37][38][39]': 1})"
      ]
     },
     "execution_count": 86,
     "metadata": {},
     "output_type": "execute_result"
    }
   ],
   "source": [
    "words"
   ]
  },
  {
   "cell_type": "code",
   "execution_count": 87,
   "id": "f6c1c431-04e1-428b-b9cb-ae0d5d8475fa",
   "metadata": {
    "collapsed": true,
    "jupyter": {
     "outputs_hidden": true
    }
   },
   "outputs": [
    {
     "data": {
      "text/plain": [
       "[('Python', 9),\n",
       " ('the', 6),\n",
       " ('in', 6),\n",
       " ('a', 4),\n",
       " ('programming', 4),\n",
       " ('and', 4),\n",
       " ('as', 4),\n",
       " ('released', 4),\n",
       " ('is', 3),\n",
       " ('of', 3),\n",
       " ('was', 3),\n",
       " ('with', 2),\n",
       " ('use', 2),\n",
       " ('It', 2),\n",
       " ('language', 2),\n",
       " ('to', 2),\n",
       " ('high-level,', 1),\n",
       " ('general-purpose,', 1),\n",
       " ('interpreted,', 1),\n",
       " ('language.', 1),\n",
       " ('Its', 1),\n",
       " ('design', 1),\n",
       " ('philosophy', 1),\n",
       " ('emphasizes', 1),\n",
       " ('code', 1),\n",
       " ('readability', 1),\n",
       " ('significant', 1),\n",
       " ('indentation.[31]', 1),\n",
       " ('dynamically', 1),\n",
       " ('typed', 1),\n",
       " ('garbage-collected.', 1),\n",
       " ('supports', 1),\n",
       " ('multiple', 1),\n",
       " ('paradigms,', 1),\n",
       " ('including', 1),\n",
       " ('structured', 1),\n",
       " ('(particularly', 1),\n",
       " ('procedural),', 1),\n",
       " ('object-oriented', 1),\n",
       " ('functional', 1),\n",
       " ('programming.', 1),\n",
       " ('often', 1),\n",
       " ('described', 1),\n",
       " ('\"batteries', 1),\n",
       " ('included\"', 1),\n",
       " ('due', 1),\n",
       " ('its', 1),\n",
       " ('comprehensive', 1),\n",
       " ('standard', 1),\n",
       " ('library.[32][33]', 1),\n",
       " ('Guido', 1),\n",
       " ('van', 1),\n",
       " ('Rossum', 1),\n",
       " ('began', 1),\n",
       " ('working', 1),\n",
       " ('on', 1),\n",
       " ('late', 1),\n",
       " ('1980s', 1),\n",
       " ('successor', 1),\n",
       " ('ABC', 1),\n",
       " ('first', 1),\n",
       " ('it', 1),\n",
       " ('1991', 1),\n",
       " ('0.9.0.[34]', 1),\n",
       " ('2.0', 1),\n",
       " ('2000.', 1),\n",
       " ('3.0,', 1),\n",
       " ('2008,', 1),\n",
       " ('major', 1),\n",
       " ('revision', 1),\n",
       " ('not', 1),\n",
       " ('completely', 1),\n",
       " ('backward-compatible', 1),\n",
       " ('earlier', 1),\n",
       " ('versions.', 1),\n",
       " ('2.7.18,', 1),\n",
       " ('2020,', 1),\n",
       " ('last', 1),\n",
       " ('release', 1),\n",
       " ('2.[35]', 1),\n",
       " ('consistently', 1),\n",
       " ('ranks', 1),\n",
       " ('one', 1),\n",
       " ('most', 1),\n",
       " ('popular', 1),\n",
       " ('languages,', 1),\n",
       " ('has', 1),\n",
       " ('gained', 1),\n",
       " ('widespread', 1),\n",
       " ('machine', 1),\n",
       " ('learning', 1),\n",
       " ('community.[36][37][38][39]', 1)]"
      ]
     },
     "execution_count": 87,
     "metadata": {},
     "output_type": "execute_result"
    }
   ],
   "source": [
    "words.most_common()"
   ]
  },
  {
   "cell_type": "code",
   "execution_count": 92,
   "id": "3e7686f3-45fa-4c95-9a9f-4525ae0af0e8",
   "metadata": {},
   "outputs": [],
   "source": [
    "or_di = OrderedDict({\n",
    "  \"brand\": \"Ford\",\n",
    "  \"model\": \"Mustang\",\n",
    "  \"year\": 1964\n",
    "})"
   ]
  },
  {
   "cell_type": "code",
   "execution_count": 93,
   "id": "ef8a5397-cee1-47b3-8f86-bc9177d880bd",
   "metadata": {},
   "outputs": [
    {
     "data": {
      "text/plain": [
       "OrderedDict([('brand', 'Ford'), ('model', 'Mustang'), ('year', 1964)])"
      ]
     },
     "execution_count": 93,
     "metadata": {},
     "output_type": "execute_result"
    }
   ],
   "source": [
    "or_di"
   ]
  },
  {
   "cell_type": "code",
   "execution_count": 94,
   "id": "b6f729c2-c5ef-41ee-80eb-0a85ff1b44ec",
   "metadata": {},
   "outputs": [],
   "source": [
    "or_di['buyer'] = 'Gero'"
   ]
  },
  {
   "cell_type": "code",
   "execution_count": 95,
   "id": "c5487fe2-89ec-4a16-b7e6-c0ab9b72ebc4",
   "metadata": {},
   "outputs": [
    {
     "data": {
      "text/plain": [
       "OrderedDict([('brand', 'Ford'),\n",
       "             ('model', 'Mustang'),\n",
       "             ('year', 1964),\n",
       "             ('buyer', 'Gero')])"
      ]
     },
     "execution_count": 95,
     "metadata": {},
     "output_type": "execute_result"
    }
   ],
   "source": [
    "or_di"
   ]
  },
  {
   "cell_type": "code",
   "execution_count": 96,
   "id": "851c8af5-0c13-468e-aa3e-8d1f574a36cb",
   "metadata": {},
   "outputs": [],
   "source": [
    "or_di['brand'] = 'Tesla'"
   ]
  },
  {
   "cell_type": "code",
   "execution_count": 97,
   "id": "025042e7-0d15-47ae-853d-1e44c9ab71f9",
   "metadata": {},
   "outputs": [
    {
     "data": {
      "text/plain": [
       "OrderedDict([('brand', 'Tesla'),\n",
       "             ('model', 'Mustang'),\n",
       "             ('year', 1964),\n",
       "             ('buyer', 'Gero')])"
      ]
     },
     "execution_count": 97,
     "metadata": {},
     "output_type": "execute_result"
    }
   ],
   "source": [
    "or_di"
   ]
  },
  {
   "cell_type": "code",
   "execution_count": 99,
   "id": "5d7ec17a-8de9-4c96-9857-98ab5dfe141e",
   "metadata": {},
   "outputs": [
    {
     "name": "stdout",
     "output_type": "stream",
     "text": [
      "a 1\n",
      "b 2\n",
      "c 3\n",
      "d 4\n",
      "********************\n",
      "a 1\n",
      "b 2\n",
      "c 5\n",
      "d 4\n"
     ]
    }
   ],
   "source": [
    "od = OrderedDict()\n",
    "od['a'] = 1\n",
    "od['b'] = 2\n",
    "od['c'] = 3\n",
    "od['d'] = 4\n",
    "\n",
    "# Print the OrderedDict\n",
    "for key, value in od.items():\n",
    "   print(key, value)\n",
    "\n",
    "# Update a value\n",
    "od['c'] = 5\n",
    "\n",
    "print(\"*\" * 20)\n",
    "\n",
    "# Print the OrderedDict after update\n",
    "for key, value in od.items():\n",
    "   print(key, value)\n"
   ]
  },
  {
   "cell_type": "code",
   "execution_count": null,
   "id": "2886b004-9e18-4a20-a572-0f6db2e45d9b",
   "metadata": {},
   "outputs": [],
   "source": []
  }
 ],
 "metadata": {
  "kernelspec": {
   "display_name": "Python 3 (ipykernel)",
   "language": "python",
   "name": "python3"
  },
  "language_info": {
   "codemirror_mode": {
    "name": "ipython",
    "version": 3
   },
   "file_extension": ".py",
   "mimetype": "text/x-python",
   "name": "python",
   "nbconvert_exporter": "python",
   "pygments_lexer": "ipython3",
   "version": "3.11.4"
  }
 },
 "nbformat": 4,
 "nbformat_minor": 5
}
