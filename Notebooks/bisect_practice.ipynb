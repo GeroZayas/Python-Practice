{
 "cells": [
  {
   "cell_type": "code",
   "execution_count": 85,
   "id": "89216bbf-8dd6-4ce5-bc6f-d3c01c9bb02b",
   "metadata": {},
   "outputs": [],
   "source": [
    "from bisect import bisect, insort\n",
    "from random import randint"
   ]
  },
  {
   "cell_type": "code",
   "execution_count": 86,
   "id": "0eb548c6-6b5b-4288-93e1-e402bda56fd4",
   "metadata": {},
   "outputs": [],
   "source": [
    "li = [randint(1, 50) for _ in range(10)]"
   ]
  },
  {
   "cell_type": "code",
   "execution_count": 87,
   "id": "f1677121-e912-4fb0-adf6-95fc4b729cf3",
   "metadata": {},
   "outputs": [
    {
     "data": {
      "text/plain": [
       "[11, 3, 25, 3, 20, 18, 13, 27, 39, 12]"
      ]
     },
     "execution_count": 87,
     "metadata": {},
     "output_type": "execute_result"
    }
   ],
   "source": [
    "li"
   ]
  },
  {
   "cell_type": "code",
   "execution_count": 88,
   "id": "349f65d8-6409-4be7-8471-77f523e5eb5f",
   "metadata": {},
   "outputs": [],
   "source": [
    "li.sort()"
   ]
  },
  {
   "cell_type": "code",
   "execution_count": 89,
   "id": "c468b6e5-983a-4123-a88b-4be68d80c79e",
   "metadata": {},
   "outputs": [
    {
     "data": {
      "text/plain": [
       "[3, 3, 11, 12, 13, 18, 20, 25, 27, 39]"
      ]
     },
     "execution_count": 89,
     "metadata": {},
     "output_type": "execute_result"
    }
   ],
   "source": [
    "li"
   ]
  },
  {
   "cell_type": "code",
   "execution_count": 90,
   "id": "7e1d67ba-5f35-4694-b02b-41e8ce6432c5",
   "metadata": {},
   "outputs": [],
   "source": [
    "elem_to_add = 5"
   ]
  },
  {
   "cell_type": "code",
   "execution_count": 92,
   "id": "dab3f062-f1b6-43df-9154-161cde6aac1d",
   "metadata": {},
   "outputs": [],
   "source": [
    "insort(a=li, x=elem_to_add)"
   ]
  },
  {
   "cell_type": "code",
   "execution_count": 93,
   "id": "580db7e2-c11f-41ec-9555-2067f626299b",
   "metadata": {},
   "outputs": [
    {
     "data": {
      "text/plain": [
       "[3, 3, 5, 11, 12, 13, 18, 20, 25, 27, 39]"
      ]
     },
     "execution_count": 93,
     "metadata": {},
     "output_type": "execute_result"
    }
   ],
   "source": [
    "li"
   ]
  },
  {
   "cell_type": "code",
   "execution_count": 94,
   "id": "35a775a9-89e3-4227-86fa-57e849f31d0a",
   "metadata": {},
   "outputs": [],
   "source": [
    "# -----------------------------------------------------------------"
   ]
  },
  {
   "cell_type": "code",
   "execution_count": 95,
   "id": "b8fe3c45-803b-4174-933a-15da22ec0ff2",
   "metadata": {},
   "outputs": [],
   "source": [
    "from collections import namedtuple\n",
    "from operator import attrgetter\n",
    "from pprint import pprint"
   ]
  },
  {
   "cell_type": "code",
   "execution_count": 96,
   "id": "b240c409-82fc-4a1a-a5bf-0b32b08019f0",
   "metadata": {},
   "outputs": [],
   "source": [
    "Movie = namedtuple(\"Movie\", \"name released director\")"
   ]
  },
  {
   "cell_type": "code",
   "execution_count": 98,
   "id": "95de8a74-a2cf-4514-99af-c530cd1c1a2f",
   "metadata": {},
   "outputs": [],
   "source": [
    "movies = [\n",
    "    Movie(\"Jaws\", 1975, \"Spielberg\"),\n",
    "    Movie(\"Titanic\", 1997, \"Cameron\"),\n",
    "    Movie(\"The Birds\", 1963, \"Hitchcock\"),\n",
    "    Movie(\"Aliens\", 1986, \"Cameron\"),\n",
    "]"
   ]
  },
  {
   "cell_type": "code",
   "execution_count": 113,
   "id": "dc7f05b6-9f38-4454-b383-62e0b7d6a4c4",
   "metadata": {},
   "outputs": [
    {
     "data": {
      "text/plain": [
       "Movie(name='The Birds', released=1963, director='Hitchcock')"
      ]
     },
     "execution_count": 113,
     "metadata": {},
     "output_type": "execute_result"
    }
   ],
   "source": [
    "# Find the first movie released after 1960\n",
    "by_year = attrgetter(\"released\")\n",
    "movies.sort(key=by_year)\n",
    "\n",
    "# You have to SORT it before you can use BISECT\n",
    "movies[bisect(movies, 1960, key=by_year)]"
   ]
  },
  {
   "cell_type": "code",
   "execution_count": 114,
   "id": "7f956606-eb88-4d81-835b-260f5cd3bf05",
   "metadata": {},
   "outputs": [],
   "source": [
    "# INSERT a movie while MAINTAINING SORT order"
   ]
  },
  {
   "cell_type": "code",
   "execution_count": 115,
   "id": "4c9853ce-cc9f-4c03-b2ed-582f41fcae3a",
   "metadata": {},
   "outputs": [],
   "source": [
    "fantasy = Movie(\"Harry Potter and the Philosopher's Stone'\", 2001, \"Chris Columbus\")"
   ]
  },
  {
   "cell_type": "code",
   "execution_count": 116,
   "id": "34bad2fb-422a-4ac1-a245-edc1ce391d6f",
   "metadata": {},
   "outputs": [],
   "source": [
    "insort(movies, fantasy, key=by_year)"
   ]
  },
  {
   "cell_type": "code",
   "execution_count": 119,
   "id": "32c15d60-0771-44ff-bf79-b9f375d11884",
   "metadata": {},
   "outputs": [
    {
     "name": "stdout",
     "output_type": "stream",
     "text": [
      "[Movie(name='The Birds', released=1963, director='Hitchcock'),\n",
      " Movie(name='Jaws', released=1975, director='Spielberg'),\n",
      " Movie(name='Aliens', released=1986, director='Cameron'),\n",
      " Movie(name='Titanic', released=1997, director='Cameron'),\n",
      " Movie(name=\"Harry Potter and the Philosopher's Stone'\", released=2001, director='Chris Columbus')]\n"
     ]
    }
   ],
   "source": [
    "pprint(movies)"
   ]
  },
  {
   "cell_type": "code",
   "execution_count": 120,
   "id": "ecc30083-fd92-4fa2-9494-ddae46264415",
   "metadata": {},
   "outputs": [],
   "source": [
    "science_fiction = Movie(\"Matrix\", 1999, \"Waschauski Brothers\")"
   ]
  },
  {
   "cell_type": "code",
   "execution_count": 121,
   "id": "1ddcea44-1fa3-4eaf-a6ce-3c21b0c436da",
   "metadata": {},
   "outputs": [],
   "source": [
    "insort(movies, science_fiction, key=by_year)"
   ]
  },
  {
   "cell_type": "code",
   "execution_count": 122,
   "id": "5a67dc82-2a69-4b30-bb64-9801fba71053",
   "metadata": {},
   "outputs": [
    {
     "name": "stdout",
     "output_type": "stream",
     "text": [
      "[Movie(name='The Birds', released=1963, director='Hitchcock'),\n",
      " Movie(name='Jaws', released=1975, director='Spielberg'),\n",
      " Movie(name='Aliens', released=1986, director='Cameron'),\n",
      " Movie(name='Titanic', released=1997, director='Cameron'),\n",
      " Movie(name='Matrix', released=1999, director='Waschauski Brothers'),\n",
      " Movie(name=\"Harry Potter and the Philosopher's Stone'\", released=2001, director='Chris Columbus')]\n"
     ]
    }
   ],
   "source": [
    "pprint(movies)"
   ]
  },
  {
   "cell_type": "code",
   "execution_count": 123,
   "id": "7665e82a-dbad-494e-92b3-0c001b68c301",
   "metadata": {},
   "outputs": [
    {
     "data": {
      "text/plain": [
       "list"
      ]
     },
     "execution_count": 123,
     "metadata": {},
     "output_type": "execute_result"
    }
   ],
   "source": [
    "type(movies)"
   ]
  },
  {
   "cell_type": "code",
   "execution_count": null,
   "id": "014f68d2-a64d-439f-a404-8bca2520853b",
   "metadata": {},
   "outputs": [],
   "source": []
  }
 ],
 "metadata": {
  "kernelspec": {
   "display_name": "Python 3 (ipykernel)",
   "language": "python",
   "name": "python3"
  },
  "language_info": {
   "codemirror_mode": {
    "name": "ipython",
    "version": 3
   },
   "file_extension": ".py",
   "mimetype": "text/x-python",
   "name": "python",
   "nbconvert_exporter": "python",
   "pygments_lexer": "ipython3",
   "version": "3.11.4"
  }
 },
 "nbformat": 4,
 "nbformat_minor": 5
}
