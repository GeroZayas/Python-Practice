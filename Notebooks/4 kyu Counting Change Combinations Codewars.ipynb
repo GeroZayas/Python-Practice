{
 "cells": [
  {
   "cell_type": "markdown",
   "id": "368249bc-dd09-41d9-9d28-35d9eac5b4c3",
   "metadata": {},
   "source": [
    "https://www.codewars.com/kata/541af676b589989aed0009e7/train/python"
   ]
  },
  {
   "cell_type": "code",
   "execution_count": 16,
   "id": "ef00d4cd-f8e2-4d16-a6fe-047c6c0229df",
   "metadata": {},
   "outputs": [],
   "source": [
    "def count_change(money: int, coins: list) -> int:\n",
    "    ways_to_change = 0\n",
    "    for coin in coins:\n",
    "        print(coin)\n",
    "        r = money / coin\n",
    "        print(r)\n",
    "        if money / coin is int:\n",
    "            ways_to_change += 1 \n",
    "    return ways_to_change"
   ]
  },
  {
   "cell_type": "code",
   "execution_count": 17,
   "id": "d1b34dea-b047-4b7d-9770-5d4b530f4797",
   "metadata": {},
   "outputs": [
    {
     "name": "stdout",
     "output_type": "stream",
     "text": [
      "5\n",
      "2.0\n",
      "2\n",
      "5.0\n",
      "3\n",
      "3.3333333333333335\n"
     ]
    },
    {
     "data": {
      "text/plain": [
       "0"
      ]
     },
     "execution_count": 17,
     "metadata": {},
     "output_type": "execute_result"
    }
   ],
   "source": [
    "count_change(10, [5,2,3]) #4"
   ]
  },
  {
   "cell_type": "code",
   "execution_count": null,
   "id": "a1eb188f-6e8d-4373-8bae-294f9143eb25",
   "metadata": {},
   "outputs": [],
   "source": []
  }
 ],
 "metadata": {
  "kernelspec": {
   "display_name": "Python 3 (ipykernel)",
   "language": "python",
   "name": "python3"
  },
  "language_info": {
   "codemirror_mode": {
    "name": "ipython",
    "version": 3
   },
   "file_extension": ".py",
   "mimetype": "text/x-python",
   "name": "python",
   "nbconvert_exporter": "python",
   "pygments_lexer": "ipython3",
   "version": "3.11.4"
  }
 },
 "nbformat": 4,
 "nbformat_minor": 5
}
