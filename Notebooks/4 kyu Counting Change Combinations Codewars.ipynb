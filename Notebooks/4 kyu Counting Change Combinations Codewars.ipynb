{
 "cells": [
  {
   "cell_type": "markdown",
   "id": "368249bc-dd09-41d9-9d28-35d9eac5b4c3",
   "metadata": {},
   "source": [
    "https://www.codewars.com/kata/541af676b589989aed0009e7/train/python"
   ]
  },
  {
   "cell_type": "markdown",
   "id": "2970bd2c-1dd8-4185-b6c8-bfc5e4a6df10",
   "metadata": {},
   "source": [
    "    \"\"\"\n",
    "    count_change(4, [1,2]) # => 3\n",
    "    count_change(10, [5,2,3]) # => 4\n",
    "    count_change(11, [5,7]) # => 0\n",
    "    \"\"\""
   ]
  },
  {
   "cell_type": "code",
   "execution_count": 106,
   "id": "ef00d4cd-f8e2-4d16-a6fe-047c6c0229df",
   "metadata": {},
   "outputs": [],
   "source": [
    "#\n",
    "def count_change(money: int, coins: list) -> int:\n",
    "    ways_to_change = 0\n",
    "    divisibles, non_divisibles = [], []\n",
    "    if sum(coins) == money:\n",
    "        ways_to_change += 1\n",
    "    for coin in coins:\n",
    "        if money % coin == 0:\n",
    "            ways_to_change += 1\n",
    "            divisibles.append(coin)\n",
    "        else:\n",
    "            non_divisibles.append(coin)\n",
    "    if len(non_divisibles) > 0:\n",
    "        for n_div in non_divisibles:\n",
    "            r = money - n_div\n",
    "            if sum(divisibles) == r:\n",
    "                ways_to_change += 1\n",
    "    if sum(coins) < money and len(non_divisibles) == 0:\n",
    "        ways_to_change += 1\n",
    "    return ways_to_change"
   ]
  },
  {
   "cell_type": "code",
   "execution_count": 107,
   "id": "d1b34dea-b047-4b7d-9770-5d4b530f4797",
   "metadata": {},
   "outputs": [
    {
     "data": {
      "text/plain": [
       "4"
      ]
     },
     "execution_count": 107,
     "metadata": {},
     "output_type": "execute_result"
    }
   ],
   "source": [
    "count_change(10, [5,2,3]) # => 4"
   ]
  },
  {
   "cell_type": "code",
   "execution_count": 108,
   "id": "11d1cf26-4551-4369-8ec3-14862eb5cdc4",
   "metadata": {},
   "outputs": [
    {
     "data": {
      "text/plain": [
       "3"
      ]
     },
     "execution_count": 108,
     "metadata": {},
     "output_type": "execute_result"
    }
   ],
   "source": [
    "count_change(4, [1,2]) # => 3"
   ]
  },
  {
   "cell_type": "code",
   "execution_count": 109,
   "id": "a7362599-b6e5-4755-9f5d-0f84d4faaa88",
   "metadata": {},
   "outputs": [
    {
     "data": {
      "text/plain": [
       "0"
      ]
     },
     "execution_count": 109,
     "metadata": {},
     "output_type": "execute_result"
    }
   ],
   "source": [
    "count_change(11, [5,7]) # => 0"
   ]
  },
  {
   "cell_type": "code",
   "execution_count": 110,
   "id": "8c29e583-b20a-4f9f-b22e-142ec738c910",
   "metadata": {},
   "outputs": [
    {
     "data": {
      "text/plain": [
       "0"
      ]
     },
     "execution_count": 110,
     "metadata": {},
     "output_type": "execute_result"
    }
   ],
   "source": [
    "count_change(3285,[476, 166, 453])"
   ]
  },
  {
   "cell_type": "code",
   "execution_count": 1,
   "id": "59556f95-7c0d-4f6e-b205-5fde4b57e8df",
   "metadata": {},
   "outputs": [],
   "source": [
    "# another solution from someone else\n",
    "def count_change(money, coins):\n",
    "    if money<0:\n",
    "        return 0\n",
    "    if money == 0:\n",
    "        return 1\n",
    "    if money>0 and not coins:\n",
    "        return 0\n",
    "    return count_change(money-coins[-1],coins) + count_change(money,coins[:-1])"
   ]
  },
  {
   "cell_type": "code",
   "execution_count": 2,
   "id": "2c4a4447-3972-4fc0-bb7a-d81b5bcaee06",
   "metadata": {},
   "outputs": [
    {
     "data": {
      "text/plain": [
       "3"
      ]
     },
     "execution_count": 2,
     "metadata": {},
     "output_type": "execute_result"
    }
   ],
   "source": [
    "count_change(4, [1,2]) # => 3\n"
   ]
  },
  {
   "cell_type": "code",
   "execution_count": 3,
   "id": "a3bf31ac-6997-4645-a7dc-954ddeb2f1ef",
   "metadata": {},
   "outputs": [
    {
     "data": {
      "text/plain": [
       "4"
      ]
     },
     "execution_count": 3,
     "metadata": {},
     "output_type": "execute_result"
    }
   ],
   "source": [
    "count_change(10, [5,2,3]) # => 4\n"
   ]
  },
  {
   "cell_type": "code",
   "execution_count": 4,
   "id": "46a2adcd-efd7-479c-b635-30166f5e2e27",
   "metadata": {},
   "outputs": [
    {
     "data": {
      "text/plain": [
       "0"
      ]
     },
     "execution_count": 4,
     "metadata": {},
     "output_type": "execute_result"
    }
   ],
   "source": [
    "count_change(11, [5,7]) # => 0"
   ]
  },
  {
   "cell_type": "code",
   "execution_count": 5,
   "id": "8f2e6ca4-5052-46f1-b128-777c37baf62f",
   "metadata": {},
   "outputs": [
    {
     "data": {
      "text/plain": [
       "1"
      ]
     },
     "execution_count": 5,
     "metadata": {},
     "output_type": "execute_result"
    }
   ],
   "source": [
    "count_change(3285,[476, 166, 453])"
   ]
  },
  {
   "cell_type": "code",
   "execution_count": null,
   "id": "505b57fb-f3bf-4fe8-8232-588f807c4635",
   "metadata": {},
   "outputs": [],
   "source": []
  }
 ],
 "metadata": {
  "kernelspec": {
   "display_name": "Python 3 (ipykernel)",
   "language": "python",
   "name": "python3"
  },
  "language_info": {
   "codemirror_mode": {
    "name": "ipython",
    "version": 3
   },
   "file_extension": ".py",
   "mimetype": "text/x-python",
   "name": "python",
   "nbconvert_exporter": "python",
   "pygments_lexer": "ipython3",
   "version": "3.12.1"
  }
 },
 "nbformat": 4,
 "nbformat_minor": 5
}
