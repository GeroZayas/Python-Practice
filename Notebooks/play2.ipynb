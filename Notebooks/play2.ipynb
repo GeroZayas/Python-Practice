{
 "cells": [
  {
   "cell_type": "code",
   "execution_count": 152,
   "id": "868b7a4c-62b8-4d10-bc6d-5bd4249ccb41",
   "metadata": {},
   "outputs": [],
   "source": [
    "my_str =\"ca ba ac\""
   ]
  },
  {
   "cell_type": "code",
   "execution_count": 154,
   "id": "d0405e08-7d6c-45b6-b45d-44f32193024c",
   "metadata": {},
   "outputs": [],
   "source": [
    "my_list = my_str.split()"
   ]
  },
  {
   "cell_type": "code",
   "execution_count": 155,
   "id": "a764bf86-335b-4de4-a9e2-90c01bb21f0b",
   "metadata": {},
   "outputs": [
    {
     "data": {
      "text/plain": [
       "['ca', 'ba', 'ac']"
      ]
     },
     "execution_count": 155,
     "metadata": {},
     "output_type": "execute_result"
    }
   ],
   "source": [
    "my_list"
   ]
  },
  {
   "cell_type": "code",
   "execution_count": 164,
   "id": "533c16c9-2f6e-4888-a676-7fa11a67d41b",
   "metadata": {},
   "outputs": [],
   "source": [
    "new_list = my_list.sort()"
   ]
  },
  {
   "cell_type": "code",
   "execution_count": 166,
   "id": "356f6e5a-7aa2-4f70-9634-b237f9197874",
   "metadata": {},
   "outputs": [
    {
     "name": "stdout",
     "output_type": "stream",
     "text": [
      "None\n"
     ]
    }
   ],
   "source": [
    "print(new_list)"
   ]
  },
  {
   "cell_type": "code",
   "execution_count": null,
   "id": "9a1ff20a-8bba-4824-8456-2d5552ce0ca1",
   "metadata": {},
   "outputs": [],
   "source": []
  }
 ],
 "metadata": {
  "kernelspec": {
   "display_name": "Python 3",
   "language": "python",
   "name": "python3"
  },
  "language_info": {
   "codemirror_mode": {
    "name": "ipython",
    "version": 3
   },
   "file_extension": ".py",
   "mimetype": "text/x-python",
   "name": "python",
   "nbconvert_exporter": "python",
   "pygments_lexer": "ipython3",
   "version": "3.11.0"
  }
 },
 "nbformat": 4,
 "nbformat_minor": 5
}
