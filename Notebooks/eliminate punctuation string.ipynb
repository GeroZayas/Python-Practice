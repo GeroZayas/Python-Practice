{
 "cells": [
  {
   "cell_type": "markdown",
   "id": "c8afd669-13c2-4166-a414-ab087cc18959",
   "metadata": {
    "tags": []
   },
   "source": [
    "## We create a random list of words"
   ]
  },
  {
   "cell_type": "code",
   "execution_count": 1,
   "id": "918acf1f-37b6-487f-a37f-330f07c1dc3a",
   "metadata": {
    "tags": []
   },
   "outputs": [],
   "source": [
    "word_list = ['together', 'ahead', 'door', 'pull', 'point', 'condition', 'threat', 'forward', 'check', 'conference']"
   ]
  },
  {
   "cell_type": "code",
   "execution_count": 3,
   "id": "1653a435-c71b-4fe1-96b1-ab45880515f6",
   "metadata": {},
   "outputs": [
    {
     "data": {
      "text/plain": [
       "['together',\n",
       " 'ahead',\n",
       " 'door',\n",
       " 'pull',\n",
       " 'point',\n",
       " 'condition',\n",
       " 'threat',\n",
       " 'forward',\n",
       " 'check',\n",
       " 'conference']"
      ]
     },
     "execution_count": 3,
     "metadata": {},
     "output_type": "execute_result"
    }
   ],
   "source": [
    "word_list"
   ]
  },
  {
   "cell_type": "markdown",
   "id": "d0c742bd-cdcd-425d-bb96-fa337fad73bb",
   "metadata": {
    "tags": []
   },
   "source": [
    "## We create a string out of that list"
   ]
  },
  {
   "cell_type": "code",
   "execution_count": 15,
   "id": "17fe53d1-710c-40e4-81bc-cb2dcc994e5d",
   "metadata": {},
   "outputs": [],
   "source": [
    "string_from_list = ',.*/ '.join(word_list)"
   ]
  },
  {
   "cell_type": "code",
   "execution_count": 16,
   "id": "726836cd-2151-458b-a584-1e9a9e6c6096",
   "metadata": {},
   "outputs": [
    {
     "data": {
      "text/plain": [
       "'together,.*/ ahead,.*/ door,.*/ pull,.*/ point,.*/ condition,.*/ threat,.*/ forward,.*/ check,.*/ conference'"
      ]
     },
     "execution_count": 16,
     "metadata": {},
     "output_type": "execute_result"
    }
   ],
   "source": [
    "string_from_list"
   ]
  },
  {
   "cell_type": "markdown",
   "id": "5c8f93a9-e05e-47b5-9b0f-41dff6895fa8",
   "metadata": {},
   "source": [
    "## We define a function that eliminates punctution\n",
    "### Using list comprehension"
   ]
  },
  {
   "cell_type": "code",
   "execution_count": 23,
   "id": "50fbb8fd-6ba8-4de0-96ed-e60029bf05e3",
   "metadata": {},
   "outputs": [],
   "source": [
    "# eliminate punctuation\n",
    "def eliminate_punctuation(text:str)->str:\n",
    "    return ''.join([c for c in text if c.isalnum() or c.isspace()])"
   ]
  },
  {
   "cell_type": "code",
   "execution_count": 24,
   "id": "3dd566b0-d8e3-406a-82a3-92b0ee566db8",
   "metadata": {},
   "outputs": [
    {
     "data": {
      "text/plain": [
       "'together ahead door pull point condition threat forward check conference'"
      ]
     },
     "execution_count": 24,
     "metadata": {},
     "output_type": "execute_result"
    }
   ],
   "source": [
    "eliminate_punctuation(string_from_list)"
   ]
  }
 ],
 "metadata": {
  "kernelspec": {
   "display_name": "Python 3",
   "language": "python",
   "name": "python3"
  },
  "language_info": {
   "codemirror_mode": {
    "name": "ipython",
    "version": 3
   },
   "file_extension": ".py",
   "mimetype": "text/x-python",
   "name": "python",
   "nbconvert_exporter": "python",
   "pygments_lexer": "ipython3",
   "version": "3.11.0"
  }
 },
 "nbformat": 4,
 "nbformat_minor": 5
}
