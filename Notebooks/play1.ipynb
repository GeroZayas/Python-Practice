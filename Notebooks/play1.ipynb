{
 "cells": [
  {
   "cell_type": "code",
   "execution_count": 1,
   "id": "27c23aac-3521-4d94-8bfc-66351b76d1f5",
   "metadata": {},
   "outputs": [],
   "source": [
    "shakespeare = \"All the world is a stage, and all the men and women merely players. They have their exits and their entrances, And one man in his time plays many parts.\""
   ]
  },
  {
   "cell_type": "code",
   "execution_count": 2,
   "id": "fc0b551a-5bb1-4ecd-a17d-5dc7139c30e7",
   "metadata": {},
   "outputs": [
    {
     "data": {
      "text/plain": [
       "'All the world is a stage, and all the men and women merely players. They have their exits and their entrances, And one man in his time plays many parts.'"
      ]
     },
     "execution_count": 2,
     "metadata": {},
     "output_type": "execute_result"
    }
   ],
   "source": [
    "shakespeare"
   ]
  },
  {
   "cell_type": "code",
   "execution_count": 3,
   "id": "350c4d6f-eea8-4235-89e2-dc6092e867be",
   "metadata": {},
   "outputs": [],
   "source": [
    "import string"
   ]
  },
  {
   "cell_type": "code",
   "execution_count": 4,
   "id": "a33e3d7d-e4f3-46cb-bf9c-1b7d4725c732",
   "metadata": {},
   "outputs": [
    {
     "data": {
      "text/plain": [
       "'!\"#$%&\\'()*+,-./:;<=>?@[\\\\]^_`{|}~'"
      ]
     },
     "execution_count": 4,
     "metadata": {},
     "output_type": "execute_result"
    }
   ],
   "source": [
    "string.punctuation"
   ]
  },
  {
   "cell_type": "code",
   "execution_count": 5,
   "id": "8b817efa-32a2-4c52-bf08-80bf519fa855",
   "metadata": {},
   "outputs": [],
   "source": [
    "def remove_punctuation(text:str)->str:\n",
    "    translator = str.maketrans(\"\", \"\", string.punctuation)\n",
    "    clean_text = text.translate(translator)\n",
    "    return clean_text\n",
    "\n",
    "def make_lowercase(text:str)->str:\n",
    "    return text.casefold()\n",
    "\n",
    "def order_text(text:str)->str:\n",
    "    ordered_text = None\n",
    "    \n",
    "    ordered_text = text.split().sort()\n",
    "    print(ordered_text)\n",
    "    \n",
    "    return ordered_text"
   ]
  },
  {
   "cell_type": "code",
   "execution_count": 6,
   "id": "70c4c667-edde-415c-aa9f-8053664b3390",
   "metadata": {},
   "outputs": [],
   "source": [
    "shakespeare = remove_punctuation(shakespeare)"
   ]
  },
  {
   "cell_type": "code",
   "execution_count": 7,
   "id": "fde93d3b-8cde-43d1-b2f5-7ef54ad6acd3",
   "metadata": {},
   "outputs": [
    {
     "data": {
      "text/plain": [
       "'All the world is a stage and all the men and women merely players They have their exits and their entrances And one man in his time plays many parts'"
      ]
     },
     "execution_count": 7,
     "metadata": {},
     "output_type": "execute_result"
    }
   ],
   "source": [
    "shakespeare"
   ]
  },
  {
   "cell_type": "code",
   "execution_count": 8,
   "id": "501ea127-e230-404a-a96f-49b8544d3a55",
   "metadata": {},
   "outputs": [],
   "source": [
    "shakespeare = make_lowercase(shakespeare)"
   ]
  },
  {
   "cell_type": "code",
   "execution_count": 9,
   "id": "7934e143-764f-4149-aeda-040d37e9f97e",
   "metadata": {},
   "outputs": [
    {
     "data": {
      "text/plain": [
       "'all the world is a stage and all the men and women merely players they have their exits and their entrances and one man in his time plays many parts'"
      ]
     },
     "execution_count": 9,
     "metadata": {},
     "output_type": "execute_result"
    }
   ],
   "source": [
    "shakespeare"
   ]
  },
  {
   "cell_type": "code",
   "execution_count": 10,
   "id": "694c1578-8539-409d-9138-daa66c8a6c01",
   "metadata": {},
   "outputs": [
    {
     "name": "stdout",
     "output_type": "stream",
     "text": [
      "None\n"
     ]
    }
   ],
   "source": [
    "shakespeare = order_text(shakespeare)"
   ]
  },
  {
   "cell_type": "code",
   "execution_count": 11,
   "id": "65a269a2-80f5-4b91-b6fd-e292a9ccd37b",
   "metadata": {},
   "outputs": [],
   "source": [
    "shakespeare"
   ]
  }
 ],
 "metadata": {
  "kernelspec": {
   "display_name": "Python 3",
   "language": "python",
   "name": "python3"
  },
  "language_info": {
   "codemirror_mode": {
    "name": "ipython",
    "version": 3
   },
   "file_extension": ".py",
   "mimetype": "text/x-python",
   "name": "python",
   "nbconvert_exporter": "python",
   "pygments_lexer": "ipython3",
   "version": "3.11.0"
  }
 },
 "nbformat": 4,
 "nbformat_minor": 5
}
