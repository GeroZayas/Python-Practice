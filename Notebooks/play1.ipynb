{
 "cells": [
  {
   "cell_type": "code",
   "execution_count": 1,
   "id": "27c23aac-3521-4d94-8bfc-66351b76d1f5",
   "metadata": {},
   "outputs": [],
   "source": [
    "shakespeare = \"All the world is a stage, and all the men and women merely players. They have their exits and their entrances, And one man in his time plays many parts.\""
   ]
  },
  {
   "cell_type": "code",
   "execution_count": 2,
   "id": "fc0b551a-5bb1-4ecd-a17d-5dc7139c30e7",
   "metadata": {},
   "outputs": [
    {
     "data": {
      "text/plain": [
       "'All the world is a stage, and all the men and women merely players. They have their exits and their entrances, And one man in his time plays many parts.'"
      ]
     },
     "execution_count": 2,
     "metadata": {},
     "output_type": "execute_result"
    }
   ],
   "source": [
    "shakespeare"
   ]
  },
  {
   "cell_type": "code",
   "execution_count": 3,
   "id": "350c4d6f-eea8-4235-89e2-dc6092e867be",
   "metadata": {
    "tags": []
   },
   "outputs": [],
   "source": [
    "import string"
   ]
  },
  {
   "cell_type": "code",
   "execution_count": 4,
   "id": "a33e3d7d-e4f3-46cb-bf9c-1b7d4725c732",
   "metadata": {
    "tags": []
   },
   "outputs": [
    {
     "data": {
      "text/plain": [
       "'!\"#$%&\\'()*+,-./:;<=>?@[\\\\]^_`{|}~'"
      ]
     },
     "execution_count": 4,
     "metadata": {},
     "output_type": "execute_result"
    }
   ],
   "source": [
    "string.punctuation"
   ]
  },
  {
   "cell_type": "code",
   "execution_count": 7,
   "id": "d8a7f515-6562-4853-90eb-6a6dc7bb9ea8",
   "metadata": {},
   "outputs": [],
   "source": [
    "def string_processing(text:str)->str:\n",
    "    # make lowercase\n",
    "    text = text.casefold()\n",
    "    # eliminate punctuation\n",
    "    translator = str.maketrans(\"\", \"\", string.punctuation)\n",
    "    text = text.translate(translator)\n",
    "    # order alphabetically\n",
    "    list_text = text.split()\n",
    "    list_text.sort()\n",
    "    new_text = ' '.join(list_text)\n",
    "    return new_text"
   ]
  },
  {
   "cell_type": "code",
   "execution_count": 9,
   "id": "fe28826e-15e6-4e7c-902e-f12d83ff0c0e",
   "metadata": {},
   "outputs": [
    {
     "data": {
      "text/plain": [
       "'a all all and and and and entrances exits have his in is man many men merely one parts players plays stage the the their their they time women world'"
      ]
     },
     "execution_count": 9,
     "metadata": {},
     "output_type": "execute_result"
    }
   ],
   "source": [
    "string_processing(shakespeare)"
   ]
  }
 ],
 "metadata": {
  "kernelspec": {
   "display_name": "Python 3",
   "language": "python",
   "name": "python3"
  },
  "language_info": {
   "codemirror_mode": {
    "name": "ipython",
    "version": 3
   },
   "file_extension": ".py",
   "mimetype": "text/x-python",
   "name": "python",
   "nbconvert_exporter": "python",
   "pygments_lexer": "ipython3",
   "version": "3.11.0"
  }
 },
 "nbformat": 4,
 "nbformat_minor": 5
}
