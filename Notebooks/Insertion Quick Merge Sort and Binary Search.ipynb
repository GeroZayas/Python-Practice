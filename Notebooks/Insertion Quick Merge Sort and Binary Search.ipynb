{
 "cells": [
  {
   "cell_type": "code",
   "execution_count": 2,
   "id": "f5f5df49-7139-4d99-a783-ffb1a5790685",
   "metadata": {},
   "outputs": [],
   "source": [
    "from random import randint"
   ]
  },
  {
   "cell_type": "code",
   "execution_count": 3,
   "id": "076f2fa7-20cd-4474-9107-9e18cadc00f0",
   "metadata": {},
   "outputs": [],
   "source": [
    "numbers = [randint(1,50) for _ in range(7)]"
   ]
  },
  {
   "cell_type": "code",
   "execution_count": 4,
   "id": "e89ba9f4-ec29-4e1e-abd4-ccdaea89cd7b",
   "metadata": {},
   "outputs": [
    {
     "data": {
      "text/plain": [
       "[38, 29, 10, 42, 44, 31, 26]"
      ]
     },
     "execution_count": 4,
     "metadata": {},
     "output_type": "execute_result"
    }
   ],
   "source": [
    "numbers"
   ]
  },
  {
   "cell_type": "code",
   "execution_count": 5,
   "id": "55f52e8b-ebb0-407d-b633-8191599bfaf8",
   "metadata": {},
   "outputs": [],
   "source": [
    "#insertion sort algo\n",
    "def insertion_sort(nums:list[int])->list:\n",
    "    if len(nums) <= 1:\n",
    "        return nums\n",
    "    sorted_nums = []\n",
    "    for num in nums:\n",
    "        for i in range(len(sorted_nums)):\n",
    "            if num < sorted_nums[i]:\n",
    "                sorted_nums.insert(i, num)\n",
    "                break\n",
    "        else:\n",
    "            sorted_nums.append(num)\n",
    "    return sorted_nums"
   ]
  },
  {
   "cell_type": "code",
   "execution_count": 6,
   "id": "9ce757f5-58d5-49c6-bf0a-3c320e30a8b6",
   "metadata": {},
   "outputs": [
    {
     "data": {
      "text/plain": [
       "[10, 26, 29, 31, 38, 42, 44]"
      ]
     },
     "execution_count": 6,
     "metadata": {},
     "output_type": "execute_result"
    }
   ],
   "source": [
    "insertion_sort(numbers)"
   ]
  },
  {
   "cell_type": "code",
   "execution_count": 7,
   "id": "330c7f41-8d03-404f-905d-3a5fbc2c6b6f",
   "metadata": {},
   "outputs": [],
   "source": [
    "# quick sort algo\n",
    "def quick_sort(nums:list[int]) -> list[int]:\n",
    "    if len(nums) <= 1:\n",
    "        return nums\n",
    "    pivot = nums[0]\n",
    "    left = []\n",
    "    right = []\n",
    "    \n",
    "    for num in nums[1:]:\n",
    "        if num < pivot:\n",
    "            left.append(num)\n",
    "        else:\n",
    "            right.append(num)\n",
    "            \n",
    "    return quick_sort(left) + [pivot] + quick_sort(right)"
   ]
  },
  {
   "cell_type": "code",
   "execution_count": 8,
   "id": "f10af874-da4d-4e7a-b14b-a90d08efc390",
   "metadata": {},
   "outputs": [
    {
     "data": {
      "text/plain": [
       "[10, 26, 29, 31, 38, 42, 44]"
      ]
     },
     "execution_count": 8,
     "metadata": {},
     "output_type": "execute_result"
    }
   ],
   "source": [
    "quick_sort(numbers)"
   ]
  },
  {
   "cell_type": "code",
   "execution_count": 9,
   "id": "9275b73e-25cd-4905-8e3d-b11d319f193c",
   "metadata": {},
   "outputs": [
    {
     "data": {
      "text/plain": [
       "True"
      ]
     },
     "execution_count": 9,
     "metadata": {},
     "output_type": "execute_result"
    }
   ],
   "source": [
    "insertion_sort(numbers) == quick_sort(numbers)"
   ]
  },
  {
   "cell_type": "code",
   "execution_count": 15,
   "id": "bed1ba4f-2b9b-4884-bed4-5d782435a746",
   "metadata": {},
   "outputs": [],
   "source": [
    "# merge sort\n",
    "def merge_sort(nums:list[int])-> list[int]:\n",
    "    if len(nums) <= 1:\n",
    "        return nums\n",
    "    mid = len(nums) // 2\n",
    "    left = nums[:mid]\n",
    "    right = nums[mid:]\n",
    "    \n",
    "    left = merge_sort(left)\n",
    "    right = merge_sort(right)\n",
    "    \n",
    "    return merge(left, right)\n",
    "    \n",
    "    \n",
    "def merge(left, right):\n",
    "    left_index = right_index = 0\n",
    "    sorted_nums = []\n",
    "    while left_index < len(left) and right_index < len(right):\n",
    "        if left[left_index] < right[right_index]:\n",
    "            sorted_nums.append(left[left_index])\n",
    "            left_index += 1\n",
    "        else:\n",
    "            sorted_nums.append(right[right_index])\n",
    "            right_index += 1\n",
    "    sorted_nums += left[left_index:]\n",
    "    sorted_nums += right[right_index:]\n",
    "    \n",
    "    return sorted_nums"
   ]
  },
  {
   "cell_type": "code",
   "execution_count": 16,
   "id": "bad41430-e95f-4542-97f3-ea380f56bd43",
   "metadata": {},
   "outputs": [
    {
     "data": {
      "text/plain": [
       "[10, 26, 29, 31, 38, 42, 44]"
      ]
     },
     "execution_count": 16,
     "metadata": {},
     "output_type": "execute_result"
    }
   ],
   "source": [
    "merge_sort(numbers)"
   ]
  },
  {
   "cell_type": "code",
   "execution_count": 17,
   "id": "00f8068c-4954-46ed-86cd-2e2477a01e03",
   "metadata": {},
   "outputs": [],
   "source": [
    "a = insertion_sort(numbers)\n",
    "b = quick_sort(numbers)\n",
    "c = merge_sort(numbers)"
   ]
  },
  {
   "cell_type": "code",
   "execution_count": 23,
   "id": "d7ac60c8-b960-48de-a71c-7fbbc2339301",
   "metadata": {},
   "outputs": [
    {
     "data": {
      "text/plain": [
       "True"
      ]
     },
     "execution_count": 23,
     "metadata": {},
     "output_type": "execute_result"
    }
   ],
   "source": [
    "a == b == c"
   ]
  },
  {
   "cell_type": "code",
   "execution_count": 32,
   "id": "2831b635-dac6-49e0-abc0-76cf20c24ed9",
   "metadata": {},
   "outputs": [],
   "source": [
    "numbers = a"
   ]
  },
  {
   "cell_type": "code",
   "execution_count": 33,
   "id": "d1fbb2fd-fcb9-45b4-b476-732cfb51d533",
   "metadata": {},
   "outputs": [
    {
     "data": {
      "text/plain": [
       "[10, 26, 29, 31, 38, 42, 44]"
      ]
     },
     "execution_count": 33,
     "metadata": {},
     "output_type": "execute_result"
    }
   ],
   "source": [
    "numbers"
   ]
  },
  {
   "cell_type": "code",
   "execution_count": 59,
   "id": "733c9155-b573-4c7d-bfeb-77688bcf9289",
   "metadata": {},
   "outputs": [],
   "source": [
    "# binary search algo\n",
    "def binary_search(nums, left, right, target):\n",
    "    if left > right:\n",
    "        return \"Element not found\"\n",
    "    mid = (left + right) // 2\n",
    "    if target == nums[mid]:\n",
    "        return f\"Element [{target}] found at index [{mid}]\"\n",
    "    elif target < nums[mid]:\n",
    "        return binary_search(nums, left, mid - 1, target)\n",
    "    else:\n",
    "        return binary_search(nums, mid + 1, right, target)"
   ]
  },
  {
   "cell_type": "code",
   "execution_count": 60,
   "id": "dec06c1c-416e-4821-9c98-30d07096a26d",
   "metadata": {},
   "outputs": [],
   "source": [
    "left, right, target = 0, len(numbers) - 1, 26"
   ]
  },
  {
   "cell_type": "code",
   "execution_count": 61,
   "id": "25a70012-efd8-4cdc-9d49-1b886b478e91",
   "metadata": {},
   "outputs": [],
   "source": [
    "r = binary_search(numbers, left, right, target)"
   ]
  },
  {
   "cell_type": "code",
   "execution_count": 62,
   "id": "b3b7c6dc-2848-4c98-a3eb-cec0cd6e2f02",
   "metadata": {},
   "outputs": [
    {
     "data": {
      "text/plain": [
       "'Element [26] found at index [1]'"
      ]
     },
     "execution_count": 62,
     "metadata": {},
     "output_type": "execute_result"
    }
   ],
   "source": [
    "r"
   ]
  },
  {
   "cell_type": "code",
   "execution_count": null,
   "id": "acb727cd-ed24-4c03-a21e-2a94306e5e83",
   "metadata": {},
   "outputs": [],
   "source": []
  }
 ],
 "metadata": {
  "kernelspec": {
   "display_name": "Python 3",
   "language": "python",
   "name": "python3"
  },
  "language_info": {
   "codemirror_mode": {
    "name": "ipython",
    "version": 3
   },
   "file_extension": ".py",
   "mimetype": "text/x-python",
   "name": "python",
   "nbconvert_exporter": "python",
   "pygments_lexer": "ipython3",
   "version": "3.11.0"
  }
 },
 "nbformat": 4,
 "nbformat_minor": 5
}
