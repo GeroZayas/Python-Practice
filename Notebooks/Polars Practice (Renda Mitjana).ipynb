{
 "cells": [
  {
   "cell_type": "code",
   "execution_count": 2,
   "id": "b6090feb",
   "metadata": {
    "scrolled": true
   },
   "outputs": [],
   "source": [
    "import polars as pl"
   ]
  },
  {
   "cell_type": "code",
   "execution_count": 3,
   "id": "297f10c2",
   "metadata": {},
   "outputs": [],
   "source": [
    "df = pl.read_csv(\"./2020_renda_neta_mitjana_per_llar.csv\")"
   ]
  },
  {
   "cell_type": "code",
   "execution_count": 10,
   "id": "b805ca11",
   "metadata": {},
   "outputs": [
    {
     "data": {
      "text/html": [
       "<div><style>\n",
       ".dataframe > thead > tr > th,\n",
       ".dataframe > tbody > tr > td {\n",
       "  text-align: right;\n",
       "}\n",
       "</style>\n",
       "<small>shape: (5, 7)</small><table border=\"1\" class=\"dataframe\"><thead><tr><th>Any</th><th>Codi_Districte</th><th>Nom_Districte</th><th>Codi_Barri</th><th>Nom_Barri</th><th>Seccio_Censal</th><th>Import_Euros</th></tr><tr><td>i64</td><td>i64</td><td>str</td><td>i64</td><td>str</td><td>i64</td><td>i64</td></tr></thead><tbody><tr><td>2020</td><td>9</td><td>&quot;Sant Andreu&quot;</td><td>60</td><td>&quot;Sant Andreu&quot;</td><td>47</td><td>40572</td></tr><tr><td>2020</td><td>2</td><td>&quot;L&#x27;Eixample&quot;</td><td>9</td><td>&quot;la Nova Esquer…</td><td>148</td><td>41647</td></tr><tr><td>2020</td><td>7</td><td>&quot;Horta-Guinardó…</td><td>35</td><td>&quot;el Guinardó&quot;</td><td>46</td><td>35282</td></tr><tr><td>2020</td><td>10</td><td>&quot;Sant Martí&quot;</td><td>72</td><td>&quot;Sant Martí de …</td><td>114</td><td>30246</td></tr><tr><td>2020</td><td>9</td><td>&quot;Sant Andreu&quot;</td><td>60</td><td>&quot;Sant Andreu&quot;</td><td>27</td><td>42519</td></tr></tbody></table></div>"
      ],
      "text/plain": [
       "shape: (5, 7)\n",
       "┌──────┬───────────────┬───────────────┬────────────┬───────────────┬───────────────┬──────────────┐\n",
       "│ Any  ┆ Codi_District ┆ Nom_Districte ┆ Codi_Barri ┆ Nom_Barri     ┆ Seccio_Censal ┆ Import_Euros │\n",
       "│ ---  ┆ e             ┆ ---           ┆ ---        ┆ ---           ┆ ---           ┆ ---          │\n",
       "│ i64  ┆ ---           ┆ str           ┆ i64        ┆ str           ┆ i64           ┆ i64          │\n",
       "│      ┆ i64           ┆               ┆            ┆               ┆               ┆              │\n",
       "╞══════╪═══════════════╪═══════════════╪════════════╪═══════════════╪═══════════════╪══════════════╡\n",
       "│ 2020 ┆ 9             ┆ Sant Andreu   ┆ 60         ┆ Sant Andreu   ┆ 47            ┆ 40572        │\n",
       "│ 2020 ┆ 2             ┆ L'Eixample    ┆ 9          ┆ la Nova       ┆ 148           ┆ 41647        │\n",
       "│      ┆               ┆               ┆            ┆ Esquerra de   ┆               ┆              │\n",
       "│      ┆               ┆               ┆            ┆ l'Eixample    ┆               ┆              │\n",
       "│ 2020 ┆ 7             ┆ Horta-Guinard ┆ 35         ┆ el Guinardó   ┆ 46            ┆ 35282        │\n",
       "│      ┆               ┆ ó             ┆            ┆               ┆               ┆              │\n",
       "│ 2020 ┆ 10            ┆ Sant Martí    ┆ 72         ┆ Sant Martí de ┆ 114           ┆ 30246        │\n",
       "│      ┆               ┆               ┆            ┆ Provençals    ┆               ┆              │\n",
       "│ 2020 ┆ 9             ┆ Sant Andreu   ┆ 60         ┆ Sant Andreu   ┆ 27            ┆ 42519        │\n",
       "└──────┴───────────────┴───────────────┴────────────┴───────────────┴───────────────┴──────────────┘"
      ]
     },
     "execution_count": 10,
     "metadata": {},
     "output_type": "execute_result"
    }
   ],
   "source": [
    "df.sample(5)"
   ]
  },
  {
   "cell_type": "code",
   "execution_count": 17,
   "id": "607855d9",
   "metadata": {},
   "outputs": [
    {
     "data": {
      "text/plain": [
       "(['Any',\n",
       "  'Codi_Districte',\n",
       "  'Nom_Districte',\n",
       "  'Codi_Barri',\n",
       "  'Nom_Barri',\n",
       "  'Seccio_Censal',\n",
       "  'Import_Euros'],\n",
       " 7)"
      ]
     },
     "execution_count": 17,
     "metadata": {},
     "output_type": "execute_result"
    }
   ],
   "source": [
    "df.columns, len(df.columns)"
   ]
  },
  {
   "cell_type": "code",
   "execution_count": 19,
   "id": "ab720420",
   "metadata": {},
   "outputs": [
    {
     "data": {
      "text/plain": [
       "(1068, 7)"
      ]
     },
     "execution_count": 19,
     "metadata": {},
     "output_type": "execute_result"
    }
   ],
   "source": [
    "df.shape"
   ]
  },
  {
   "cell_type": "code",
   "execution_count": 47,
   "id": "1b973649",
   "metadata": {},
   "outputs": [],
   "source": [
    "out = df.filter(pl.col('Import_Euros') > 60000)"
   ]
  },
  {
   "cell_type": "code",
   "execution_count": 48,
   "id": "8c028fa8",
   "metadata": {
    "collapsed": true
   },
   "outputs": [
    {
     "data": {
      "text/html": [
       "<div><style>\n",
       ".dataframe > thead > tr > th,\n",
       ".dataframe > tbody > tr > td {\n",
       "  text-align: right;\n",
       "}\n",
       "</style>\n",
       "<small>shape: (73, 7)</small><table border=\"1\" class=\"dataframe\"><thead><tr><th>Any</th><th>Codi_Districte</th><th>Nom_Districte</th><th>Codi_Barri</th><th>Nom_Barri</th><th>Seccio_Censal</th><th>Import_Euros</th></tr><tr><td>i64</td><td>i64</td><td>str</td><td>i64</td><td>str</td><td>i64</td><td>i64</td></tr></thead><tbody><tr><td>2020</td><td>2</td><td>&quot;L&#x27;Eixample&quot;</td><td>7</td><td>&quot;la Dreta de l&#x27;…</td><td>63</td><td>62776</td></tr><tr><td>2020</td><td>2</td><td>&quot;L&#x27;Eixample&quot;</td><td>7</td><td>&quot;la Dreta de l&#x27;…</td><td>79</td><td>60158</td></tr><tr><td>2020</td><td>2</td><td>&quot;L&#x27;Eixample&quot;</td><td>9</td><td>&quot;la Nova Esquer…</td><td>130</td><td>64047</td></tr><tr><td>2020</td><td>4</td><td>&quot;Les Corts&quot;</td><td>19</td><td>&quot;les Corts&quot;</td><td>19</td><td>66812</td></tr><tr><td>2020</td><td>4</td><td>&quot;Les Corts&quot;</td><td>19</td><td>&quot;les Corts&quot;</td><td>23</td><td>84757</td></tr><tr><td>2020</td><td>4</td><td>&quot;Les Corts&quot;</td><td>19</td><td>&quot;les Corts&quot;</td><td>24</td><td>87063</td></tr><tr><td>2020</td><td>4</td><td>&quot;Les Corts&quot;</td><td>20</td><td>&quot;la Maternitat …</td><td>46</td><td>60804</td></tr><tr><td>2020</td><td>4</td><td>&quot;Les Corts&quot;</td><td>20</td><td>&quot;la Maternitat …</td><td>49</td><td>71456</td></tr><tr><td>2020</td><td>4</td><td>&quot;Les Corts&quot;</td><td>21</td><td>&quot;Pedralbes&quot;</td><td>50</td><td>89731</td></tr><tr><td>2020</td><td>4</td><td>&quot;Les Corts&quot;</td><td>21</td><td>&quot;Pedralbes&quot;</td><td>52</td><td>89731</td></tr><tr><td>2020</td><td>4</td><td>&quot;Les Corts&quot;</td><td>21</td><td>&quot;Pedralbes&quot;</td><td>54</td><td>69914</td></tr><tr><td>2020</td><td>4</td><td>&quot;Les Corts&quot;</td><td>21</td><td>&quot;Pedralbes&quot;</td><td>55</td><td>89731</td></tr><tr><td>&hellip;</td><td>&hellip;</td><td>&hellip;</td><td>&hellip;</td><td>&hellip;</td><td>&hellip;</td><td>&hellip;</td></tr><tr><td>2020</td><td>5</td><td>&quot;Sarrià-Sant Ge…</td><td>26</td><td>&quot;Sant Gervasi- …</td><td>67</td><td>61029</td></tr><tr><td>2020</td><td>5</td><td>&quot;Sarrià-Sant Ge…</td><td>26</td><td>&quot;Sant Gervasi- …</td><td>74</td><td>70327</td></tr><tr><td>2020</td><td>5</td><td>&quot;Sarrià-Sant Ge…</td><td>26</td><td>&quot;Sant Gervasi- …</td><td>77</td><td>69107</td></tr><tr><td>2020</td><td>5</td><td>&quot;Sarrià-Sant Ge…</td><td>26</td><td>&quot;Sant Gervasi- …</td><td>78</td><td>62552</td></tr><tr><td>2020</td><td>5</td><td>&quot;Sarrià-Sant Ge…</td><td>26</td><td>&quot;Sant Gervasi- …</td><td>79</td><td>60501</td></tr><tr><td>2020</td><td>5</td><td>&quot;Sarrià-Sant Ge…</td><td>27</td><td>&quot;el Putxet i el…</td><td>92</td><td>73032</td></tr><tr><td>2020</td><td>5</td><td>&quot;Sarrià-Sant Ge…</td><td>27</td><td>&quot;el Putxet i el…</td><td>93</td><td>60158</td></tr><tr><td>2020</td><td>5</td><td>&quot;Sarrià-Sant Ge…</td><td>27</td><td>&quot;el Putxet i el…</td><td>94</td><td>62958</td></tr><tr><td>2020</td><td>6</td><td>&quot;Gràcia&quot;</td><td>28</td><td>&quot;Vallcarca i el…</td><td>9</td><td>61312</td></tr><tr><td>2020</td><td>10</td><td>&quot;Sant Martí&quot;</td><td>67</td><td>&quot;la Vila Olímpi…</td><td>53</td><td>72573</td></tr><tr><td>2020</td><td>10</td><td>&quot;Sant Martí&quot;</td><td>67</td><td>&quot;la Vila Olímpi…</td><td>55</td><td>65480</td></tr><tr><td>2020</td><td>10</td><td>&quot;Sant Martí&quot;</td><td>69</td><td>&quot;Diagonal Mar i…</td><td>80</td><td>70180</td></tr></tbody></table></div>"
      ],
      "text/plain": [
       "shape: (73, 7)\n",
       "┌──────┬───────────────┬───────────────┬────────────┬───────────────┬───────────────┬──────────────┐\n",
       "│ Any  ┆ Codi_District ┆ Nom_Districte ┆ Codi_Barri ┆ Nom_Barri     ┆ Seccio_Censal ┆ Import_Euros │\n",
       "│ ---  ┆ e             ┆ ---           ┆ ---        ┆ ---           ┆ ---           ┆ ---          │\n",
       "│ i64  ┆ ---           ┆ str           ┆ i64        ┆ str           ┆ i64           ┆ i64          │\n",
       "│      ┆ i64           ┆               ┆            ┆               ┆               ┆              │\n",
       "╞══════╪═══════════════╪═══════════════╪════════════╪═══════════════╪═══════════════╪══════════════╡\n",
       "│ 2020 ┆ 2             ┆ L'Eixample    ┆ 7          ┆ la Dreta de   ┆ 63            ┆ 62776        │\n",
       "│      ┆               ┆               ┆            ┆ l'Eixample    ┆               ┆              │\n",
       "│ 2020 ┆ 2             ┆ L'Eixample    ┆ 7          ┆ la Dreta de   ┆ 79            ┆ 60158        │\n",
       "│      ┆               ┆               ┆            ┆ l'Eixample    ┆               ┆              │\n",
       "│ 2020 ┆ 2             ┆ L'Eixample    ┆ 9          ┆ la Nova       ┆ 130           ┆ 64047        │\n",
       "│      ┆               ┆               ┆            ┆ Esquerra de   ┆               ┆              │\n",
       "│      ┆               ┆               ┆            ┆ l'Eixample    ┆               ┆              │\n",
       "│ 2020 ┆ 4             ┆ Les Corts     ┆ 19         ┆ les Corts     ┆ 19            ┆ 66812        │\n",
       "│ …    ┆ …             ┆ …             ┆ …          ┆ …             ┆ …             ┆ …            │\n",
       "│ 2020 ┆ 6             ┆ Gràcia        ┆ 28         ┆ Vallcarca i   ┆ 9             ┆ 61312        │\n",
       "│      ┆               ┆               ┆            ┆ els Penitents ┆               ┆              │\n",
       "│ 2020 ┆ 10            ┆ Sant Martí    ┆ 67         ┆ la Vila       ┆ 53            ┆ 72573        │\n",
       "│      ┆               ┆               ┆            ┆ Olímpica del  ┆               ┆              │\n",
       "│      ┆               ┆               ┆            ┆ Poblenou      ┆               ┆              │\n",
       "│ 2020 ┆ 10            ┆ Sant Martí    ┆ 67         ┆ la Vila       ┆ 55            ┆ 65480        │\n",
       "│      ┆               ┆               ┆            ┆ Olímpica del  ┆               ┆              │\n",
       "│      ┆               ┆               ┆            ┆ Poblenou      ┆               ┆              │\n",
       "│ 2020 ┆ 10            ┆ Sant Martí    ┆ 69         ┆ Diagonal Mar  ┆ 80            ┆ 70180        │\n",
       "│      ┆               ┆               ┆            ┆ i el Front    ┆               ┆              │\n",
       "│      ┆               ┆               ┆            ┆ Marítim …     ┆               ┆              │\n",
       "└──────┴───────────────┴───────────────┴────────────┴───────────────┴───────────────┴──────────────┘"
      ]
     },
     "execution_count": 48,
     "metadata": {},
     "output_type": "execute_result"
    }
   ],
   "source": [
    "out"
   ]
  },
  {
   "cell_type": "code",
   "execution_count": null,
   "id": "0f8e577c",
   "metadata": {},
   "outputs": [],
   "source": []
  },
  {
   "cell_type": "code",
   "execution_count": 67,
   "id": "8a9f9fad",
   "metadata": {},
   "outputs": [],
   "source": [
    "barris = df.unique('Nom_Barri').drop('Seccio_Censal', 'Codi_Barri', 'Any', 'Codi_Districte')"
   ]
  },
  {
   "cell_type": "code",
   "execution_count": 75,
   "id": "07d21b10",
   "metadata": {},
   "outputs": [
    {
     "data": {
      "text/html": [
       "<div><style>\n",
       ".dataframe > thead > tr > th,\n",
       ".dataframe > tbody > tr > td {\n",
       "  text-align: right;\n",
       "}\n",
       "</style>\n",
       "<small>shape: (73, 3)</small><table border=\"1\" class=\"dataframe\"><thead><tr><th>Nom_Districte</th><th>Nom_Barri</th><th>Import_Euros</th></tr><tr><td>str</td><td>str</td><td>i64</td></tr></thead><tbody><tr><td>&quot;Nou Barris&quot;</td><td>&quot;Can Peguera&quot;</td><td>21560</td></tr><tr><td>&quot;Nou Barris&quot;</td><td>&quot;Ciutat Meridia…</td><td>21650</td></tr><tr><td>&quot;Nou Barris&quot;</td><td>&quot;la Trinitat No…</td><td>21969</td></tr><tr><td>&quot;Sant Andreu&quot;</td><td>&quot;la Trinitat Ve…</td><td>24524</td></tr><tr><td>&quot;Sant Andreu&quot;</td><td>&quot;Baró de Viver&quot;</td><td>26270</td></tr><tr><td>&quot;Nou Barris&quot;</td><td>&quot;Vallbona&quot;</td><td>26436</td></tr><tr><td>&quot;Sants-Montjuïc…</td><td>&quot;la Marina del …</td><td>26484</td></tr><tr><td>&quot;Nou Barris&quot;</td><td>&quot;Verdun&quot;</td><td>26659</td></tr><tr><td>&quot;Nou Barris&quot;</td><td>&quot;les Roquetes&quot;</td><td>27020</td></tr><tr><td>&quot;Nou Barris&quot;</td><td>&quot;Torre Baró&quot;</td><td>27196</td></tr><tr><td>&quot;Ciutat Vella&quot;</td><td>&quot;el Raval&quot;</td><td>27503</td></tr><tr><td>&quot;Nou Barris&quot;</td><td>&quot;la Prosperitat…</td><td>28112</td></tr><tr><td>&hellip;</td><td>&hellip;</td><td>&hellip;</td></tr><tr><td>&quot;L&#x27;Eixample&quot;</td><td>&quot;l&#x27;Antiga Esque…</td><td>45960</td></tr><tr><td>&quot;Sants-Montjuïc…</td><td>&quot;Sants&quot;</td><td>46115</td></tr><tr><td>&quot;Sant Martí&quot;</td><td>&quot;la Vila Olímpi…</td><td>46340</td></tr><tr><td>&quot;Sarrià-Sant Ge…</td><td>&quot;el Putxet i el…</td><td>48301</td></tr><tr><td>&quot;Sant Andreu&quot;</td><td>&quot;el Bon Pastor&quot;</td><td>49517</td></tr><tr><td>&quot;Horta-Guinardó…</td><td>&quot;la Font d&#x27;en F…</td><td>49607</td></tr><tr><td>&quot;Horta-Guinardó…</td><td>&quot;la Vall d&#x27;Hebr…</td><td>51011</td></tr><tr><td>&quot;Sarrià-Sant Ge…</td><td>&quot;les Tres Torre…</td><td>65783</td></tr><tr><td>&quot;Sarrià-Sant Ge…</td><td>&quot;Sant Gervasi- …</td><td>87821</td></tr><tr><td>&quot;Les Corts&quot;</td><td>&quot;Pedralbes&quot;</td><td>89731</td></tr><tr><td>&quot;Sarrià-Sant Ge…</td><td>&quot;Sant Gervasi- …</td><td>89731</td></tr><tr><td>&quot;Sarrià-Sant Ge…</td><td>&quot;Sarrià&quot;</td><td>89731</td></tr></tbody></table></div>"
      ],
      "text/plain": [
       "shape: (73, 3)\n",
       "┌─────────────────────┬───────────────────────────┬──────────────┐\n",
       "│ Nom_Districte       ┆ Nom_Barri                 ┆ Import_Euros │\n",
       "│ ---                 ┆ ---                       ┆ ---          │\n",
       "│ str                 ┆ str                       ┆ i64          │\n",
       "╞═════════════════════╪═══════════════════════════╪══════════════╡\n",
       "│ Nou Barris          ┆ Can Peguera               ┆ 21560        │\n",
       "│ Nou Barris          ┆ Ciutat Meridiana          ┆ 21650        │\n",
       "│ Nou Barris          ┆ la Trinitat Nova          ┆ 21969        │\n",
       "│ Sant Andreu         ┆ la Trinitat Vella         ┆ 24524        │\n",
       "│ …                   ┆ …                         ┆ …            │\n",
       "│ Sarrià-Sant Gervasi ┆ Sant Gervasi- Galvany     ┆ 87821        │\n",
       "│ Les Corts           ┆ Pedralbes                 ┆ 89731        │\n",
       "│ Sarrià-Sant Gervasi ┆ Sant Gervasi- la Bonanova ┆ 89731        │\n",
       "│ Sarrià-Sant Gervasi ┆ Sarrià                    ┆ 89731        │\n",
       "└─────────────────────┴───────────────────────────┴──────────────┘"
      ]
     },
     "execution_count": 75,
     "metadata": {},
     "output_type": "execute_result"
    }
   ],
   "source": [
    "barris.sort('Import_Euros')"
   ]
  },
  {
   "cell_type": "code",
   "execution_count": null,
   "id": "3f53db6f",
   "metadata": {},
   "outputs": [],
   "source": []
  },
  {
   "cell_type": "code",
   "execution_count": null,
   "id": "c5e00de7",
   "metadata": {},
   "outputs": [],
   "source": []
  }
 ],
 "metadata": {
  "kernelspec": {
   "display_name": "Python 3 (ipykernel)",
   "language": "python",
   "name": "python3"
  },
  "language_info": {
   "codemirror_mode": {
    "name": "ipython",
    "version": 3
   },
   "file_extension": ".py",
   "mimetype": "text/x-python",
   "name": "python",
   "nbconvert_exporter": "python",
   "pygments_lexer": "ipython3",
   "version": "3.11.2"
  }
 },
 "nbformat": 4,
 "nbformat_minor": 5
}
