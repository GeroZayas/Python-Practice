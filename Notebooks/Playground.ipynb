{
 "cells": [
  {
   "cell_type": "code",
   "execution_count": 2,
   "id": "1a420e8b-07aa-4890-a773-0629fc8bc413",
   "metadata": {},
   "outputs": [],
   "source": [
    "from collections import *"
   ]
  },
  {
   "cell_type": "code",
   "execution_count": 7,
   "id": "c589603d-fec0-42f7-8f72-83a4ea3fec7a",
   "metadata": {},
   "outputs": [],
   "source": [
    "people = namedtuple(\"People\", field_names=['name','age'])"
   ]
  },
  {
   "cell_type": "code",
   "execution_count": 8,
   "id": "d8a30176-e95f-45da-80d6-f1aa851afe05",
   "metadata": {},
   "outputs": [
    {
     "data": {
      "text/plain": [
       "__main__.People"
      ]
     },
     "execution_count": 8,
     "metadata": {},
     "output_type": "execute_result"
    }
   ],
   "source": [
    "people"
   ]
  },
  {
   "cell_type": "code",
   "execution_count": 21,
   "id": "aeddba2f-c4ab-4e75-902b-6e4b68396a7f",
   "metadata": {},
   "outputs": [
    {
     "data": {
      "text/plain": [
       "People(name='Gero', age=32)"
      ]
     },
     "execution_count": 21,
     "metadata": {},
     "output_type": "execute_result"
    }
   ],
   "source": [
    "gero = people('Gero', 32); gero"
   ]
  },
  {
   "cell_type": "code",
   "execution_count": 10,
   "id": "0459665c-d1f0-4600-80e6-ff6345447677",
   "metadata": {},
   "outputs": [],
   "source": [
    "mar = people('Mar', '32')"
   ]
  },
  {
   "cell_type": "code",
   "execution_count": 11,
   "id": "054eb4c6-62e5-40d6-9ac7-128f95bf6e81",
   "metadata": {},
   "outputs": [
    {
     "data": {
      "text/plain": [
       "People(name='Mar', age='32')"
      ]
     },
     "execution_count": 11,
     "metadata": {},
     "output_type": "execute_result"
    }
   ],
   "source": [
    "mar"
   ]
  },
  {
   "cell_type": "code",
   "execution_count": 28,
   "id": "5dc603e9-205e-4124-bfc5-24da23322daf",
   "metadata": {},
   "outputs": [],
   "source": [
    "li = ['Luna', 'Sol', 'Estrella','Sol']"
   ]
  },
  {
   "cell_type": "code",
   "execution_count": 33,
   "id": "e8ca46cd-3047-451d-9f8a-73ee7c5f53d1",
   "metadata": {},
   "outputs": [],
   "source": [
    "tup = tuple(li)"
   ]
  },
  {
   "cell_type": "code",
   "execution_count": 58,
   "id": "c672283a-8e14-4842-858c-2a00129b1454",
   "metadata": {},
   "outputs": [],
   "source": [
    "cosas_del_cielo = namedtuple('Cosas_del_Cielo', set(li))"
   ]
  },
  {
   "cell_type": "code",
   "execution_count": 62,
   "id": "39b9cea7-e06d-41b3-894c-4a74811c48d1",
   "metadata": {},
   "outputs": [],
   "source": [
    "something = cosas_del_cielo(Luna=\"Moon\", Sol='Sun', Estrella=\"Stars\")"
   ]
  },
  {
   "cell_type": "code",
   "execution_count": 63,
   "id": "655a0b4d-3391-4fca-9147-ffce30781b96",
   "metadata": {},
   "outputs": [
    {
     "data": {
      "text/plain": [
       "Cosas_del_Cielo(Sol='Sun', Estrella='Stars', Luna='Moon')"
      ]
     },
     "execution_count": 63,
     "metadata": {},
     "output_type": "execute_result"
    }
   ],
   "source": [
    "something"
   ]
  },
  {
   "cell_type": "code",
   "execution_count": 64,
   "id": "3ac89a12-3a75-4966-8685-859afc0ee047",
   "metadata": {},
   "outputs": [
    {
     "data": {
      "text/plain": [
       "'Moon'"
      ]
     },
     "execution_count": 64,
     "metadata": {},
     "output_type": "execute_result"
    }
   ],
   "source": [
    "something.Luna"
   ]
  },
  {
   "cell_type": "code",
   "execution_count": null,
   "id": "829d0bc3-a09f-4f77-b7f4-cabb40670e29",
   "metadata": {},
   "outputs": [],
   "source": []
  }
 ],
 "metadata": {
  "kernelspec": {
   "display_name": "Python 3 (ipykernel)",
   "language": "python",
   "name": "python3"
  },
  "language_info": {
   "codemirror_mode": {
    "name": "ipython",
    "version": 3
   },
   "file_extension": ".py",
   "mimetype": "text/x-python",
   "name": "python",
   "nbconvert_exporter": "python",
   "pygments_lexer": "ipython3",
   "version": "3.11.4"
  }
 },
 "nbformat": 4,
 "nbformat_minor": 5
}
