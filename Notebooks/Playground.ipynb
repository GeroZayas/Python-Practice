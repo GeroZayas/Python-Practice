{
 "cells": [
  {
   "cell_type": "code",
   "execution_count": 5,
   "id": "23f65322-d668-4391-96b1-9f74a17a9e55",
   "metadata": {},
   "outputs": [
    {
     "ename": "ModuleNotFoundError",
     "evalue": "No module named 'streamlit'",
     "output_type": "error",
     "traceback": [
      "\u001b[1;31m---------------------------------------------------------------------------\u001b[0m",
      "\u001b[1;31mModuleNotFoundError\u001b[0m                       Traceback (most recent call last)",
      "Cell \u001b[1;32mIn[5], line 8\u001b[0m\n\u001b[0;32m      1\u001b[0m \u001b[38;5;124;03m\"\"\"\u001b[39;00m\n\u001b[0;32m      2\u001b[0m \u001b[38;5;124;03m1.Create a Streamlit app that asks the user for a link\u001b[39;00m\n\u001b[0;32m      3\u001b[0m \u001b[38;5;124;03m2. The link like this, more or less, https://www.goodreads.com/work/quotes/\u001b[39;00m\n\u001b[0;32m      4\u001b[0m \u001b[38;5;124;03m3. Scrapes quotes from that link\u001b[39;00m\n\u001b[0;32m      5\u001b[0m \u001b[38;5;124;03m\"\"\"\u001b[39;00m\n\u001b[0;32m      7\u001b[0m \u001b[38;5;66;03m# Install packages\u001b[39;00m\n\u001b[1;32m----> 8\u001b[0m \u001b[38;5;28;01mimport\u001b[39;00m \u001b[38;5;21;01mstreamlit\u001b[39;00m \u001b[38;5;28;01mas\u001b[39;00m \u001b[38;5;21;01mst\u001b[39;00m\n\u001b[0;32m      9\u001b[0m \u001b[38;5;28;01mimport\u001b[39;00m \u001b[38;5;21;01mrequests\u001b[39;00m\n\u001b[0;32m     10\u001b[0m \u001b[38;5;28;01mfrom\u001b[39;00m \u001b[38;5;21;01mbs4\u001b[39;00m \u001b[38;5;28;01mimport\u001b[39;00m BeautifulSoup\n",
      "\u001b[1;31mModuleNotFoundError\u001b[0m: No module named 'streamlit'"
     ]
    }
   ],
   "source": [
    "\"\"\"\n",
    "1.Create a Streamlit app that asks the user for a link\n",
    "2. The link like this, more or less, https://www.goodreads.com/work/quotes/\n",
    "3. Scrapes quotes from that link\n",
    "\"\"\"\n",
    "\n",
    "# Install packages\n",
    "import streamlit as st\n",
    "import requests\n",
    "from bs4 import BeautifulSoup\n",
    "\n",
    "# Create a Streamlit App \n",
    "st.title('My Quote Scraper App')\n",
    "\n",
    "# Get the user input link\n",
    "@st.cache\n",
    "def get_link_info():\n",
    "    user_link = st.text_input('Please input a link that follows this format: https://www.goodreads.com/work/quotes/...')\n",
    "    req = requests.get(user_link)\n",
    "    soup = BeautifulSoup(req.text, 'html.parser')\n",
    "    return soup\n",
    "\n",
    "# Scrape the quotes \n",
    "soup = get_link_info()\n",
    "quotes_found = soup.find_all(\"div\", attrs={\"class\": \"quoteText\"})\n",
    "\n",
    "# Display the result\n",
    "st.subheader(\"Here are the results\")\n",
    "for quote in quotes_found:\n",
    "    # Only the quote\n",
    "    st.markdown('> '+ quote.text.strip('\\n'))\n",
    "    # Quote with Author\n",
    "    author = quote.find_next('div').text.split('\\n')[1]\n",
    "    st.markdown('*{author}*'.format(author=author))"
   ]
  }
 ],
 "metadata": {
  "kernelspec": {
   "display_name": "Python 3 (ipykernel)",
   "language": "python",
   "name": "python3"
  },
  "language_info": {
   "codemirror_mode": {
    "name": "ipython",
    "version": 3
   },
   "file_extension": ".py",
   "mimetype": "text/x-python",
   "name": "python",
   "nbconvert_exporter": "python",
   "pygments_lexer": "ipython3",
   "version": "3.11.3"
  }
 },
 "nbformat": 4,
 "nbformat_minor": 5
}
