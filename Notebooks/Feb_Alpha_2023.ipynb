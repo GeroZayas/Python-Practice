{
 "cells": [
  {
   "cell_type": "markdown",
   "id": "3f401b1c-4fb7-4283-81fa-ade4ae28771f",
   "metadata": {},
   "source": [
    "### Write a Python function that takes a list of numbers as input and returns the sum of all the even numbers in the list. If the list is empty, the function should return 0.\n",
    "\n",
    "#### For example, if the input list is [1, 2, 3, 4, 5, 6], the function should return 12 (which is the sum of 2, 4, and 6)."
   ]
  },
  {
   "cell_type": "code",
   "execution_count": 1,
   "id": "0dc9e205-b8df-47aa-8947-95ceb00a5119",
   "metadata": {
    "tags": []
   },
   "outputs": [],
   "source": [
    "def sum_(num_list: list)->int:\n",
    "    if len(num_list) == 0:\n",
    "        return 0\n",
    "    res = 0\n",
    "    for ele in num_list:\n",
    "        if ele % 2 == 0:\n",
    "            res += ele\n",
    "    return res"
   ]
  },
  {
   "cell_type": "code",
   "execution_count": null,
   "id": "bb34bdae-81dd-488a-b62c-05048f1be496",
   "metadata": {
    "tags": []
   },
   "outputs": [
    {
     "data": {
      "text/plain": [
       "6"
      ]
     },
     "execution_count": 2,
     "metadata": {},
     "output_type": "execute_result"
    }
   ],
   "source": [
    "sum_([1,2,3,4])"
   ]
  },
  {
   "cell_type": "markdown",
   "id": "69105dc7-a84e-421b-9f3a-8b7aa710bdf7",
   "metadata": {},
   "source": [
    "#### A **better** solution:"
   ]
  },
  {
   "cell_type": "code",
   "execution_count": 4,
   "id": "79c2cbec-d27f-40b9-980e-c6ac8364ba5a",
   "metadata": {
    "tags": []
   },
   "outputs": [
    {
     "data": {
      "text/plain": [
       "6"
      ]
     },
     "execution_count": 4,
     "metadata": {},
     "output_type": "execute_result"
    }
   ],
   "source": [
    "def sum_even_numbers(num_list):\n",
    "    return sum(num for num in num_list if num % 2 == 0)\n",
    "\n",
    "sum_even_numbers([1,2,3,4])"
   ]
  },
  {
   "cell_type": "markdown",
   "id": "2a275fe8-9e11-4383-b2d9-021ff949accb",
   "metadata": {},
   "source": [
    "----------"
   ]
  },
  {
   "cell_type": "markdown",
   "id": "12e9779a-6166-427f-980c-228bd0387514",
   "metadata": {},
   "source": [
    "### Write a Python function that takes a string as input and returns a new string with all the vowels removed. The function should be case-insensitive, which means it should remove both uppercase and lowercase vowels.\n",
    "\n",
    "#### For example, if the input string is \"Hello, World!\", the function should return \"Hll, Wrld!\"."
   ]
  },
  {
   "cell_type": "code",
   "execution_count": 3,
   "id": "cc999041-8681-4538-9e26-74833da63329",
   "metadata": {},
   "outputs": [
    {
     "data": {
      "text/plain": [
       "'Hll, Wrld!'"
      ]
     },
     "execution_count": 3,
     "metadata": {},
     "output_type": "execute_result"
    }
   ],
   "source": [
    "def remove_vowels(string:str)->str:\n",
    "    vowels = ['a','e','i','o','u','A','E','I','O','U']\n",
    "    no_v_string = \"\".join([letter for letter in string if letter not in vowels]) \n",
    "    return no_v_string\n",
    "\n",
    "remove_vowels(\"Hello, World!\")"
   ]
  },
  {
   "cell_type": "markdown",
   "id": "4975167a-b34c-4530-97f6-f187d93eb04e",
   "metadata": {},
   "source": [
    "----------"
   ]
  },
  {
   "cell_type": "markdown",
   "id": "48cb96de-ae8a-47cc-85cf-07c49bdfa171",
   "metadata": {},
   "source": [
    "### Write a Python function that takes a list of integers as input and returns a new list that contains only the elements that are unique to the input list. In other words, if an element appears more than once in the input list, it should not appear in the output list.\n",
    "\n",
    "For example, if the input list is [1, 2, 3, 2, 4, 5, 6, 4, 7, 8], the function should return [1, 3, 5, 6, 7, 8], which are the elements that appear only once in the input list."
   ]
  },
  {
   "cell_type": "code",
   "execution_count": 55,
   "id": "fb14290c-9b3b-49cc-a0e0-56e73ac7fe66",
   "metadata": {},
   "outputs": [
    {
     "data": {
      "text/plain": [
       "[1, 3, 5, 6, 7, 8]"
      ]
     },
     "execution_count": 55,
     "metadata": {},
     "output_type": "execute_result"
    }
   ],
   "source": [
    "def unique_list(nums_list:list)-> list:\n",
    "    counts = {}\n",
    "    for num in nums_list:\n",
    "        if num in counts:\n",
    "            counts[num] += 1\n",
    "        else:\n",
    "            counts[num] = 1\n",
    "    \n",
    "    unique_nums_list = []\n",
    "    \n",
    "    for num in counts:\n",
    "        if counts[num] == 1:\n",
    "            unique_nums_list.append(num)\n",
    "            \n",
    "    return unique_nums_list\n",
    "\n",
    "unique_list([1, 2, 3, 2, 4, 5, 6, 4, 7, 8])"
   ]
  },
  {
   "cell_type": "markdown",
   "id": "30221fe0-e0f5-461d-a262-3e3240204a74",
   "metadata": {},
   "source": [
    "## Write a Python function that takes a dictionary as input and returns the key corresponding to the maximum value in the dictionary. If there are multiple keys with the maximum value, the function should return any one of them.\n",
    "\n",
    "For example, if the input dictionary is {\"apple\": 3, \"banana\": 2, \"cherry\": 3, \"date\": 1}, the function should return \"apple\" or \"cherry\", since both \"apple\" and \"cherry\" have the maximum value of 3."
   ]
  },
  {
   "cell_type": "code",
   "execution_count": 66,
   "id": "5735173d-d865-48a7-8763-4049e80d8212",
   "metadata": {},
   "outputs": [
    {
     "data": {
      "text/plain": [
       "'apple'"
      ]
     },
     "execution_count": 66,
     "metadata": {},
     "output_type": "execute_result"
    }
   ],
   "source": [
    "def max_key(a_dict:dict) -> str:\n",
    "    res_value = 0\n",
    "    for k, v in a_dict.items():\n",
    "        if res_value < v:\n",
    "            res_value = v\n",
    "    for k, v in a_dict.items():\n",
    "        if v == res_value:\n",
    "            return k\n",
    "max_key({\"apple\": 3, \"banana\": 2, \"cherry\": 3, \"date\": 1})"
   ]
  },
  {
   "cell_type": "markdown",
   "id": "ece84171-3c52-496d-84f1-09621b5d354c",
   "metadata": {},
   "source": [
    "## Better implementation"
   ]
  },
  {
   "cell_type": "code",
   "execution_count": 67,
   "id": "13e113cb-d23a-4416-9aac-02f5ae013b3d",
   "metadata": {},
   "outputs": [],
   "source": [
    "def max_key(a_dict):\n",
    "    max_value = max(a_dict.values())\n",
    "    return next(key for key, value in a_dict.items() if value == max_value)"
   ]
  },
  {
   "cell_type": "markdown",
   "id": "cf6e9046-f41e-4e06-9c8c-0397bb72ad0f",
   "metadata": {},
   "source": [
    "---"
   ]
  },
  {
   "cell_type": "markdown",
   "id": "7555ab70-0710-4ab0-a29a-41aa779489dd",
   "metadata": {},
   "source": [
    "## Write a Python function that takes two lists as input and returns a new list that contains all the elements from both input lists, in ascending order. The input lists are guaranteed to be sorted in ascending order and may contain duplicate elements.\n",
    "\n",
    "For example, if the input lists are [1, 3, 3, 5, 6, 7] and [2, 3, 4, 6, 6, 8], the function should return [1, 2, 3, 3, 4, 5, 6, 6, 7, 8]."
   ]
  },
  {
   "cell_type": "code",
   "execution_count": 70,
   "id": "825f8930-95c6-44fd-b3c7-83c519376732",
   "metadata": {},
   "outputs": [
    {
     "data": {
      "text/plain": [
       "[1, 2, 3, 3, 4, 5, 6, 6, 7, 8]"
      ]
     },
     "execution_count": 70,
     "metadata": {},
     "output_type": "execute_result"
    }
   ],
   "source": [
    "def sorted_new_list(list_a:list, list_b:list) -> list:\n",
    "    new_list = []\n",
    "    list_a = list(set(list_a))\n",
    "    list_b = list(set(list_b))\n",
    "    for a, b in zip(list_a, list_b):\n",
    "        new_list.append(a)\n",
    "        new_list.append(b)\n",
    "    return sorted(new_list)\n",
    "\n",
    "sorted_new_list( [1, 3, 3, 5, 6, 7],  [2, 3, 4, 6, 6, 8])"
   ]
  },
  {
   "cell_type": "markdown",
   "id": "af8b185b-f4cb-48b1-9aa7-ac695d25deff",
   "metadata": {},
   "source": [
    "----------"
   ]
  },
  {
   "cell_type": "markdown",
   "id": "15843b8f-b57a-4e54-8136-f1ac76a24e17",
   "metadata": {},
   "source": [
    "## Write a Python function that takes a list of integers as input and returns the maximum product that can be obtained by multiplying any three integers from the list. The input list may contain both positive and negative integers, and may contain duplicates.\n",
    "\n",
    "For example, if the input list is [1, 2, 3, 4, 5], the function should return 60, since the maximum product that can be obtained by multiplying any three integers from the list is 4 * 5 * 3 = 60."
   ]
  },
  {
   "cell_type": "code",
   "execution_count": 90,
   "id": "078c5613-39b3-4b3c-8919-1b69b6a4b6a2",
   "metadata": {},
   "outputs": [
    {
     "name": "stdout",
     "output_type": "stream",
     "text": [
      "[3, 4, 5]\n"
     ]
    },
    {
     "data": {
      "text/plain": [
       "60"
      ]
     },
     "execution_count": 90,
     "metadata": {},
     "output_type": "execute_result"
    }
   ],
   "source": [
    "from functools import reduce\n",
    "\n",
    "def max_product(int_list:list) -> int:\n",
    "    big_three = sorted(int_list)[-3:]\n",
    "    print(big_three)\n",
    "    return reduce(lambda x, y: x*y, big_three)\n",
    "    \n",
    "max_product([1, 2, 3, 4, 5]) #60\n"
   ]
  },
  {
   "cell_type": "code",
   "execution_count": 89,
   "id": "ae6c21a0-ebda-433f-9b5b-00c382b7b06d",
   "metadata": {},
   "outputs": [
    {
     "name": "stdout",
     "output_type": "stream",
     "text": [
      "[-10, 2, 5]\n"
     ]
    },
    {
     "data": {
      "text/plain": [
       "-100"
      ]
     },
     "execution_count": 89,
     "metadata": {},
     "output_type": "execute_result"
    }
   ],
   "source": [
    "max_product([-10, -10, 5, 2]) #500"
   ]
  },
  {
   "cell_type": "markdown",
   "id": "5f56cae8-dc5b-4645-a04e-25dd00df531b",
   "metadata": {},
   "source": [
    "---"
   ]
  },
  {
   "cell_type": "markdown",
   "id": "0be79d55-d617-4aba-8d48-311358d0a170",
   "metadata": {},
   "source": [
    "## Write a Python function that takes a string as input and returns a new string that contains only the letters from the original string that occur more than once. The output string should contain each repeated letter only once, and the letters should be in the order in which they appear in the original string.\n",
    "\n",
    "For example, if the input string is \"abracadabra\", the function should return the string \"abra\"."
   ]
  },
  {
   "cell_type": "code",
   "execution_count": 110,
   "id": "68afde3f-d72e-4f3e-8416-39d25e7c4141",
   "metadata": {},
   "outputs": [
    {
     "data": {
      "text/plain": [
       "'a'"
      ]
     },
     "execution_count": 110,
     "metadata": {},
     "output_type": "execute_result"
    }
   ],
   "source": [
    "from collections import Counter\n",
    "\n",
    "def repeated_letters(a_string: str) -> str:\n",
    "    letter_counts = Counter(a_string)\n",
    "    res_string = ''\n",
    "    for k, v in letter_counts.items():\n",
    "        if v > 1:\n",
    "            res_string += k\n",
    "    \n",
    "    return res_string\n",
    "\n",
    "repeated_letters(\"Gero Zayas\")\n",
    "\n"
   ]
  },
  {
   "cell_type": "code",
   "execution_count": null,
   "id": "82f9b06f-8b5d-415c-a437-e5e74f3aee7c",
   "metadata": {},
   "outputs": [],
   "source": []
  },
  {
   "cell_type": "code",
   "execution_count": null,
   "id": "3f48ecdf-dbe8-4d51-8344-5de506a4ef1e",
   "metadata": {},
   "outputs": [],
   "source": []
  },
  {
   "cell_type": "code",
   "execution_count": null,
   "id": "f7142dd3-f0f8-410e-8499-ce84d1b08ad7",
   "metadata": {},
   "outputs": [],
   "source": []
  },
  {
   "cell_type": "code",
   "execution_count": null,
   "id": "fe088554-d352-4994-84e5-d195ebc22104",
   "metadata": {},
   "outputs": [],
   "source": []
  }
 ],
 "metadata": {
  "kernelspec": {
   "display_name": "Python 3",
   "language": "python",
   "name": "python3"
  },
  "language_info": {
   "codemirror_mode": {
    "name": "ipython",
    "version": 3
   },
   "file_extension": ".py",
   "mimetype": "text/x-python",
   "name": "python",
   "nbconvert_exporter": "python",
   "pygments_lexer": "ipython3",
   "version": "3.11.0"
  }
 },
 "nbformat": 4,
 "nbformat_minor": 5
}
