{
 "cells": [
  {
   "cell_type": "code",
   "execution_count": 3,
   "id": "28bbe701-5c46-4bee-aeac-4db80bd9149e",
   "metadata": {},
   "outputs": [
    {
     "name": "stdout",
     "output_type": "stream",
     "text": [
      "hello\n"
     ]
    }
   ],
   "source": [
    "print(\"hello\")"
   ]
  },
  {
   "cell_type": "code",
   "execution_count": 8,
   "id": "311b54b3-2d57-4deb-9f30-e027c244e27a",
   "metadata": {},
   "outputs": [],
   "source": [
    "name = 'Gero'"
   ]
  },
  {
   "cell_type": "code",
   "execution_count": 9,
   "id": "55a49368-8356-41ad-9740-232fe3d3216a",
   "metadata": {},
   "outputs": [
    {
     "data": {
      "text/plain": [
       "'Gero'"
      ]
     },
     "execution_count": 9,
     "metadata": {},
     "output_type": "execute_result"
    }
   ],
   "source": [
    "name"
   ]
  },
  {
   "cell_type": "code",
   "execution_count": 11,
   "id": "225777a9",
   "metadata": {},
   "outputs": [],
   "source": [
    "last_name = 'Zayas'\n",
    "full_name = name, last_name"
   ]
  },
  {
   "cell_type": "code",
   "execution_count": null,
   "id": "8c8a6801",
   "metadata": {},
   "outputs": [],
   "source": []
  },
  {
   "cell_type": "code",
   "execution_count": null,
   "id": "a18ad848",
   "metadata": {},
   "outputs": [],
   "source": []
  }
 ],
 "metadata": {
  "kernelspec": {
   "display_name": "Python 3",
   "language": "python",
   "name": "python3"
  },
  "language_info": {
   "codemirror_mode": {
    "name": "ipython",
    "version": 3
   },
   "file_extension": ".py",
   "mimetype": "text/x-python",
   "name": "python",
   "nbconvert_exporter": "python",
   "pygments_lexer": "ipython3",
   "version": "3.11.0"
  }
 },
 "nbformat": 4,
 "nbformat_minor": 5
}
