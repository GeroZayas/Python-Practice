{
 "cells": [
  {
   "cell_type": "code",
   "execution_count": 28,
   "id": "dc2b261c",
   "metadata": {},
   "outputs": [],
   "source": [
    "import difflib"
   ]
  },
  {
   "cell_type": "code",
   "execution_count": 32,
   "id": "3fb8caeb",
   "metadata": {},
   "outputs": [],
   "source": [
    "text1 = \"I am a Python Expert\"\n",
    "text2 = \"I am a Django Expert\""
   ]
  },
  {
   "cell_type": "code",
   "execution_count": 44,
   "id": "b63c92e0",
   "metadata": {},
   "outputs": [
    {
     "name": "stdout",
     "output_type": "stream",
     "text": [
      "I am a Python Expert\n",
      "I am a Django Expert\n"
     ]
    }
   ],
   "source": [
    "print(text1)\n",
    "print(text2)"
   ]
  },
  {
   "cell_type": "code",
   "execution_count": 46,
   "id": "a018e7a6",
   "metadata": {},
   "outputs": [
    {
     "data": {
      "text/plain": [
       "['*** \\n',\n",
       " '--- \\n',\n",
       " '***************\\n',\n",
       " '*** 5,16 ****\\n',\n",
       " '   ',\n",
       " '  a',\n",
       " '   ',\n",
       " '! P',\n",
       " '! y',\n",
       " '! t',\n",
       " '! h',\n",
       " '  o',\n",
       " '- n',\n",
       " '   ',\n",
       " '  E',\n",
       " '  x',\n",
       " '--- 5,16 ----\\n',\n",
       " '   ',\n",
       " '  a',\n",
       " '   ',\n",
       " '! D',\n",
       " '! j',\n",
       " '! a',\n",
       " '! n',\n",
       " '! g',\n",
       " '  o',\n",
       " '   ',\n",
       " '  E',\n",
       " '  x']"
      ]
     },
     "execution_count": 46,
     "metadata": {},
     "output_type": "execute_result"
    }
   ],
   "source": [
    "\"\".join(difflib.context_diff(text1, text2))"
   ]
  }
 ],
 "metadata": {
  "kernelspec": {
   "display_name": "Python 3",
   "language": "python",
   "name": "python3"
  },
  "language_info": {
   "codemirror_mode": {
    "name": "ipython",
    "version": 3
   },
   "file_extension": ".py",
   "mimetype": "text/x-python",
   "name": "python",
   "nbconvert_exporter": "python",
   "pygments_lexer": "ipython3",
   "version": "3.11.0"
  }
 },
 "nbformat": 4,
 "nbformat_minor": 5
}
