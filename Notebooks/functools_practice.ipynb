{
 "cells": [
  {
   "cell_type": "code",
   "execution_count": 1,
   "id": "30a90238-a685-496d-a5da-93c8a195b03e",
   "metadata": {},
   "outputs": [],
   "source": [
    "import functools"
   ]
  },
  {
   "cell_type": "code",
   "execution_count": 2,
   "id": "ea524403-6a40-4ad8-8609-da739e9d827a",
   "metadata": {
    "collapsed": true,
    "jupyter": {
     "outputs_hidden": true
    }
   },
   "outputs": [
    {
     "data": {
      "text/plain": [
       "['GenericAlias',\n",
       " 'RLock',\n",
       " 'WRAPPER_ASSIGNMENTS',\n",
       " 'WRAPPER_UPDATES',\n",
       " '_CacheInfo',\n",
       " '_HashedSeq',\n",
       " '_NOT_FOUND',\n",
       " '__all__',\n",
       " '__builtins__',\n",
       " '__cached__',\n",
       " '__doc__',\n",
       " '__file__',\n",
       " '__loader__',\n",
       " '__name__',\n",
       " '__package__',\n",
       " '__spec__',\n",
       " '_c3_merge',\n",
       " '_c3_mro',\n",
       " '_compose_mro',\n",
       " '_convert',\n",
       " '_find_impl',\n",
       " '_ge_from_gt',\n",
       " '_ge_from_le',\n",
       " '_ge_from_lt',\n",
       " '_gt_from_ge',\n",
       " '_gt_from_le',\n",
       " '_gt_from_lt',\n",
       " '_initial_missing',\n",
       " '_le_from_ge',\n",
       " '_le_from_gt',\n",
       " '_le_from_lt',\n",
       " '_lru_cache_wrapper',\n",
       " '_lt_from_ge',\n",
       " '_lt_from_gt',\n",
       " '_lt_from_le',\n",
       " '_make_key',\n",
       " '_unwrap_partial',\n",
       " 'cache',\n",
       " 'cached_property',\n",
       " 'cmp_to_key',\n",
       " 'get_cache_token',\n",
       " 'lru_cache',\n",
       " 'namedtuple',\n",
       " 'partial',\n",
       " 'partialmethod',\n",
       " 'recursive_repr',\n",
       " 'reduce',\n",
       " 'singledispatch',\n",
       " 'singledispatchmethod',\n",
       " 'total_ordering',\n",
       " 'update_wrapper',\n",
       " 'wraps']"
      ]
     },
     "execution_count": 2,
     "metadata": {},
     "output_type": "execute_result"
    }
   ],
   "source": [
    "dir(functools)"
   ]
  },
  {
   "cell_type": "code",
   "execution_count": 27,
   "id": "874c9ed8-19be-4a83-a88e-b61610fdc03a",
   "metadata": {},
   "outputs": [],
   "source": [
    "class Student:\n",
    "    def __init__(self, student_id):\n",
    "        self._student_id = student_id\n",
    "    \n",
    "    @property\n",
    "    def student_id(self):\n",
    "        return self._student_id"
   ]
  },
  {
   "cell_type": "code",
   "execution_count": 25,
   "id": "37b19d61-f0ff-41d6-ba4c-0f6ee8de7b22",
   "metadata": {},
   "outputs": [],
   "source": [
    "gero = Student(student_id=32)"
   ]
  },
  {
   "cell_type": "code",
   "execution_count": 26,
   "id": "1b44daa3-2d87-42fc-aeae-9ac63ce28ea5",
   "metadata": {},
   "outputs": [
    {
     "data": {
      "text/plain": [
       "32"
      ]
     },
     "execution_count": 26,
     "metadata": {},
     "output_type": "execute_result"
    }
   ],
   "source": [
    "gero.student_id"
   ]
  },
  {
   "cell_type": "markdown",
   "id": "09b8d65c-4634-44d9-9141-8be92601e975",
   "metadata": {},
   "source": [
    "# Using Single Dispatch"
   ]
  },
  {
   "cell_type": "code",
   "execution_count": 75,
   "id": "137f9c2a-cee1-4137-b496-b6f89600f7c8",
   "metadata": {},
   "outputs": [],
   "source": [
    "singledispatch = functools.singledispatch"
   ]
  },
  {
   "cell_type": "code",
   "execution_count": 105,
   "id": "e06921e7-85cf-4a79-a65b-6f1bf9d947dc",
   "metadata": {},
   "outputs": [],
   "source": [
    "# define a generic function\n",
    "@singledispatch\n",
    "def hello(arg):\n",
    "    print(\"I don't even know you, bro. -> \", arg)"
   ]
  },
  {
   "cell_type": "markdown",
   "id": "f59086d5-784a-4f78-89c9-bfa773fd1bf6",
   "metadata": {},
   "source": [
    "#### It will return differently according to the type of arg"
   ]
  },
  {
   "cell_type": "code",
   "execution_count": 106,
   "id": "38f8fc9e-8971-4d93-ae09-28a0aa03de84",
   "metadata": {},
   "outputs": [],
   "source": [
    "@hello.register\n",
    "def _(arg: int):\n",
    "    print(f\"This is an integer, man {arg}\")"
   ]
  },
  {
   "cell_type": "code",
   "execution_count": 107,
   "id": "f41f6356-b764-47e7-9cfd-c7940c77216f",
   "metadata": {},
   "outputs": [],
   "source": [
    "@hello.register\n",
    "def _(arg: float):\n",
    "    print(f\"This is a float, man {arg}\")"
   ]
  },
  {
   "cell_type": "code",
   "execution_count": 108,
   "id": "18ab4ead-552b-42a5-8959-ccde8ecc3ad6",
   "metadata": {},
   "outputs": [
    {
     "name": "stdout",
     "output_type": "stream",
     "text": [
      "This is an integer, man 34\n"
     ]
    }
   ],
   "source": [
    "hello(34)"
   ]
  },
  {
   "cell_type": "code",
   "execution_count": 109,
   "id": "76f92f58-8585-4830-b04c-d3aad2aea3a8",
   "metadata": {},
   "outputs": [
    {
     "name": "stdout",
     "output_type": "stream",
     "text": [
      "This is a float, man 7.4\n"
     ]
    }
   ],
   "source": [
    "hello(7.4)"
   ]
  },
  {
   "cell_type": "code",
   "execution_count": 110,
   "id": "9ca00efe-e3b9-47f5-b8cc-1a0b9468ef40",
   "metadata": {},
   "outputs": [],
   "source": [
    "class Programmer:\n",
    "    def __init__(self, name: str, language: str):\n",
    "        self.name = name\n",
    "        self.language = language"
   ]
  },
  {
   "cell_type": "code",
   "execution_count": 111,
   "id": "0ce97cf7-b1c1-47c5-8066-5644952de52c",
   "metadata": {},
   "outputs": [],
   "source": [
    "gero = Programmer('Gero', \"Python\")"
   ]
  },
  {
   "cell_type": "code",
   "execution_count": 112,
   "id": "b06abdf1-ae2e-4c97-8159-fb79aeb2d7cc",
   "metadata": {},
   "outputs": [
    {
     "data": {
      "text/plain": [
       "('Python', 'Gero')"
      ]
     },
     "execution_count": 112,
     "metadata": {},
     "output_type": "execute_result"
    }
   ],
   "source": [
    "gero.language, gero.name"
   ]
  },
  {
   "cell_type": "code",
   "execution_count": 113,
   "id": "87ad1382-1281-4c8b-be0e-dcfc8a31ffc5",
   "metadata": {},
   "outputs": [],
   "source": [
    "@hello.register\n",
    "def _(arg: Programmer):\n",
    "    print(\"Bro, you're a fricking programmer! That's so cool! :)\")"
   ]
  },
  {
   "cell_type": "code",
   "execution_count": 114,
   "id": "ca792342-c8f6-406e-b7d7-e337a9496ade",
   "metadata": {},
   "outputs": [
    {
     "name": "stdout",
     "output_type": "stream",
     "text": [
      "I don't even know you, bro. ->  Matias\n"
     ]
    }
   ],
   "source": [
    "hello(\"Matias\")"
   ]
  },
  {
   "cell_type": "code",
   "execution_count": 140,
   "id": "25f2ee68-205b-474f-9788-08da9334400a",
   "metadata": {},
   "outputs": [
    {
     "name": "stdout",
     "output_type": "stream",
     "text": [
      "Bro, you're a fricking programmer! That's so cool! :)\n"
     ]
    }
   ],
   "source": [
    "hello(gero)"
   ]
  },
  {
   "cell_type": "code",
   "execution_count": null,
   "id": "7de6fb80-58d2-4db1-b409-2c7376c6f8b5",
   "metadata": {},
   "outputs": [],
   "source": []
  }
 ],
 "metadata": {
  "kernelspec": {
   "display_name": "Python 3 (ipykernel)",
   "language": "python",
   "name": "python3"
  },
  "language_info": {
   "codemirror_mode": {
    "name": "ipython",
    "version": 3
   },
   "file_extension": ".py",
   "mimetype": "text/x-python",
   "name": "python",
   "nbconvert_exporter": "python",
   "pygments_lexer": "ipython3",
   "version": "3.12.2"
  }
 },
 "nbformat": 4,
 "nbformat_minor": 5
}
