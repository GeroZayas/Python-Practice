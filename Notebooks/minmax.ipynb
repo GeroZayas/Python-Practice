{
 "cells": [
  {
   "cell_type": "code",
   "execution_count": 2,
   "id": "a53adfb1-0719-4f64-bdbf-885a91ca599e",
   "metadata": {},
   "outputs": [],
   "source": [
    "# cannot use min() nor max()\n",
    "def min_max(data: list[int])->tuple:\n",
    "    # return tuple of len 2\n",
    "    sorted_data = sorted(data)\n",
    "    return sorted_data[0], sorted_data[-1]"
   ]
  },
  {
   "cell_type": "code",
   "execution_count": 3,
   "id": "49dc9a9b-e758-49bd-a17e-44ee2685282c",
   "metadata": {},
   "outputs": [
    {
     "data": {
      "text/plain": [
       "(3, 8)"
      ]
     },
     "execution_count": 3,
     "metadata": {},
     "output_type": "execute_result"
    }
   ],
   "source": [
    "min_max([3,4,5,7,8])"
   ]
  },
  {
   "cell_type": "code",
   "execution_count": 4,
   "id": "4b46d36a-f2c9-4773-a68c-8b6a8c4c527f",
   "metadata": {},
   "outputs": [],
   "source": [
    "from random import randint"
   ]
  },
  {
   "cell_type": "code",
   "execution_count": 10,
   "id": "22f327e5-8cbf-423d-8c76-34529e6637b5",
   "metadata": {},
   "outputs": [],
   "source": [
    "random_numbers = [randint(1,99) for _ in range(10)]"
   ]
  },
  {
   "cell_type": "code",
   "execution_count": 11,
   "id": "e5b0d216-abac-4e29-9c5f-8fb7b12b039e",
   "metadata": {},
   "outputs": [
    {
     "data": {
      "text/plain": [
       "[35, 25, 89, 77, 23, 15, 9, 68, 26, 25]"
      ]
     },
     "execution_count": 11,
     "metadata": {},
     "output_type": "execute_result"
    }
   ],
   "source": [
    "random_numbers"
   ]
  },
  {
   "cell_type": "code",
   "execution_count": 12,
   "id": "fda6d982-f8d2-487c-8a50-f6ad7696dc72",
   "metadata": {},
   "outputs": [
    {
     "data": {
      "text/plain": [
       "(9, 89)"
      ]
     },
     "execution_count": 12,
     "metadata": {},
     "output_type": "execute_result"
    }
   ],
   "source": [
    "min_max(random_numbers)"
   ]
  },
  {
   "cell_type": "code",
   "execution_count": 13,
   "id": "1646809a-02f5-45a6-90f0-2ad635d13e79",
   "metadata": {},
   "outputs": [],
   "source": [
    "def min_max_2(data: list[int])->tuple:\n",
    "    smallest, largest = data[0], data[0]\n",
    "    for n in data:\n",
    "        if n < smallest:\n",
    "            smallest = n\n",
    "        if n > largest:\n",
    "            largest = n\n",
    "    return smallest, largest"
   ]
  },
  {
   "cell_type": "code",
   "execution_count": 14,
   "id": "66f205ab-ab22-48e0-8efa-2df804d32b17",
   "metadata": {},
   "outputs": [
    {
     "data": {
      "text/plain": [
       "(9, 89)"
      ]
     },
     "execution_count": 14,
     "metadata": {},
     "output_type": "execute_result"
    }
   ],
   "source": [
    "min_max_2(random_numbers)"
   ]
  },
  {
   "cell_type": "code",
   "execution_count": 15,
   "id": "5e6afc13-85ef-4cec-89a1-0d1fd27e640e",
   "metadata": {},
   "outputs": [],
   "source": [
    "# input: int n \n",
    "# output: sum of squares of all positive int smaller than n\n",
    "def sum_of_squares(n:int)->int:\n",
    "    return sum(x**2 for x in range(n))"
   ]
  },
  {
   "cell_type": "code",
   "execution_count": 17,
   "id": "ec7c958a-1be2-462e-b42a-8e0af0337237",
   "metadata": {},
   "outputs": [
    {
     "data": {
      "text/plain": [
       "30"
      ]
     },
     "execution_count": 17,
     "metadata": {},
     "output_type": "execute_result"
    }
   ],
   "source": [
    "# 1**2 = 1 + 2 **2 = 4 + 3 ** 2 = 9 + 4 ** 2 = 16 \n",
    "# 1 + 4 + 9 + 16 = 30\n",
    "sum_of_squares(5)"
   ]
  },
  {
   "cell_type": "code",
   "execution_count": 18,
   "id": "b3a7aaa0-f2db-4f2f-a011-1beb238f3843",
   "metadata": {},
   "outputs": [],
   "source": [
    "def sum_of_squares_2(n:int)->int:\n",
    "    result = 0\n",
    "    for num in range(n):\n",
    "        result += num ** 2\n",
    "    return result"
   ]
  },
  {
   "cell_type": "code",
   "execution_count": 19,
   "id": "e9dc973c-f9c8-4690-990e-029d2d4f2f1f",
   "metadata": {},
   "outputs": [
    {
     "data": {
      "text/plain": [
       "30"
      ]
     },
     "execution_count": 19,
     "metadata": {},
     "output_type": "execute_result"
    }
   ],
   "source": [
    "sum_of_squares_2(5)"
   ]
  },
  {
   "cell_type": "code",
   "execution_count": null,
   "id": "cfcba6c9-2a63-4aeb-9ab2-bd49cf2a3ef4",
   "metadata": {},
   "outputs": [],
   "source": []
  }
 ],
 "metadata": {
  "kernelspec": {
   "display_name": "Python 3 (ipykernel)",
   "language": "python",
   "name": "python3"
  },
  "language_info": {
   "codemirror_mode": {
    "name": "ipython",
    "version": 3
   },
   "file_extension": ".py",
   "mimetype": "text/x-python",
   "name": "python",
   "nbconvert_exporter": "python",
   "pygments_lexer": "ipython3",
   "version": "3.11.4"
  }
 },
 "nbformat": 4,
 "nbformat_minor": 5
}
