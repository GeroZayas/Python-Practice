{
 "cells": [
  {
   "cell_type": "code",
   "execution_count": 55,
   "id": "eb0da599-fafe-417e-b1b6-de4c1ae9eed4",
   "metadata": {},
   "outputs": [],
   "source": [
    "def median(arr):\n",
    "    arr = sorted(arr)\n",
    "    if len(arr) % 2 == 0:\n",
    "        return ((len(arr) // 2) + ((len(arr) // 2) + 1)) / 2\n",
    "    return arr[len(arr) // 2]"
   ]
  },
  {
   "cell_type": "code",
   "execution_count": 51,
   "id": "a6094035-d4c0-4a31-9b8c-b8b8489ed573",
   "metadata": {},
   "outputs": [],
   "source": [
    "arr1 = [5, 3, 8, 6, 2, 4, 6, 1]"
   ]
  },
  {
   "cell_type": "code",
   "execution_count": 52,
   "id": "b0c81d86-88c4-413e-9ec2-e3b85edf4ee8",
   "metadata": {},
   "outputs": [
    {
     "data": {
      "text/plain": [
       "4.5"
      ]
     },
     "execution_count": 52,
     "metadata": {},
     "output_type": "execute_result"
    }
   ],
   "source": [
    "median(arr1)"
   ]
  },
  {
   "cell_type": "code",
   "execution_count": 53,
   "id": "d404a914-5a48-49bc-bfa6-1c02a34debe5",
   "metadata": {},
   "outputs": [
    {
     "data": {
      "text/plain": [
       "[1, 2, 3, 4, 5, 6, 6, 8]"
      ]
     },
     "execution_count": 53,
     "metadata": {},
     "output_type": "execute_result"
    }
   ],
   "source": [
    "sorted_arr1 = sorted(arr1)\n",
    "sorted_arr1"
   ]
  },
  {
   "cell_type": "code",
   "execution_count": 54,
   "id": "3fabeb3d-ec54-4eeb-a8ae-4dac41d927b3",
   "metadata": {},
   "outputs": [
    {
     "data": {
      "text/plain": [
       "5"
      ]
     },
     "execution_count": 54,
     "metadata": {},
     "output_type": "execute_result"
    }
   ],
   "source": [
    "sorted_arr1[len(arr1) // 2]"
   ]
  }
 ],
 "metadata": {
  "kernelspec": {
   "display_name": "Python 3",
   "language": "python",
   "name": "python3"
  },
  "language_info": {
   "codemirror_mode": {
    "name": "ipython",
    "version": 3
   },
   "file_extension": ".py",
   "mimetype": "text/x-python",
   "name": "python",
   "nbconvert_exporter": "python",
   "pygments_lexer": "ipython3",
   "version": "3.11.0"
  }
 },
 "nbformat": 4,
 "nbformat_minor": 5
}
