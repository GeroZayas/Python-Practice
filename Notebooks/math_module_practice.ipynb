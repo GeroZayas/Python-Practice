{
 "cells": [
  {
   "cell_type": "code",
   "execution_count": 25,
   "id": "c1d33e30-d7f6-4296-a6d4-9319e04d6089",
   "metadata": {},
   "outputs": [],
   "source": [
    "import math"
   ]
  },
  {
   "cell_type": "code",
   "execution_count": 26,
   "id": "b0a29a3c-5653-4fcb-87a3-b39ec6cba0fc",
   "metadata": {},
   "outputs": [
    {
     "data": {
      "text/plain": [
       "3"
      ]
     },
     "execution_count": 26,
     "metadata": {},
     "output_type": "execute_result"
    }
   ],
   "source": [
    "number = 2.3\n",
    "math.ceil(number)"
   ]
  },
  {
   "cell_type": "code",
   "execution_count": 27,
   "id": "363ae663-f4ee-4bab-b7b7-6175d5b59c8b",
   "metadata": {},
   "outputs": [
    {
     "data": {
      "text/plain": [
       "13983816"
      ]
     },
     "execution_count": 27,
     "metadata": {},
     "output_type": "execute_result"
    }
   ],
   "source": [
    "math.comb(49, 6)"
   ]
  },
  {
   "cell_type": "code",
   "execution_count": 28,
   "id": "6bfc56fa-f8f6-44de-b474-51925b7f8f26",
   "metadata": {},
   "outputs": [
    {
     "data": {
      "text/plain": [
       "6"
      ]
     },
     "execution_count": 28,
     "metadata": {},
     "output_type": "execute_result"
    }
   ],
   "source": [
    "math.gcd(12, 18)"
   ]
  },
  {
   "cell_type": "code",
   "execution_count": 30,
   "id": "27e9c035-58a7-4447-bcd6-cc063ec24283",
   "metadata": {},
   "outputs": [
    {
     "data": {
      "text/plain": [
       "1"
      ]
     },
     "execution_count": 30,
     "metadata": {},
     "output_type": "execute_result"
    }
   ],
   "source": [
    "math.gcd(17, 31)  # primes"
   ]
  },
  {
   "cell_type": "code",
   "execution_count": null,
   "id": "ad9a9a9b-fc1e-4157-9faa-2025d4aa56bf",
   "metadata": {},
   "outputs": [],
   "source": []
  }
 ],
 "metadata": {
  "kernelspec": {
   "display_name": "Python 3 (ipykernel)",
   "language": "python",
   "name": "python3"
  },
  "language_info": {
   "codemirror_mode": {
    "name": "ipython",
    "version": 3
   },
   "file_extension": ".py",
   "mimetype": "text/x-python",
   "name": "python",
   "nbconvert_exporter": "python",
   "pygments_lexer": "ipython3",
   "version": "3.11.4"
  }
 },
 "nbformat": 4,
 "nbformat_minor": 5
}
