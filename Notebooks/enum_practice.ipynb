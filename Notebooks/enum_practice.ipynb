{
 "cells": [
  {
   "cell_type": "code",
   "execution_count": 4,
   "id": "e1ad6279-9804-4984-8673-4e2fbd4e1bb6",
   "metadata": {},
   "outputs": [],
   "source": [
    "from enum import Enum"
   ]
  },
  {
   "cell_type": "code",
   "execution_count": 5,
   "id": "40b54e48-9dcd-4707-9705-8133e49bd6dc",
   "metadata": {
    "collapsed": true,
    "jupyter": {
     "outputs_hidden": true
    }
   },
   "outputs": [
    {
     "data": {
      "text/plain": [
       "['__class__',\n",
       " '__contains__',\n",
       " '__doc__',\n",
       " '__getitem__',\n",
       " '__init_subclass__',\n",
       " '__iter__',\n",
       " '__len__',\n",
       " '__members__',\n",
       " '__module__',\n",
       " '__name__',\n",
       " '__new__',\n",
       " '__qualname__']"
      ]
     },
     "execution_count": 5,
     "metadata": {},
     "output_type": "execute_result"
    }
   ],
   "source": [
    "dir(Enum)"
   ]
  },
  {
   "cell_type": "code",
   "execution_count": 6,
   "id": "f9c133b8-3695-4661-8d77-bd532c274cff",
   "metadata": {},
   "outputs": [],
   "source": [
    "class Family(Enum):\n",
    "    FATHER = 1\n",
    "    MOTHER = 2\n",
    "    SON = 3\n",
    "    DAUGHTER = 4"
   ]
  },
  {
   "cell_type": "code",
   "execution_count": 9,
   "id": "07b7007f-11f8-4eff-a815-4e530d4acabd",
   "metadata": {},
   "outputs": [],
   "source": [
    "john = Family.FATHER"
   ]
  },
  {
   "cell_type": "code",
   "execution_count": 10,
   "id": "1a739b22-13e7-418f-9fc3-8799f48c7233",
   "metadata": {},
   "outputs": [
    {
     "data": {
      "text/plain": [
       "<Family.FATHER: 1>"
      ]
     },
     "execution_count": 10,
     "metadata": {},
     "output_type": "execute_result"
    }
   ],
   "source": [
    "john"
   ]
  },
  {
   "cell_type": "code",
   "execution_count": null,
   "id": "1f215a68-2356-4609-ac20-dd02abc11690",
   "metadata": {},
   "outputs": [],
   "source": []
  }
 ],
 "metadata": {
  "kernelspec": {
   "display_name": "Python 3 (ipykernel)",
   "language": "python",
   "name": "python3"
  },
  "language_info": {
   "codemirror_mode": {
    "name": "ipython",
    "version": 3
   },
   "file_extension": ".py",
   "mimetype": "text/x-python",
   "name": "python",
   "nbconvert_exporter": "python",
   "pygments_lexer": "ipython3",
   "version": "3.11.4"
  }
 },
 "nbformat": 4,
 "nbformat_minor": 5
}
