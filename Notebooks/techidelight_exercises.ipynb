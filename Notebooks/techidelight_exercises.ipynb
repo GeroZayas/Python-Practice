{
 "cells": [
  {
   "cell_type": "markdown",
   "id": "cc9206ea-a511-43cb-bf7f-0ba43a81147a",
   "metadata": {
    "collapsed": true,
    "jupyter": {
     "outputs_hidden": true
    }
   },
   "source": [
    "'''\n",
    "\n",
    "Given an unsorted integer array, find a pair with the given sum in it.\n",
    "\n",
    "• Each input can have multiple solutions. The output should match with either one of them.\n",
    "\n",
    "Input : nums[] = [8, 7, 2, 5, 3, 1], target = 10\n",
    "Output: (8, 2) or (7, 3)\n",
    "\n",
    "• The solution can return pair in any order. If no pair with the given sum exists, the solution should return an empty tuple.\n",
    "\n",
    "Input : nums[] = [5, 2, 6, 8, 1, 9], target = 12\n",
    "Output: ()\n",
    "\n",
    "'''"
   ]
  },
  {
   "cell_type": "code",
   "execution_count": 10,
   "id": "1d1504f6-6b40-4a56-8fc1-a5e3a83e2b2c",
   "metadata": {},
   "outputs": [],
   "source": [
    "from typing import List, Tuple\n",
    "def findPair(nums: List[int], target: int) -> Tuple[int]:\n",
    "    for i in nums:\n",
    "        for j in  \n",
    "\treturn "
   ]
  },
  {
   "cell_type": "code",
   "execution_count": null,
   "id": "d6a228c0-e4fd-4067-ac9e-d48ecbed0dba",
   "metadata": {},
   "outputs": [],
   "source": []
  },
  {
   "cell_type": "code",
   "execution_count": null,
   "id": "79261098-62de-46f8-b17b-af89ee074f8b",
   "metadata": {},
   "outputs": [],
   "source": []
  }
 ],
 "metadata": {
  "kernelspec": {
   "display_name": "Python 3 (ipykernel)",
   "language": "python",
   "name": "python3"
  },
  "language_info": {
   "codemirror_mode": {
    "name": "ipython",
    "version": 3
   },
   "file_extension": ".py",
   "mimetype": "text/x-python",
   "name": "python",
   "nbconvert_exporter": "python",
   "pygments_lexer": "ipython3",
   "version": "3.11.4"
  }
 },
 "nbformat": 4,
 "nbformat_minor": 5
}
