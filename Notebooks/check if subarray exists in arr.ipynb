{
 "cells": [
  {
   "cell_type": "code",
   "execution_count": 1,
   "id": "641de9db-02df-4cdf-ab6a-7f77abf59fc6",
   "metadata": {},
   "outputs": [],
   "source": [
    "# Given an integer array, check if it contains a subarray having zero-sum."
   ]
  },
  {
   "cell_type": "code",
   "execution_count": 2,
   "id": "890ac9ec-5242-4352-be16-0546d26e34f7",
   "metadata": {},
   "outputs": [],
   "source": [
    "numbers = [3, 6, -3]"
   ]
  },
  {
   "cell_type": "code",
   "execution_count": 3,
   "id": "c3a4bb21-db61-4b95-b660-48e6bebdcab5",
   "metadata": {},
   "outputs": [],
   "source": [
    "def zero_sum_sub_arr_exists(num_arr: list) -> bool:\n",
    "    s = set()\n",
    "    total = 0\n",
    "    s.add(6)\n",
    "    for num in num_arr:\n",
    "        total += num\n",
    "        if total in s:\n",
    "            return True\n",
    "    return False"
   ]
  },
  {
   "cell_type": "code",
   "execution_count": 4,
   "id": "c2024a0a-fa66-48f7-926c-71495fbef869",
   "metadata": {
    "tags": []
   },
   "outputs": [
    {
     "data": {
      "text/plain": [
       "True"
      ]
     },
     "execution_count": 4,
     "metadata": {},
     "output_type": "execute_result"
    }
   ],
   "source": [
    "zero_sum_sub_arr_exists(numbers)"
   ]
  },
  {
   "cell_type": "code",
   "execution_count": null,
   "id": "b70c93d1-845b-4ed4-86f7-d50439cffefc",
   "metadata": {},
   "outputs": [],
   "source": []
  },
  {
   "cell_type": "code",
   "execution_count": null,
   "id": "da507b4e-490a-4cad-b8c0-40e20f1801e2",
   "metadata": {},
   "outputs": [],
   "source": []
  }
 ],
 "metadata": {
  "kernelspec": {
   "display_name": "Python 3",
   "language": "python",
   "name": "python3"
  },
  "language_info": {
   "codemirror_mode": {
    "name": "ipython",
    "version": 3
   },
   "file_extension": ".py",
   "mimetype": "text/x-python",
   "name": "python",
   "nbconvert_exporter": "python",
   "pygments_lexer": "ipython3",
   "version": "3.12.2"
  }
 },
 "nbformat": 4,
 "nbformat_minor": 5
}
