{
 "cells": [
  {
   "cell_type": "markdown",
   "id": "450c0490-4a4f-4fa1-82af-ef07f7856a20",
   "metadata": {},
   "source": [
    "# Hello"
   ]
  },
  {
   "cell_type": "markdown",
   "id": "ec8c3623-5e5e-48e7-aa5e-881fcdf5b39f",
   "metadata": {},
   "source": [
    "## This is one"
   ]
  },
  {
   "cell_type": "code",
   "execution_count": 24,
   "id": "294250b5-ce0a-4b47-a11c-bef080d52e2a",
   "metadata": {},
   "outputs": [],
   "source": [
    "def some_code():\n",
    "    return f\"This is return of: {some_code.__str__()}\""
   ]
  },
  {
   "cell_type": "code",
   "execution_count": 25,
   "id": "634a0cb9-9683-417d-aa1d-bd976b9ac832",
   "metadata": {},
   "outputs": [
    {
     "data": {
      "text/plain": [
       "'This is return of: <function some_code at 0x7ff4ca7d6480>'"
      ]
     },
     "execution_count": 25,
     "metadata": {},
     "output_type": "execute_result"
    }
   ],
   "source": [
    "some_code()"
   ]
  },
  {
   "cell_type": "markdown",
   "id": "d0d91516-5630-47ac-8be3-3f89c012cd55",
   "metadata": {},
   "source": [
    "# Second Part"
   ]
  },
  {
   "cell_type": "markdown",
   "id": "922ddc14-2f56-4818-a7c6-ffdbc345e0d2",
   "metadata": {},
   "source": [
    "## Something here"
   ]
  },
  {
   "cell_type": "markdown",
   "id": "8ea95e4b-e012-455f-b44f-70582dd935f8",
   "metadata": {},
   "source": [
    "### Something else!"
   ]
  },
  {
   "cell_type": "code",
   "execution_count": null,
   "id": "098aaeeb-132f-455f-8275-61240d517280",
   "metadata": {},
   "outputs": [],
   "source": []
  }
 ],
 "metadata": {
  "kernelspec": {
   "display_name": "Python 3 (ipykernel)",
   "language": "python",
   "name": "python3"
  },
  "language_info": {
   "codemirror_mode": {
    "name": "ipython",
    "version": 3
   },
   "file_extension": ".py",
   "mimetype": "text/x-python",
   "name": "python",
   "nbconvert_exporter": "python",
   "pygments_lexer": "ipython3",
   "version": "3.11.2"
  }
 },
 "nbformat": 4,
 "nbformat_minor": 5
}
