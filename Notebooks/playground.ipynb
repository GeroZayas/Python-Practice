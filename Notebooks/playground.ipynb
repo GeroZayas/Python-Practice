{
 "cells": [
  {
   "cell_type": "code",
   "execution_count": 1,
   "id": "d67f246a-6998-4d3e-8030-ed2d414d3c56",
   "metadata": {},
   "outputs": [],
   "source": [
    "nd = numbers_disordered = [ 4, 1, 6, 43, 16, 88, 2, 100]"
   ]
  },
  {
   "cell_type": "code",
   "execution_count": 18,
   "id": "09c3edd2-dbd8-4a64-a801-c7f5e6622079",
   "metadata": {},
   "outputs": [],
   "source": [
    "# Insertion Sort Algorithm\n",
    "def order_nums(dis_nums: list) -> list:\n",
    "    if len(dis_nums) <= 1:\n",
    "        return dis_nums\n",
    "    ordered_nums = []\n",
    "    \n",
    "    for num in dis_nums:\n",
    "        for i in range(len(ordered_nums)):\n",
    "            if num < ordered_nums[i]:\n",
    "                ordered_nums.insert(i, num)\n",
    "                break\n",
    "        else:\n",
    "            ordered_nums.append(num)\n",
    "    return ordered_nums"
   ]
  },
  {
   "cell_type": "code",
   "execution_count": 19,
   "id": "fa24c6cd-a550-4f4f-ba83-d48bc90c1088",
   "metadata": {},
   "outputs": [
    {
     "data": {
      "text/plain": [
       "[1, 2, 4, 6, 16, 43, 88, 100]"
      ]
     },
     "execution_count": 19,
     "metadata": {},
     "output_type": "execute_result"
    }
   ],
   "source": [
    "order_nums(nd)"
   ]
  },
  {
   "cell_type": "code",
   "execution_count": null,
   "id": "a2c34497-5a3e-4fb6-a76d-e3164d4c295e",
   "metadata": {},
   "outputs": [],
   "source": []
  },
  {
   "cell_type": "code",
   "execution_count": 6,
   "id": "4101448e-edcb-48e5-b785-2c44c49ddcf8",
   "metadata": {},
   "outputs": [],
   "source": [
    "# QuickSort Algorithm\n",
    "def quicksort(dis_nums:list)-> list:\n",
    "    if len(dis_nums) <= 1:\n",
    "        return dis_nums\n",
    "    pivot = dis_nums[0]\n",
    "    left = []\n",
    "    right = []\n",
    "    for num in dis_nums[1:]:\n",
    "        if num < pivot:\n",
    "            left.append(num)\n",
    "        else:\n",
    "            right.append(num)\n",
    "    return quicksort(left) + [pivot] + quicksort(right)"
   ]
  },
  {
   "cell_type": "code",
   "execution_count": 8,
   "id": "6d583a5d-6b5e-4eda-9659-2d7b83737bd8",
   "metadata": {},
   "outputs": [
    {
     "data": {
      "text/plain": [
       "[1, 2, 4, 6, 16, 43, 88, 100]"
      ]
     },
     "execution_count": 8,
     "metadata": {},
     "output_type": "execute_result"
    }
   ],
   "source": [
    "quicksort(nd)"
   ]
  },
  {
   "cell_type": "code",
   "execution_count": 15,
   "id": "709966a7-33c2-4a58-8bda-77e630cac6a2",
   "metadata": {},
   "outputs": [],
   "source": [
    "# QuickSort using list comprehensions\n",
    "def quicksort2(dis_nums:list)->list:\n",
    "    if len(dis_nums) <= 1:\n",
    "        return dis_nums\n",
    "    pivot= dis_nums[0]\n",
    "    left = [x for x in dis_nums[1:] if x < pivot]\n",
    "    right = [x for x in dis_nums[1:] if x >= pivot]\n",
    "    return quicksort2(left) + [pivot] + quicksort2(right)"
   ]
  },
  {
   "cell_type": "code",
   "execution_count": 16,
   "id": "b900d135-90c7-4476-8b93-c787ec22b449",
   "metadata": {},
   "outputs": [
    {
     "data": {
      "text/plain": [
       "[1, 2, 4, 6, 16, 43, 88, 100]"
      ]
     },
     "execution_count": 16,
     "metadata": {},
     "output_type": "execute_result"
    }
   ],
   "source": [
    "quicksort2(nd)"
   ]
  },
  {
   "cell_type": "code",
   "execution_count": null,
   "id": "cbf53c13-e8ad-4db1-90d1-7ca8b51f53f9",
   "metadata": {},
   "outputs": [],
   "source": []
  },
  {
   "cell_type": "code",
   "execution_count": null,
   "id": "331ae47d-0764-4705-8d67-846278b8d967",
   "metadata": {},
   "outputs": [],
   "source": []
  },
  {
   "cell_type": "code",
   "execution_count": null,
   "id": "e85e5abe-e767-4b70-b4f1-b7f1844f0344",
   "metadata": {},
   "outputs": [],
   "source": []
  }
 ],
 "metadata": {
  "kernelspec": {
   "display_name": "Python 3",
   "language": "python",
   "name": "python3"
  },
  "language_info": {
   "codemirror_mode": {
    "name": "ipython",
    "version": 3
   },
   "file_extension": ".py",
   "mimetype": "text/x-python",
   "name": "python",
   "nbconvert_exporter": "python",
   "pygments_lexer": "ipython3",
   "version": "3.11.0"
  }
 },
 "nbformat": 4,
 "nbformat_minor": 5
}
