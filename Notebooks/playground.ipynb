{
 "cells": [
  {
   "cell_type": "code",
   "execution_count": 6,
   "id": "81efcab7-dfc4-4933-a4d5-639246738896",
   "metadata": {},
   "outputs": [],
   "source": [
    "numbers_disordered = [ 4, 1, 6, 43, 16, 88, 2, 100] "
   ]
  }
 ],
 "metadata": {
  "kernelspec": {
   "display_name": "Python 3",
   "language": "python",
   "name": "python3"
  },
  "language_info": {
   "codemirror_mode": {
    "name": "ipython",
    "version": 3
   },
   "file_extension": ".py",
   "mimetype": "text/x-python",
   "name": "python",
   "nbconvert_exporter": "python",
   "pygments_lexer": "ipython3",
   "version": "3.11.0"
  }
 },
 "nbformat": 4,
 "nbformat_minor": 5
}
