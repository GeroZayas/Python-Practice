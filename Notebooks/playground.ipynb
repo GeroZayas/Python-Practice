{
 "cells": [
  {
   "cell_type": "code",
   "execution_count": 4,
   "id": "d79f3524-7151-428f-849a-a801b0f0ac0b",
   "metadata": {},
   "outputs": [],
   "source": [
    "def is_solved(board: list):\n",
    "    for row in board:\n",
    "        if len(set(row)) == 1 and set(row).pop() != 0:\n",
    "            return row[0]\n",
    "    columns = []\n",
    "    for i, row in enumerate(board):\n",
    "        columns.append([row[i] for row in board])\n",
    "    for column in columns:\n",
    "        if len(set(column)) == 1 and set(column).pop() != 0:\n",
    "            return column[0]\n",
    "    zero_counter = 0\n",
    "    for row in board:\n",
    "        if 0 in row:\n",
    "            zero_counter += 1\n",
    "    if zero_counter == 0:\n",
    "        return 0\n",
    "    diagonal_left = [row[i] for i, row in enumerate(board)]\n",
    "    diagonal_right = [row[i] for i, row in enumerate(board)]\n",
    "    return -1"
   ]
  },
  {
   "cell_type": "code",
   "execution_count": 5,
   "id": "7c953efb-e990-440b-b2d9-60adc43fc692",
   "metadata": {},
   "outputs": [],
   "source": [
    "board = [[0, 0, 1],\n",
    "         [0, 1, 2],\n",
    "         [2, 1, 0]]"
   ]
  },
  {
   "cell_type": "code",
   "execution_count": 6,
   "id": "1969091a-8450-4a9e-98cc-59fd911ff253",
   "metadata": {},
   "outputs": [
    {
     "data": {
      "text/plain": [
       "-1"
      ]
     },
     "execution_count": 6,
     "metadata": {},
     "output_type": "execute_result"
    }
   ],
   "source": [
    "is_solved(board)"
   ]
  },
  {
   "cell_type": "code",
   "execution_count": 7,
   "id": "6be638a4-0f13-4e08-b16f-dca86dda56b6",
   "metadata": {},
   "outputs": [],
   "source": [
    "board = [[1, 1, 1],\n",
    "         [0, 2, 2],\n",
    "         [0, 0, 0]]"
   ]
  },
  {
   "cell_type": "code",
   "execution_count": 8,
   "id": "9106db2a-6b03-4004-bceb-446099f4fd48",
   "metadata": {},
   "outputs": [
    {
     "data": {
      "text/plain": [
       "1"
      ]
     },
     "execution_count": 8,
     "metadata": {},
     "output_type": "execute_result"
    }
   ],
   "source": [
    "is_solved(board)"
   ]
  },
  {
   "cell_type": "code",
   "execution_count": 9,
   "id": "1ef62935-e710-4c74-9f17-d3f363b8807b",
   "metadata": {},
   "outputs": [],
   "source": [
    "board = [[2, 1, 2],\n",
    "         [2, 1, 1],\n",
    "         [1, 1, 2]]"
   ]
  },
  {
   "cell_type": "code",
   "execution_count": 10,
   "id": "8bfdabb0-5216-4697-a0a8-6bf39a8185e4",
   "metadata": {},
   "outputs": [
    {
     "data": {
      "text/plain": [
       "1"
      ]
     },
     "execution_count": 10,
     "metadata": {},
     "output_type": "execute_result"
    }
   ],
   "source": [
    "is_solved(board)"
   ]
  },
  {
   "cell_type": "code",
   "execution_count": 11,
   "id": "47f248f4-ed2c-4a7e-ada1-05ed4632e8d4",
   "metadata": {},
   "outputs": [],
   "source": [
    "board = [[2, 1, 2],\n",
    "         [2, 1, 1],\n",
    "         [1, 2, 1]]"
   ]
  },
  {
   "cell_type": "code",
   "execution_count": 12,
   "id": "b5115197-81ec-4806-ad64-993321485185",
   "metadata": {},
   "outputs": [
    {
     "data": {
      "text/plain": [
       "0"
      ]
     },
     "execution_count": 12,
     "metadata": {},
     "output_type": "execute_result"
    }
   ],
   "source": [
    "is_solved(board)"
   ]
  },
  {
   "cell_type": "code",
   "execution_count": 13,
   "id": "fbb46e9d-b6f6-4d1a-90bd-ad2937ab58b3",
   "metadata": {},
   "outputs": [],
   "source": [
    "board = [[1, 0, 2],\n",
    "         [0, 1, 1],\n",
    "         [0, 2, 1]]"
   ]
  },
  {
   "cell_type": "code",
   "execution_count": 14,
   "id": "9ec90a22-0687-4be7-a1f0-e9e1954a6380",
   "metadata": {},
   "outputs": [
    {
     "data": {
      "text/plain": [
       "-1"
      ]
     },
     "execution_count": 14,
     "metadata": {},
     "output_type": "execute_result"
    }
   ],
   "source": [
    "is_solved(board)"
   ]
  },
  {
   "cell_type": "code",
   "execution_count": 15,
   "id": "319a0fa2-02d4-4f00-8b00-511c22d89bbe",
   "metadata": {},
   "outputs": [],
   "source": [
    "board = [[1, 0, 2],\n",
    "         [0, 2, 1],\n",
    "         [2, 1, 1]]"
   ]
  },
  {
   "cell_type": "code",
   "execution_count": 16,
   "id": "5aedb6ee-961c-40e6-bf0f-6217c2d4ccd4",
   "metadata": {},
   "outputs": [
    {
     "data": {
      "text/plain": [
       "-1"
      ]
     },
     "execution_count": 16,
     "metadata": {},
     "output_type": "execute_result"
    }
   ],
   "source": [
    "is_solved(board)"
   ]
  }
 ],
 "metadata": {
  "kernelspec": {
   "display_name": "Python 3 (ipykernel)",
   "language": "python",
   "name": "python3"
  },
  "language_info": {
   "codemirror_mode": {
    "name": "ipython",
    "version": 3
   },
   "file_extension": ".py",
   "mimetype": "text/x-python",
   "name": "python",
   "nbconvert_exporter": "python",
   "pygments_lexer": "ipython3",
   "version": "3.11.4"
  }
 },
 "nbformat": 4,
 "nbformat_minor": 5
}
