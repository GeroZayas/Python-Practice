{
 "cells": [
  {
   "cell_type": "code",
   "execution_count": 1,
   "id": "ff6183ab-42b4-45bf-93e7-9156a653be78",
   "metadata": {},
   "outputs": [],
   "source": [
    "import array"
   ]
  },
  {
   "cell_type": "code",
   "execution_count": 2,
   "id": "79d4f949-2d16-453b-876e-afd226b2491f",
   "metadata": {},
   "outputs": [
    {
     "data": {
      "text/plain": [
       "'bBuhHiIlLqQfd'"
      ]
     },
     "execution_count": 2,
     "metadata": {},
     "output_type": "execute_result"
    }
   ],
   "source": [
    "array.typecodes"
   ]
  },
  {
   "cell_type": "code",
   "execution_count": 3,
   "id": "fb3a1fd5-526b-4930-9aba-f890cfb4c095",
   "metadata": {},
   "outputs": [
    {
     "data": {
      "text/plain": [
       "'b'"
      ]
     },
     "execution_count": 3,
     "metadata": {},
     "output_type": "execute_result"
    }
   ],
   "source": [
    "array.typecodes[0]"
   ]
  },
  {
   "cell_type": "code",
   "execution_count": 4,
   "id": "d23e2f4f-6d2c-4cb4-94eb-dec308deb643",
   "metadata": {},
   "outputs": [],
   "source": [
    "arr = array.array(\"i\", [4, 5, 6, 7, 8, 9])"
   ]
  },
  {
   "cell_type": "code",
   "execution_count": 5,
   "id": "c864fe0f-6fb9-4690-b818-7e3bf74882b5",
   "metadata": {},
   "outputs": [
    {
     "data": {
      "text/plain": [
       "array('i', [4, 5, 6, 7, 8, 9])"
      ]
     },
     "execution_count": 5,
     "metadata": {},
     "output_type": "execute_result"
    }
   ],
   "source": [
    "arr"
   ]
  },
  {
   "cell_type": "code",
   "execution_count": 6,
   "id": "e505fb88-5f3a-4c9d-af43-f90567703256",
   "metadata": {},
   "outputs": [
    {
     "data": {
      "text/plain": [
       "array.array"
      ]
     },
     "execution_count": 6,
     "metadata": {},
     "output_type": "execute_result"
    }
   ],
   "source": [
    "type(arr)"
   ]
  },
  {
   "cell_type": "code",
   "execution_count": 9,
   "id": "580777b5-5a88-4354-a276-ed089ab093e3",
   "metadata": {},
   "outputs": [
    {
     "data": {
      "text/plain": [
       "'i'"
      ]
     },
     "execution_count": 9,
     "metadata": {},
     "output_type": "execute_result"
    }
   ],
   "source": [
    "arr.typecode"
   ]
  },
  {
   "cell_type": "code",
   "execution_count": 10,
   "id": "a83f76cb-c27d-45e4-bb81-57ce4076c7ea",
   "metadata": {},
   "outputs": [
    {
     "data": {
      "text/plain": [
       "4"
      ]
     },
     "execution_count": 10,
     "metadata": {},
     "output_type": "execute_result"
    }
   ],
   "source": [
    "arr.itemsize"
   ]
  },
  {
   "cell_type": "code",
   "execution_count": 11,
   "id": "d95763db-d670-41df-9113-d85cbc7b2345",
   "metadata": {},
   "outputs": [],
   "source": [
    "arr.append(13)"
   ]
  },
  {
   "cell_type": "code",
   "execution_count": 12,
   "id": "a073c796-6751-46b7-b986-62ef423ac1b2",
   "metadata": {},
   "outputs": [
    {
     "data": {
      "text/plain": [
       "array('i', [4, 5, 6, 7, 8, 9, 13])"
      ]
     },
     "execution_count": 12,
     "metadata": {},
     "output_type": "execute_result"
    }
   ],
   "source": [
    "arr"
   ]
  },
  {
   "cell_type": "code",
   "execution_count": 16,
   "id": "91c66c53-3f9e-4217-ad25-00ff96979e14",
   "metadata": {},
   "outputs": [],
   "source": [
    "arr.extend([34, 56, 87])"
   ]
  },
  {
   "cell_type": "code",
   "execution_count": 17,
   "id": "dd2953d3-76c9-45a5-b06d-147db284e272",
   "metadata": {},
   "outputs": [
    {
     "data": {
      "text/plain": [
       "array('i', [4, 5, 6, 7, 8, 9, 13, 34, 56, 87])"
      ]
     },
     "execution_count": 17,
     "metadata": {},
     "output_type": "execute_result"
    }
   ],
   "source": [
    "arr"
   ]
  },
  {
   "cell_type": "code",
   "execution_count": 29,
   "id": "d9dbfbe4-084f-45fe-892f-61ba3e359e4d",
   "metadata": {},
   "outputs": [],
   "source": [
    "arr.fromlist([90, 93, 94])"
   ]
  },
  {
   "cell_type": "code",
   "execution_count": 30,
   "id": "8ca27052-73e1-4739-a87e-1196867dfb02",
   "metadata": {},
   "outputs": [
    {
     "data": {
      "text/plain": [
       "array('i', [4, 5, 6, 7, 8, 9, 13, 34, 56, 87, 90, 93, 94, 90, 93, 94])"
      ]
     },
     "execution_count": 30,
     "metadata": {},
     "output_type": "execute_result"
    }
   ],
   "source": [
    "arr"
   ]
  },
  {
   "cell_type": "code",
   "execution_count": 35,
   "id": "0a91523a-655a-4bb6-b224-d2bafd8a19a0",
   "metadata": {},
   "outputs": [
    {
     "data": {
      "text/plain": [
       "94"
      ]
     },
     "execution_count": 35,
     "metadata": {},
     "output_type": "execute_result"
    }
   ],
   "source": [
    "arr.pop()"
   ]
  },
  {
   "cell_type": "code",
   "execution_count": 36,
   "id": "d1a0429a-a2d4-46c5-ba0a-4e5a76b8e48c",
   "metadata": {},
   "outputs": [
    {
     "data": {
      "text/plain": [
       "array('i', [4, 5, 6, 7, 8, 9, 13, 34, 56, 87, 90, 93, 94, 90, 93])"
      ]
     },
     "execution_count": 36,
     "metadata": {},
     "output_type": "execute_result"
    }
   ],
   "source": [
    "arr"
   ]
  },
  {
   "cell_type": "code",
   "execution_count": 44,
   "id": "62cbb105-364e-48a2-971b-ec76fb0f1aa6",
   "metadata": {},
   "outputs": [],
   "source": [
    "arr.reverse()"
   ]
  },
  {
   "cell_type": "code",
   "execution_count": 45,
   "id": "a2e73a65-e0a6-41d7-8c5f-01cc3b0c031d",
   "metadata": {},
   "outputs": [
    {
     "data": {
      "text/plain": [
       "array('i', [4, 5, 6, 7, 8, 9, 13, 34, 56, 87, 90, 93, 94, 90, 93])"
      ]
     },
     "execution_count": 45,
     "metadata": {},
     "output_type": "execute_result"
    }
   ],
   "source": [
    "arr"
   ]
  },
  {
   "cell_type": "code",
   "execution_count": 55,
   "id": "7bc39eb2-b13f-4175-9ce4-1ace67ab4f51",
   "metadata": {},
   "outputs": [],
   "source": [
    "with open(\"array.txt\", \"wb\") as file:\n",
    "    arr.tofile(file)"
   ]
  },
  {
   "cell_type": "code",
   "execution_count": 68,
   "id": "8f5f7459-c56b-40a8-a2eb-eada3f4440a4",
   "metadata": {},
   "outputs": [],
   "source": [
    "str_arr = array.array(\"u\", [\"a\", \"b\", \"c\"])"
   ]
  },
  {
   "cell_type": "code",
   "execution_count": 69,
   "id": "ec52bab8-8880-4b07-b6d8-eb94b438e787",
   "metadata": {},
   "outputs": [
    {
     "data": {
      "text/plain": [
       "array('u', 'abc')"
      ]
     },
     "execution_count": 69,
     "metadata": {},
     "output_type": "execute_result"
    }
   ],
   "source": [
    "str_arr"
   ]
  },
  {
   "cell_type": "code",
   "execution_count": null,
   "id": "0c0167a1-f7ec-4488-887d-e02d7f37f497",
   "metadata": {},
   "outputs": [],
   "source": []
  }
 ],
 "metadata": {
  "kernelspec": {
   "display_name": "Python 3 (ipykernel)",
   "language": "python",
   "name": "python3"
  },
  "language_info": {
   "codemirror_mode": {
    "name": "ipython",
    "version": 3
   },
   "file_extension": ".py",
   "mimetype": "text/x-python",
   "name": "python",
   "nbconvert_exporter": "python",
   "pygments_lexer": "ipython3",
   "version": "3.11.4"
  }
 },
 "nbformat": 4,
 "nbformat_minor": 5
}
