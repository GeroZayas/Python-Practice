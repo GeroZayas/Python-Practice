{
 "cells": [
  {
   "cell_type": "code",
   "execution_count": 16,
   "id": "4c2c840c",
   "metadata": {},
   "outputs": [],
   "source": [
    "readingAndUseOfEnglishTotal = (8+8+8+12+6+6+10)\n",
    "listeningTotal = (8+10+5+7)"
   ]
  },
  {
   "cell_type": "code",
   "execution_count": 17,
   "id": "e611dc19",
   "metadata": {},
   "outputs": [
    {
     "data": {
      "text/plain": [
       "(58, 30)"
      ]
     },
     "execution_count": 17,
     "metadata": {},
     "output_type": "execute_result"
    }
   ],
   "source": [
    "readingAndUseOfEnglishTotal, listeningTotal"
   ]
  },
  {
   "cell_type": "code",
   "execution_count": 7,
   "id": "0c292bd5",
   "metadata": {},
   "outputs": [],
   "source": [
    "astridRandUoEnglish = 3+1+2+1+1+1+2"
   ]
  },
  {
   "cell_type": "code",
   "execution_count": 8,
   "id": "c25c2493",
   "metadata": {},
   "outputs": [
    {
     "data": {
      "text/plain": [
       "11"
      ]
     },
     "execution_count": 8,
     "metadata": {},
     "output_type": "execute_result"
    }
   ],
   "source": [
    "astridRandUoEnglish"
   ]
  },
  {
   "cell_type": "code",
   "execution_count": 10,
   "id": "32522bc3",
   "metadata": {},
   "outputs": [
    {
     "data": {
      "text/plain": [
       "19.0"
      ]
     },
     "execution_count": 10,
     "metadata": {},
     "output_type": "execute_result"
    }
   ],
   "source": [
    "round(astridRandUoEnglish * 100/readingAndUseOfEnglishTotal,1)"
   ]
  },
  {
   "cell_type": "code",
   "execution_count": 14,
   "id": "b5d91a92",
   "metadata": {},
   "outputs": [],
   "source": [
    "astridListening = 3 + 3+0+3"
   ]
  },
  {
   "cell_type": "code",
   "execution_count": 15,
   "id": "cf01ac46",
   "metadata": {},
   "outputs": [
    {
     "data": {
      "text/plain": [
       "9"
      ]
     },
     "execution_count": 15,
     "metadata": {},
     "output_type": "execute_result"
    }
   ],
   "source": [
    "astridListening"
   ]
  },
  {
   "cell_type": "code",
   "execution_count": 13,
   "id": "39c58185",
   "metadata": {},
   "outputs": [
    {
     "data": {
      "text/plain": [
       "30.0"
      ]
     },
     "execution_count": 13,
     "metadata": {},
     "output_type": "execute_result"
    }
   ],
   "source": [
    "round(astridListening * 100/listeningTotal,1)"
   ]
  },
  {
   "cell_type": "code",
   "execution_count": null,
   "id": "b817c7b2",
   "metadata": {},
   "outputs": [],
   "source": []
  },
  {
   "cell_type": "code",
   "execution_count": null,
   "id": "b9a321d0",
   "metadata": {},
   "outputs": [],
   "source": []
  }
 ],
 "metadata": {
  "kernelspec": {
   "display_name": "Python 3 (ipykernel)",
   "language": "python",
   "name": "python3"
  },
  "language_info": {
   "codemirror_mode": {
    "name": "ipython",
    "version": 3
   },
   "file_extension": ".py",
   "mimetype": "text/x-python",
   "name": "python",
   "nbconvert_exporter": "python",
   "pygments_lexer": "ipython3",
   "version": "3.11.2"
  }
 },
 "nbformat": 4,
 "nbformat_minor": 5
}
