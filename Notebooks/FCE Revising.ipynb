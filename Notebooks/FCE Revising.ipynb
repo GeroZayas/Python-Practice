{
 "cells": [
  {
   "cell_type": "markdown",
   "id": "792e7733-d40a-498e-ab06-d77ee825205c",
   "metadata": {},
   "source": [
    "# Totals"
   ]
  },
  {
   "cell_type": "code",
   "execution_count": 1,
   "id": "4c2c840c",
   "metadata": {},
   "outputs": [],
   "source": [
    "readingAndUseOfEnglishTotal = 8 + 8 + 8 + 12 + 6 + 6 + 10\n",
    "listeningTotal = 8 + 10 + 5 + 7"
   ]
  },
  {
   "cell_type": "code",
   "execution_count": 2,
   "id": "e611dc19",
   "metadata": {},
   "outputs": [
    {
     "data": {
      "text/plain": [
       "(58, 30)"
      ]
     },
     "execution_count": 2,
     "metadata": {},
     "output_type": "execute_result"
    }
   ],
   "source": [
    "readingAndUseOfEnglishTotal, listeningTotal"
   ]
  },
  {
   "cell_type": "markdown",
   "id": "365c7099-90ba-4096-9800-e2ea41a59a67",
   "metadata": {},
   "source": [
    "# Astrid"
   ]
  },
  {
   "cell_type": "code",
   "execution_count": 3,
   "id": "0c292bd5",
   "metadata": {},
   "outputs": [],
   "source": [
    "astridRandUoEnglish = 3 + 1 + 2 + 1 + 1 + 1 + 2"
   ]
  },
  {
   "cell_type": "code",
   "execution_count": 4,
   "id": "c25c2493",
   "metadata": {},
   "outputs": [
    {
     "data": {
      "text/plain": [
       "11"
      ]
     },
     "execution_count": 4,
     "metadata": {},
     "output_type": "execute_result"
    }
   ],
   "source": [
    "astridRandUoEnglish"
   ]
  },
  {
   "cell_type": "code",
   "execution_count": 5,
   "id": "32522bc3",
   "metadata": {},
   "outputs": [
    {
     "data": {
      "text/plain": [
       "19.0"
      ]
     },
     "execution_count": 5,
     "metadata": {},
     "output_type": "execute_result"
    }
   ],
   "source": [
    "round(astridRandUoEnglish * 100 / readingAndUseOfEnglishTotal, 1)"
   ]
  },
  {
   "cell_type": "code",
   "execution_count": 6,
   "id": "b5d91a92",
   "metadata": {},
   "outputs": [],
   "source": [
    "astridListening = 3 + 3 + 0 + 3"
   ]
  },
  {
   "cell_type": "code",
   "execution_count": 7,
   "id": "cf01ac46",
   "metadata": {},
   "outputs": [
    {
     "data": {
      "text/plain": [
       "9"
      ]
     },
     "execution_count": 7,
     "metadata": {},
     "output_type": "execute_result"
    }
   ],
   "source": [
    "astridListening"
   ]
  },
  {
   "cell_type": "code",
   "execution_count": 8,
   "id": "39c58185",
   "metadata": {},
   "outputs": [
    {
     "data": {
      "text/plain": [
       "30.0"
      ]
     },
     "execution_count": 8,
     "metadata": {},
     "output_type": "execute_result"
    }
   ],
   "source": [
    "round(astridListening * 100 / listeningTotal, 1)"
   ]
  },
  {
   "cell_type": "markdown",
   "id": "92083fe6-6d5c-44bc-b9ca-9e47de54c334",
   "metadata": {},
   "source": [
    "# Emma"
   ]
  },
  {
   "cell_type": "code",
   "execution_count": 13,
   "id": "b9a321d0",
   "metadata": {},
   "outputs": [
    {
     "data": {
      "text/plain": [
       "(22, 30)"
      ]
     },
     "execution_count": 13,
     "metadata": {},
     "output_type": "execute_result"
    }
   ],
   "source": [
    "emma_listening = 6 + 5 + 5 + 6\n",
    "emma_listening, listeningTotal"
   ]
  },
  {
   "cell_type": "code",
   "execution_count": 11,
   "id": "a0235924-7e77-42eb-bef5-403035ebe9fd",
   "metadata": {},
   "outputs": [
    {
     "data": {
      "text/plain": [
       "73"
      ]
     },
     "execution_count": 11,
     "metadata": {},
     "output_type": "execute_result"
    }
   ],
   "source": [
    "round(emma_listening * 100 / listeningTotal)"
   ]
  },
  {
   "cell_type": "markdown",
   "id": "e67b0085-f662-478a-994a-74b3909115c9",
   "metadata": {},
   "source": [
    "# Pedro"
   ]
  },
  {
   "cell_type": "code",
   "execution_count": 14,
   "id": "e0d79544-515c-4688-bd6b-d4503cc16651",
   "metadata": {},
   "outputs": [
    {
     "data": {
      "text/plain": [
       "32"
      ]
     },
     "execution_count": 14,
     "metadata": {},
     "output_type": "execute_result"
    }
   ],
   "source": [
    "pedro_RandUoE = 7 + 2 + 5 + 6 + 2 + 2 + 8\n",
    "pedro_RandUoE"
   ]
  },
  {
   "cell_type": "code",
   "execution_count": 15,
   "id": "8972d766-fa94-4405-aae0-9d082f5405c0",
   "metadata": {},
   "outputs": [
    {
     "data": {
      "text/plain": [
       "58"
      ]
     },
     "execution_count": 15,
     "metadata": {},
     "output_type": "execute_result"
    }
   ],
   "source": [
    "readingAndUseOfEnglishTotal"
   ]
  },
  {
   "cell_type": "code",
   "execution_count": 16,
   "id": "0d9835df-2343-480e-9ebe-843b9229e30b",
   "metadata": {},
   "outputs": [
    {
     "data": {
      "text/plain": [
       "55.2"
      ]
     },
     "execution_count": 16,
     "metadata": {},
     "output_type": "execute_result"
    }
   ],
   "source": [
    "round(pedro_RandUoE * 100 / readingAndUseOfEnglishTotal, 1)"
   ]
  },
  {
   "cell_type": "markdown",
   "id": "fee9bf0f-c13e-4a7d-b0af-076c37f4c5f2",
   "metadata": {},
   "source": [
    "# Others"
   ]
  },
  {
   "cell_type": "code",
   "execution_count": 30,
   "id": "09e13ebb-90ed-4c13-b132-e8af27db14a5",
   "metadata": {},
   "outputs": [
    {
     "data": {
      "text/plain": [
       "9.5"
      ]
     },
     "execution_count": 30,
     "metadata": {},
     "output_type": "execute_result"
    }
   ],
   "source": [
    "round(19 * 10 / 20, 1)"
   ]
  },
  {
   "cell_type": "code",
   "execution_count": null,
   "id": "c372752e-0d33-4433-9943-3b51b6f6abda",
   "metadata": {},
   "outputs": [],
   "source": []
  },
  {
   "cell_type": "code",
   "execution_count": null,
   "id": "9ca40d6b-129d-42f6-b011-1d2316cd0050",
   "metadata": {},
   "outputs": [],
   "source": []
  },
  {
   "cell_type": "code",
   "execution_count": null,
   "id": "d12054b4-fd36-49c6-ab53-1ece4633006e",
   "metadata": {},
   "outputs": [],
   "source": []
  }
 ],
 "metadata": {
  "kernelspec": {
   "display_name": "Python 3 (ipykernel)",
   "language": "python",
   "name": "python3"
  },
  "language_info": {
   "codemirror_mode": {
    "name": "ipython",
    "version": 3
   },
   "file_extension": ".py",
   "mimetype": "text/x-python",
   "name": "python",
   "nbconvert_exporter": "python",
   "pygments_lexer": "ipython3",
   "version": "3.12.2"
  }
 },
 "nbformat": 4,
 "nbformat_minor": 5
}
