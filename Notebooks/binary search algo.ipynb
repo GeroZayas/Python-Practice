{
 "cells": [
  {
   "cell_type": "code",
   "execution_count": null,
   "id": "b28149bd-c7b1-4611-bad0-593b9fa12854",
   "metadata": {},
   "outputs": [],
   "source": [
    "nums1 = [2, 3, 5, 7, 9] # target 7\n",
    "nums2 = [1, 2, 3, 4, 4, 5, 6, 7] # target 4\n",
    "nums3 = [1, 4, 5, 8, 9] # target 2"
   ]
  },
  {
   "cell_type": "code",
   "execution_count": null,
   "id": "2075439c-286f-4a44-9766-a48cb7a31fbe",
   "metadata": {},
   "outputs": [],
   "source": [
    "# Given a sorted array of n integers and a target value, \n",
    "# determine if the target exists in the array in \n",
    "# logarithmic time using the binary search algorithm. \n",
    "# If target exists in the array, print the index of it."
   ]
  },
  {
   "cell_type": "code",
   "execution_count": null,
   "id": "731b36cd-9b98-454c-8bf7-f95092391fd7",
   "metadata": {},
   "outputs": [],
   "source": [
    "# we use binary search algo here to find the index of a target elem in an array"
   ]
  },
  {
   "cell_type": "code",
   "execution_count": 57,
   "id": "bb4dc60d-7a91-4ebe-b2d2-b11f49b540d2",
   "metadata": {},
   "outputs": [],
   "source": [
    "def find_elem_index(num_arr:list[int], target:int)->int:\n",
    "    left, right = 0, len(num_arr)-1\n",
    "    while left <= right:\n",
    "        mid = (left + right) // 2\n",
    "        if target == num_arr[mid]:\n",
    "            return mid\n",
    "        elif target < num_arr[mid]:\n",
    "            right = mid - 1\n",
    "        else:\n",
    "            left = mid + 1\n",
    "    return \"Target element not in array\""
   ]
  },
  {
   "cell_type": "code",
   "execution_count": 58,
   "id": "d6d7498a-0bb1-457c-a669-3cd211f89d7b",
   "metadata": {
    "tags": []
   },
   "outputs": [
    {
     "data": {
      "text/plain": [
       "3"
      ]
     },
     "execution_count": 58,
     "metadata": {},
     "output_type": "execute_result"
    }
   ],
   "source": [
    "find_elem_index(nums1, 7)"
   ]
  },
  {
   "cell_type": "code",
   "execution_count": 59,
   "id": "65c50e2a-d01c-4b29-9c46-e23d12074c7e",
   "metadata": {},
   "outputs": [
    {
     "data": {
      "text/plain": [
       "3"
      ]
     },
     "execution_count": 59,
     "metadata": {},
     "output_type": "execute_result"
    }
   ],
   "source": [
    "find_elem_index(nums2, 4)"
   ]
  },
  {
   "cell_type": "code",
   "execution_count": 60,
   "id": "7f3c652f-cbb8-43cd-8d78-aaab50d87942",
   "metadata": {},
   "outputs": [
    {
     "data": {
      "text/plain": [
       "'Target element not in array'"
      ]
     },
     "execution_count": 60,
     "metadata": {},
     "output_type": "execute_result"
    }
   ],
   "source": [
    "find_elem_index(nums3, 2)"
   ]
  }
 ],
 "metadata": {
  "kernelspec": {
   "display_name": "Python 3",
   "language": "python",
   "name": "python3"
  },
  "language_info": {
   "codemirror_mode": {
    "name": "ipython",
    "version": 3
   },
   "file_extension": ".py",
   "mimetype": "text/x-python",
   "name": "python",
   "nbconvert_exporter": "python",
   "pygments_lexer": "ipython3",
   "version": "3.11.0"
  }
 },
 "nbformat": 4,
 "nbformat_minor": 5
}
