{
 "cells": [
  {
   "cell_type": "code",
   "execution_count": 8,
   "id": "46c1d9f7-ea1a-45f0-885a-af35aa266846",
   "metadata": {},
   "outputs": [],
   "source": [
    "from random import randint\n",
    "\n",
    "numbers = [randint(1,20) for _ in range(10)]"
   ]
  },
  {
   "cell_type": "code",
   "execution_count": 9,
   "id": "5a2253a5-e000-4cc7-ad2f-3dab0de39e3f",
   "metadata": {},
   "outputs": [
    {
     "data": {
      "text/plain": [
       "[3, 12, 10, 4, 9, 20, 19, 6, 6, 8]"
      ]
     },
     "execution_count": 9,
     "metadata": {},
     "output_type": "execute_result"
    }
   ],
   "source": [
    "numbers"
   ]
  },
  {
   "cell_type": "code",
   "execution_count": 23,
   "id": "1e73d0e7-63ea-4662-b421-f003b1e802f9",
   "metadata": {},
   "outputs": [],
   "source": [
    "target = 4"
   ]
  },
  {
   "cell_type": "code",
   "execution_count": 24,
   "id": "ed8c61ef-c7a6-410f-a796-3bff123230b1",
   "metadata": {},
   "outputs": [],
   "source": [
    "def sort_array(arr:list[int])-> list:\n",
    "    # lets use quick sort\n",
    "    if len(arr) <= 1:\n",
    "        return arr\n",
    "    pivot = arr[0]\n",
    "    left = []\n",
    "    right = []\n",
    "    \n",
    "    for num in arr[1:]:\n",
    "        if num < pivot:\n",
    "            left.append(num)\n",
    "        else:\n",
    "            right.append(num)\n",
    "    return sort_array(left) + [pivot] + sort_array(right)"
   ]
  },
  {
   "cell_type": "code",
   "execution_count": 25,
   "id": "a5c754d5-105b-4fb1-8d3b-c13942bd5e48",
   "metadata": {},
   "outputs": [],
   "source": [
    "numbers = sort_array(numbers)"
   ]
  },
  {
   "cell_type": "code",
   "execution_count": 26,
   "id": "49ef38f3-4510-426e-95c1-a4800d6d34e0",
   "metadata": {},
   "outputs": [
    {
     "data": {
      "text/plain": [
       "[3, 4, 6, 6, 8, 9, 10, 12, 19, 20]"
      ]
     },
     "execution_count": 26,
     "metadata": {},
     "output_type": "execute_result"
    }
   ],
   "source": [
    "numbers"
   ]
  },
  {
   "cell_type": "code",
   "execution_count": 27,
   "id": "33291eb5-d98f-4088-967e-59bda7e3bdce",
   "metadata": {},
   "outputs": [],
   "source": [
    "def find_index_element_in_array(arr:list, target_element:int)->int:\n",
    "    left, right = 0, len(arr) -1\n",
    "    while left <= right:\n",
    "        mid = (left+right)//2\n",
    "        if target_element == arr[mid]:\n",
    "            return mid\n",
    "        elif target_element < arr[mid]:\n",
    "            right = mid - 1\n",
    "        else:\n",
    "            left = mid + 1\n",
    "    return \"Element not in Array\""
   ]
  },
  {
   "cell_type": "code",
   "execution_count": 28,
   "id": "53740746-eba3-4726-b412-e9bb2ffd9713",
   "metadata": {},
   "outputs": [
    {
     "data": {
      "text/plain": [
       "1"
      ]
     },
     "execution_count": 28,
     "metadata": {},
     "output_type": "execute_result"
    }
   ],
   "source": [
    "find_index_element_in_array(numbers, target)"
   ]
  },
  {
   "cell_type": "code",
   "execution_count": null,
   "id": "813fa235-0786-4aa4-94dd-95e15848f6c3",
   "metadata": {},
   "outputs": [],
   "source": []
  },
  {
   "cell_type": "code",
   "execution_count": null,
   "id": "994d6233-1eb4-47ee-a9f7-89f9b03c6c33",
   "metadata": {},
   "outputs": [],
   "source": []
  }
 ],
 "metadata": {
  "kernelspec": {
   "display_name": "Python 3",
   "language": "python",
   "name": "python3"
  },
  "language_info": {
   "codemirror_mode": {
    "name": "ipython",
    "version": 3
   },
   "file_extension": ".py",
   "mimetype": "text/x-python",
   "name": "python",
   "nbconvert_exporter": "python",
   "pygments_lexer": "ipython3",
   "version": "3.11.0"
  }
 },
 "nbformat": 4,
 "nbformat_minor": 5
}
