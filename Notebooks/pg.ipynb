{
 "cells": [
  {
   "cell_type": "code",
   "execution_count": 10,
   "id": "3c6a4fee-24ce-4ea5-92ef-7cea82c01abb",
   "metadata": {},
   "outputs": [],
   "source": [
    "# binary search recursively\n",
    "def binary_search(nums, left, right, target):\n",
    "    if left > right:\n",
    "        return \"element not found in array\"\n",
    "    mid = (left + right) // 2\n",
    "    \n",
    "    if target == nums[mid]:\n",
    "        return f\"Found {nums[mid]} at index {mid}\"\n",
    "    elif target < nums[left]:\n",
    "        return binary_search(nums, left, mid - 1, target)\n",
    "    else:\n",
    "        return binary_search(nums, mid + 1, right, target)\n",
    "    "
   ]
  },
  {
   "cell_type": "code",
   "execution_count": 11,
   "id": "4fe9857b-6253-468f-b2d6-e94d7abce24a",
   "metadata": {},
   "outputs": [],
   "source": [
    "nums1 = [2, 3, 5, 7, 9] # target 7"
   ]
  },
  {
   "cell_type": "code",
   "execution_count": 12,
   "id": "17aae29f-20a6-4937-8079-ffb1e550343c",
   "metadata": {},
   "outputs": [
    {
     "data": {
      "text/plain": [
       "[2, 3, 5, 7, 9]"
      ]
     },
     "execution_count": 12,
     "metadata": {},
     "output_type": "execute_result"
    }
   ],
   "source": [
    "nums1"
   ]
  },
  {
   "cell_type": "code",
   "execution_count": 13,
   "id": "f2c1e465-a37e-42c7-83bf-09ce7911b455",
   "metadata": {},
   "outputs": [],
   "source": [
    "left, right, target = 0, len(nums1) -1, 9 "
   ]
  },
  {
   "cell_type": "code",
   "execution_count": 14,
   "id": "70db3839-4860-418d-9edc-a4ca8af2cf77",
   "metadata": {},
   "outputs": [
    {
     "data": {
      "text/plain": [
       "'Found 9 at index 4'"
      ]
     },
     "execution_count": 14,
     "metadata": {},
     "output_type": "execute_result"
    }
   ],
   "source": [
    "binary_search(nums1, left, right, target)"
   ]
  }
 ],
 "metadata": {
  "kernelspec": {
   "display_name": "Python 3",
   "language": "python",
   "name": "python3"
  },
  "language_info": {
   "codemirror_mode": {
    "name": "ipython",
    "version": 3
   },
   "file_extension": ".py",
   "mimetype": "text/x-python",
   "name": "python",
   "nbconvert_exporter": "python",
   "pygments_lexer": "ipython3",
   "version": "3.11.0"
  }
 },
 "nbformat": 4,
 "nbformat_minor": 5
}
