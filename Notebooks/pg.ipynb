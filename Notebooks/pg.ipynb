{
 "cells": [
  {
   "cell_type": "code",
   "execution_count": null,
   "id": "af23eef7-1586-4288-a105-6a7d93df6f1f",
   "metadata": {},
   "outputs": [],
   "source": []
  },
  {
   "cell_type": "code",
   "execution_count": 1,
   "id": "55f8b634-9d2d-4ee0-851d-496f6ca78625",
   "metadata": {},
   "outputs": [],
   "source": [
    "arr = [5,3,1,2,4,6]"
   ]
  },
  {
   "cell_type": "code",
   "execution_count": 52,
   "id": "449530c1-798f-468a-b7b7-7bc138ddb03b",
   "metadata": {},
   "outputs": [],
   "source": [
    "def get_columns(arr):\n",
    "    columns = []\n",
    "    for i in range(len(arr)):\n",
    "        temp = []\n",
    "        for row in arr:\n",
    "            temp.append(row[i])\n",
    "        columns.append(temp)\n",
    "    return columns"
   ]
  },
  {
   "cell_type": "code",
   "execution_count": 53,
   "id": "7a62ba32-04b8-4531-80a7-0236e8b90301",
   "metadata": {},
   "outputs": [],
   "source": [
    "def rows_sum(arr):\n",
    "    rows_sum = []\n",
    "    for row in arr:\n",
    "        div = len(row) // 2\n",
    "        left = row[:div]\n",
    "        right = row[div:]\n",
    "        if sum(left) > sum(right):\n",
    "            rows_sum.append(sum(left))\n",
    "        else:\n",
    "            rows_sum.append(sum(right))\n",
    "    return rows_sum"
   ]
  },
  {
   "cell_type": "code",
   "execution_count": 54,
   "id": "4e2fcf4f-0c43-49b7-a2b2-1d4d3ad05464",
   "metadata": {},
   "outputs": [],
   "source": [
    "def sum_biggest_elem_arr(*arrs):\n",
    "    result = 0\n",
    "    for arr in arrs:\n",
    "        div = len(arr)//2\n",
    "        temp = max(sum(arr[div:]), sum(arr[:div]))\n",
    "        if result < temp:\n",
    "            result = temp\n",
    "    return result"
   ]
  },
  {
   "cell_type": "code",
   "execution_count": 55,
   "id": "f20d4b93-14ee-4dd8-9d7b-78c88a558885",
   "metadata": {},
   "outputs": [],
   "source": [
    "def flippingMatrix(matrix):\n",
    "    rows = matrix\n",
    "    columns = get_columns(matrix)\n",
    "    rows_sum = rows_sum(rows)\n",
    "    columns_sum = rows_sum(columns)\n",
    "    return sum_biggest_elem_arr(rows_sum, columns_sum)"
   ]
  },
  {
   "cell_type": "code",
   "execution_count": 56,
   "id": "4324269e-c71d-4cf4-9963-95ffb751bc77",
   "metadata": {},
   "outputs": [],
   "source": [
    "matrix = [[112,42,83,119],[56,125,56,49],[15,78,101,43],[62,98,114,108]]"
   ]
  },
  {
   "cell_type": "code",
   "execution_count": 57,
   "id": "3f955e5c-8632-4cae-951a-54150a6fc9b2",
   "metadata": {},
   "outputs": [
    {
     "data": {
      "text/plain": [
       "[[112, 42, 83, 119], [56, 125, 56, 49], [15, 78, 101, 43], [62, 98, 114, 108]]"
      ]
     },
     "execution_count": 57,
     "metadata": {},
     "output_type": "execute_result"
    }
   ],
   "source": [
    "matrix"
   ]
  },
  {
   "cell_type": "code",
   "execution_count": 59,
   "id": "149b2a94-2f22-46ce-a2c7-79f9c94c837a",
   "metadata": {
    "collapsed": true,
    "jupyter": {
     "outputs_hidden": true
    },
    "tags": []
   },
   "outputs": [
    {
     "ename": "UnboundLocalError",
     "evalue": "cannot access local variable 'rows_sum' where it is not associated with a value",
     "output_type": "error",
     "traceback": [
      "\u001b[1;31m---------------------------------------------------------------------------\u001b[0m",
      "\u001b[1;31mUnboundLocalError\u001b[0m                         Traceback (most recent call last)",
      "Cell \u001b[1;32mIn[59], line 1\u001b[0m\n\u001b[1;32m----> 1\u001b[0m \u001b[43mflippingMatrix\u001b[49m\u001b[43m(\u001b[49m\u001b[43mmatrix\u001b[49m\u001b[43m)\u001b[49m\n",
      "Cell \u001b[1;32mIn[55], line 4\u001b[0m, in \u001b[0;36mflippingMatrix\u001b[1;34m(matrix)\u001b[0m\n\u001b[0;32m      2\u001b[0m rows \u001b[38;5;241m=\u001b[39m matrix\n\u001b[0;32m      3\u001b[0m columns \u001b[38;5;241m=\u001b[39m get_columns(matrix)\n\u001b[1;32m----> 4\u001b[0m rows_sum \u001b[38;5;241m=\u001b[39m \u001b[43mrows_sum\u001b[49m(rows)\n\u001b[0;32m      5\u001b[0m columns_sum \u001b[38;5;241m=\u001b[39m rows_sum(columns)\n\u001b[0;32m      6\u001b[0m \u001b[38;5;28;01mreturn\u001b[39;00m sum_biggest_elem_arr(rows_sum, columns_sum)\n",
      "\u001b[1;31mUnboundLocalError\u001b[0m: cannot access local variable 'rows_sum' where it is not associated with a value"
     ]
    }
   ],
   "source": [
    "flippingMatrix(matrix)"
   ]
  },
  {
   "cell_type": "code",
   "execution_count": 40,
   "id": "9c174295-82b4-4d81-a253-15ae1c084b63",
   "metadata": {},
   "outputs": [
    {
     "name": "stdout",
     "output_type": "stream",
     "text": [
      "119\n",
      "125\n",
      "101\n",
      "114\n"
     ]
    }
   ],
   "source": [
    "the_sum = 0\n",
    "for row in matrix:\n",
    "    print(max(row))\n",
    "    the_sum += max(row)\n",
    "    "
   ]
  },
  {
   "cell_type": "code",
   "execution_count": 41,
   "id": "dd2f5449-7a7b-4a1f-a566-bee280a38584",
   "metadata": {},
   "outputs": [
    {
     "data": {
      "text/plain": [
       "459"
      ]
     },
     "execution_count": 41,
     "metadata": {},
     "output_type": "execute_result"
    }
   ],
   "source": [
    "the_sum"
   ]
  },
  {
   "cell_type": "code",
   "execution_count": 32,
   "id": "447ff827-32f6-4ef7-856d-87c56c18b85e",
   "metadata": {},
   "outputs": [],
   "source": [
    "rows = matrix"
   ]
  },
  {
   "cell_type": "code",
   "execution_count": 33,
   "id": "e6081dea-95e9-46ed-8f8c-3286bada514f",
   "metadata": {},
   "outputs": [
    {
     "data": {
      "text/plain": [
       "[[112, 42, 83, 119], [56, 125, 56, 49], [15, 78, 101, 43], [62, 98, 114, 108]]"
      ]
     },
     "execution_count": 33,
     "metadata": {},
     "output_type": "execute_result"
    }
   ],
   "source": [
    "rows"
   ]
  },
  {
   "cell_type": "code",
   "execution_count": 34,
   "id": "e73be7c8-8e54-47d5-85dc-117b63be0b6e",
   "metadata": {},
   "outputs": [],
   "source": [
    "columns = get_columns(matrix)"
   ]
  },
  {
   "cell_type": "code",
   "execution_count": 35,
   "id": "44d23b64-d850-453f-b6f1-530f914a5b01",
   "metadata": {},
   "outputs": [
    {
     "data": {
      "text/plain": [
       "[[112, 56, 15, 62], [42, 125, 78, 98], [83, 56, 101, 114], [119, 49, 43, 108]]"
      ]
     },
     "execution_count": 35,
     "metadata": {},
     "output_type": "execute_result"
    }
   ],
   "source": [
    "columns"
   ]
  },
  {
   "cell_type": "code",
   "execution_count": 36,
   "id": "d001cf33-d2d5-4062-a165-d07344b4cf9e",
   "metadata": {},
   "outputs": [
    {
     "data": {
      "text/plain": [
       "[202, 181, 144, 222]"
      ]
     },
     "execution_count": 36,
     "metadata": {},
     "output_type": "execute_result"
    }
   ],
   "source": [
    "rows_sum(rows)"
   ]
  },
  {
   "cell_type": "code",
   "execution_count": 37,
   "id": "4579eb2e-4f45-43dd-af11-64254009001d",
   "metadata": {},
   "outputs": [
    {
     "data": {
      "text/plain": [
       "[168, 176, 215, 168]"
      ]
     },
     "execution_count": 37,
     "metadata": {},
     "output_type": "execute_result"
    }
   ],
   "source": [
    "rows_sum(columns)"
   ]
  },
  {
   "cell_type": "code",
   "execution_count": 38,
   "id": "4643cb78-f668-4063-aa7a-bfe51e3f9a46",
   "metadata": {},
   "outputs": [
    {
     "data": {
      "text/plain": [
       "383"
      ]
     },
     "execution_count": 38,
     "metadata": {},
     "output_type": "execute_result"
    }
   ],
   "source": [
    "sum_biggest_elem_arr(rows_sum(rows), rows_sum(columns))"
   ]
  },
  {
   "cell_type": "code",
   "execution_count": 25,
   "id": "2de0b223-4180-4947-ba27-6e01929991ad",
   "metadata": {},
   "outputs": [],
   "source": [
    "matrix = [[112,42,83,119],[56,125,56,49],[15,78,101,43],[62,98,114,108]]"
   ]
  },
  {
   "cell_type": "code",
   "execution_count": 42,
   "id": "7feb51c8-8fc3-427d-8d69-e79311819c12",
   "metadata": {},
   "outputs": [
    {
     "data": {
      "text/plain": [
       "[[112, 42, 83, 119], [56, 125, 56, 49], [15, 78, 101, 43], [62, 98, 114, 108]]"
      ]
     },
     "execution_count": 42,
     "metadata": {},
     "output_type": "execute_result"
    }
   ],
   "source": [
    "matrix"
   ]
  },
  {
   "cell_type": "code",
   "execution_count": 43,
   "id": "b8edd91d-2d58-4e11-9616-bb7f220ba79a",
   "metadata": {},
   "outputs": [],
   "source": [
    "def flippingMatrix(matrix):\n",
    "    ###############################\n",
    "    \n",
    "    def get_columns(arr):\n",
    "        columns = []\n",
    "        for i in range(len(arr)):\n",
    "            temp = []\n",
    "            for row in arr:\n",
    "                temp.append(row[i])\n",
    "            columns.append(temp)\n",
    "        return columns\n",
    "    \n",
    "    ###############################\n",
    "        \n",
    "    def rows_sum(arr):\n",
    "        rows_sum = []\n",
    "        for row in arr:\n",
    "            div = len(row) // 2\n",
    "            left = row[:div]\n",
    "            right = row[div:]\n",
    "            if sum(left) > sum(right):\n",
    "                rows_sum.append(sum(left))\n",
    "            else:\n",
    "                rows_sum.append(sum(right))\n",
    "        return rows_sum\n",
    "    \n",
    "    ###############################\n",
    "    def sum_biggest_elem_arr(*arrs):\n",
    "        result = 0\n",
    "        for arr in arrs:\n",
    "            div = len(arr)//2\n",
    "            temp = max(sum(arr[div:]), sum(arr[:div]))\n",
    "            if result < temp:\n",
    "                result = temp\n",
    "        return result\n",
    "    \n",
    "    ###############################\n",
    "    \n",
    "    rows = matrix\n",
    "    columns = get_columns(matrix)\n",
    "\n",
    "    return sum_biggest_elem_arr(rows_sum(rows), rows_sum(columns))"
   ]
  },
  {
   "cell_type": "code",
   "execution_count": 44,
   "id": "18c1a165-477e-4cac-b55a-a8954f871242",
   "metadata": {},
   "outputs": [
    {
     "data": {
      "text/plain": [
       "383"
      ]
     },
     "execution_count": 44,
     "metadata": {},
     "output_type": "execute_result"
    }
   ],
   "source": [
    "flippingMatrix(matrix)"
   ]
  }
 ],
 "metadata": {
  "kernelspec": {
   "display_name": "Python 3",
   "language": "python",
   "name": "python3"
  },
  "language_info": {
   "codemirror_mode": {
    "name": "ipython",
    "version": 3
   },
   "file_extension": ".py",
   "mimetype": "text/x-python",
   "name": "python",
   "nbconvert_exporter": "python",
   "pygments_lexer": "ipython3",
   "version": "3.11.0"
  }
 },
 "nbformat": 4,
 "nbformat_minor": 5
}
