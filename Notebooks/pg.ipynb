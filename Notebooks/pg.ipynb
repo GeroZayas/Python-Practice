{
 "cells": [
  {
   "cell_type": "code",
   "execution_count": 1,
   "id": "4c44428a-4286-428c-b1b4-d89d2f60ad8a",
   "metadata": {},
   "outputs": [],
   "source": [
    "numbers = [2, -1, 0, 1, -3, 3, -3]"
   ]
  },
  {
   "cell_type": "code",
   "execution_count": 2,
   "id": "e79ac83b-e57c-4055-9f32-5d1d1da73e76",
   "metadata": {},
   "outputs": [
    {
     "data": {
      "text/plain": [
       "[2, -1, 0, 1, -3, 3, -3]"
      ]
     },
     "execution_count": 2,
     "metadata": {},
     "output_type": "execute_result"
    }
   ],
   "source": [
    "numbers"
   ]
  },
  {
   "cell_type": "code",
   "execution_count": 3,
   "id": "2a700992-eda0-46ec-92b8-c45afe33bc89",
   "metadata": {},
   "outputs": [],
   "source": [
    "def quicksort(nums:list)->list:\n",
    "    if len(nums) <= 1:\n",
    "        return nums\n",
    "    pivot = nums[0]\n",
    "    left = []\n",
    "    right = []\n",
    "    \n",
    "    for num in nums[1:]:\n",
    "        if num < pivot:\n",
    "            left.append(num)\n",
    "        else:\n",
    "            right.append(num)\n",
    "    \n",
    "    return quicksort(left) + [pivot] + quicksort(right)"
   ]
  },
  {
   "cell_type": "code",
   "execution_count": 4,
   "id": "2b7a707b-c1d5-42bf-8bce-5e1c94cb57f5",
   "metadata": {},
   "outputs": [],
   "source": [
    "sorted_nums = quicksort(numbers)"
   ]
  },
  {
   "cell_type": "code",
   "execution_count": 5,
   "id": "96b4b197-c4cb-4859-be66-bab39e3890b9",
   "metadata": {},
   "outputs": [
    {
     "data": {
      "text/plain": [
       "[-3, -3, -1, 0, 1, 2, 3]"
      ]
     },
     "execution_count": 5,
     "metadata": {},
     "output_type": "execute_result"
    }
   ],
   "source": [
    "sorted_nums"
   ]
  },
  {
   "cell_type": "code",
   "execution_count": 14,
   "id": "e05103f5-c1ad-4586-a70a-9c34bff1c3df",
   "metadata": {},
   "outputs": [],
   "source": [
    "# implemente binary search recursively to find element 2\n",
    "target, left, right = 0, 0, len(sorted_nums) - 1"
   ]
  },
  {
   "cell_type": "code",
   "execution_count": 15,
   "id": "e90321f0-41f1-4756-81e7-5ab5623f7c17",
   "metadata": {},
   "outputs": [],
   "source": [
    "def binary_search(nums, left, right, target):\n",
    "    if left > right:\n",
    "        return \"Element not found\"\n",
    "    mid = (left + right) // 2\n",
    "\n",
    "    if target == nums[mid]:\n",
    "        return f\"Element {target} found at index {mid}\"\n",
    "    elif target < nums[mid]:\n",
    "        return binary_search(nums, left, mid - 1, target)\n",
    "    else:\n",
    "        return binary_search(nums, mid + 1, right, target)"
   ]
  },
  {
   "cell_type": "code",
   "execution_count": 16,
   "id": "8cf48ae0-ac2e-4b1a-b42b-1d0f3c11865d",
   "metadata": {},
   "outputs": [],
   "source": [
    "r = binary_search(sorted_nums, left, right, target)"
   ]
  },
  {
   "cell_type": "code",
   "execution_count": 17,
   "id": "e1acf336-a1be-49d6-adbc-0bd477e4a365",
   "metadata": {},
   "outputs": [
    {
     "data": {
      "text/plain": [
       "'Element 0 found at index 3'"
      ]
     },
     "execution_count": 17,
     "metadata": {},
     "output_type": "execute_result"
    }
   ],
   "source": [
    "r"
   ]
  }
 ],
 "metadata": {
  "kernelspec": {
   "display_name": "Python 3",
   "language": "python",
   "name": "python3"
  },
  "language_info": {
   "codemirror_mode": {
    "name": "ipython",
    "version": 3
   },
   "file_extension": ".py",
   "mimetype": "text/x-python",
   "name": "python",
   "nbconvert_exporter": "python",
   "pygments_lexer": "ipython3",
   "version": "3.11.0"
  }
 },
 "nbformat": 4,
 "nbformat_minor": 5
}
