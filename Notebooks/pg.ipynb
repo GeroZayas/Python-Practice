{
 "cells": [
  {
   "cell_type": "code",
   "execution_count": 22,
   "id": "5572cdfe-2123-4811-8273-154f4a98e880",
   "metadata": {},
   "outputs": [],
   "source": [
    "from random import randint, shuffle"
   ]
  },
  {
   "cell_type": "code",
   "execution_count": 23,
   "id": "352ab89d-ebf1-498f-8c75-765ba6599c4f",
   "metadata": {},
   "outputs": [],
   "source": [
    "numbers = [randint(1,100) for x in range(7)]"
   ]
  },
  {
   "cell_type": "code",
   "execution_count": 24,
   "id": "886083fe-72a9-4875-a382-480724f635e0",
   "metadata": {},
   "outputs": [
    {
     "data": {
      "text/plain": [
       "[61, 67, 97, 69, 47, 82, 67]"
      ]
     },
     "execution_count": 24,
     "metadata": {},
     "output_type": "execute_result"
    }
   ],
   "source": [
    "numbers"
   ]
  },
  {
   "cell_type": "code",
   "execution_count": 25,
   "id": "37c45fdb-030e-4d3c-b5d6-7751dd698efc",
   "metadata": {},
   "outputs": [],
   "source": [
    "def insertion_sort(arr:list):\n",
    "    if len(arr) <= 1:\n",
    "        return arr\n",
    "    sorted_arr = []\n",
    "    for e in arr:\n",
    "        for i in range(len(sorted_arr)):\n",
    "            if e < sorted_arr[i]:\n",
    "                sorted_arr.insert(i, e)\n",
    "                break\n",
    "        else:\n",
    "            sorted_arr.append(e)\n",
    "    return sorted_arr"
   ]
  },
  {
   "cell_type": "code",
   "execution_count": 26,
   "id": "b939d3f6-9bc1-403c-94af-ac2800e8c57e",
   "metadata": {},
   "outputs": [
    {
     "data": {
      "text/plain": [
       "[47, 61, 67, 67, 69, 82, 97]"
      ]
     },
     "execution_count": 26,
     "metadata": {},
     "output_type": "execute_result"
    }
   ],
   "source": [
    "insertion_sort(numbers)"
   ]
  },
  {
   "cell_type": "code",
   "execution_count": 28,
   "id": "ecff1c4d-7184-4b52-bcc5-eb20d8e37c4d",
   "metadata": {},
   "outputs": [],
   "source": [
    "shuffle(numbers)"
   ]
  },
  {
   "cell_type": "code",
   "execution_count": 29,
   "id": "40ca3065-8a25-4362-a98b-c3613c639fc1",
   "metadata": {},
   "outputs": [
    {
     "data": {
      "text/plain": [
       "[97, 67, 82, 69, 67, 61, 47]"
      ]
     },
     "execution_count": 29,
     "metadata": {},
     "output_type": "execute_result"
    }
   ],
   "source": [
    "numbers"
   ]
  },
  {
   "cell_type": "code",
   "execution_count": 30,
   "id": "f800a420-2dac-4f86-90de-f249bd56bdf5",
   "metadata": {},
   "outputs": [],
   "source": [
    "def quick_sort(arr:list):\n",
    "    if len(arr) <= 1:\n",
    "        return arr\n",
    "    pivot = arr[0]\n",
    "    left = []\n",
    "    right = []\n",
    "    for e in arr[1:]:\n",
    "        if e < pivot:\n",
    "            left.append(e)\n",
    "        else:\n",
    "            right.append(e)\n",
    "    return quick_sort(left) + [pivot] + quick_sort(right)"
   ]
  },
  {
   "cell_type": "code",
   "execution_count": 31,
   "id": "13c91a37-8b9e-4d05-8f8b-44fdda811050",
   "metadata": {},
   "outputs": [
    {
     "data": {
      "text/plain": [
       "[47, 61, 67, 67, 69, 82, 97]"
      ]
     },
     "execution_count": 31,
     "metadata": {},
     "output_type": "execute_result"
    }
   ],
   "source": [
    "quick_sort(numbers)"
   ]
  },
  {
   "cell_type": "code",
   "execution_count": 32,
   "id": "b3437410-b468-4fde-be2d-da53c48a6b85",
   "metadata": {},
   "outputs": [],
   "source": [
    "sorted_numbers = quick_sort(numbers) "
   ]
  },
  {
   "cell_type": "code",
   "execution_count": 33,
   "id": "de8569d8-a7d5-4e21-8ae7-1dba1ea5dfb0",
   "metadata": {},
   "outputs": [
    {
     "data": {
      "text/plain": [
       "[47, 61, 67, 67, 69, 82, 97]"
      ]
     },
     "execution_count": 33,
     "metadata": {},
     "output_type": "execute_result"
    }
   ],
   "source": [
    "sorted_numbers"
   ]
  },
  {
   "cell_type": "code",
   "execution_count": 51,
   "id": "5214d5ea-be87-4a3e-912e-b05f20e15f49",
   "metadata": {},
   "outputs": [],
   "source": [
    "def binary_search(arr, left_index, right_index, target):\n",
    "    found = f\"Element {target} found at index \"\n",
    "    not_found = \"Element not found \"\n",
    "    \n",
    "    if left_index > right_index:\n",
    "        return not_found\n",
    "    mid = (left_index + right_index) // 2\n",
    "    \n",
    "    if target == arr[mid]:\n",
    "        return found + str(mid)\n",
    "    elif target < arr[mid]:\n",
    "        return binary_search(arr, left_index, mid - 1, target)\n",
    "    else:\n",
    "        return binary_search(arr, mid + 1, right_index, target)"
   ]
  },
  {
   "cell_type": "code",
   "execution_count": 52,
   "id": "880c1222-f4a9-4295-9956-f34c18e6e272",
   "metadata": {},
   "outputs": [],
   "source": [
    "target = 97"
   ]
  },
  {
   "cell_type": "code",
   "execution_count": 53,
   "id": "7a5c6b98-c0f7-4071-a56d-6ee444bd04ce",
   "metadata": {},
   "outputs": [
    {
     "data": {
      "text/plain": [
       "'Element 97 found at index 6'"
      ]
     },
     "execution_count": 53,
     "metadata": {},
     "output_type": "execute_result"
    }
   ],
   "source": [
    "binary_search(sorted_numbers, 0, len(sorted_numbers) - 1, target)"
   ]
  },
  {
   "cell_type": "code",
   "execution_count": 58,
   "id": "be23713a-e924-4d1b-80b5-c5631a1ed946",
   "metadata": {},
   "outputs": [
    {
     "data": {
      "text/plain": [
       "[67, 82, 61, 69, 97, 47, 67]"
      ]
     },
     "execution_count": 58,
     "metadata": {},
     "output_type": "execute_result"
    }
   ],
   "source": [
    "shuffle(numbers); numbers"
   ]
  },
  {
   "cell_type": "code",
   "execution_count": 59,
   "id": "33dcd958-17b5-4a13-a28b-db5c59946f55",
   "metadata": {},
   "outputs": [],
   "source": [
    "def merge_sort(arr:list):\n",
    "    if len(arr) <= 1:\n",
    "        return arr\n",
    "    mid = len(arr) // 2\n",
    "    left = arr[:mid]\n",
    "    right = arr[mid:]\n",
    "    \n",
    "    # recursion\n",
    "    left = merge_sort(left)\n",
    "    right = merge_sort(right)\n",
    "    \n",
    "    return merge(left, right)\n",
    "\n",
    "def merge(left, right):\n",
    "    sorted_arr = []\n",
    "    i = j = 0 # i -> left index, j -> right index\n",
    "    while i < len(left) and j < len(right):\n",
    "        if left[i] < right[j]:\n",
    "            sorted_arr.append(left[i])\n",
    "            i += 1\n",
    "        else:\n",
    "            sorted_arr.append(right[j])\n",
    "            j += 1\n",
    "    sorted_arr += left[i:]\n",
    "    sorted_arr += right[j:]\n",
    "    \n",
    "    return sorted_arr"
   ]
  },
  {
   "cell_type": "code",
   "execution_count": 60,
   "id": "0e7afb53-c789-451f-b61f-564bd04920d9",
   "metadata": {},
   "outputs": [
    {
     "data": {
      "text/plain": [
       "[47, 61, 67, 67, 69, 82, 97]"
      ]
     },
     "execution_count": 60,
     "metadata": {},
     "output_type": "execute_result"
    }
   ],
   "source": [
    "merge_sort(numbers)"
   ]
  },
  {
   "cell_type": "code",
   "execution_count": 63,
   "id": "5d35c75d-2169-4330-8207-0e0ab0bf4bab",
   "metadata": {},
   "outputs": [
    {
     "data": {
      "text/plain": [
       "[82, 47, 67, 69, 67, 61, 97]"
      ]
     },
     "execution_count": 63,
     "metadata": {},
     "output_type": "execute_result"
    }
   ],
   "source": [
    "shuffle(numbers); numbers"
   ]
  },
  {
   "cell_type": "code",
   "execution_count": 65,
   "id": "06fdf0cd-e7c9-49a9-8f3d-d7be106e83e2",
   "metadata": {},
   "outputs": [],
   "source": [
    "def selection_sort(arr):\n",
    "    size = len(arr)\n",
    "    if size <= 1:\n",
    "        return arr\n",
    "    for i in range(size):\n",
    "        min_index = i\n",
    "        for j in range(min_index + 1, size):\n",
    "            if arr[j] < arr[min_index]:\n",
    "                min_index = j\n",
    "        if i != min_index:\n",
    "            arr[i], arr[min_index] = arr[min_index], arr[i]"
   ]
  },
  {
   "cell_type": "code",
   "execution_count": 66,
   "id": "6dab697f-c08d-42a5-ab73-d78d4094ecd1",
   "metadata": {},
   "outputs": [
    {
     "data": {
      "text/plain": [
       "[82, 47, 67, 69, 67, 61, 97]"
      ]
     },
     "execution_count": 66,
     "metadata": {},
     "output_type": "execute_result"
    }
   ],
   "source": [
    "numbers"
   ]
  },
  {
   "cell_type": "code",
   "execution_count": 67,
   "id": "204b5edb-a2fa-4ca1-b506-caa7643effd6",
   "metadata": {},
   "outputs": [],
   "source": [
    "selection_sort(numbers) # in place"
   ]
  },
  {
   "cell_type": "code",
   "execution_count": 68,
   "id": "76901625-8f7d-4221-981f-c7cb80472e76",
   "metadata": {},
   "outputs": [
    {
     "data": {
      "text/plain": [
       "[47, 61, 67, 67, 69, 82, 97]"
      ]
     },
     "execution_count": 68,
     "metadata": {},
     "output_type": "execute_result"
    }
   ],
   "source": [
    "numbers"
   ]
  }
 ],
 "metadata": {
  "kernelspec": {
   "display_name": "Python 3",
   "language": "python",
   "name": "python3"
  },
  "language_info": {
   "codemirror_mode": {
    "name": "ipython",
    "version": 3
   },
   "file_extension": ".py",
   "mimetype": "text/x-python",
   "name": "python",
   "nbconvert_exporter": "python",
   "pygments_lexer": "ipython3",
   "version": "3.11.0"
  }
 },
 "nbformat": 4,
 "nbformat_minor": 5
}
