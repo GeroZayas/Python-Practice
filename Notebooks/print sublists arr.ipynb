{
 "cells": [
  {
   "cell_type": "code",
   "execution_count": 9,
   "id": "47eb49b8-d446-4630-b9a9-3d1a28e74426",
   "metadata": {},
   "outputs": [
    {
     "name": "stdout",
     "output_type": "stream",
     "text": [
      "Sublist (0, 2)\n",
      "[3, 4, -7]\n",
      "Sublist (0, 9)\n",
      "[3, 4, -7, 3, 1, 3, 1, -4, -2, -2]\n",
      "Sublist (1, 3)\n",
      "[4, -7, 3]\n",
      "Sublist (2, 5)\n",
      "[-7, 3, 1, 3]\n",
      "Sublist (3, 9)\n",
      "[3, 1, 3, 1, -4, -2, -2]\n",
      "Sublist (5, 7)\n",
      "[3, 1, -4]\n"
     ]
    }
   ],
   "source": [
    "# Function to print all sublists with a zero-sum present in a given list\n",
    "def printAllSublists(nums):\n",
    " \n",
    "    # consider all sublists starting from `i`\n",
    "    for i in range(len(nums)):\n",
    "        total = 0\n",
    "        # consider all sublists ending at `j`\n",
    "        for j in range(i, len(nums)):\n",
    "            # sum of elements so far\n",
    "            total += nums[j]\n",
    "            # if the sum is seen before, we have found a sublist with zero-sum\n",
    "            if total == 0:\n",
    "                print('Sublist', (i, j))\n",
    "                print(nums[i:j+1])\n",
    " \n",
    " \n",
    "if __name__ == '__main__':\n",
    " \n",
    "    nums = [3, 4, -7, 3, 1, 3, 1, -4, -2, -2]\n",
    "    printAllSublists(nums)"
   ]
  }
 ],
 "metadata": {
  "kernelspec": {
   "display_name": "Python 3",
   "language": "python",
   "name": "python3"
  },
  "language_info": {
   "codemirror_mode": {
    "name": "ipython",
    "version": 3
   },
   "file_extension": ".py",
   "mimetype": "text/x-python",
   "name": "python",
   "nbconvert_exporter": "python",
   "pygments_lexer": "ipython3",
   "version": "3.11.0"
  }
 },
 "nbformat": 4,
 "nbformat_minor": 5
}
