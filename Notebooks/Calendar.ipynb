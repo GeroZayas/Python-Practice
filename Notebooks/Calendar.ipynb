{
 "cells": [
  {
   "cell_type": "code",
   "execution_count": 2,
   "metadata": {},
   "outputs": [],
   "source": [
    "import calendar"
   ]
  },
  {
   "cell_type": "code",
   "execution_count": 4,
   "metadata": {},
   "outputs": [
    {
     "name": "stdout",
     "output_type": "stream",
     "text": [
      "[1, 8, 15, 22, 29]\n"
     ]
    }
   ],
   "source": [
    "year = 2024\n",
    "month = 4\n",
    "ndays = calendar.monthrange(year, month)[1]\n",
    "mondays = [\n",
    "    day\n",
    "    for day in range(1, ndays + 1)\n",
    "    if calendar.weekday(year, month, day) == calendar.MONDAY\n",
    "]\n",
    "print(mondays)"
   ]
  }
 ],
 "metadata": {
  "kernelspec": {
   "display_name": "env",
   "language": "python",
   "name": "python3"
  },
  "language_info": {
   "codemirror_mode": {
    "name": "ipython",
    "version": 3
   },
   "file_extension": ".py",
   "mimetype": "text/x-python",
   "name": "python",
   "nbconvert_exporter": "python",
   "pygments_lexer": "ipython3",
   "version": "3.12.2"
  }
 },
 "nbformat": 4,
 "nbformat_minor": 2
}
