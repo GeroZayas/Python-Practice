{
 "cells": [
  {
   "cell_type": "code",
   "execution_count": 67,
   "id": "3fb01cf2-3dd8-4719-932e-aca4492d3a84",
   "metadata": {},
   "outputs": [],
   "source": [
    "from dataclasses import dataclass"
   ]
  },
  {
   "cell_type": "code",
   "execution_count": 68,
   "id": "b7f8b467-8902-4813-830a-7f62c7486f12",
   "metadata": {},
   "outputs": [],
   "source": [
    "@dataclass\n",
    "class Book:\n",
    "    title:str\n",
    "    author:str\n",
    "    pages:int\n",
    "    publisher:str\n",
    "    isbn:str"
   ]
  },
  {
   "cell_type": "code",
   "execution_count": 72,
   "id": "d12d5f86-6d9a-4964-b942-f96f66e9014a",
   "metadata": {},
   "outputs": [],
   "source": [
    "book_1 = Book(\n",
    "    \"Too Loud a Solitude\",\n",
    "    \"Bohumil Hrabal\",\n",
    "    100,\n",
    "    'Some Publisher',\n",
    "    'ISBN3647588392'\n",
    ")"
   ]
  },
  {
   "cell_type": "code",
   "execution_count": 73,
   "id": "85a9db4f-5892-4d59-99c3-27d3b27e18e6",
   "metadata": {},
   "outputs": [
    {
     "data": {
      "text/plain": [
       "Book(title='Too Loud a Solitude', author='Bohumil Hrabal', pages=100, publisher='Some Publisher', isbn='ISBN3647588392')"
      ]
     },
     "execution_count": 73,
     "metadata": {},
     "output_type": "execute_result"
    }
   ],
   "source": [
    "book_1"
   ]
  },
  {
   "cell_type": "code",
   "execution_count": 94,
   "id": "568ca38c-40ea-4bb6-a53a-57b176b4d624",
   "metadata": {},
   "outputs": [],
   "source": [
    "book_elements_list = []\n",
    "for value in vars(book_1).values():\n",
    "    book_elements_list.append(value)"
   ]
  },
  {
   "cell_type": "code",
   "execution_count": 95,
   "id": "1ff72ae8-df36-4817-8a5a-55eb38cebdfb",
   "metadata": {},
   "outputs": [
    {
     "data": {
      "text/plain": [
       "['Too Loud a Solitude',\n",
       " 'Bohumil Hrabal',\n",
       " 100,\n",
       " 'Some Publisher',\n",
       " 'ISBN3647588392']"
      ]
     },
     "execution_count": 95,
     "metadata": {},
     "output_type": "execute_result"
    }
   ],
   "source": [
    "book_elements_list"
   ]
  },
  {
   "cell_type": "code",
   "execution_count": 96,
   "id": "4dfebddd-ce79-457b-b352-0e6fafdbec69",
   "metadata": {},
   "outputs": [
    {
     "name": "stdout",
     "output_type": "stream",
     "text": [
      "Book(title='Too Loud a Solitude', author='Bohumil Hrabal', pages=100, publisher='Some Publisher', isbn='ISBN3647588392')\n"
     ]
    }
   ],
   "source": [
    "print(book_1)"
   ]
  }
 ],
 "metadata": {
  "kernelspec": {
   "display_name": "Python 3",
   "language": "python",
   "name": "python3"
  },
  "language_info": {
   "codemirror_mode": {
    "name": "ipython",
    "version": 3
   },
   "file_extension": ".py",
   "mimetype": "text/x-python",
   "name": "python",
   "nbconvert_exporter": "python",
   "pygments_lexer": "ipython3",
   "version": "3.11.0"
  }
 },
 "nbformat": 4,
 "nbformat_minor": 5
}
