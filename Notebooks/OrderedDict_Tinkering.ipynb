{
 "cells": [
  {
   "cell_type": "code",
   "execution_count": 1,
   "id": "2b316a8a-57b3-42bb-b445-ea44d583e231",
   "metadata": {},
   "outputs": [],
   "source": [
    "from collections import OrderedDict"
   ]
  },
  {
   "cell_type": "code",
   "execution_count": 47,
   "id": "46e769ab-6413-4ef1-a8d7-a2b8e1a99c96",
   "metadata": {},
   "outputs": [],
   "source": [
    "# Create a Class for LRU Cache -> Least recently used cache\n",
    "class LRUCache:\n",
    "    # init method\n",
    "    # get method - > get the word\n",
    "    # put method -> add new words\n",
    "    def __init__(self, capacity: int):\n",
    "        self.cache = OrderedDict()\n",
    "        self.capacity = capacity\n",
    "\n",
    "    def get(self, key: int) -> int:\n",
    "        if key not in self.cache:\n",
    "            return -1\n",
    "        else:\n",
    "            # we make it the most recently looked up\n",
    "            self.cache.move_to_end(key)\n",
    "            return self.cache[key]\n",
    "\n",
    "    def put(self, key: int, value: str) -> None:\n",
    "        self.cache[key] = value\n",
    "        # then we make it the most recently looked up\n",
    "        self.cache.move_to_end(key)\n",
    "        if len(self.cache) > self.capacity:\n",
    "            # IF more than capacity THEN we pop the first element (note: last=False)\n",
    "            self.cache.popitem(last=False)\n",
    "\n",
    "    def list_of_words(self):\n",
    "        for k, w in self.cache.items():\n",
    "            print(f\"*** {k} -> {w}\")\n",
    "        return\n",
    "\n",
    "\n",
    "# WHAT FOR: To have a list of 10 items (capacity) of words looked up on a dictionary and keeping the order"
   ]
  },
  {
   "cell_type": "code",
   "execution_count": 48,
   "id": "3e24b89d-18f2-40eb-826b-39f2a5aef2a5",
   "metadata": {},
   "outputs": [],
   "source": [
    "words_looked_up_on_dict = LRUCache(capacity=5)"
   ]
  },
  {
   "cell_type": "code",
   "execution_count": 49,
   "id": "19c53118-db33-4351-9773-607ed3ce3c16",
   "metadata": {},
   "outputs": [
    {
     "data": {
      "text/plain": [
       "-1"
      ]
     },
     "execution_count": 49,
     "metadata": {},
     "output_type": "execute_result"
    }
   ],
   "source": [
    "words_looked_up_on_dict.get(1)"
   ]
  },
  {
   "cell_type": "code",
   "execution_count": 50,
   "id": "972a7800-218a-4f4b-ac97-c9e7f5a7f8a1",
   "metadata": {},
   "outputs": [],
   "source": [
    "words_looked_up_on_dict.put(key=1, value=\"Love\")"
   ]
  },
  {
   "cell_type": "code",
   "execution_count": 51,
   "id": "eb8b98ec-c920-4a93-956d-d40236b28c6d",
   "metadata": {},
   "outputs": [],
   "source": [
    "words_looked_up_on_dict.put(key=2, value=\"Sun\")"
   ]
  },
  {
   "cell_type": "code",
   "execution_count": 52,
   "id": "e864e415-2d75-497e-b0f4-f6170823cd59",
   "metadata": {},
   "outputs": [],
   "source": [
    "words_looked_up_on_dict.put(key=3, value=\"Moon\")"
   ]
  },
  {
   "cell_type": "code",
   "execution_count": 53,
   "id": "44507d97-8bc4-4ce8-b78a-622e4178a90a",
   "metadata": {},
   "outputs": [],
   "source": [
    "words_looked_up_on_dict.put(key=4, value=\"Beach\")"
   ]
  },
  {
   "cell_type": "code",
   "execution_count": 54,
   "id": "8764c825-2a0d-4c68-8db2-7b1195ab3f78",
   "metadata": {},
   "outputs": [],
   "source": [
    "words_looked_up_on_dict.put(key=5, value=\"Movie\")"
   ]
  },
  {
   "cell_type": "code",
   "execution_count": 55,
   "id": "ebd6282e-ab2c-4628-992f-bbd5fe96142d",
   "metadata": {},
   "outputs": [
    {
     "data": {
      "text/plain": [
       "'Beach'"
      ]
     },
     "execution_count": 55,
     "metadata": {},
     "output_type": "execute_result"
    }
   ],
   "source": [
    "words_looked_up_on_dict.get(4)"
   ]
  },
  {
   "cell_type": "code",
   "execution_count": 56,
   "id": "4bc9bfd0-079d-45b9-9a90-b2b243164cca",
   "metadata": {},
   "outputs": [
    {
     "name": "stdout",
     "output_type": "stream",
     "text": [
      "*** 1 -> Love\n",
      "*** 2 -> Sun\n",
      "*** 3 -> Moon\n",
      "*** 5 -> Movie\n",
      "*** 4 -> Beach\n"
     ]
    }
   ],
   "source": [
    "words_looked_up_on_dict.list_of_words()"
   ]
  },
  {
   "cell_type": "code",
   "execution_count": 57,
   "id": "5c641177-51ab-45cd-bad2-95cafa97930a",
   "metadata": {},
   "outputs": [
    {
     "data": {
      "text/plain": [
       "'Moon'"
      ]
     },
     "execution_count": 57,
     "metadata": {},
     "output_type": "execute_result"
    }
   ],
   "source": [
    "words_looked_up_on_dict.get(3)"
   ]
  },
  {
   "cell_type": "code",
   "execution_count": 58,
   "id": "f3349cb0-ff3c-47a5-bacb-0947a7fd3e03",
   "metadata": {},
   "outputs": [
    {
     "name": "stdout",
     "output_type": "stream",
     "text": [
      "*** 1 -> Love\n",
      "*** 2 -> Sun\n",
      "*** 5 -> Movie\n",
      "*** 4 -> Beach\n",
      "*** 3 -> Moon\n"
     ]
    }
   ],
   "source": [
    "words_looked_up_on_dict.list_of_words()"
   ]
  },
  {
   "cell_type": "code",
   "execution_count": 59,
   "id": "511335c8-4e8b-48b9-b140-bba313368ab1",
   "metadata": {},
   "outputs": [],
   "source": [
    "words_looked_up_on_dict.put(6, \"Mum\")"
   ]
  },
  {
   "cell_type": "code",
   "execution_count": 60,
   "id": "37df8726-a943-4eab-a064-79602603ba23",
   "metadata": {},
   "outputs": [
    {
     "name": "stdout",
     "output_type": "stream",
     "text": [
      "*** 2 -> Sun\n",
      "*** 5 -> Movie\n",
      "*** 4 -> Beach\n",
      "*** 3 -> Moon\n",
      "*** 6 -> Mum\n"
     ]
    }
   ],
   "source": [
    "words_looked_up_on_dict.list_of_words()"
   ]
  },
  {
   "cell_type": "code",
   "execution_count": null,
   "id": "ee8deadb-6150-4d71-b99b-f0e8225224e7",
   "metadata": {},
   "outputs": [],
   "source": []
  }
 ],
 "metadata": {
  "kernelspec": {
   "display_name": "Python 3 (ipykernel)",
   "language": "python",
   "name": "python3"
  },
  "language_info": {
   "codemirror_mode": {
    "name": "ipython",
    "version": 3
   },
   "file_extension": ".py",
   "mimetype": "text/x-python",
   "name": "python",
   "nbconvert_exporter": "python",
   "pygments_lexer": "ipython3",
   "version": "3.11.4"
  }
 },
 "nbformat": 4,
 "nbformat_minor": 5
}
