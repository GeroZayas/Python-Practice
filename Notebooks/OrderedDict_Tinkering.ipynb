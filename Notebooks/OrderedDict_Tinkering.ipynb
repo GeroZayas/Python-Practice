{
 "cells": [
  {
   "cell_type": "code",
   "execution_count": 1,
   "id": "2b316a8a-57b3-42bb-b445-ea44d583e231",
   "metadata": {},
   "outputs": [],
   "source": [
    "from collections import OrderedDict"
   ]
  },
  {
   "cell_type": "code",
   "execution_count": null,
   "id": "46e769ab-6413-4ef1-a8d7-a2b8e1a99c96",
   "metadata": {},
   "outputs": [],
   "source": [
    "# Create a Class for LRU Cache -> Least recently used cache\n",
    "class LRUCache:\n",
    "    # init method\n",
    "    # get method - > get the word\n",
    "    # put method -> add new words\n",
    "    def __init__(self, capacity: int):\n",
    "        self.cache = OrderedDict()\n",
    "        self.capacity = capacity\n",
    "    \n",
    "    def get(self, key: int) -> int:\n",
    "        if key not in self.cache:\n",
    "            return -1\n",
    "        else:\n",
    "            # we make it the most recently looked up\n",
    "            self.cache.move_to_end(key)\n",
    "            return self.cache[key]\n",
    "\n",
    "    def put(self, key: int, value: str) -> None:\n",
    "        self.cache[key] = value\n",
    "        # then we make it the most recently looked up\n",
    "        self.cache.move_to_end(key)\n",
    "        if len(self.cache) > self.capacity:\n",
    "            # IF more than capacity THEN we pop the first element (note: last=False) \n",
    "            self.cache.popitem(last=False)\n",
    "\n",
    "# WHAT FOR: To have a list of 10 items (capacity) of words looked up on a dictionary and keeping the order"
   ]
  }
 ],
 "metadata": {
  "kernelspec": {
   "display_name": "Python 3 (ipykernel)",
   "language": "python",
   "name": "python3"
  },
  "language_info": {
   "codemirror_mode": {
    "name": "ipython",
    "version": 3
   },
   "file_extension": ".py",
   "mimetype": "text/x-python",
   "name": "python",
   "nbconvert_exporter": "python",
   "pygments_lexer": "ipython3",
   "version": "3.11.4"
  }
 },
 "nbformat": 4,
 "nbformat_minor": 5
}
