{
 "cells": [
  {
   "cell_type": "markdown",
   "id": "c020146e-1fea-4446-b4e8-72ada51b9624",
   "metadata": {},
   "source": [
    "If we were to set up a Tic-Tac-Toe game, we would want to know whether the board's current state is solved, wouldn't we? Our goal is to create a function that will check that for us!\n",
    "\n",
    "Assume that the board comes in the form of a 3x3 array, where the value is 0 if a spot is empty, 1 if it is an \"X\", or 2 if it is an \"O\", like so:\n",
    "\n",
    "[[0, 0, 1],\n",
    " [0, 1, 2],\n",
    " [2, 1, 0]]\n",
    "\n",
    "We want our function to return:\n",
    "\n",
    "    -1 if the board is not yet finished AND no one has won yet (there are empty spots),\n",
    "    1 if \"X\" won,\n",
    "    2 if \"O\" won,\n",
    "    0 if it's a cat's game (i.e. a draw).\n",
    "\n",
    "You may assume that the board passed in is valid in the context of a game of Tic-Tac-Toe.\n"
   ]
  },
  {
   "cell_type": "code",
   "execution_count": 14,
   "id": "d79f3524-7151-428f-849a-a801b0f0ac0b",
   "metadata": {},
   "outputs": [],
   "source": [
    "# My solution (27 dec 2023)\n",
    "def is_solved(board: list):\n",
    "    for row in board:\n",
    "        if len(set(row)) == 1 and set(row).pop() != 0:\n",
    "            return row[0]\n",
    "    columns = []\n",
    "    for i, row in enumerate(board):\n",
    "        columns.append([row[i] for row in board])\n",
    "    for column in columns:\n",
    "        if len(set(column)) == 1 and set(column).pop() != 0:\n",
    "            return column[0]\n",
    "    zero_counter = 0\n",
    "    for row in board:\n",
    "        if 0 in row:\n",
    "            zero_counter += 1\n",
    "    if zero_counter == 0:\n",
    "        return 0\n",
    "    diagonal_left = [row[i] for i, row in enumerate(board)]\n",
    "    if set(diagonal_left) == {1}:\n",
    "        return 1\n",
    "    elif set(diagonal_left) == {2}:\n",
    "        return 2\n",
    "    for row in board:\n",
    "        row.reverse()\n",
    "    diagonal_right = [row[i] for i, row in enumerate(board)]\n",
    "    if set(diagonal_right) == {1}:\n",
    "        return 1\n",
    "    elif set(diagonal_right) == {2}:\n",
    "        return 2\n",
    "    return -1"
   ]
  },
  {
   "cell_type": "code",
   "execution_count": 15,
   "id": "7c953efb-e990-440b-b2d9-60adc43fc692",
   "metadata": {},
   "outputs": [],
   "source": [
    "board = [[0, 0, 1], [0, 1, 2], [2, 1, 0]]"
   ]
  },
  {
   "cell_type": "code",
   "execution_count": 16,
   "id": "1969091a-8450-4a9e-98cc-59fd911ff253",
   "metadata": {},
   "outputs": [
    {
     "data": {
      "text/plain": [
       "-1"
      ]
     },
     "execution_count": 16,
     "metadata": {},
     "output_type": "execute_result"
    }
   ],
   "source": [
    "is_solved(board)"
   ]
  },
  {
   "cell_type": "code",
   "execution_count": 17,
   "id": "6be638a4-0f13-4e08-b16f-dca86dda56b6",
   "metadata": {},
   "outputs": [],
   "source": [
    "board = [[1, 1, 1], [0, 2, 2], [0, 0, 0]]"
   ]
  },
  {
   "cell_type": "code",
   "execution_count": 18,
   "id": "9106db2a-6b03-4004-bceb-446099f4fd48",
   "metadata": {},
   "outputs": [
    {
     "data": {
      "text/plain": [
       "1"
      ]
     },
     "execution_count": 18,
     "metadata": {},
     "output_type": "execute_result"
    }
   ],
   "source": [
    "is_solved(board)"
   ]
  },
  {
   "cell_type": "code",
   "execution_count": 19,
   "id": "1ef62935-e710-4c74-9f17-d3f363b8807b",
   "metadata": {},
   "outputs": [],
   "source": [
    "board = [[2, 1, 2], [2, 1, 1], [1, 1, 2]]"
   ]
  },
  {
   "cell_type": "code",
   "execution_count": 20,
   "id": "8bfdabb0-5216-4697-a0a8-6bf39a8185e4",
   "metadata": {},
   "outputs": [
    {
     "data": {
      "text/plain": [
       "1"
      ]
     },
     "execution_count": 20,
     "metadata": {},
     "output_type": "execute_result"
    }
   ],
   "source": [
    "is_solved(board)"
   ]
  },
  {
   "cell_type": "code",
   "execution_count": 21,
   "id": "47f248f4-ed2c-4a7e-ada1-05ed4632e8d4",
   "metadata": {},
   "outputs": [],
   "source": [
    "board = [[2, 1, 2], [2, 1, 1], [1, 2, 1]]"
   ]
  },
  {
   "cell_type": "code",
   "execution_count": 22,
   "id": "b5115197-81ec-4806-ad64-993321485185",
   "metadata": {},
   "outputs": [
    {
     "data": {
      "text/plain": [
       "0"
      ]
     },
     "execution_count": 22,
     "metadata": {},
     "output_type": "execute_result"
    }
   ],
   "source": [
    "is_solved(board)"
   ]
  },
  {
   "cell_type": "code",
   "execution_count": 23,
   "id": "fbb46e9d-b6f6-4d1a-90bd-ad2937ab58b3",
   "metadata": {},
   "outputs": [],
   "source": [
    "board = [[1, 0, 2], [0, 1, 1], [0, 2, 1]]"
   ]
  },
  {
   "cell_type": "code",
   "execution_count": 24,
   "id": "9ec90a22-0687-4be7-a1f0-e9e1954a6380",
   "metadata": {},
   "outputs": [
    {
     "data": {
      "text/plain": [
       "1"
      ]
     },
     "execution_count": 24,
     "metadata": {},
     "output_type": "execute_result"
    }
   ],
   "source": [
    "is_solved(board)"
   ]
  },
  {
   "cell_type": "code",
   "execution_count": 25,
   "id": "319a0fa2-02d4-4f00-8b00-511c22d89bbe",
   "metadata": {},
   "outputs": [],
   "source": [
    "board = [[1, 0, 2], [0, 2, 1], [2, 1, 1]]"
   ]
  },
  {
   "cell_type": "code",
   "execution_count": 26,
   "id": "5aedb6ee-961c-40e6-bf0f-6217c2d4ccd4",
   "metadata": {},
   "outputs": [
    {
     "data": {
      "text/plain": [
       "2"
      ]
     },
     "execution_count": 26,
     "metadata": {},
     "output_type": "execute_result"
    }
   ],
   "source": [
    "is_solved(board)"
   ]
  },
  {
   "cell_type": "code",
   "execution_count": 27,
   "id": "7e8a4f4a-75dd-4610-863a-4919005f2d9f",
   "metadata": {},
   "outputs": [],
   "source": [
    "# others' solutions"
   ]
  },
  {
   "cell_type": "code",
   "execution_count": 28,
   "id": "4bffaa51-8162-4d1e-9931-b3a32fb6c626",
   "metadata": {},
   "outputs": [],
   "source": [
    "def isSolved(board):\n",
    "    for i in range(0, 3):\n",
    "        if board[i][0] == board[i][1] == board[i][2] != 0:\n",
    "            return board[i][0]\n",
    "        elif board[0][i] == board[1][i] == board[2][i] != 0:\n",
    "            return board[0][i]\n",
    "\n",
    "    if board[0][0] == board[1][1] == board[2][2] != 0:\n",
    "        return board[0][0]\n",
    "    elif board[0][2] == board[1][1] == board[2][0] != 0:\n",
    "        return board[0][0]\n",
    "\n",
    "    elif 0 not in board[0] and 0 not in board[1] and 0 not in board[2]:\n",
    "        return 0\n",
    "    else:\n",
    "        return -1"
   ]
  },
  {
   "cell_type": "code",
   "execution_count": 30,
   "id": "370947d3-a708-49fb-8e98-b4ea6a455d30",
   "metadata": {},
   "outputs": [],
   "source": [
    "# https://www.codewars.com/kata/525caa5c1bf619d28c000335/solutions/python"
   ]
  },
  {
   "cell_type": "code",
   "execution_count": null,
   "id": "cbc87bdb-507b-498a-9ca8-a3696f91746f",
   "metadata": {},
   "outputs": [],
   "source": []
  }
 ],
 "metadata": {
  "kernelspec": {
   "display_name": "Python 3 (ipykernel)",
   "language": "python",
   "name": "python3"
  },
  "language_info": {
   "codemirror_mode": {
    "name": "ipython",
    "version": 3
   },
   "file_extension": ".py",
   "mimetype": "text/x-python",
   "name": "python",
   "nbconvert_exporter": "python",
   "pygments_lexer": "ipython3",
   "version": "3.11.4"
  }
 },
 "nbformat": 4,
 "nbformat_minor": 5
}
