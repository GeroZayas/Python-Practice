{
 "cells": [
  {
   "cell_type": "code",
   "execution_count": 93,
   "id": "9d08d8e0-b538-47e5-8630-8722589087ee",
   "metadata": {},
   "outputs": [],
   "source": [
    "class LinkedList:\n",
    "    def __init__(self, keys=None):\n",
    "        self._head = None\n",
    "        if keys is not None:\n",
    "            for i in reversed(range(len(keys))):\n",
    "                self._head = Node(data=keys[i], next=self._head)\n",
    "    @property\n",
    "    def head(self):\n",
    "        return self._head\n",
    "\n",
    "    @head.getter\n",
    "    def head(self):\n",
    "        return \"The head is of the Linked List is: \" + self._head.data\n",
    "                \n",
    "    def __repr__(self):\n",
    "        head = self._head\n",
    "        representation = ''\n",
    "        while head is not None:\n",
    "            representation += (str(head.data)) + \"-> \"\n",
    "            head = head.next\n",
    "        \n",
    "        return representation + 'None'\n",
    "\n",
    "class Node:\n",
    "    def __init__(self, data=None, next=None):\n",
    "        self.data = data\n",
    "        self.next = next"
   ]
  },
  {
   "cell_type": "code",
   "execution_count": 94,
   "id": "390bbb84-a3c4-43c0-b3cd-9932691c92da",
   "metadata": {},
   "outputs": [],
   "source": [
    "keys = [1,2,3,4]"
   ]
  },
  {
   "cell_type": "code",
   "execution_count": 95,
   "id": "36b62b3a-abee-41b2-9ecd-86c1914c54c3",
   "metadata": {},
   "outputs": [
    {
     "data": {
      "text/plain": [
       "[1, 2, 3, 4]"
      ]
     },
     "execution_count": 95,
     "metadata": {},
     "output_type": "execute_result"
    }
   ],
   "source": [
    "keys"
   ]
  },
  {
   "cell_type": "code",
   "execution_count": 96,
   "id": "10708fe2-2dc2-43af-a836-f52c4484d2d4",
   "metadata": {},
   "outputs": [],
   "source": [
    "llist = LinkedList(keys)"
   ]
  },
  {
   "cell_type": "code",
   "execution_count": 97,
   "id": "468a8119-4dbd-4761-a721-2a4e850b707d",
   "metadata": {},
   "outputs": [
    {
     "data": {
      "text/plain": [
       "1-> 2-> 3-> 4-> None"
      ]
     },
     "execution_count": 97,
     "metadata": {},
     "output_type": "execute_result"
    }
   ],
   "source": [
    "llist"
   ]
  },
  {
   "cell_type": "code",
   "execution_count": 98,
   "id": "bb4d4740-bc7f-4aeb-9e58-44b39bf7830a",
   "metadata": {},
   "outputs": [],
   "source": [
    "names_llist = LinkedList(keys= 'Gero Mar Migdalia'.split())"
   ]
  },
  {
   "cell_type": "code",
   "execution_count": 99,
   "id": "240d8a01-f020-4f6a-98c1-0b49bb0bb7f6",
   "metadata": {},
   "outputs": [
    {
     "data": {
      "text/plain": [
       "Gero-> Mar-> Migdalia-> None"
      ]
     },
     "execution_count": 99,
     "metadata": {},
     "output_type": "execute_result"
    }
   ],
   "source": [
    "names_llist"
   ]
  },
  {
   "cell_type": "code",
   "execution_count": 100,
   "id": "3cb12977-2934-4a09-b44d-106b39aa67a5",
   "metadata": {},
   "outputs": [
    {
     "data": {
      "text/plain": [
       "'The head is of the Linked List is: Gero'"
      ]
     },
     "execution_count": 100,
     "metadata": {},
     "output_type": "execute_result"
    }
   ],
   "source": [
    "names_llist.head"
   ]
  }
 ],
 "metadata": {
  "kernelspec": {
   "display_name": "Python 3 (ipykernel)",
   "language": "python",
   "name": "python3"
  },
  "language_info": {
   "codemirror_mode": {
    "name": "ipython",
    "version": 3
   },
   "file_extension": ".py",
   "mimetype": "text/x-python",
   "name": "python",
   "nbconvert_exporter": "python",
   "pygments_lexer": "ipython3",
   "version": "3.12.1"
  }
 },
 "nbformat": 4,
 "nbformat_minor": 5
}
