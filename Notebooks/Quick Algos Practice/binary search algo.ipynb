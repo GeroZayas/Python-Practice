{
 "cells": [
  {
   "cell_type": "markdown",
   "id": "d9d6108d-28fa-4197-ac72-99f62a2e995b",
   "metadata": {
    "tags": []
   },
   "source": [
    "## The arrays"
   ]
  },
  {
   "cell_type": "code",
   "execution_count": 61,
   "id": "b28149bd-c7b1-4611-bad0-593b9fa12854",
   "metadata": {},
   "outputs": [],
   "source": [
    "nums1 = [2, 3, 5, 7, 9]  # target 7\n",
    "nums2 = [1, 2, 3, 4, 4, 5, 6, 7]  # target 4\n",
    "nums3 = [1, 4, 5, 8, 9]  # target 2"
   ]
  },
  {
   "cell_type": "markdown",
   "id": "0fb13c78-e83f-4869-9c97-3fc71d2ea0b3",
   "metadata": {
    "tags": []
   },
   "source": [
    "## PROBLEM"
   ]
  },
  {
   "cell_type": "code",
   "execution_count": 62,
   "id": "2075439c-286f-4a44-9766-a48cb7a31fbe",
   "metadata": {},
   "outputs": [],
   "source": [
    "# Given a sorted array of n integers and a target value,\n",
    "# determine if the target exists in the array in\n",
    "# logarithmic time using the binary search algorithm.\n",
    "# If target exists in the array, print the index of it."
   ]
  },
  {
   "cell_type": "markdown",
   "id": "2a39aa3b-ad67-4b7f-8a83-99fa229a0f0d",
   "metadata": {
    "tags": []
   },
   "source": [
    "## BINARY SEARCH ITERATIVELY"
   ]
  },
  {
   "cell_type": "code",
   "execution_count": null,
   "id": "731b36cd-9b98-454c-8bf7-f95092391fd7",
   "metadata": {},
   "outputs": [],
   "source": [
    "# we use binary search algo here to find the index of a target elem in an array\n",
    "# this is BINARY SEARCH ITERATIVELY"
   ]
  },
  {
   "cell_type": "code",
   "execution_count": 57,
   "id": "bb4dc60d-7a91-4ebe-b2d2-b11f49b540d2",
   "metadata": {},
   "outputs": [],
   "source": [
    "def find_elem_index(num_arr: list[int], target: int):\n",
    "    # Binary search iteratively\n",
    "    left, right = 0, len(num_arr) - 1\n",
    "    while left <= right:\n",
    "        mid = (left + right) // 2\n",
    "        if target == num_arr[mid]:\n",
    "            return mid\n",
    "        elif target < num_arr[mid]:\n",
    "            right = mid - 1\n",
    "        else:\n",
    "            left = mid + 1\n",
    "    return \"Target element not in array\""
   ]
  },
  {
   "cell_type": "code",
   "execution_count": 65,
   "id": "d6d7498a-0bb1-457c-a669-3cd211f89d7b",
   "metadata": {
    "tags": []
   },
   "outputs": [
    {
     "data": {
      "text/plain": [
       "3"
      ]
     },
     "execution_count": 65,
     "metadata": {},
     "output_type": "execute_result"
    }
   ],
   "source": [
    "find_elem_index(nums1, 7)"
   ]
  },
  {
   "cell_type": "code",
   "execution_count": 89,
   "id": "65c50e2a-d01c-4b29-9c46-e23d12074c7e",
   "metadata": {},
   "outputs": [
    {
     "data": {
      "text/plain": [
       "3"
      ]
     },
     "execution_count": 89,
     "metadata": {},
     "output_type": "execute_result"
    }
   ],
   "source": [
    "find_elem_index(nums2, 4)"
   ]
  },
  {
   "cell_type": "code",
   "execution_count": 90,
   "id": "7f3c652f-cbb8-43cd-8d78-aaab50d87942",
   "metadata": {},
   "outputs": [
    {
     "data": {
      "text/plain": [
       "'Target element not in array'"
      ]
     },
     "execution_count": 90,
     "metadata": {},
     "output_type": "execute_result"
    }
   ],
   "source": [
    "find_elem_index(nums3, 2)"
   ]
  },
  {
   "cell_type": "markdown",
   "id": "af902751-6e7a-4db7-b4db-7d720f9b0af7",
   "metadata": {
    "tags": []
   },
   "source": [
    "## BINARY SEARCH RECURSIVELY"
   ]
  },
  {
   "cell_type": "code",
   "execution_count": null,
   "id": "0be3953b-57ac-4081-a51c-c07a170d61d5",
   "metadata": {},
   "outputs": [],
   "source": [
    "# this is BINARY SEARCH RECURSIVELY"
   ]
  },
  {
   "cell_type": "code",
   "execution_count": 97,
   "id": "03bee80d-e780-493f-9186-92e527d40b4a",
   "metadata": {},
   "outputs": [],
   "source": [
    "def binary_search(nums: list[int], left: int, right: int, target: int):\n",
    "    \"\"\"\n",
    "    Returns index of target element in arr nums if found, else -1\n",
    "    \"\"\"\n",
    "    if left > right:\n",
    "        return -1\n",
    "\n",
    "    mid = (left + right) // 2\n",
    "\n",
    "    if target == nums[mid]:\n",
    "        return mid\n",
    "    elif target < nums[mid]:\n",
    "        return binary_search(nums, left, mid - 1, target)\n",
    "    else:\n",
    "        return binary_search(nums, mid + 1, right, target)"
   ]
  },
  {
   "cell_type": "code",
   "execution_count": 98,
   "id": "17ea5eb1-00af-4e71-8c35-02911f16662c",
   "metadata": {},
   "outputs": [
    {
     "data": {
      "text/plain": [
       "[1, 2, 3, 4, 4, 5, 6, 7]"
      ]
     },
     "execution_count": 98,
     "metadata": {},
     "output_type": "execute_result"
    }
   ],
   "source": [
    "nums2"
   ]
  },
  {
   "cell_type": "code",
   "execution_count": 99,
   "id": "c9eee095-e393-4f49-a896-58ff68378973",
   "metadata": {},
   "outputs": [],
   "source": [
    "left, right = 0, len(nums2) - 1"
   ]
  },
  {
   "cell_type": "code",
   "execution_count": 100,
   "id": "1e428f65-4bbc-4bde-916b-5367b1e7fe58",
   "metadata": {},
   "outputs": [],
   "source": [
    "target = 4"
   ]
  },
  {
   "cell_type": "code",
   "execution_count": 105,
   "id": "c430ca28-96af-40e3-ba55-bed7588582f1",
   "metadata": {},
   "outputs": [],
   "source": [
    "index = binary_search(nums2, left, right, target)"
   ]
  },
  {
   "cell_type": "code",
   "execution_count": 106,
   "id": "27dfb0bf-587c-413a-a96f-f5b2fa3b4afb",
   "metadata": {},
   "outputs": [
    {
     "data": {
      "text/plain": [
       "3"
      ]
     },
     "execution_count": 106,
     "metadata": {},
     "output_type": "execute_result"
    }
   ],
   "source": [
    "index"
   ]
  },
  {
   "cell_type": "code",
   "execution_count": 107,
   "id": "c33191ee-7ec8-453d-85ac-8bb70e1a7d9e",
   "metadata": {},
   "outputs": [
    {
     "name": "stdout",
     "output_type": "stream",
     "text": [
      "The target is at this index:  3\n"
     ]
    }
   ],
   "source": [
    "if index != -1:\n",
    "    print(\"The target is at this index: \", index)\n",
    "else:\n",
    "    print(\"Target not found\")"
   ]
  },
  {
   "cell_type": "code",
   "execution_count": null,
   "id": "ab821a37-2de3-441b-bcd4-cdab4f215bc8",
   "metadata": {},
   "outputs": [],
   "source": [
    "binarySearch(nums)"
   ]
  }
 ],
 "metadata": {
  "kernelspec": {
   "display_name": "Python 3",
   "language": "python",
   "name": "python3"
  },
  "language_info": {
   "codemirror_mode": {
    "name": "ipython",
    "version": 3
   },
   "file_extension": ".py",
   "mimetype": "text/x-python",
   "name": "python",
   "nbconvert_exporter": "python",
   "pygments_lexer": "ipython3",
   "version": "3.11.0"
  }
 },
 "nbformat": 4,
 "nbformat_minor": 5
}
