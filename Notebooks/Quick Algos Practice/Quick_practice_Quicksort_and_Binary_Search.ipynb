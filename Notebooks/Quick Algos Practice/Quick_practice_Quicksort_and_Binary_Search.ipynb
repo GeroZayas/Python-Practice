{
 "cells": [
  {
   "cell_type": "code",
   "execution_count": 3,
   "id": "c2dd4e56-0ea1-4a27-bcda-6b1862d1da75",
   "metadata": {},
   "outputs": [],
   "source": [
    "def quicksort(nums: list):\n",
    "    if len(nums) <= 1:\n",
    "        return nums\n",
    "    pivot = nums[0]\n",
    "    left = [e for e in nums[1:] if e < pivot]\n",
    "    right = [e for e in nums[1:] if e >= pivot]\n",
    "    return quicksort(left) + [pivot] + quicksort(right)"
   ]
  },
  {
   "cell_type": "code",
   "execution_count": 7,
   "id": "1df1ae2c-9fc6-470d-a5a3-210eb8760709",
   "metadata": {},
   "outputs": [],
   "source": [
    "from random import randint\n",
    "\n",
    "random_list_nums = [randint(1, 100) for _ in range(20)]"
   ]
  },
  {
   "cell_type": "code",
   "execution_count": 8,
   "id": "f4efceda-6248-4e11-9c95-ff6712e28808",
   "metadata": {},
   "outputs": [
    {
     "data": {
      "text/plain": [
       "[32, 84, 84, 58, 83, 58, 67, 65, 23, 37, 48, 11, 42, 52, 54, 71, 73, 2, 34, 93]"
      ]
     },
     "execution_count": 8,
     "metadata": {},
     "output_type": "execute_result"
    }
   ],
   "source": [
    "random_list_nums"
   ]
  },
  {
   "cell_type": "code",
   "execution_count": 9,
   "id": "5099b400-7f08-4ac4-b306-3eb90e995530",
   "metadata": {},
   "outputs": [],
   "source": [
    "sorted_nums = quicksort(random_list_nums)"
   ]
  },
  {
   "cell_type": "code",
   "execution_count": 10,
   "id": "e22fb9b9-9a01-44fb-9114-3c9833075678",
   "metadata": {},
   "outputs": [
    {
     "data": {
      "text/plain": [
       "[2, 11, 23, 32, 34, 37, 42, 48, 52, 54, 58, 58, 65, 67, 71, 73, 83, 84, 84, 93]"
      ]
     },
     "execution_count": 10,
     "metadata": {},
     "output_type": "execute_result"
    }
   ],
   "source": [
    "sorted_nums"
   ]
  },
  {
   "cell_type": "code",
   "execution_count": 11,
   "id": "19629eb6-2378-4134-94fe-2b31393e0021",
   "metadata": {},
   "outputs": [],
   "source": [
    "target = 54"
   ]
  },
  {
   "cell_type": "code",
   "execution_count": 12,
   "id": "be258b5c-5237-4992-889b-a6701cbe2d1f",
   "metadata": {},
   "outputs": [],
   "source": [
    "def binary_search(nums: list, target: int) -> str:\n",
    "    left, right = 0, len(nums) - 1\n",
    "    while left <= right:\n",
    "        mid = (left + right) // 2\n",
    "        if target == nums[mid]:\n",
    "            return f\"Target {target} found at index {mid}\"\n",
    "        elif target < nums[mid]:\n",
    "            right = mid - 1\n",
    "        else:\n",
    "            left = mid + 1\n",
    "    return f\"Target {target} not found in array\""
   ]
  },
  {
   "cell_type": "code",
   "execution_count": 13,
   "id": "d7d54bba-2b5a-4643-a2dc-f18b2096738b",
   "metadata": {},
   "outputs": [
    {
     "data": {
      "text/plain": [
       "54"
      ]
     },
     "execution_count": 13,
     "metadata": {},
     "output_type": "execute_result"
    }
   ],
   "source": [
    "target"
   ]
  },
  {
   "cell_type": "code",
   "execution_count": 14,
   "id": "339d82b3-4b86-4f25-b745-a0f1dc849cd4",
   "metadata": {},
   "outputs": [
    {
     "data": {
      "text/plain": [
       "'Target 54 found at index 9'"
      ]
     },
     "execution_count": 14,
     "metadata": {},
     "output_type": "execute_result"
    }
   ],
   "source": [
    "binary_search(sorted_nums, target)"
   ]
  },
  {
   "cell_type": "code",
   "execution_count": null,
   "id": "bc1c1831-5628-4434-bc03-dd4ba057d281",
   "metadata": {},
   "outputs": [],
   "source": []
  }
 ],
 "metadata": {
  "kernelspec": {
   "display_name": "Python 3 (ipykernel)",
   "language": "python",
   "name": "python3"
  },
  "language_info": {
   "codemirror_mode": {
    "name": "ipython",
    "version": 3
   },
   "file_extension": ".py",
   "mimetype": "text/x-python",
   "name": "python",
   "nbconvert_exporter": "python",
   "pygments_lexer": "ipython3",
   "version": "3.12.1"
  }
 },
 "nbformat": 4,
 "nbformat_minor": 5
}
