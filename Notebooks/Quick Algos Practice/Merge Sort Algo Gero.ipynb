{
 "cells": [
  {
   "cell_type": "code",
   "execution_count": 2,
   "id": "af161b72-88ae-4c6d-a686-c03db27150c6",
   "metadata": {},
   "outputs": [],
   "source": [
    "from random import randint\n",
    "\n",
    "dis_arr = [randint(1,101) for _ in range(9)]"
   ]
  },
  {
   "cell_type": "code",
   "execution_count": 3,
   "id": "28a50712-df46-4c50-8f48-2520bd7215bb",
   "metadata": {},
   "outputs": [
    {
     "data": {
      "text/plain": [
       "[63, 47, 57, 44, 72, 92, 39, 72, 11]"
      ]
     },
     "execution_count": 3,
     "metadata": {},
     "output_type": "execute_result"
    }
   ],
   "source": [
    "dis_arr"
   ]
  },
  {
   "cell_type": "code",
   "execution_count": 8,
   "id": "32f8f505-4b6f-4419-a8db-6338c4fe5da1",
   "metadata": {},
   "outputs": [],
   "source": [
    "# Implement Merge Sort Algorithm\n",
    "def merge_sort(arr:list)-> list:\n",
    "    if len(arr) <= 1:\n",
    "        return arr\n",
    "    \n",
    "    mid = len(arr) // 2\n",
    "    left_half = arr[:mid]\n",
    "    right_half = arr[mid:]\n",
    "    \n",
    "    left_half = merge_sort(left_half)\n",
    "    right_half = merge_sort(right_half)\n",
    "    \n",
    "    return merge(left_half, right_half)\n",
    "    \n",
    "def merge(left:list, right:list)-> list:\n",
    "    ord_arr = []\n",
    "    \n",
    "    left_idx = right_idx = 0\n",
    "    \n",
    "    while left_idx < len(left) and right_idx < len(right):\n",
    "        if left[left_idx] < right[right_idx]:\n",
    "            ord_arr.append(left[left_idx])\n",
    "            left_idx += 1\n",
    "        else:\n",
    "            ord_arr.append(right[right_idx])\n",
    "            right_idx += 1\n",
    "            \n",
    "    ord_arr += left[left_idx:]\n",
    "    ord_arr += right[right_idx:]\n",
    "    \n",
    "    return ord_arr"
   ]
  },
  {
   "cell_type": "code",
   "execution_count": 9,
   "id": "017599d8-a5e8-4e26-ac87-7c52abf24beb",
   "metadata": {},
   "outputs": [
    {
     "data": {
      "text/plain": [
       "[11, 39, 44, 47, 57, 63, 72, 72, 92]"
      ]
     },
     "execution_count": 9,
     "metadata": {},
     "output_type": "execute_result"
    }
   ],
   "source": [
    "merge_sort(dis_arr)"
   ]
  }
 ],
 "metadata": {
  "kernelspec": {
   "display_name": "Python 3",
   "language": "python",
   "name": "python3"
  },
  "language_info": {
   "codemirror_mode": {
    "name": "ipython",
    "version": 3
   },
   "file_extension": ".py",
   "mimetype": "text/x-python",
   "name": "python",
   "nbconvert_exporter": "python",
   "pygments_lexer": "ipython3",
   "version": "3.11.0"
  }
 },
 "nbformat": 4,
 "nbformat_minor": 5
}
