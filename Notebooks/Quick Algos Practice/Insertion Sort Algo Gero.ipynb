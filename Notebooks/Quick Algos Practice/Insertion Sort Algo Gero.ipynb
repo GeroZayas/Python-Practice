{
 "cells": [
  {
   "cell_type": "markdown",
   "id": "f3870c64-501e-457d-8e34-0071e517f7b6",
   "metadata": {},
   "source": [
    "# Insertion Sort Algorithm"
   ]
  },
  {
   "cell_type": "code",
   "execution_count": 6,
   "id": "4800e476-78f5-4de0-9533-07063f869aa4",
   "metadata": {},
   "outputs": [],
   "source": [
    "numbers_disordered = [4, 1, 6, 43, 16, 88, 2, 100]"
   ]
  },
  {
   "cell_type": "code",
   "execution_count": 12,
   "id": "a9b4c313-39e2-4d80-8449-6d47d6eee73b",
   "metadata": {
    "tags": []
   },
   "outputs": [],
   "source": [
    "def order_numbers(dis_nums: list) -> list:\n",
    "    if len(dis_nums) <= 1:\n",
    "        return dis_nums\n",
    "    ordered_nums = []\n",
    "    for num in dis_nums:\n",
    "        for i in range(len(ordered_nums)):\n",
    "            if num < ordered_nums[i]:\n",
    "                ordered_nums.insert(i, num)\n",
    "                break\n",
    "        else:\n",
    "            ordered_nums.append(num)\n",
    "    return ordered_nums"
   ]
  },
  {
   "cell_type": "code",
   "execution_count": 11,
   "id": "76c9d3d3-0dc1-4797-bea0-5a1be9ba7d59",
   "metadata": {},
   "outputs": [
    {
     "data": {
      "text/plain": [
       "[1, 2, 4, 6, 16, 43, 88, 100]"
      ]
     },
     "execution_count": 11,
     "metadata": {},
     "output_type": "execute_result"
    }
   ],
   "source": [
    "order_numbers(numbers_disordered)"
   ]
  },
  {
   "cell_type": "code",
   "execution_count": null,
   "id": "8f2d5825-6c02-49e5-8b27-1e5789feaebe",
   "metadata": {},
   "outputs": [],
   "source": []
  },
  {
   "cell_type": "code",
   "execution_count": null,
   "id": "c80bcb5d-f30a-4954-9f09-058bf63adbe0",
   "metadata": {},
   "outputs": [],
   "source": []
  }
 ],
 "metadata": {
  "kernelspec": {
   "display_name": "Python 3",
   "language": "python",
   "name": "python3"
  },
  "language_info": {
   "codemirror_mode": {
    "name": "ipython",
    "version": 3
   },
   "file_extension": ".py",
   "mimetype": "text/x-python",
   "name": "python",
   "nbconvert_exporter": "python",
   "pygments_lexer": "ipython3",
   "version": "3.11.0"
  }
 },
 "nbformat": 4,
 "nbformat_minor": 5
}
