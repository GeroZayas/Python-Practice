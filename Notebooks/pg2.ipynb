{
 "cells": [
  {
   "cell_type": "code",
   "execution_count": null,
   "id": "ba2d26cd-48cb-4186-bc41-ba06eb9f965d",
   "metadata": {},
   "outputs": [],
   "source": [
    "# 414"
   ]
  },
  {
   "cell_type": "code",
   "execution_count": 1,
   "id": "6866a5e9-b873-452f-82e9-fefa21a181d6",
   "metadata": {},
   "outputs": [],
   "source": [
    "matrix = [[112,42,83,119],[56,125,56,49],[15,78,101,43],[62,98,114,108]]"
   ]
  },
  {
   "cell_type": "code",
   "execution_count": 2,
   "id": "fb94514e-c00a-4557-9c17-1f374dc2d956",
   "metadata": {},
   "outputs": [
    {
     "data": {
      "text/plain": [
       "[[112, 42, 83, 119], [56, 125, 56, 49], [15, 78, 101, 43], [62, 98, 114, 108]]"
      ]
     },
     "execution_count": 2,
     "metadata": {},
     "output_type": "execute_result"
    }
   ],
   "source": [
    "matrix"
   ]
  },
  {
   "cell_type": "code",
   "execution_count": 3,
   "id": "43690eea-5ec1-45a3-9e99-c7782fba8bd9",
   "metadata": {},
   "outputs": [],
   "source": [
    "from random import randint"
   ]
  },
  {
   "cell_type": "code",
   "execution_count": 4,
   "id": "d720bb51-bbc7-4ffb-96b5-90c3755e9449",
   "metadata": {},
   "outputs": [],
   "source": [
    "arr_2d = [[randint(1,5) for x in range(4)] for y in range(4)]"
   ]
  },
  {
   "cell_type": "code",
   "execution_count": 5,
   "id": "705ef59a-ee7f-4968-b583-607d55ccf5d2",
   "metadata": {},
   "outputs": [
    {
     "data": {
      "text/plain": [
       "[[4, 2, 2, 2], [4, 3, 3, 2], [4, 4, 3, 2], [1, 5, 2, 4]]"
      ]
     },
     "execution_count": 5,
     "metadata": {},
     "output_type": "execute_result"
    }
   ],
   "source": [
    "arr_2d"
   ]
  },
  {
   "cell_type": "code",
   "execution_count": 6,
   "id": "87e6abb7-295a-47a7-8d62-0a8b1dcc0361",
   "metadata": {},
   "outputs": [
    {
     "name": "stdout",
     "output_type": "stream",
     "text": [
      "[4, 2, 2, 2]\n",
      "[4, 3, 3, 2]\n",
      "[4, 4, 3, 2]\n",
      "[1, 5, 2, 4]\n"
     ]
    }
   ],
   "source": [
    "for row in arr_2d:\n",
    "    print(row)"
   ]
  },
  {
   "cell_type": "code",
   "execution_count": 7,
   "id": "3ede737b-63e2-4800-8891-ba05f42a1dd6",
   "metadata": {},
   "outputs": [],
   "source": [
    "temp = []"
   ]
  },
  {
   "cell_type": "code",
   "execution_count": 8,
   "id": "5b3ea402-3063-4c61-8d38-fcf6512836a6",
   "metadata": {},
   "outputs": [
    {
     "name": "stdout",
     "output_type": "stream",
     "text": [
      "[4, 2]\n",
      "[2, 2]\n",
      "[4, 3]\n",
      "[3, 2]\n",
      "[4, 4]\n",
      "[3, 2]\n",
      "[1, 5]\n",
      "[2, 4]\n"
     ]
    }
   ],
   "source": [
    "for row in arr_2d:\n",
    "    print(row[:2])\n",
    "    print(row[2:])\n",
    "    temp.append(row[:2])\n",
    "    temp.append(row[2:])    "
   ]
  },
  {
   "cell_type": "code",
   "execution_count": 9,
   "id": "ae4fa830-ad94-4172-aaf8-8d820e1275d7",
   "metadata": {},
   "outputs": [
    {
     "data": {
      "text/plain": [
       "[[4, 2], [2, 2], [4, 3], [3, 2], [4, 4], [3, 2], [1, 5], [2, 4]]"
      ]
     },
     "execution_count": 9,
     "metadata": {},
     "output_type": "execute_result"
    }
   ],
   "source": [
    "temp"
   ]
  },
  {
   "cell_type": "code",
   "execution_count": 10,
   "id": "a70d29a1-cfdb-4be3-b5a7-e81fec9bc9ce",
   "metadata": {},
   "outputs": [
    {
     "name": "stdout",
     "output_type": "stream",
     "text": [
      "6\n",
      "4\n",
      "7\n",
      "5\n",
      "8\n",
      "5\n",
      "6\n",
      "6\n"
     ]
    }
   ],
   "source": [
    "for t in temp:\n",
    "    print(sum(t))"
   ]
  },
  {
   "cell_type": "code",
   "execution_count": 11,
   "id": "f499d572-5e9e-497e-8cf2-63e15bdd81ce",
   "metadata": {},
   "outputs": [],
   "source": [
    "x = [sum(t) for t in temp]"
   ]
  },
  {
   "cell_type": "code",
   "execution_count": 12,
   "id": "8b265a5e-6f40-4d07-a486-4ad1d5f2b89d",
   "metadata": {},
   "outputs": [
    {
     "data": {
      "text/plain": [
       "[6, 4, 7, 5, 8, 5, 6, 6]"
      ]
     },
     "execution_count": 12,
     "metadata": {},
     "output_type": "execute_result"
    }
   ],
   "source": [
    "x"
   ]
  },
  {
   "cell_type": "code",
   "execution_count": 13,
   "id": "06004617-b544-4217-b3ea-07723861ac6f",
   "metadata": {},
   "outputs": [],
   "source": [
    "x = sorted(x, reverse=True)"
   ]
  },
  {
   "cell_type": "code",
   "execution_count": 14,
   "id": "36db9191-926b-4df1-81db-b30ce6f8077f",
   "metadata": {},
   "outputs": [
    {
     "data": {
      "text/plain": [
       "15"
      ]
     },
     "execution_count": 14,
     "metadata": {},
     "output_type": "execute_result"
    }
   ],
   "source": [
    "sum(x[:2])"
   ]
  },
  {
   "cell_type": "code",
   "execution_count": 3,
   "id": "10fdbbc3-1d22-4186-9b90-300a611c5b13",
   "metadata": {},
   "outputs": [],
   "source": [
    "temp = []"
   ]
  },
  {
   "cell_type": "code",
   "execution_count": 4,
   "id": "7eed6bea-f4df-4706-9f60-0fdc58bb28c7",
   "metadata": {},
   "outputs": [],
   "source": [
    "matrix = [[112, 42, 83, 119], [56, 125, 56, 49], [15, 78, 101, 43], [62, 98, 114, 108]]"
   ]
  },
  {
   "cell_type": "code",
   "execution_count": 5,
   "id": "1d393a2c-1be4-477c-ac88-6b68577321ae",
   "metadata": {},
   "outputs": [
    {
     "name": "stdout",
     "output_type": "stream",
     "text": [
      "[112, 42]\n",
      "[83, 119]\n",
      "[56, 125]\n",
      "[56, 49]\n",
      "[15, 78]\n",
      "[101, 43]\n",
      "[62, 98]\n",
      "[114, 108]\n"
     ]
    }
   ],
   "source": [
    "for row in matrix:\n",
    "    print(row[:2])\n",
    "    print(row[2:])\n",
    "    temp.append(row[:2])\n",
    "    temp.append(row[2:])  "
   ]
  },
  {
   "cell_type": "code",
   "execution_count": 6,
   "id": "8c0cce04-1c95-4212-a531-f18cde471107",
   "metadata": {},
   "outputs": [
    {
     "data": {
      "text/plain": [
       "[[112, 42],\n",
       " [83, 119],\n",
       " [56, 125],\n",
       " [56, 49],\n",
       " [15, 78],\n",
       " [101, 43],\n",
       " [62, 98],\n",
       " [114, 108]]"
      ]
     },
     "execution_count": 6,
     "metadata": {},
     "output_type": "execute_result"
    }
   ],
   "source": [
    "temp"
   ]
  },
  {
   "cell_type": "code",
   "execution_count": 7,
   "id": "d59d0592-8125-4f13-9185-5f29a2b08920",
   "metadata": {},
   "outputs": [],
   "source": [
    "x = [sum(t) for t in temp]"
   ]
  },
  {
   "cell_type": "code",
   "execution_count": 8,
   "id": "53a3965e-51b1-4456-bac0-a0556c54107c",
   "metadata": {},
   "outputs": [],
   "source": [
    "x = sorted(x, reverse=True)"
   ]
  },
  {
   "cell_type": "code",
   "execution_count": 9,
   "id": "8621b051-3102-4c4c-ac12-2df655812c71",
   "metadata": {},
   "outputs": [
    {
     "data": {
      "text/plain": [
       "424"
      ]
     },
     "execution_count": 9,
     "metadata": {},
     "output_type": "execute_result"
    }
   ],
   "source": [
    "sum(x[:2])"
   ]
  },
  {
   "cell_type": "code",
   "execution_count": null,
   "id": "ec011deb-2689-41ba-94a6-5151e6579802",
   "metadata": {},
   "outputs": [],
   "source": []
  }
 ],
 "metadata": {
  "kernelspec": {
   "display_name": "Python 3",
   "language": "python",
   "name": "python3"
  },
  "language_info": {
   "codemirror_mode": {
    "name": "ipython",
    "version": 3
   },
   "file_extension": ".py",
   "mimetype": "text/x-python",
   "name": "python",
   "nbconvert_exporter": "python",
   "pygments_lexer": "ipython3",
   "version": "3.11.0"
  }
 },
 "nbformat": 4,
 "nbformat_minor": 5
}
