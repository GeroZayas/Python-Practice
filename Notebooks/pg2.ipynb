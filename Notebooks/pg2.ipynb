{
 "cells": [
  {
   "cell_type": "code",
   "execution_count": 3,
   "id": "b28149bd-c7b1-4611-bad0-593b9fa12854",
   "metadata": {},
   "outputs": [],
   "source": [
    "nums1 = [2, 3, 5, 7, 9] # target 7\n",
    "nums2 = [1, 2, 3, 4, 4, 5, 6, 7] # target 4\n",
    "nums3 = [1, 4, 5, 8, 9] # target 2"
   ]
  },
  {
   "cell_type": "code",
   "execution_count": 4,
   "id": "09822681-cf21-4f7a-8efd-43a38b2ba090",
   "metadata": {},
   "outputs": [],
   "source": [
    "from typing import List"
   ]
  },
  {
   "cell_type": "code",
   "execution_count": 5,
   "id": "3b99279c-3e5e-4cd3-872b-e9d5a101aa7d",
   "metadata": {},
   "outputs": [
    {
     "data": {
      "text/plain": [
       "typing.List"
      ]
     },
     "execution_count": 5,
     "metadata": {},
     "output_type": "execute_result"
    }
   ],
   "source": [
    "List"
   ]
  },
  {
   "cell_type": "code",
   "execution_count": null,
   "id": "92513350-529f-4c50-8c79-b057e8343358",
   "metadata": {},
   "outputs": [],
   "source": []
  },
  {
   "cell_type": "code",
   "execution_count": 6,
   "id": "3c6a918f-7006-4517-8a7e-3f35d25370a1",
   "metadata": {
    "tags": []
   },
   "outputs": [],
   "source": [
    "class Solution:\n",
    "    def find_index(self, num_arr:List[int], target:int)->int:\n",
    "        left, right = 0, len(num_arr) -1\n",
    "        while left <= right:\n",
    "            mid = (left + right) // 2\n",
    "            \n",
    "            if target == num_arr[mid]:\n",
    "                return mid\n",
    "            elif target < num_arr[mid]:\n",
    "                right = mid - 1\n",
    "            else:\n",
    "                left = mid + 1\n",
    "        return -1"
   ]
  },
  {
   "cell_type": "code",
   "execution_count": 11,
   "id": "a0d51086-51ab-434b-8432-2740dc3e4aed",
   "metadata": {
    "tags": []
   },
   "outputs": [
    {
     "name": "stdout",
     "output_type": "stream",
     "text": [
      "target found at index 3 \n"
     ]
    }
   ],
   "source": [
    "if __name__ == \"__main__\":\n",
    "    s = Solution()\n",
    "    r = s.find_index(nums1, 7)\n",
    "    if r != -1:\n",
    "        print(f\"target found at index {r} \")\n",
    "    else:\n",
    "        print(\"target not found\")"
   ]
  },
  {
   "cell_type": "code",
   "execution_count": null,
   "id": "731b36cd-9b98-454c-8bf7-f95092391fd7",
   "metadata": {},
   "outputs": [],
   "source": []
  },
  {
   "cell_type": "code",
   "execution_count": null,
   "id": "2075439c-286f-4a44-9766-a48cb7a31fbe",
   "metadata": {},
   "outputs": [],
   "source": []
  },
  {
   "cell_type": "code",
   "execution_count": null,
   "id": "c18ec7fd-c2c9-4765-acdf-04f58f63fda6",
   "metadata": {},
   "outputs": [],
   "source": []
  },
  {
   "cell_type": "code",
   "execution_count": null,
   "id": "d6d7498a-0bb1-457c-a669-3cd211f89d7b",
   "metadata": {},
   "outputs": [],
   "source": []
  }
 ],
 "metadata": {
  "kernelspec": {
   "display_name": "Python 3",
   "language": "python",
   "name": "python3"
  },
  "language_info": {
   "codemirror_mode": {
    "name": "ipython",
    "version": 3
   },
   "file_extension": ".py",
   "mimetype": "text/x-python",
   "name": "python",
   "nbconvert_exporter": "python",
   "pygments_lexer": "ipython3",
   "version": "3.11.0"
  }
 },
 "nbformat": 4,
 "nbformat_minor": 5
}
