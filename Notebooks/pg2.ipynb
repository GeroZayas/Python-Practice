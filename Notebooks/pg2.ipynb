{
 "cells": [
  {
   "cell_type": "code",
   "execution_count": 1,
   "id": "120adce7-e3dc-427a-81c4-51ece98ae218",
   "metadata": {},
   "outputs": [],
   "source": [
    "from random import randint"
   ]
  },
  {
   "cell_type": "code",
   "execution_count": 4,
   "id": "8319d472-5a76-411a-95a5-c474ec19e423",
   "metadata": {},
   "outputs": [],
   "source": [
    "numbers = [randint(1,30) for _ in range(9)]"
   ]
  },
  {
   "cell_type": "code",
   "execution_count": 5,
   "id": "c46473a3-360c-40e2-8661-4e74704179a6",
   "metadata": {},
   "outputs": [
    {
     "data": {
      "text/plain": [
       "[18, 4, 29, 19, 14, 21, 1, 18, 15]"
      ]
     },
     "execution_count": 5,
     "metadata": {},
     "output_type": "execute_result"
    }
   ],
   "source": [
    "numbers"
   ]
  },
  {
   "cell_type": "code",
   "execution_count": 9,
   "id": "0b26918b-f6b5-4aba-823e-0143d833f14c",
   "metadata": {},
   "outputs": [],
   "source": [
    "# insertion sort algo\n",
    "def insertion_sort(num_arr:list)-> list:\n",
    "    if len(num_arr) <= 1:\n",
    "        return num_arr\n",
    "    ord_arr_num = []\n",
    "    \n",
    "    for num in num_arr:\n",
    "        for i in range(len(ord_arr_num)):\n",
    "            if num < ord_arr_num[i]:\n",
    "                ord_arr_num.insert(i, num)\n",
    "                break\n",
    "        else:\n",
    "            ord_arr_num.append(num)\n",
    "    \n",
    "    return ord_arr_num"
   ]
  },
  {
   "cell_type": "code",
   "execution_count": 10,
   "id": "83fb7b5c-8492-4c73-a16b-5098fd647958",
   "metadata": {},
   "outputs": [
    {
     "data": {
      "text/plain": [
       "[1, 4, 14, 15, 18, 18, 19, 21, 29]"
      ]
     },
     "execution_count": 10,
     "metadata": {},
     "output_type": "execute_result"
    }
   ],
   "source": [
    "insertion_sort(numbers)"
   ]
  },
  {
   "cell_type": "code",
   "execution_count": 11,
   "id": "259c68e9-76a8-4edf-804e-17702748da12",
   "metadata": {},
   "outputs": [],
   "source": [
    "# quick sort algo\n",
    "def quick_sort(num_arr:list)-> list:\n",
    "    if len(num_arr) <= 1:\n",
    "        return num_arr\n",
    "    pivot = num_arr[0]\n",
    "    left = []\n",
    "    right = []\n",
    "    \n",
    "    for num in num_arr[1:]:\n",
    "        if num < pivot:\n",
    "            left.append(num)\n",
    "        else:\n",
    "            right.append(num)\n",
    "    \n",
    "    return quick_sort(left) + [pivot] + quick_sort(right)"
   ]
  },
  {
   "cell_type": "code",
   "execution_count": 12,
   "id": "f549e4d2-7bf7-463b-98b6-440fdbc04a57",
   "metadata": {},
   "outputs": [
    {
     "data": {
      "text/plain": [
       "[1, 4, 14, 15, 18, 18, 19, 21, 29]"
      ]
     },
     "execution_count": 12,
     "metadata": {},
     "output_type": "execute_result"
    }
   ],
   "source": [
    "quick_sort(numbers)"
   ]
  },
  {
   "cell_type": "code",
   "execution_count": 13,
   "id": "9701d3b3-1e03-4810-8582-8642314767f9",
   "metadata": {},
   "outputs": [
    {
     "data": {
      "text/plain": [
       "True"
      ]
     },
     "execution_count": 13,
     "metadata": {},
     "output_type": "execute_result"
    }
   ],
   "source": [
    "insertion_sort(numbers) == quick_sort(numbers)"
   ]
  },
  {
   "cell_type": "code",
   "execution_count": 16,
   "id": "254d9928-0560-4408-bd4a-f00ef3713de2",
   "metadata": {
    "tags": []
   },
   "outputs": [],
   "source": [
    "# merge sort algo\n",
    "def merge_sort(num_arr:list)->list:\n",
    "    if len(num_arr) <= 1:\n",
    "        return num_arr\n",
    "    mid = len(num_arr) // 2\n",
    "    left_half = num_arr[:mid] \n",
    "    right_half = num_arr[mid:]\n",
    "    \n",
    "    left_half = merge_sort(left_half)\n",
    "    right_half = merge_sort(right_half)\n",
    "    \n",
    "    return merge(left_half, right_half)\n",
    "\n",
    "def merge(left:list, right:list)->list:\n",
    "    ord_num_arr = []\n",
    "    l_idx = r_idx = 0\n",
    "    \n",
    "    while l_idx < len(left) and r_idx < len(right):\n",
    "        if left[l_idx] < right[r_idx]:\n",
    "            ord_num_arr.append(left[l_idx])\n",
    "            l_idx += 1\n",
    "        else:\n",
    "            ord_num_arr.append(right[r_idx])\n",
    "            r_idx += 1\n",
    "        \n",
    "    ord_num_arr += left[l_idx:]\n",
    "    ord_num_arr += right[r_idx:]\n",
    "    \n",
    "    return ord_num_arr"
   ]
  },
  {
   "cell_type": "code",
   "execution_count": 17,
   "id": "f1093127-c279-47d1-a613-d00aa88e6545",
   "metadata": {},
   "outputs": [
    {
     "data": {
      "text/plain": [
       "[1, 4, 14, 15, 18, 18, 19, 21, 29]"
      ]
     },
     "execution_count": 17,
     "metadata": {},
     "output_type": "execute_result"
    }
   ],
   "source": [
    "merge_sort(numbers)"
   ]
  },
  {
   "cell_type": "code",
   "execution_count": 18,
   "id": "e1b1e061-f1e2-413b-89a1-76e8a3150006",
   "metadata": {},
   "outputs": [
    {
     "data": {
      "text/plain": [
       "True"
      ]
     },
     "execution_count": 18,
     "metadata": {},
     "output_type": "execute_result"
    }
   ],
   "source": [
    "quick_sort(numbers) == merge_sort(numbers)"
   ]
  },
  {
   "cell_type": "code",
   "execution_count": null,
   "id": "cb78bd02-d662-4f98-9980-196a9b0cfeb1",
   "metadata": {},
   "outputs": [],
   "source": []
  }
 ],
 "metadata": {
  "kernelspec": {
   "display_name": "Python 3",
   "language": "python",
   "name": "python3"
  },
  "language_info": {
   "codemirror_mode": {
    "name": "ipython",
    "version": 3
   },
   "file_extension": ".py",
   "mimetype": "text/x-python",
   "name": "python",
   "nbconvert_exporter": "python",
   "pygments_lexer": "ipython3",
   "version": "3.11.0"
  }
 },
 "nbformat": 4,
 "nbformat_minor": 5
}
