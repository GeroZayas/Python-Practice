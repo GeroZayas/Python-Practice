{
 "cells": [
  {
   "cell_type": "code",
   "execution_count": 2,
   "id": "a53adfb1-0719-4f64-bdbf-885a91ca599e",
   "metadata": {},
   "outputs": [],
   "source": [
    "# cannot use min() nor max()\n",
    "def min_max(data: list[int]) -> tuple:\n",
    "    # return tuple of len 2\n",
    "    sorted_data = sorted(data)\n",
    "    return sorted_data[0], sorted_data[-1]"
   ]
  },
  {
   "cell_type": "code",
   "execution_count": 3,
   "id": "49dc9a9b-e758-49bd-a17e-44ee2685282c",
   "metadata": {},
   "outputs": [
    {
     "data": {
      "text/plain": [
       "(3, 8)"
      ]
     },
     "execution_count": 3,
     "metadata": {},
     "output_type": "execute_result"
    }
   ],
   "source": [
    "min_max([3, 4, 5, 7, 8])"
   ]
  },
  {
   "cell_type": "code",
   "execution_count": 4,
   "id": "4b46d36a-f2c9-4773-a68c-8b6a8c4c527f",
   "metadata": {},
   "outputs": [],
   "source": [
    "from random import randint"
   ]
  },
  {
   "cell_type": "code",
   "execution_count": 10,
   "id": "22f327e5-8cbf-423d-8c76-34529e6637b5",
   "metadata": {},
   "outputs": [],
   "source": [
    "random_numbers = [randint(1, 99) for _ in range(10)]"
   ]
  },
  {
   "cell_type": "code",
   "execution_count": 11,
   "id": "e5b0d216-abac-4e29-9c5f-8fb7b12b039e",
   "metadata": {},
   "outputs": [
    {
     "data": {
      "text/plain": [
       "[35, 25, 89, 77, 23, 15, 9, 68, 26, 25]"
      ]
     },
     "execution_count": 11,
     "metadata": {},
     "output_type": "execute_result"
    }
   ],
   "source": [
    "random_numbers"
   ]
  },
  {
   "cell_type": "code",
   "execution_count": 12,
   "id": "fda6d982-f8d2-487c-8a50-f6ad7696dc72",
   "metadata": {},
   "outputs": [
    {
     "data": {
      "text/plain": [
       "(9, 89)"
      ]
     },
     "execution_count": 12,
     "metadata": {},
     "output_type": "execute_result"
    }
   ],
   "source": [
    "min_max(random_numbers)"
   ]
  },
  {
   "cell_type": "code",
   "execution_count": 13,
   "id": "1646809a-02f5-45a6-90f0-2ad635d13e79",
   "metadata": {},
   "outputs": [],
   "source": [
    "def min_max_2(data: list[int]) -> tuple:\n",
    "    smallest, largest = data[0], data[0]\n",
    "    for n in data:\n",
    "        if n < smallest:\n",
    "            smallest = n\n",
    "        if n > largest:\n",
    "            largest = n\n",
    "    return smallest, largest"
   ]
  },
  {
   "cell_type": "code",
   "execution_count": 14,
   "id": "66f205ab-ab22-48e0-8efa-2df804d32b17",
   "metadata": {},
   "outputs": [
    {
     "data": {
      "text/plain": [
       "(9, 89)"
      ]
     },
     "execution_count": 14,
     "metadata": {},
     "output_type": "execute_result"
    }
   ],
   "source": [
    "min_max_2(random_numbers)"
   ]
  },
  {
   "cell_type": "code",
   "execution_count": 15,
   "id": "5e6afc13-85ef-4cec-89a1-0d1fd27e640e",
   "metadata": {},
   "outputs": [],
   "source": [
    "# input: int n\n",
    "# output: sum of squares of all positive int smaller than n\n",
    "def sum_of_squares(n: int) -> int:\n",
    "    return sum(x**2 for x in range(n))"
   ]
  },
  {
   "cell_type": "code",
   "execution_count": 17,
   "id": "ec7c958a-1be2-462e-b42a-8e0af0337237",
   "metadata": {},
   "outputs": [
    {
     "data": {
      "text/plain": [
       "30"
      ]
     },
     "execution_count": 17,
     "metadata": {},
     "output_type": "execute_result"
    }
   ],
   "source": [
    "# 1**2 = 1 + 2 **2 = 4 + 3 ** 2 = 9 + 4 ** 2 = 16\n",
    "# 1 + 4 + 9 + 16 = 30\n",
    "sum_of_squares(5)"
   ]
  },
  {
   "cell_type": "code",
   "execution_count": 18,
   "id": "b3a7aaa0-f2db-4f2f-a011-1beb238f3843",
   "metadata": {},
   "outputs": [],
   "source": [
    "def sum_of_squares_2(n: int) -> int:\n",
    "    result = 0\n",
    "    for num in range(n):\n",
    "        result += num**2\n",
    "    return result"
   ]
  },
  {
   "cell_type": "code",
   "execution_count": 19,
   "id": "e9dc973c-f9c8-4690-990e-029d2d4f2f1f",
   "metadata": {},
   "outputs": [
    {
     "data": {
      "text/plain": [
       "30"
      ]
     },
     "execution_count": 19,
     "metadata": {},
     "output_type": "execute_result"
    }
   ],
   "source": [
    "sum_of_squares_2(5)"
   ]
  },
  {
   "cell_type": "code",
   "execution_count": 20,
   "id": "cfcba6c9-2a63-4aeb-9ab2-bd49cf2a3ef4",
   "metadata": {},
   "outputs": [],
   "source": [
    "def sum_of_squares_odd_nums(n: int) -> int:\n",
    "    return sum(num**2 for num in range(n) if num % 2 != 0)"
   ]
  },
  {
   "cell_type": "code",
   "execution_count": 22,
   "id": "4b8de9f5-8a02-4d76-9b3d-416983f3edb5",
   "metadata": {},
   "outputs": [
    {
     "data": {
      "text/plain": [
       "10"
      ]
     },
     "execution_count": 22,
     "metadata": {},
     "output_type": "execute_result"
    }
   ],
   "source": [
    "# 1**2 = 1,3**2 = 9 -> 1 + 9 = 10\n",
    "sum_of_squares_odd_nums(5)"
   ]
  },
  {
   "cell_type": "code",
   "execution_count": 24,
   "id": "8599d38d-c247-4835-bf7d-4ade81245510",
   "metadata": {},
   "outputs": [
    {
     "data": {
      "text/plain": [
       "165"
      ]
     },
     "execution_count": 24,
     "metadata": {},
     "output_type": "execute_result"
    }
   ],
   "source": [
    "# 1**2 = 1,3**2 = 9, 5**2 = 25, 7**2 = 49, 9**2 = 81 -> 1 + 9 + 25 + 49 + 81 = 165\n",
    "sum_of_squares_odd_nums(10)"
   ]
  },
  {
   "cell_type": "code",
   "execution_count": 25,
   "id": "c44b71d8-e8c6-46d6-817f-c50dfd721451",
   "metadata": {},
   "outputs": [],
   "source": [
    "result = [x for x in range(50, 90, 10)]"
   ]
  },
  {
   "cell_type": "code",
   "execution_count": 26,
   "id": "e695c245-704c-44ba-90c7-dfd45e4893e1",
   "metadata": {},
   "outputs": [
    {
     "data": {
      "text/plain": [
       "[50, 60, 70, 80]"
      ]
     },
     "execution_count": 26,
     "metadata": {},
     "output_type": "execute_result"
    }
   ],
   "source": [
    "result"
   ]
  },
  {
   "cell_type": "code",
   "execution_count": 27,
   "id": "54fa1458-e6a0-4c46-a4cd-de0851f43552",
   "metadata": {},
   "outputs": [
    {
     "data": {
      "text/plain": [
       "[8, 6, 4, 2, 0, -2, -4, -6, -8]"
      ]
     },
     "execution_count": 27,
     "metadata": {},
     "output_type": "execute_result"
    }
   ],
   "source": [
    "[x for x in range(8, -10, -2)]"
   ]
  },
  {
   "cell_type": "code",
   "execution_count": 47,
   "id": "61e2671f-827b-4dfd-884f-7f2c524fd64b",
   "metadata": {},
   "outputs": [
    {
     "data": {
      "text/plain": [
       "[1, 2, 4, 8, 16, 32, 64, 128, 256]"
      ]
     },
     "execution_count": 47,
     "metadata": {},
     "output_type": "execute_result"
    }
   ],
   "source": [
    "[2**x for x in range(9)]"
   ]
  },
  {
   "cell_type": "code",
   "execution_count": 65,
   "id": "31b85b6b-0dee-49a1-8e5b-4b63fb23fc2e",
   "metadata": {},
   "outputs": [],
   "source": [
    "from random import randrange"
   ]
  },
  {
   "cell_type": "code",
   "execution_count": 90,
   "id": "cf852f46-1b5f-4bdc-96d9-1c7adde7908a",
   "metadata": {},
   "outputs": [
    {
     "data": {
      "text/plain": [
       "3858"
      ]
     },
     "execution_count": 90,
     "metadata": {},
     "output_type": "execute_result"
    }
   ],
   "source": [
    "randrange(0, 30000, 3)"
   ]
  },
  {
   "cell_type": "code",
   "execution_count": 103,
   "id": "e5835cfd-af77-4b81-92b5-ea23d441bd51",
   "metadata": {},
   "outputs": [],
   "source": [
    "def reverse(nums: list[int]) -> list[int]:\n",
    "    reversed = []\n",
    "    for n in nums[::-1]:\n",
    "        reversed.append(n)\n",
    "    return reversed"
   ]
  },
  {
   "cell_type": "code",
   "execution_count": 109,
   "id": "002487a8-7f33-4fa8-a92e-19fd8bc3440f",
   "metadata": {},
   "outputs": [
    {
     "data": {
      "text/plain": [
       "[1, 2, 3, 4, 5]"
      ]
     },
     "execution_count": 109,
     "metadata": {},
     "output_type": "execute_result"
    }
   ],
   "source": [
    "nums = [x for x in range(1, 6)]\n",
    "nums"
   ]
  },
  {
   "cell_type": "code",
   "execution_count": 110,
   "id": "dd7efb29-2b83-4a7c-b157-74bbd252b834",
   "metadata": {},
   "outputs": [
    {
     "data": {
      "text/plain": [
       "[5, 4, 3, 2, 1]"
      ]
     },
     "execution_count": 110,
     "metadata": {},
     "output_type": "execute_result"
    }
   ],
   "source": [
    "reverse(nums)"
   ]
  },
  {
   "cell_type": "code",
   "execution_count": 141,
   "id": "cb800bf8-fda2-4ebc-864b-dbd735dba892",
   "metadata": {},
   "outputs": [],
   "source": [
    "def reverse_2(nums: list[int]) -> list[int]:\n",
    "    reversed = []\n",
    "    for n in range(len(nums) - 1, -1, -1):\n",
    "        reversed.append(nums[n])\n",
    "    return reversed"
   ]
  },
  {
   "cell_type": "code",
   "execution_count": 142,
   "id": "81fc4a94-81a8-4b81-b341-87b00e5d2241",
   "metadata": {},
   "outputs": [
    {
     "data": {
      "text/plain": [
       "[5, 4, 3, 2, 1]"
      ]
     },
     "execution_count": 142,
     "metadata": {},
     "output_type": "execute_result"
    }
   ],
   "source": [
    "reverse_2(nums)"
   ]
  },
  {
   "cell_type": "code",
   "execution_count": 134,
   "id": "2023996f-d776-4004-bce5-9fa166b4e5ef",
   "metadata": {},
   "outputs": [
    {
     "data": {
      "text/plain": [
       "[5, 4, 3, 2, 1]"
      ]
     },
     "execution_count": 134,
     "metadata": {},
     "output_type": "execute_result"
    }
   ],
   "source": [
    "[x for x in range(5, 0, -1)]"
   ]
  },
  {
   "cell_type": "code",
   "execution_count": null,
   "id": "818fb63a-12b7-422b-901b-b2094ad7cb29",
   "metadata": {},
   "outputs": [],
   "source": []
  }
 ],
 "metadata": {
  "kernelspec": {
   "display_name": "Python 3 (ipykernel)",
   "language": "python",
   "name": "python3"
  },
  "language_info": {
   "codemirror_mode": {
    "name": "ipython",
    "version": 3
   },
   "file_extension": ".py",
   "mimetype": "text/x-python",
   "name": "python",
   "nbconvert_exporter": "python",
   "pygments_lexer": "ipython3",
   "version": "3.11.4"
  }
 },
 "nbformat": 4,
 "nbformat_minor": 5
}
