{
 "cells": [
  {
   "cell_type": "code",
   "execution_count": 179,
   "id": "3fc6055f-8f3c-4cab-a247-9f758629db9c",
   "metadata": {},
   "outputs": [],
   "source": [
    "\"\"\"\n",
    "We have to think in terms of patterns\n",
    "Recognize the patterns and then utilize them\n",
    "\n",
    "For a linked list we need two Classes\n",
    "\"\"\"\n",
    "\n",
    "class LinkedList:\n",
    "    def __init__(self, nodes):\n",
    "        self.head = None\n",
    "        if nodes is not None:\n",
    "            node = Node(data=nodes.pop(0))\n",
    "            self.head = node\n",
    "            for e in nodes:\n",
    "                node.next = Node(data=e)\n",
    "                node = node.next\n",
    "    \n",
    "    def __repr__(self):\n",
    "        node = self.head\n",
    "        nodes = []\n",
    "        while node:\n",
    "            nodes.append(node.data)\n",
    "            node = node.next\n",
    "        nodes.append(\"None\")\n",
    "        if not isinstance(node, str):\n",
    "            nodes = [str(node) for node in nodes]\n",
    "        return \" -> \".join(nodes)\n",
    "\n",
    "    def reverse(self):\n",
    "       prev = None\n",
    "       current = self.head\n",
    "       while current is not None:\n",
    "           next_node = current.next\n",
    "           current.next = prev\n",
    "           prev = current\n",
    "           current = next_node\n",
    "       self.head = prev\n",
    "\n",
    "class Node:\n",
    "    def __init__(self, data):\n",
    "        self.data = data\n",
    "        self.next = None\n",
    "    def __repr__(self):\n",
    "        return self.data"
   ]
  },
  {
   "cell_type": "code",
   "execution_count": 180,
   "id": "ea73fc15-1232-435c-ab01-222ec849dc1f",
   "metadata": {},
   "outputs": [],
   "source": [
    "llist = LinkedList(['a','b','c','d','e'])"
   ]
  },
  {
   "cell_type": "code",
   "execution_count": 181,
   "id": "4356ba73-80b1-4261-8570-c1221295ff07",
   "metadata": {},
   "outputs": [
    {
     "data": {
      "text/plain": [
       "a -> b -> c -> d -> e -> None"
      ]
     },
     "execution_count": 181,
     "metadata": {},
     "output_type": "execute_result"
    }
   ],
   "source": [
    "llist"
   ]
  },
  {
   "cell_type": "code",
   "execution_count": 191,
   "id": "82c734f1-728a-4615-bdc2-4e998584f854",
   "metadata": {},
   "outputs": [],
   "source": [
    "llist.reverse()"
   ]
  },
  {
   "cell_type": "code",
   "execution_count": 192,
   "id": "ab44dcea-b062-4adf-919a-49e03aa20872",
   "metadata": {},
   "outputs": [
    {
     "data": {
      "text/plain": [
       "e -> d -> c -> b -> a -> None"
      ]
     },
     "execution_count": 192,
     "metadata": {},
     "output_type": "execute_result"
    }
   ],
   "source": [
    "llist"
   ]
  },
  {
   "cell_type": "code",
   "execution_count": null,
   "id": "83033a0a-c779-405c-9e5e-445c7ec45d21",
   "metadata": {},
   "outputs": [],
   "source": []
  }
 ],
 "metadata": {
  "kernelspec": {
   "display_name": "Python 3 (ipykernel)",
   "language": "python",
   "name": "python3"
  },
  "language_info": {
   "codemirror_mode": {
    "name": "ipython",
    "version": 3
   },
   "file_extension": ".py",
   "mimetype": "text/x-python",
   "name": "python",
   "nbconvert_exporter": "python",
   "pygments_lexer": "ipython3",
   "version": "3.11.4"
  }
 },
 "nbformat": 4,
 "nbformat_minor": 5
}
