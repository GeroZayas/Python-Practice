{
 "cells": [
  {
   "cell_type": "code",
   "execution_count": 1,
   "id": "e30a3694-8ea6-46f3-b475-37e11cd1b92c",
   "metadata": {},
   "outputs": [],
   "source": [
    "from typing import List"
   ]
  },
  {
   "cell_type": "code",
   "execution_count": 2,
   "id": "37e94e23-a756-4016-87a8-39b4f95a3a67",
   "metadata": {},
   "outputs": [],
   "source": [
    "str_list: List[str] = [\"gero\", \"zayas\", \"programmer\"]"
   ]
  },
  {
   "cell_type": "code",
   "execution_count": 3,
   "id": "d6043899-3037-4100-b7d0-2e574374fe15",
   "metadata": {},
   "outputs": [
    {
     "data": {
      "text/plain": [
       "['gero', 'zayas', 'programmer']"
      ]
     },
     "execution_count": 3,
     "metadata": {},
     "output_type": "execute_result"
    }
   ],
   "source": [
    "str_list"
   ]
  },
  {
   "cell_type": "code",
   "execution_count": 4,
   "id": "edbebda7-ee99-421c-965e-96e2849e2f5e",
   "metadata": {},
   "outputs": [
    {
     "data": {
      "text/plain": [
       "list"
      ]
     },
     "execution_count": 4,
     "metadata": {},
     "output_type": "execute_result"
    }
   ],
   "source": [
    "type(str_list)"
   ]
  },
  {
   "cell_type": "code",
   "execution_count": 5,
   "id": "fe5ac6a3-33b7-4742-9dd2-cfeaf2422b39",
   "metadata": {},
   "outputs": [],
   "source": [
    "str_list.append(32)"
   ]
  },
  {
   "cell_type": "code",
   "execution_count": 6,
   "id": "988c938a-0d81-47e3-a0d5-cb6cacf06439",
   "metadata": {},
   "outputs": [
    {
     "data": {
      "text/plain": [
       "['gero', 'zayas', 'programmer', 32]"
      ]
     },
     "execution_count": 6,
     "metadata": {},
     "output_type": "execute_result"
    }
   ],
   "source": [
    "str_list"
   ]
  },
  {
   "cell_type": "code",
   "execution_count": 7,
   "id": "01cb0689-fbac-44ee-b46d-54ee1e9701dd",
   "metadata": {},
   "outputs": [],
   "source": [
    "# as you can see typing here only serves as a way to give me typing HINTING \n",
    "# but it doesn't really prevents the appending or extending of othe types to my list"
   ]
  },
  {
   "cell_type": "code",
   "execution_count": 8,
   "id": "6fa4c5db-9cae-44e1-9801-de486c95cdfa",
   "metadata": {},
   "outputs": [],
   "source": [
    "# SO, the solution is to CREATE a Custom Class inhereting from the list class the way we want it\n",
    "class StringTypedList(list):\n",
    "    def __init__(self, initial_data=None):\n",
    "        if initial_data:\n",
    "            for item in initial_data:\n",
    "                self._validate(item)\n",
    "        # we inherit the rest of attr and methods from parent class\n",
    "        super().__init__(initial_data)\n",
    "    # Now we modify the methods to add new elements\n",
    "    def append(self, item):\n",
    "        self._validate(item)\n",
    "        super().append(item)\n",
    "\n",
    "    def extend(self, items):\n",
    "        for item in items:\n",
    "            self._validate(item)\n",
    "        super().extend(items)\n",
    "    # we define hot to VALIDATE the items in this case to be strings\n",
    "    \n",
    "    def _validate(self, item):\n",
    "        if not isinstance(item, str):\n",
    "            raise TypeError(\"Only strings are allowed in this list\")"
   ]
  },
  {
   "cell_type": "code",
   "execution_count": 9,
   "id": "84dc7bfd-604a-404e-b78d-4758f9bfc8ed",
   "metadata": {},
   "outputs": [],
   "source": [
    "new_string_list = StringTypedList([])"
   ]
  },
  {
   "cell_type": "code",
   "execution_count": 10,
   "id": "70027c3c-0859-4203-84b0-38bd2f176519",
   "metadata": {},
   "outputs": [
    {
     "data": {
      "text/plain": [
       "[]"
      ]
     },
     "execution_count": 10,
     "metadata": {},
     "output_type": "execute_result"
    }
   ],
   "source": [
    "new_string_list"
   ]
  },
  {
   "cell_type": "code",
   "execution_count": 11,
   "id": "765c1ded-6f15-4de0-a4e5-17b1248c1e37",
   "metadata": {},
   "outputs": [],
   "source": [
    "new_string_list.append('gero')"
   ]
  },
  {
   "cell_type": "code",
   "execution_count": 12,
   "id": "efb8f57b-7586-4235-8c6d-50e2e21de8fd",
   "metadata": {},
   "outputs": [],
   "source": [
    "new_string_list.append('zayas')"
   ]
  },
  {
   "cell_type": "code",
   "execution_count": 13,
   "id": "036ec82f-1948-48e9-bd06-0dac7fa8f166",
   "metadata": {},
   "outputs": [
    {
     "data": {
      "text/plain": [
       "['gero', 'zayas']"
      ]
     },
     "execution_count": 13,
     "metadata": {},
     "output_type": "execute_result"
    }
   ],
   "source": [
    "new_string_list"
   ]
  },
  {
   "cell_type": "code",
   "execution_count": 14,
   "id": "7d5271c9-eb4e-4fc5-a3a3-c316d90405d5",
   "metadata": {},
   "outputs": [
    {
     "ename": "TypeError",
     "evalue": "Only strings are allowed in this list",
     "output_type": "error",
     "traceback": [
      "\u001b[0;31m---------------------------------------------------------------------------\u001b[0m",
      "\u001b[0;31mTypeError\u001b[0m                                 Traceback (most recent call last)",
      "Cell \u001b[0;32mIn[14], line 1\u001b[0m\n\u001b[0;32m----> 1\u001b[0m \u001b[43mnew_string_list\u001b[49m\u001b[38;5;241;43m.\u001b[39;49m\u001b[43mappend\u001b[49m\u001b[43m(\u001b[49m\u001b[38;5;241;43m9\u001b[39;49m\u001b[43m)\u001b[49m\n",
      "Cell \u001b[0;32mIn[8], line 11\u001b[0m, in \u001b[0;36mStringTypedList.append\u001b[0;34m(self, item)\u001b[0m\n\u001b[1;32m     10\u001b[0m \u001b[38;5;28;01mdef\u001b[39;00m \u001b[38;5;21mappend\u001b[39m(\u001b[38;5;28mself\u001b[39m, item):\n\u001b[0;32m---> 11\u001b[0m     \u001b[38;5;28;43mself\u001b[39;49m\u001b[38;5;241;43m.\u001b[39;49m\u001b[43m_validate\u001b[49m\u001b[43m(\u001b[49m\u001b[43mitem\u001b[49m\u001b[43m)\u001b[49m\n\u001b[1;32m     12\u001b[0m     \u001b[38;5;28msuper\u001b[39m()\u001b[38;5;241m.\u001b[39mappend(item)\n",
      "Cell \u001b[0;32mIn[8], line 22\u001b[0m, in \u001b[0;36mStringTypedList._validate\u001b[0;34m(self, item)\u001b[0m\n\u001b[1;32m     20\u001b[0m \u001b[38;5;28;01mdef\u001b[39;00m \u001b[38;5;21m_validate\u001b[39m(\u001b[38;5;28mself\u001b[39m, item):\n\u001b[1;32m     21\u001b[0m     \u001b[38;5;28;01mif\u001b[39;00m \u001b[38;5;129;01mnot\u001b[39;00m \u001b[38;5;28misinstance\u001b[39m(item, \u001b[38;5;28mstr\u001b[39m):\n\u001b[0;32m---> 22\u001b[0m         \u001b[38;5;28;01mraise\u001b[39;00m \u001b[38;5;167;01mTypeError\u001b[39;00m(\u001b[38;5;124m\"\u001b[39m\u001b[38;5;124mOnly strings are allowed in this list\u001b[39m\u001b[38;5;124m\"\u001b[39m)\n",
      "\u001b[0;31mTypeError\u001b[0m: Only strings are allowed in this list"
     ]
    }
   ],
   "source": [
    "new_string_list.append(9)"
   ]
  },
  {
   "cell_type": "code",
   "execution_count": null,
   "id": "48af5bee-52c8-4ad9-8b3e-a833e6950ea1",
   "metadata": {},
   "outputs": [],
   "source": [
    "new_string_list.append('programmer')"
   ]
  },
  {
   "cell_type": "code",
   "execution_count": null,
   "id": "cd2df345-dc63-4193-9145-3d3d419264aa",
   "metadata": {},
   "outputs": [],
   "source": [
    "new_string_list"
   ]
  },
  {
   "cell_type": "code",
   "execution_count": null,
   "id": "7b22c475-03dd-4fb9-97d9-0979e444a21e",
   "metadata": {},
   "outputs": [],
   "source": []
  }
 ],
 "metadata": {
  "kernelspec": {
   "display_name": "Python 3 (ipykernel)",
   "language": "python",
   "name": "python3"
  },
  "language_info": {
   "codemirror_mode": {
    "name": "ipython",
    "version": 3
   },
   "file_extension": ".py",
   "mimetype": "text/x-python",
   "name": "python",
   "nbconvert_exporter": "python",
   "pygments_lexer": "ipython3",
   "version": "3.12.2"
  }
 },
 "nbformat": 4,
 "nbformat_minor": 5
}
