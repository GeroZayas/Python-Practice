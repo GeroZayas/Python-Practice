


# Tree Data Structure
# CSDojo video : https://www.youtube.com/watch?v=1-l_UOFi1Xw


# class Node:
#     def __init__(self, data, left_child, right_child):
#         self.data = data
#         self.left_child = left_child
#         self.right_child = right_child
# root = Node(5, None, None)


# root.data, root.left_child, root.right_child


# node1, node2, node3, node4 = (Node(n, None, None) for n in range(7,11))


# for n in [node1,node2,node3,node4]:
#     print(n.data)


# root.left_child = node1
# root.right_child = node2
# node1.left_child = node3
# node2.right_child = node4


# def find_sum(root):
#     if root == None:
#         return 0
#     return root.data + find_sum(root.left_child) \
#     + find_sum(root.right_child)


# find_sum(root) # 39





# # Node
# class Node():
#     def __init__(self, value):
#         self.value = value
#         self.left = None
#         self.right = None


# class BinaryTree():
#     def __init__(self, root):
#         self.root = Node(root)
    


# tree = BinaryTree(1)


# tree.root.left = Node(2)
# tree.root.right = Node(3)





class Node:
    def __init__(self, data, right = None, left = None):
        self.data = data
        self.right = right
        self.left = left
    
    def __str__(self):
        return str(self.data) + " -> Left child: " + \
        str(self.left) + " -> Right child: " + \
        str(self.right) + " || "


class Tree:
    """Tree data structure in which we have nodes and each one has 
    some data and may have children to its left and right"""
    def __init__(self, root):
        self.root = Node(root)
    
    def __str__(self):
        return "Root: " + str(self.root) + " -> "


family_tree = Tree("Sonia")


print(family_tree)


family_tree.root.left = Node("Elisa")
family_tree.root.right = Node("Carlos")


print(family_tree)


print(family_tree.root.left)


family_tree.root.left.left = Node("Gero")


print(family_tree)


print(family_tree.root.left)


family_tree.root.right.left = Node("Carly")
family_tree.root.right.right = Node("Karla")


print(family_tree.root.right)



