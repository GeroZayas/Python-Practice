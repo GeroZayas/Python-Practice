


# technical interview exercise one
# re-doing it to practice





numbers_disordered = [ 4, 1, 6, 43, 16, 88, 2, 100] 





numbers_disordered 


# Insertion Sort Algorithm -> O(n**2)

def sort_numbers(dis_list: list) -> list:
    """
    Insertion Sort Algorithm
    """
    ordered_list = []
    for num in dis_list:
        for i in range(len(ordered_list)):
            if num < ordered_list[i]:
                ordered_list.insert(i, num)
                break
        else:
            ordered_list.append(num)
    
    return ordered_list

sort_numbers(numbers_disordered)                


# Selection Sort Algorithm

def sort_numbers(numbers_disordered: list) -> list:
    for i in range(len(numbers_disordered)):
        min_index = i  
        for j in range(i + 1, len(numbers_disordered)):
            if numbers_disordered[j] < numbers_disordered[min_index]:
                min_index = j
        numbers_disordered[i], numbers_disordered[min_index] = (
            numbers_disordered[min_index],
            numbers_disordered[i],
        )

    list_ordered = numbers_disordered

    return list_ordered


print(sort_numbers(numbers_disordered))


# QuickSort Algorithm
# QuickSort's time complexity is O(n^2)

def quicksort(numbers):
    if len(numbers) <= 1:
        return numbers
    else:
        pivot = numbers[0]
        left = []
        right = []
        for num in numbers[1:]:
            if num < pivot:
                left.append(num)
            else:
                right.append(num)
        # recursive:
        return quicksort(left) + [pivot] + quicksort(right)

print(quicksort(numbers_disordered))






