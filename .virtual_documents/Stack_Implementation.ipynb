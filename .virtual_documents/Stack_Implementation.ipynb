


# Implement a STACK
class Stack:
    def __init__(self):
        self.items = []

    def push(self, new_item):
        self.items.append(new_item)

    def pop(self):
        return (
            self.items.pop() if len(self.items) > 0 else "Cannot pop(): Stack is empty"
        )

    def is_empty(self):
        return self.items == []

    def top(self):
        return self.items[-1]

    def __repr__(self):
        return " | ".join(self.items)

    def find(self, target):
        index = len(self.items) - 1
        if self.is_empty() == False:
            for item in self.items:
                if item == target:
                    return f"Target {target} found at index {index}"
                index -= 1
        return f"Target {target} not found in stack"

    def traverse(self):
        if len(self.items) > 0:
            for item in self.items:
                print(item, end=" || ")
        else:
            return "Stack is empty"


# Initialize the stack
names_stack = Stack()


# Check if empty
names_stack.is_empty()


# Push names to the stack
names_stack.push("Gero")
names_stack.push("Mar")
names_stack.push("Elisa")
names_stack.push("Silvia")


names_stack


names_stack.pop()


names_stack


names_stack.is_empty()


names_stack.top()





names_stack.traverse()


names_stack.pop()


names_stack.pop()


names_stack.pop()


names_stack.pop()


new_names = "Enrique Zayas Basilio Sonia Carly".split()


for name in new_names:
    names_stack.push(name)


names_stack





names_stack.find("Basilio")


names_stack.find("Carly")


names_stack.find("Enrique")



