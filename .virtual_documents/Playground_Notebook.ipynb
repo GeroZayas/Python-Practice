class Human:
    def __init__(self, name, age):
        self.name = name
        self.age = age


person1 = Human('Gero', 32)


person1.__getattribute__("name")


person1.age


person1.__getattribute__("age")


getattr(person1, 'name')


setattr(person1, 'name', 'Gerardito')


person1.name


hasattr(person1, 'height')


person1.height = 1.70


dir(person1)


person1.height



