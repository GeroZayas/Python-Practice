class Human:
    def __init__(self, name, age):
        self.name = name
        self.age = age

    def __repr__(self):
        return " ".join(["This is a class: ", self.name, str(self.age)])






