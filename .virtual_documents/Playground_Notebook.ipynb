class Human:
    __slots__ = ["name", "age"]

    def __init__(self, name, age):
        self.age = age
        self.name = name


gero = Human("Gero", 32)


gero.age


gero.name


gero.__slots__


gero.city = "Barcelona"


class Programmer:
    def __init__(self, name, age, language):
        self.name = name
        self.age = age
        self.language = language


programmer = Programmer("Gero", "32", "Python")


programmer.language


programmer.city = "Barcelona"


programmer.city


programmer.__dir__()


gero.__dir__()



