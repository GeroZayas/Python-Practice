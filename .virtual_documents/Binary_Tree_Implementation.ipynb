


from collections import deque


class TreeNode:
    def __init__(self, data):
        self.data = data
        self.left = None
        self.right = None

    def __repr__(self):
        if not isinstance(self.data, str):
            self.data = str(self.data)
        return self.data


r"""BINARY TREE
          hobbies
        /       \
    physical   intelectual
    /    \      /       \
football mma  reading  coding
"""


root = TreeNode("Hobbies")


root


root.left = TreeNode("Physical")
root.right = TreeNode("Intelectual")


root.left.left = TreeNode("Football")
root.left.right = TreeNode("MMA")


root.right.left = TreeNode("Reading")
root.right.right = TreeNode("Coding")


root


root.left


root.right


root.left.left





# BFS Traversal on the binary tree
def bfs_traversal(root):
    if not root:
        return
    queue = deque([root])
    while queue:
        curr = queue.popleft()
        print(curr.data, end=" ")
        if curr.left:
            queue.append(curr.left)
        if curr.right:
            queue.append(curr.right)


bfs_traversal(root)





def in_order_dfs_traversal(root):
    if not root:
        return
    in_order_dfs_traversal(root.left)
    print(root.data, end=" ")
    in_order_dfs_traversal(root.right)


in_order_dfs_traversal(root)


def pre_order_dfs_traversal(root):
    if not root:
        return
    print(root.data, end=" ")
    pre_order_dfs_traversal(root.left)
    pre_order_dfs_traversal(root.right)


pre_order_dfs_traversal(root)


def post_order_dfs_traversal(root):
    if not root:
        return
    post_order_dfs_traversal(root.left)
    post_order_dfs_traversal(root.right)
    print(root.data, end=" ")


post_order_dfs_traversal(root)





def BFS(root, target):
    """
    Breadth First Search Implementation to find target in the binary tree
    """
    visited = set()
    queue = deque([root])  # Each item in the queue is a tuple (node, level)
    while queue:
        node = queue.popleft()
        if node not in visited:
            print(node.data, end=" ")
        if node.data == target:
            return f"Target Found!"
        visited.add(node)
        if node.left not in visited:
            queue.append(node.left)
        if node.right not in visited:
            queue.append(node.right)
    return f"Target {target} not found in tree"


BFS(root, target="MMA")





def DFS(root, target):
    if not root:
        return
    if root.data == target:
        return root
    # Recursively search in the left and right subtrees
    left_result = DFS(root.left, target)
    right_result = DFS(root.right, target)
    # Return the result if found in either subtree
    return left_result or right_result


DFS(root, target="MMA")



