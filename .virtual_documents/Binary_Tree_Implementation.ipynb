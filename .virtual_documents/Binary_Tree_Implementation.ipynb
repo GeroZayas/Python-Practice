


class TreeNode:
    def __init__(self, data):
        self.data = data
        self.left = None
        self.right = None

    def __repr__(self):
        if not isinstance(self.data, str):
            self.data = str(self.data)
        return self.data


root =
