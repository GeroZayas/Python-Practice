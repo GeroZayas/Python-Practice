





class TreeNode:
    def __init__(self, data):
        self.data = data
        self.children = []





def bf_traversal(root):
    """Breadth First Traversal of Tree"""
    if not root:
        return
    queue = [root]
    while queue:
        current_node = queue.pop(0)
        print(current_node.data)
        if current_node.children is not None:
            for child in current_node.children:
                queue.append(child)





root = TreeNode("Sonia")


child1, child2 = TreeNode("Elisa"), TreeNode("Carlos")


root.children.extend([child1, child2])





bf_traversal(root)


for ch in root.children:
    print(ch.data)





child1.children.extend([TreeNode("Gero"), TreeNode("Rafa")])


child2.children.extend([TreeNode("Carly"), TreeNode("Karla"), TreeNode("Tania")])


carly = child2.children[0]


carly.data


carly.children.append(TreeNode("Dylan"))





bf_traversal(root)





def BFS(start_node, target):
    from collections import deque

    if not start_node:
        return
    queue = deque([start_node])
    visited = set()
    level = 0
    while queue:
        node = queue.popleft()
        level = ...
        if node not in visited:
            print(node.data)
            if node.data == target:
                return f"Node {target} found"
            visited.add(node)
            queue.extend(child for child in node.children if child not in visited)

    return f"Node {target} not found in this tree"





BFS(root, "Gero")



