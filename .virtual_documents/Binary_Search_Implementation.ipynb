# Binary search implementation


def bs(array, target):
    left, right = 0, len(array) - 1
    while left <= right:
        mid = (left + right) // 2
        if target == array[mid]:
            return f"Target {target} found at index {mid}"
        elif target < array[mid]:
            right = mid - 1
        else:
            left = mid + 1
    return f"Target {target} not found in array"


numbers = [x for x in range(1, 21)]


numbers


bs(numbers, 11)



