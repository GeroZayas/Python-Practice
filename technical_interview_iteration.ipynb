{
 "cells": [
  {
   "cell_type": "code",
   "execution_count": null,
   "id": "9450f11f-a288-4809-9c34-3b784f8160f9",
   "metadata": {},
   "outputs": [],
   "source": []
  },
  {
   "cell_type": "code",
   "execution_count": 1,
   "id": "f52e835a-dc40-483f-a1c2-2d6d9988858e",
   "metadata": {},
   "outputs": [],
   "source": [
    "# technical interview exercise one\n",
    "# re-doing it to practice"
   ]
  },
  {
   "cell_type": "markdown",
   "id": "029cdeda-4ad0-4703-9698-195c908244b6",
   "metadata": {},
   "source": [
    "Create a function that returns as short as possible a list of ordered numbers. The shorter the better. (Tip: now you have to create the algorithm)  DON’T USE function SORT"
   ]
  },
  {
   "cell_type": "code",
   "execution_count": 2,
   "id": "a17df0ec-e775-4038-a0b7-c8b0e89969ee",
   "metadata": {},
   "outputs": [],
   "source": [
    "numbers_disordered = [ 4, 1, 6, 43, 16, 88, 2, 100] "
   ]
  },
  {
   "cell_type": "code",
   "execution_count": null,
   "id": "8930d073-e532-469b-a863-b0a424652c79",
   "metadata": {},
   "outputs": [],
   "source": []
  },
  {
   "cell_type": "code",
   "execution_count": 3,
   "id": "e13a8946-b7d2-4fe0-a476-8ec3c4fcfa02",
   "metadata": {},
   "outputs": [
    {
     "data": {
      "text/plain": [
       "[4, 1, 6, 43, 16, 88, 2, 100]"
      ]
     },
     "execution_count": 3,
     "metadata": {},
     "output_type": "execute_result"
    }
   ],
   "source": [
    "numbers_disordered"
   ]
  },
  {
   "cell_type": "code",
   "execution_count": 4,
   "id": "5793c499-07a5-44b0-a870-b0c49f68f8dd",
   "metadata": {},
   "outputs": [
    {
     "data": {
      "text/plain": [
       "[1, 2, 4, 6, 16, 43, 88, 100]"
      ]
     },
     "execution_count": 4,
     "metadata": {},
     "output_type": "execute_result"
    }
   ],
   "source": [
    "# Insertion Sort Algorithm -> O(n**2)\n",
    "\n",
    "def sort_numbers(dis_list: list) -> list:\n",
    "    \"\"\"\n",
    "    Insertion Sort Algorithm\n",
    "    \"\"\"\n",
    "    ordered_list = []\n",
    "    for num in dis_list:\n",
    "        for i in range(len(ordered_list)):\n",
    "            if num < ordered_list[i]:\n",
    "                ordered_list.insert(i, num)\n",
    "                break\n",
    "        else:\n",
    "            ordered_list.append(num)\n",
    "    \n",
    "    return ordered_list\n",
    "\n",
    "sort_numbers(numbers_disordered)                "
   ]
  },
  {
   "cell_type": "code",
   "execution_count": 5,
   "id": "87739c1a-73ac-4157-8034-462fb0c7886d",
   "metadata": {},
   "outputs": [
    {
     "name": "stdout",
     "output_type": "stream",
     "text": [
      "[1, 2, 4, 6, 16, 43, 88, 100]\n"
     ]
    }
   ],
   "source": [
    "# Selection Sort Algorithm\n",
    "\n",
    "def sort_numbers(numbers_disordered: list) -> list:\n",
    "    for i in range(len(numbers_disordered)):\n",
    "        min_index = i  \n",
    "        for j in range(i + 1, len(numbers_disordered)):\n",
    "            if numbers_disordered[j] < numbers_disordered[min_index]:\n",
    "                min_index = j\n",
    "        numbers_disordered[i], numbers_disordered[min_index] = (\n",
    "            numbers_disordered[min_index],\n",
    "            numbers_disordered[i],\n",
    "        )\n",
    "\n",
    "    list_ordered = numbers_disordered\n",
    "\n",
    "    return list_ordered\n",
    "\n",
    "\n",
    "print(sort_numbers(numbers_disordered))"
   ]
  },
  {
   "cell_type": "code",
   "execution_count": 6,
   "id": "b171e1f6-0b90-4947-9601-b4a8c22f0be9",
   "metadata": {},
   "outputs": [
    {
     "name": "stdout",
     "output_type": "stream",
     "text": [
      "[1, 2, 4, 6, 16, 43, 88, 100]\n"
     ]
    }
   ],
   "source": [
    "# QuickSort Algorithm\n",
    "# QuickSort's time complexity is O(n^2)\n",
    "\n",
    "def quicksort(numbers):\n",
    "    if len(numbers) <= 1:\n",
    "        return numbers\n",
    "    else:\n",
    "        pivot = numbers[0]\n",
    "        left = []\n",
    "        right = []\n",
    "        for num in numbers[1:]:\n",
    "            if num < pivot:\n",
    "                left.append(num)\n",
    "            else:\n",
    "                right.append(num)\n",
    "        # recursive:\n",
    "        return quicksort(left) + [pivot] + quicksort(right)\n",
    "\n",
    "print(quicksort(numbers_disordered))"
   ]
  },
  {
   "cell_type": "code",
   "execution_count": null,
   "id": "c803e848-42c5-4532-b6ae-a7f46d8463ed",
   "metadata": {},
   "outputs": [],
   "source": []
  },
  {
   "cell_type": "code",
   "execution_count": null,
   "id": "811b7e9e-8d0a-4e35-9c31-64e371f24424",
   "metadata": {},
   "outputs": [],
   "source": []
  }
 ],
 "metadata": {
  "kernelspec": {
   "display_name": "Python 3",
   "language": "python",
   "name": "python3"
  },
  "language_info": {
   "codemirror_mode": {
    "name": "ipython",
    "version": 3
   },
   "file_extension": ".py",
   "mimetype": "text/x-python",
   "name": "python",
   "nbconvert_exporter": "python",
   "pygments_lexer": "ipython3",
   "version": "3.11.0"
  }
 },
 "nbformat": 4,
 "nbformat_minor": 5
}
