# Implement a QUEUE
class Queue:
    def __init__(self):
        self.items = []

    def enqueue(self, new_item):
        self.items.append(new_item)

    def dequeue(self):
        return (
            self.items.pop(0)
            if len(self.items) > 0
            else "Cannot dequeue(): Queue is empty"
        )

    def is_empty(self):
        return not self.items

    def qsize(self):
        return len(self.items)

    def top(self):
        return self.items[-1]

    def __repr__(self):
        return " | ".join(self.items) if self.items else "Queue is empty"

    def find(self, target):
        index = 0
        if self.is_empty() == False:
            for item in self.items:
                if item == target:
                    return f"Target {target} found at index {index}"
                index += 1
        return f"Target {target} not found in queue"

    def traverse(self):
        if len(self.items) > 0:
            for item in self.items:
                print(item, end=" || ")
        else:
            return "Queue is empty"


names_queue = Queue()


names_queue.is_empty()


names_queue


names = "Enrique Zayas Basilio Sonia Carly".split()


for name in names:
    names_queue.enqueue(name)


names_queue


names_queue.is_empty()


names_queue.dequeue()


names_queue


names_queue.find("Basilio")


names_queue.traverse()



