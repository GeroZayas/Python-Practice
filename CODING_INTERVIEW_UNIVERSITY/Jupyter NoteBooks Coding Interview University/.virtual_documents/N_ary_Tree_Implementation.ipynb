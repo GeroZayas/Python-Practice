from collections import deque


# Tree with multiple children





# N-Ary Tree
class TreeNode:
    def __init__(self, data):
        self.data = data
        self.children = []

    def add_child(self, new_child):
        self.children.append(new_child)

    def __repr__(self):
        if not isinstance(self.data, str):
            self.data = str(self.data)
        return self.data





root = TreeNode("Sonia")


root


child1 = TreeNode("Elisa")
child2 = TreeNode("Carlos")
child3 = TreeNode("Basilio")


child1_1 = TreeNode("Gero")
child2_1 = TreeNode("Carly")
child2_2 = TreeNode("Karla")
child3_1 = TreeNode("Roberto")
child3_2 = TreeNode("Fernando")
child3_3 = TreeNode("David")


root.add_child(child1)
root.add_child(child2)
root.add_child(child3)


root


child1.add_child(child1_1)
child2.add_child(child2_1)
child2.add_child(child2_2)


root.children


child3.add_child(child3_1)
child3.add_child(child3_2)
child3.add_child(child3_3)


root.children[1]


r""" N-ARY TREE
             Sonia
        /      |     \ 
    elisa   carlos         basilio
    /        /   \     /        \      \
  gero   carly  karla roberto fernando david 

"""





# breadth first traversal
def bft(root):
    if not root:
        return
    queue = deque([root])
    while queue:
        curr = queue.popleft()
        print(curr.data, end=" ")
        if curr.children:
            for child in curr.children:
                queue.append(child)


bft(root)





# Depth First Traversal
# Pre-order, in-order, post-order


# pre-order DF traversal
def df_in_order_trav(root):
    ...



