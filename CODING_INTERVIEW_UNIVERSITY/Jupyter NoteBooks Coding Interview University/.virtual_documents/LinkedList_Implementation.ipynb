


# a singly linkedlist has nodes and a pointer to the next node
class Node:
    def __init__(self, data):
        self.data = data
        self.next = None

    def __repr__(self):
        if not isinstance(self.data, str):
            self.data = str(self.data)
        return self.data





class LinkedList:
    def __init__(self, nodes=None):
        self.head = None
        if nodes is not None:
            node = Node(data=nodes.pop(0))
            self.head = node
            for elem in nodes:
                node.next = Node(data=elem)
                node = node.next

    def __iter__(self):
        node = self.head
        while node is not None:
            yield node
            node = node.next

    def traverse(self):
        node = self.head
        while node:
            print(node.data, "-> ", end="")
            node = node.next
        print("None")

    def find(self, target):
        node = self.head
        index = 0
        while node:
            if node.data == target:
                return f"Target {target} found at index {index}"
            node = node.next
            index += 1
        return f"Target {target} not found in linkedlist"

    def __repr__(self):
        node = self.head
        nodes = []
        while node is not None:
            nodes.append(node.data)
            node = node.next
        nodes.append("None")
        return " -> ".join(nodes)





names = "Gero Mar Elisa Enrique Manel Silvia Migdalia".split()


names





linkedlist_names = LinkedList(nodes=names)


for node in linkedlist_names:
    print(node, end=" -> ")





linkedlist_names





numbers = [1, 2, 3, 4, 5, 6, 7, 8, 9, 10]


linkedlist_numbers = LinkedList(nodes=numbers)


for node in linkedlist_numbers:
    print(node, end=" -> ")


print(linkedlist_names)


print(linkedlist_numbers)





linkedlist_names.traverse()


linkedlist_numbers.traverse()





target = "Manel"


linkedlist_names.find(target)


target = "7"


linkedlist_numbers.find(target)



