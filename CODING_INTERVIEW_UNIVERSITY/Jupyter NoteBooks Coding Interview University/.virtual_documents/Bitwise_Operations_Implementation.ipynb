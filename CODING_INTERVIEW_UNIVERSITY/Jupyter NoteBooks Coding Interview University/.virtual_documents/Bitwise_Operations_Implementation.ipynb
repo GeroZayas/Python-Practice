# Bitwise Operations easy implementation


a, b = 5, 3


a


b


bin(a)


bin(b)


r = bin(a & b)  # and
print(r)


r = bin(a | b)  # or
print(r)


r = bin(a ^ b)  # xor
print(r)


a = 5  # 0b0101 in binary
result = ~a
print(bin(result))


num = 8  # 0b1000 in binary
left_shifted = num << 2
right_shifted = num >> 1
print(left_shifted, right_shifted)
print(bin(left_shifted), bin(right_shifted))



