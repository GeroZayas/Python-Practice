{
 "cells": [
  {
   "cell_type": "markdown",
   "id": "8dd954ac-73dd-4731-9041-814d73c877e2",
   "metadata": {},
   "source": [
    "# First Implementation + Sum of Nodes' value"
   ]
  },
  {
   "cell_type": "code",
   "execution_count": 1,
   "id": "8fb201e4-658b-4932-91d1-dd218cc4ecc2",
   "metadata": {
    "editable": true,
    "slideshow": {
     "slide_type": ""
    },
    "tags": []
   },
   "outputs": [],
   "source": [
    "# Tree Data Structure\n",
    "# CSDojo video : https://www.youtube.com/watch?v=1-l_UOFi1Xw"
   ]
  },
  {
   "cell_type": "code",
   "execution_count": 2,
   "id": "4a0add95-bc54-43d1-8943-463effea80dd",
   "metadata": {},
   "outputs": [],
   "source": [
    "# class Node:\n",
    "#     def __init__(self, data, left_child, right_child):\n",
    "#         self.data = data\n",
    "#         self.left_child = left_child\n",
    "#         self.right_child = right_child\n",
    "# root = Node(5, None, None)"
   ]
  },
  {
   "cell_type": "code",
   "execution_count": 3,
   "id": "3307c272-39e6-41aa-9766-acc39620d7aa",
   "metadata": {},
   "outputs": [],
   "source": [
    "# root.data, root.left_child, root.right_child"
   ]
  },
  {
   "cell_type": "code",
   "execution_count": 4,
   "id": "533c74b0-d85d-4312-baa4-77e11f71107a",
   "metadata": {},
   "outputs": [],
   "source": [
    "# node1, node2, node3, node4 = (Node(n, None, None) for n in range(7,11))"
   ]
  },
  {
   "cell_type": "code",
   "execution_count": 5,
   "id": "be8dd406-b794-42c9-8556-466bdd550411",
   "metadata": {},
   "outputs": [],
   "source": [
    "# for n in [node1,node2,node3,node4]:\n",
    "#     print(n.data)"
   ]
  },
  {
   "cell_type": "code",
   "execution_count": 6,
   "id": "fee23a69-11cb-4531-b2fa-e4f325f11c8b",
   "metadata": {},
   "outputs": [],
   "source": [
    "# root.left_child = node1\n",
    "# root.right_child = node2\n",
    "# node1.left_child = node3\n",
    "# node2.right_child = node4"
   ]
  },
  {
   "cell_type": "code",
   "execution_count": 7,
   "id": "64b13367-7bcb-4b90-905b-30f6c4cd87e6",
   "metadata": {},
   "outputs": [],
   "source": [
    "# def find_sum(root):\n",
    "#     if root == None:\n",
    "#         return 0\n",
    "#     return root.data + find_sum(root.left_child) \\\n",
    "#     + find_sum(root.right_child)"
   ]
  },
  {
   "cell_type": "code",
   "execution_count": 8,
   "id": "1e9b850c-d66b-4f3b-8f6b-dc3c3315c5cd",
   "metadata": {},
   "outputs": [],
   "source": [
    "# find_sum(root) # 39"
   ]
  },
  {
   "cell_type": "markdown",
   "id": "0bfbb67d-524f-4b97-8deb-fa4601445cb5",
   "metadata": {},
   "source": [
    "# Second Implementation"
   ]
  },
  {
   "cell_type": "code",
   "execution_count": 9,
   "id": "95f70a91-e7b3-4eb0-9436-a97d99fc2484",
   "metadata": {},
   "outputs": [],
   "source": [
    "# # Node\n",
    "# class Node():\n",
    "#     def __init__(self, value):\n",
    "#         self.value = value\n",
    "#         self.left = None\n",
    "#         self.right = None"
   ]
  },
  {
   "cell_type": "code",
   "execution_count": 10,
   "id": "2c20f7d1-251f-46f3-b86e-7239fe6fae06",
   "metadata": {},
   "outputs": [],
   "source": [
    "# class BinaryTree():\n",
    "#     def __init__(self, root):\n",
    "#         self.root = Node(root)\n"
   ]
  },
  {
   "cell_type": "code",
   "execution_count": 11,
   "id": "91d5103a-2858-4f80-9269-0b09c46ee4eb",
   "metadata": {},
   "outputs": [],
   "source": [
    "# tree = BinaryTree(1)"
   ]
  },
  {
   "cell_type": "code",
   "execution_count": 88,
   "id": "f84bfa81-cb77-4ea3-8c1a-e4c1816c728c",
   "metadata": {},
   "outputs": [],
   "source": [
    "# tree.root.left = Node(2)\n",
    "# tree.root.right = Node(3)"
   ]
  },
  {
   "cell_type": "markdown",
   "id": "a536331b-bd9f-452e-b10b-20194b45000a",
   "metadata": {},
   "source": [
    "# Third Implementation"
   ]
  },
  {
   "cell_type": "code",
   "execution_count": 134,
   "id": "4f360fb4-3efc-4d2e-924f-645694b4b991",
   "metadata": {},
   "outputs": [],
   "source": [
    "class Node:\n",
    "    def __init__(self, data, right=None, left=None):\n",
    "        self.data = data\n",
    "        self.right = right\n",
    "        self.left = left\n",
    "\n",
    "    def __str__(self):\n",
    "        return (\n",
    "            str(self.data)\n",
    "            + \" -> Left child: \"\n",
    "            + str(self.left)\n",
    "            + \" -> Right child: \"\n",
    "            + str(self.right)\n",
    "            + \" || \"\n",
    "        )"
   ]
  },
  {
   "cell_type": "code",
   "execution_count": 135,
   "id": "3a49d5af-562b-431a-a2e5-ecd2b0e2a537",
   "metadata": {},
   "outputs": [],
   "source": [
    "class Tree:\n",
    "    \"\"\"Tree data structure in which we have nodes and each one has\n",
    "    some data and may have children to its left and right\"\"\"\n",
    "\n",
    "    def __init__(self, root):\n",
    "        self.root = Node(root)\n",
    "\n",
    "    def __str__(self):\n",
    "        return \"Root: \" + str(self.root) + \" -> \""
   ]
  },
  {
   "cell_type": "code",
   "execution_count": 136,
   "id": "29223033-db75-4ffd-b0d8-6ec009a49dec",
   "metadata": {},
   "outputs": [],
   "source": [
    "family_tree = Tree(\"Sonia\")"
   ]
  },
  {
   "cell_type": "code",
   "execution_count": 137,
   "id": "223a300a-54bb-4797-8d7c-f6f1036fa836",
   "metadata": {},
   "outputs": [
    {
     "name": "stdout",
     "output_type": "stream",
     "text": [
      "Root: Sonia -> Left child: None -> Right child: None ||  -> \n"
     ]
    }
   ],
   "source": [
    "print(family_tree)"
   ]
  },
  {
   "cell_type": "code",
   "execution_count": 138,
   "id": "908f5fb7-a74a-4069-9c2b-edd363aab757",
   "metadata": {},
   "outputs": [],
   "source": [
    "family_tree.root.left = Node(\"Elisa\")\n",
    "family_tree.root.right = Node(\"Carlos\")"
   ]
  },
  {
   "cell_type": "code",
   "execution_count": 139,
   "id": "cb8faad0-d40a-4e53-8bfb-7191324f15b0",
   "metadata": {},
   "outputs": [
    {
     "name": "stdout",
     "output_type": "stream",
     "text": [
      "Root: Sonia -> Left child: Elisa -> Left child: None -> Right child: None ||  -> Right child: Carlos -> Left child: None -> Right child: None ||  ||  -> \n"
     ]
    }
   ],
   "source": [
    "print(family_tree)"
   ]
  },
  {
   "cell_type": "code",
   "execution_count": 140,
   "id": "982e2de0-b759-4c7c-8ef0-afa7db4f557c",
   "metadata": {},
   "outputs": [
    {
     "name": "stdout",
     "output_type": "stream",
     "text": [
      "Elisa -> Left child: None -> Right child: None || \n"
     ]
    }
   ],
   "source": [
    "print(family_tree.root.left)"
   ]
  },
  {
   "cell_type": "code",
   "execution_count": 141,
   "id": "3f50dabe-4b45-448b-89c6-4ed6734b233f",
   "metadata": {},
   "outputs": [],
   "source": [
    "family_tree.root.left.left = Node(\"Gero\")"
   ]
  },
  {
   "cell_type": "code",
   "execution_count": 142,
   "id": "abf791c2-6913-4245-9d6d-dcb9b85183dd",
   "metadata": {},
   "outputs": [
    {
     "name": "stdout",
     "output_type": "stream",
     "text": [
      "Root: Sonia -> Left child: Elisa -> Left child: Gero -> Left child: None -> Right child: None ||  -> Right child: None ||  -> Right child: Carlos -> Left child: None -> Right child: None ||  ||  -> \n"
     ]
    }
   ],
   "source": [
    "print(family_tree)"
   ]
  },
  {
   "cell_type": "code",
   "execution_count": 143,
   "id": "8724cdba-7edf-4786-9b71-d468ad53b1fa",
   "metadata": {},
   "outputs": [
    {
     "name": "stdout",
     "output_type": "stream",
     "text": [
      "Elisa -> Left child: Gero -> Left child: None -> Right child: None ||  -> Right child: None || \n"
     ]
    }
   ],
   "source": [
    "print(family_tree.root.left)"
   ]
  },
  {
   "cell_type": "code",
   "execution_count": 144,
   "id": "417689ac-5e0a-459f-9a80-e3b32f2caa38",
   "metadata": {},
   "outputs": [],
   "source": [
    "family_tree.root.right.left = Node(\"Carly\")\n",
    "family_tree.root.right.right = Node(\"Karla\")"
   ]
  },
  {
   "cell_type": "code",
   "execution_count": 146,
   "id": "6b8d0366-e74d-4daf-a5f2-8456b4cce386",
   "metadata": {},
   "outputs": [
    {
     "name": "stdout",
     "output_type": "stream",
     "text": [
      "Carlos -> Left child: Carly -> Left child: None -> Right child: None ||  -> Right child: Karla -> Left child: None -> Right child: None ||  || \n"
     ]
    }
   ],
   "source": [
    "print(family_tree.root.right)"
   ]
  },
  {
   "cell_type": "code",
   "execution_count": null,
   "id": "34189aea-03a8-44b2-9087-d377499c7c2f",
   "metadata": {},
   "outputs": [],
   "source": []
  }
 ],
 "metadata": {
  "kernelspec": {
   "display_name": "Python 3 (ipykernel)",
   "language": "python",
   "name": "python3"
  },
  "language_info": {
   "codemirror_mode": {
    "name": "ipython",
    "version": 3
   },
   "file_extension": ".py",
   "mimetype": "text/x-python",
   "name": "python",
   "nbconvert_exporter": "python",
   "pygments_lexer": "ipython3",
   "version": "3.12.1"
  }
 },
 "nbformat": 4,
 "nbformat_minor": 5
}
