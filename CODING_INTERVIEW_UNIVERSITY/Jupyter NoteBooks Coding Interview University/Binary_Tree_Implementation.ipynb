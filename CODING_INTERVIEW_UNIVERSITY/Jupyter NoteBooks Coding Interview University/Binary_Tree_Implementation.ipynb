{
 "cells": [
  {
   "cell_type": "markdown",
   "id": "78afd1dc-a039-49fc-bb91-b0cb99bc750a",
   "metadata": {},
   "source": [
    "# Binary Tree Implementation"
   ]
  },
  {
   "cell_type": "code",
   "execution_count": 1,
   "id": "f0290ad0-c623-4786-b73e-2b1d57a0b38b",
   "metadata": {},
   "outputs": [],
   "source": [
    "from collections import deque"
   ]
  },
  {
   "cell_type": "code",
   "execution_count": 2,
   "id": "ef0d47f6-a0ff-4403-a5db-4ad887171fa6",
   "metadata": {},
   "outputs": [],
   "source": [
    "class TreeNode:\n",
    "    def __init__(self, data):\n",
    "        self.data = data\n",
    "        self.left = None\n",
    "        self.right = None\n",
    "\n",
    "    def __repr__(self):\n",
    "        if not isinstance(self.data, str):\n",
    "            self.data = str(self.data)\n",
    "        return self.data"
   ]
  },
  {
   "cell_type": "code",
   "execution_count": 3,
   "id": "36d8d6da-9390-4342-9ad7-5f841d6cfc9b",
   "metadata": {},
   "outputs": [
    {
     "data": {
      "text/plain": [
       "'BINARY TREE\\n          hobbies\\n        /       \\\\\\n    physical   intelectual\\n    /    \\\\      /       \\\\\\nfootball mma  reading  coding\\n'"
      ]
     },
     "execution_count": 3,
     "metadata": {},
     "output_type": "execute_result"
    }
   ],
   "source": [
    "r\"\"\"BINARY TREE\n",
    "          hobbies\n",
    "        /       \\\n",
    "    physical   intelectual\n",
    "    /    \\      /       \\\n",
    "football mma  reading  coding\n",
    "\"\"\""
   ]
  },
  {
   "cell_type": "code",
   "execution_count": 4,
   "id": "f3148fa1-b2a7-4dc5-8fad-4cbf9af0f37e",
   "metadata": {},
   "outputs": [],
   "source": [
    "root = TreeNode(\"Hobbies\")"
   ]
  },
  {
   "cell_type": "code",
   "execution_count": 5,
   "id": "534f2b25-6d49-47e0-b7e8-e31a83b5143e",
   "metadata": {},
   "outputs": [
    {
     "data": {
      "text/plain": [
       "Hobbies"
      ]
     },
     "execution_count": 5,
     "metadata": {},
     "output_type": "execute_result"
    }
   ],
   "source": [
    "root"
   ]
  },
  {
   "cell_type": "code",
   "execution_count": 6,
   "id": "068267bb-799b-44e2-8597-51ea77b5bb55",
   "metadata": {},
   "outputs": [],
   "source": [
    "root.left = TreeNode(\"Physical\")\n",
    "root.right = TreeNode(\"Intelectual\")"
   ]
  },
  {
   "cell_type": "code",
   "execution_count": 7,
   "id": "db5ed342-eb6f-4bf5-a4c9-b71e8153600e",
   "metadata": {},
   "outputs": [],
   "source": [
    "root.left.left = TreeNode(\"Football\")\n",
    "root.left.right = TreeNode(\"MMA\")"
   ]
  },
  {
   "cell_type": "code",
   "execution_count": 8,
   "id": "aa188600-40d8-45d4-b13b-c71096dd8109",
   "metadata": {},
   "outputs": [],
   "source": [
    "root.right.left = TreeNode(\"Reading\")\n",
    "root.right.right = TreeNode(\"Coding\")"
   ]
  },
  {
   "cell_type": "code",
   "execution_count": 9,
   "id": "00312bb6-c39d-41d7-a114-26ba3a117a9a",
   "metadata": {},
   "outputs": [
    {
     "data": {
      "text/plain": [
       "Hobbies"
      ]
     },
     "execution_count": 9,
     "metadata": {},
     "output_type": "execute_result"
    }
   ],
   "source": [
    "root"
   ]
  },
  {
   "cell_type": "code",
   "execution_count": 10,
   "id": "e6f37b55-a7d8-4f53-a0c0-17acf1701a87",
   "metadata": {},
   "outputs": [
    {
     "data": {
      "text/plain": [
       "Physical"
      ]
     },
     "execution_count": 10,
     "metadata": {},
     "output_type": "execute_result"
    }
   ],
   "source": [
    "root.left"
   ]
  },
  {
   "cell_type": "code",
   "execution_count": 11,
   "id": "02299529-facb-47ac-8ab4-2aaec2aa4e66",
   "metadata": {},
   "outputs": [
    {
     "data": {
      "text/plain": [
       "Intelectual"
      ]
     },
     "execution_count": 11,
     "metadata": {},
     "output_type": "execute_result"
    }
   ],
   "source": [
    "root.right"
   ]
  },
  {
   "cell_type": "code",
   "execution_count": 12,
   "id": "ce5d55e2-4ac2-49da-92cc-4ad102e2a1a9",
   "metadata": {},
   "outputs": [
    {
     "data": {
      "text/plain": [
       "Football"
      ]
     },
     "execution_count": 12,
     "metadata": {},
     "output_type": "execute_result"
    }
   ],
   "source": [
    "root.left.left"
   ]
  },
  {
   "cell_type": "markdown",
   "id": "bfcde3e5-bdb5-4c2d-9768-ebed9b9f96e4",
   "metadata": {},
   "source": [
    "# BFS Traversal"
   ]
  },
  {
   "cell_type": "code",
   "execution_count": 13,
   "id": "8df8f9b8-b479-4351-b19a-026ecace3d96",
   "metadata": {},
   "outputs": [],
   "source": [
    "# BFS Traversal on the binary tree\n",
    "def bfs_traversal(root):\n",
    "    if not root:\n",
    "        return\n",
    "    queue = deque([root])\n",
    "    while queue:\n",
    "        curr = queue.popleft()\n",
    "        print(curr.data, end=\" \")\n",
    "        if curr.left:\n",
    "            queue.append(curr.left)\n",
    "        if curr.right:\n",
    "            queue.append(curr.right)"
   ]
  },
  {
   "cell_type": "code",
   "execution_count": 14,
   "id": "a2a7106d-9b3d-457c-9bce-4fced26165d4",
   "metadata": {},
   "outputs": [
    {
     "name": "stdout",
     "output_type": "stream",
     "text": [
      "Hobbies Physical Intelectual Football MMA Reading Coding "
     ]
    }
   ],
   "source": [
    "bfs_traversal(root)"
   ]
  },
  {
   "cell_type": "markdown",
   "id": "e457695f-04a5-4949-a496-e8fdd85f2577",
   "metadata": {},
   "source": [
    "# DFS Traversal (in order, pre order, post order)"
   ]
  },
  {
   "cell_type": "code",
   "execution_count": 15,
   "id": "88e2360b-5f68-4185-afc8-c45a18e9cf95",
   "metadata": {},
   "outputs": [],
   "source": [
    "def in_order_dfs_traversal(root):\n",
    "    if not root:\n",
    "        return\n",
    "    in_order_dfs_traversal(root.left)\n",
    "    print(root.data, end=\" \")\n",
    "    in_order_dfs_traversal(root.right)"
   ]
  },
  {
   "cell_type": "code",
   "execution_count": 16,
   "id": "7ab08b49-252a-4687-b14c-6eb7d2cd073e",
   "metadata": {},
   "outputs": [
    {
     "name": "stdout",
     "output_type": "stream",
     "text": [
      "Football Physical MMA Hobbies Reading Intelectual Coding "
     ]
    }
   ],
   "source": [
    "in_order_dfs_traversal(root)"
   ]
  },
  {
   "cell_type": "code",
   "execution_count": 17,
   "id": "e96896d0-be00-401e-bb10-a6fa6be33e8a",
   "metadata": {},
   "outputs": [],
   "source": [
    "def pre_order_dfs_traversal(root):\n",
    "    if not root:\n",
    "        return\n",
    "    print(root.data, end=\" \")\n",
    "    pre_order_dfs_traversal(root.left)\n",
    "    pre_order_dfs_traversal(root.right)"
   ]
  },
  {
   "cell_type": "code",
   "execution_count": 18,
   "id": "877e6555-ab67-4686-8a11-06c87179b7fe",
   "metadata": {},
   "outputs": [
    {
     "name": "stdout",
     "output_type": "stream",
     "text": [
      "Hobbies Physical Football MMA Intelectual Reading Coding "
     ]
    }
   ],
   "source": [
    "pre_order_dfs_traversal(root)"
   ]
  },
  {
   "cell_type": "code",
   "execution_count": 19,
   "id": "705e1483-9cf7-482f-8031-64c9842ddf77",
   "metadata": {},
   "outputs": [],
   "source": [
    "def post_order_dfs_traversal(root):\n",
    "    if not root:\n",
    "        return\n",
    "    post_order_dfs_traversal(root.left)\n",
    "    post_order_dfs_traversal(root.right)\n",
    "    print(root.data, end=\" \")"
   ]
  },
  {
   "cell_type": "code",
   "execution_count": 20,
   "id": "e349df83-a393-4b6b-8457-f8e263ef62ee",
   "metadata": {},
   "outputs": [
    {
     "name": "stdout",
     "output_type": "stream",
     "text": [
      "Football MMA Physical Reading Coding Intelectual Hobbies "
     ]
    }
   ],
   "source": [
    "post_order_dfs_traversal(root)"
   ]
  },
  {
   "cell_type": "markdown",
   "id": "d7205898-7df8-400b-803b-0fd7a6402810",
   "metadata": {},
   "source": [
    "# BFS Search"
   ]
  },
  {
   "cell_type": "code",
   "execution_count": 21,
   "id": "2b5cc130-e47f-4f7e-9d15-1e87ca7747b6",
   "metadata": {},
   "outputs": [],
   "source": [
    "def BFS(root, target):\n",
    "    \"\"\"\n",
    "    Breadth First Search Implementation to find target in the binary tree\n",
    "    \"\"\"\n",
    "    visited = set()\n",
    "    queue = deque([root])  # Each item in the queue is a tuple (node, level)\n",
    "    while queue:\n",
    "        node = queue.popleft()\n",
    "        if node not in visited:\n",
    "            print(node.data, end=\" \")\n",
    "        if node.data == target:\n",
    "            return f\"Target Found!\"\n",
    "        visited.add(node)\n",
    "        if node.left not in visited:\n",
    "            queue.append(node.left)\n",
    "        if node.right not in visited:\n",
    "            queue.append(node.right)\n",
    "    return f\"Target {target} not found in tree\""
   ]
  },
  {
   "cell_type": "code",
   "execution_count": 22,
   "id": "9b7677f6-595f-4235-9fba-fe9372a9703c",
   "metadata": {},
   "outputs": [
    {
     "name": "stdout",
     "output_type": "stream",
     "text": [
      "Hobbies Physical Intelectual Football MMA "
     ]
    },
    {
     "data": {
      "text/plain": [
       "'Target Found!'"
      ]
     },
     "execution_count": 22,
     "metadata": {},
     "output_type": "execute_result"
    }
   ],
   "source": [
    "BFS(root, target=\"MMA\")"
   ]
  },
  {
   "cell_type": "markdown",
   "id": "90a8fb47-de54-44eb-bad9-1e08b5401265",
   "metadata": {},
   "source": [
    "# DFS Search"
   ]
  },
  {
   "cell_type": "code",
   "execution_count": 27,
   "id": "99047476-7bbd-4a5b-992b-ff2879d681bc",
   "metadata": {},
   "outputs": [],
   "source": [
    "def DFS(root, target):\n",
    "    if not root:\n",
    "        return\n",
    "    if root.data == target:\n",
    "        return root\n",
    "    # Recursively search in the left and right subtrees\n",
    "    left_result = DFS(root.left, target)\n",
    "    right_result = DFS(root.right, target)\n",
    "    # Return the result if found in either subtree\n",
    "    return left_result or right_result"
   ]
  },
  {
   "cell_type": "code",
   "execution_count": 28,
   "id": "a567083d-3863-4acc-b6e1-23cf5d7baef6",
   "metadata": {},
   "outputs": [
    {
     "data": {
      "text/plain": [
       "MMA"
      ]
     },
     "execution_count": 28,
     "metadata": {},
     "output_type": "execute_result"
    }
   ],
   "source": [
    "DFS(root, target=\"MMA\")"
   ]
  },
  {
   "cell_type": "code",
   "execution_count": null,
   "id": "1c7c77fe-43e2-40b7-8b62-902b72d7bef9",
   "metadata": {},
   "outputs": [],
   "source": []
  }
 ],
 "metadata": {
  "kernelspec": {
   "display_name": "Python 3 (ipykernel)",
   "language": "python",
   "name": "python3"
  },
  "language_info": {
   "codemirror_mode": {
    "name": "ipython",
    "version": 3
   },
   "file_extension": ".py",
   "mimetype": "text/x-python",
   "name": "python",
   "nbconvert_exporter": "python",
   "pygments_lexer": "ipython3",
   "version": "3.12.2"
  }
 },
 "nbformat": 4,
 "nbformat_minor": 5
}
