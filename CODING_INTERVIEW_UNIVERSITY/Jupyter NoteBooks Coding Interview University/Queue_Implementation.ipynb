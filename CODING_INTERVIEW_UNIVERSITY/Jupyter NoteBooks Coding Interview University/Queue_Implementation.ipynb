{
 "cells": [
  {
   "cell_type": "code",
   "execution_count": 85,
   "id": "9e473836-61b0-44f0-a2a9-eb280d701179",
   "metadata": {},
   "outputs": [],
   "source": [
    "# Implement a QUEUE\n",
    "class Queue:\n",
    "    def __init__(self):\n",
    "        self.items = []\n",
    "\n",
    "    def enqueue(self, new_item):\n",
    "        self.items.append(new_item)\n",
    "\n",
    "    def dequeue(self):\n",
    "        return (\n",
    "            self.items.pop(0)\n",
    "            if len(self.items) > 0\n",
    "            else \"Cannot dequeue(): Queue is empty\"\n",
    "        )\n",
    "\n",
    "    def is_empty(self):\n",
    "        return not self.items\n",
    "\n",
    "    def qsize(self):\n",
    "        return len(self.items)\n",
    "\n",
    "    def top(self):\n",
    "        return self.items[-1]\n",
    "\n",
    "    def __repr__(self):\n",
    "        return \" | \".join(self.items) if self.items else \"Queue is empty\"\n",
    "\n",
    "    def find(self, target):\n",
    "        index = 0\n",
    "        if self.is_empty() == False:\n",
    "            for item in self.items:\n",
    "                if item == target:\n",
    "                    return f\"Target {target} found at index {index}\"\n",
    "                index += 1\n",
    "        return f\"Target {target} not found in queue\"\n",
    "\n",
    "    def traverse(self):\n",
    "        if len(self.items) > 0:\n",
    "            for item in self.items:\n",
    "                print(item, end=\" || \")\n",
    "        else:\n",
    "            return \"Queue is empty\""
   ]
  },
  {
   "cell_type": "code",
   "execution_count": 86,
   "id": "374b99ed-75a7-4a6f-84b1-ac9cf709b6f6",
   "metadata": {},
   "outputs": [],
   "source": [
    "names_queue = Queue()"
   ]
  },
  {
   "cell_type": "code",
   "execution_count": 87,
   "id": "30a4885d-1119-45d9-a503-3c404b8ac9e8",
   "metadata": {},
   "outputs": [
    {
     "data": {
      "text/plain": [
       "True"
      ]
     },
     "execution_count": 87,
     "metadata": {},
     "output_type": "execute_result"
    }
   ],
   "source": [
    "names_queue.is_empty()"
   ]
  },
  {
   "cell_type": "code",
   "execution_count": 88,
   "id": "0878a5bc-504d-41be-9969-ee7b1706ec16",
   "metadata": {},
   "outputs": [
    {
     "data": {
      "text/plain": [
       "Queue is empty"
      ]
     },
     "execution_count": 88,
     "metadata": {},
     "output_type": "execute_result"
    }
   ],
   "source": [
    "names_queue"
   ]
  },
  {
   "cell_type": "code",
   "execution_count": 89,
   "id": "67d4cd5a-9a5f-4fbd-aeba-6a282f8e045d",
   "metadata": {},
   "outputs": [],
   "source": [
    "names = \"Enrique Zayas Basilio Sonia Carly\".split()"
   ]
  },
  {
   "cell_type": "code",
   "execution_count": 90,
   "id": "c6c6e91b-86a6-4d46-8406-215d2ae74479",
   "metadata": {},
   "outputs": [],
   "source": [
    "for name in names:\n",
    "    names_queue.enqueue(name)"
   ]
  },
  {
   "cell_type": "code",
   "execution_count": 91,
   "id": "8758780c-9909-45c1-9d69-1f3842298a2f",
   "metadata": {},
   "outputs": [
    {
     "data": {
      "text/plain": [
       "Enrique | Zayas | Basilio | Sonia | Carly"
      ]
     },
     "execution_count": 91,
     "metadata": {},
     "output_type": "execute_result"
    }
   ],
   "source": [
    "names_queue"
   ]
  },
  {
   "cell_type": "code",
   "execution_count": 92,
   "id": "b6108f8b-1219-4338-b369-d84eee43c6ab",
   "metadata": {},
   "outputs": [
    {
     "data": {
      "text/plain": [
       "False"
      ]
     },
     "execution_count": 92,
     "metadata": {},
     "output_type": "execute_result"
    }
   ],
   "source": [
    "names_queue.is_empty()"
   ]
  },
  {
   "cell_type": "code",
   "execution_count": 93,
   "id": "7f991ec5-a48c-4675-9bc8-0582e9085937",
   "metadata": {},
   "outputs": [
    {
     "data": {
      "text/plain": [
       "'Enrique'"
      ]
     },
     "execution_count": 93,
     "metadata": {},
     "output_type": "execute_result"
    }
   ],
   "source": [
    "names_queue.dequeue()"
   ]
  },
  {
   "cell_type": "code",
   "execution_count": 94,
   "id": "dc6b9378-9f8d-4462-9184-e1b0445a8696",
   "metadata": {},
   "outputs": [
    {
     "data": {
      "text/plain": [
       "Zayas | Basilio | Sonia | Carly"
      ]
     },
     "execution_count": 94,
     "metadata": {},
     "output_type": "execute_result"
    }
   ],
   "source": [
    "names_queue"
   ]
  },
  {
   "cell_type": "code",
   "execution_count": 95,
   "id": "ba75cd87-3ff6-4180-b15f-c81ad0cf4515",
   "metadata": {},
   "outputs": [
    {
     "data": {
      "text/plain": [
       "'Target Basilio found at index 1'"
      ]
     },
     "execution_count": 95,
     "metadata": {},
     "output_type": "execute_result"
    }
   ],
   "source": [
    "names_queue.find(\"Basilio\")"
   ]
  },
  {
   "cell_type": "code",
   "execution_count": 97,
   "id": "5fe7cd84-eaad-45ed-8321-5b050dad1b7c",
   "metadata": {},
   "outputs": [
    {
     "name": "stdout",
     "output_type": "stream",
     "text": [
      "Zayas || Basilio || Sonia || Carly || "
     ]
    }
   ],
   "source": [
    "names_queue.traverse()"
   ]
  },
  {
   "cell_type": "code",
   "execution_count": null,
   "id": "5627f9ef-6902-49be-b488-00d2bdd00fa4",
   "metadata": {},
   "outputs": [],
   "source": []
  }
 ],
 "metadata": {
  "kernelspec": {
   "display_name": "Python 3 (ipykernel)",
   "language": "python",
   "name": "python3"
  },
  "language_info": {
   "codemirror_mode": {
    "name": "ipython",
    "version": 3
   },
   "file_extension": ".py",
   "mimetype": "text/x-python",
   "name": "python",
   "nbconvert_exporter": "python",
   "pygments_lexer": "ipython3",
   "version": "3.12.1"
  }
 },
 "nbformat": 4,
 "nbformat_minor": 5
}
