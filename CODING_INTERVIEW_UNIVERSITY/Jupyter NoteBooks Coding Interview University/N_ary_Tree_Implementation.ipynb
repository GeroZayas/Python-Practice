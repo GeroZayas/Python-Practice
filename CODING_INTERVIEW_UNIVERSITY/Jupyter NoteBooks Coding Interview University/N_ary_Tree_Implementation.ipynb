{
 "cells": [
  {
   "cell_type": "code",
   "execution_count": 1,
   "id": "dc4bdf0c-c878-4855-b2f9-38b886f4f1d2",
   "metadata": {},
   "outputs": [],
   "source": [
    "from collections import deque"
   ]
  },
  {
   "cell_type": "code",
   "execution_count": 2,
   "id": "6d953870-886c-47cb-9727-62d166df6d07",
   "metadata": {},
   "outputs": [],
   "source": [
    "# Tree with multiple children"
   ]
  },
  {
   "cell_type": "markdown",
   "id": "9bf81f81-f679-462f-8190-d5cb8daf9701",
   "metadata": {},
   "source": [
    "# N-Ary Tree Class"
   ]
  },
  {
   "cell_type": "code",
   "execution_count": 3,
   "id": "c70f2cd0-8dd4-4c41-8778-2c32cc37ada5",
   "metadata": {},
   "outputs": [],
   "source": [
    "# N-Ary Tree\n",
    "class TreeNode:\n",
    "    def __init__(self, data):\n",
    "        self.data = data\n",
    "        self.children = []\n",
    "\n",
    "    def add_child(self, new_child):\n",
    "        self.children.append(new_child)\n",
    "\n",
    "    def __repr__(self):\n",
    "        if not isinstance(self.data, str):\n",
    "            self.data = str(self.data)\n",
    "        return self.data"
   ]
  },
  {
   "cell_type": "markdown",
   "id": "dca71ba2-51b3-4ab7-aca6-8db828b581cd",
   "metadata": {},
   "source": [
    "# Initialize the Tree"
   ]
  },
  {
   "cell_type": "code",
   "execution_count": 4,
   "id": "a7fcfed1-c754-4dd5-8446-4dfd9d2162c2",
   "metadata": {},
   "outputs": [],
   "source": [
    "root = TreeNode(\"Sonia\")"
   ]
  },
  {
   "cell_type": "code",
   "execution_count": 5,
   "id": "95e47171-e5a6-4863-b784-9463e5ae09c9",
   "metadata": {},
   "outputs": [
    {
     "data": {
      "text/plain": [
       "Sonia"
      ]
     },
     "execution_count": 5,
     "metadata": {},
     "output_type": "execute_result"
    }
   ],
   "source": [
    "root"
   ]
  },
  {
   "cell_type": "code",
   "execution_count": 6,
   "id": "47db417d-f29a-4b80-9c52-9484a170f0f4",
   "metadata": {},
   "outputs": [],
   "source": [
    "child1 = TreeNode(\"Elisa\")\n",
    "child2 = TreeNode(\"Carlos\")\n",
    "child3 = TreeNode(\"Basilio\")"
   ]
  },
  {
   "cell_type": "code",
   "execution_count": 7,
   "id": "daab6597-4224-4eb3-932b-922303789c45",
   "metadata": {},
   "outputs": [],
   "source": [
    "child1_1 = TreeNode(\"Gero\")\n",
    "child2_1 = TreeNode(\"Carly\")\n",
    "child2_2 = TreeNode(\"Karla\")\n",
    "child3_1 = TreeNode(\"Roberto\")\n",
    "child3_2 = TreeNode(\"Fernando\")\n",
    "child3_3 = TreeNode(\"David\")"
   ]
  },
  {
   "cell_type": "code",
   "execution_count": 8,
   "id": "bdd1e11e-e100-40dc-8e53-03f258343b03",
   "metadata": {},
   "outputs": [],
   "source": [
    "root.add_child(child1)\n",
    "root.add_child(child2)\n",
    "root.add_child(child3)"
   ]
  },
  {
   "cell_type": "code",
   "execution_count": 9,
   "id": "ab91ca61-685b-4777-8589-e07f2d40e918",
   "metadata": {},
   "outputs": [
    {
     "data": {
      "text/plain": [
       "Sonia"
      ]
     },
     "execution_count": 9,
     "metadata": {},
     "output_type": "execute_result"
    }
   ],
   "source": [
    "root"
   ]
  },
  {
   "cell_type": "code",
   "execution_count": 10,
   "id": "edcc339e-17e7-43a0-94ce-049b9245f208",
   "metadata": {},
   "outputs": [],
   "source": [
    "child1.add_child(child1_1)\n",
    "child2.add_child(child2_1)\n",
    "child2.add_child(child2_2)"
   ]
  },
  {
   "cell_type": "code",
   "execution_count": 11,
   "id": "7013561f-7fd6-4da5-8de9-d50b69b1a226",
   "metadata": {},
   "outputs": [
    {
     "data": {
      "text/plain": [
       "[Elisa, Carlos, Basilio]"
      ]
     },
     "execution_count": 11,
     "metadata": {},
     "output_type": "execute_result"
    }
   ],
   "source": [
    "root.children"
   ]
  },
  {
   "cell_type": "code",
   "execution_count": 12,
   "id": "0bbd36ea-3e1c-46d9-8d1f-a280e15e9931",
   "metadata": {},
   "outputs": [],
   "source": [
    "child3.add_child(child3_1)\n",
    "child3.add_child(child3_2)\n",
    "child3.add_child(child3_3)"
   ]
  },
  {
   "cell_type": "code",
   "execution_count": 13,
   "id": "5eaef364-39d9-4ee6-a77d-7c184e01fdb8",
   "metadata": {},
   "outputs": [
    {
     "data": {
      "text/plain": [
       "Carlos"
      ]
     },
     "execution_count": 13,
     "metadata": {},
     "output_type": "execute_result"
    }
   ],
   "source": [
    "root.children[1]"
   ]
  },
  {
   "cell_type": "code",
   "execution_count": 14,
   "id": "a6bac94a-125d-4d45-8bd2-c270d206e57e",
   "metadata": {},
   "outputs": [
    {
     "data": {
      "text/plain": [
       "' N-ARY TREE\\n             Sonia\\n        /      |     \\\\ \\n    elisa   carlos         basilio\\n    /        /   \\\\     /        \\\\      \\\\\\n  gero   carly  karla roberto fernando david \\n\\n'"
      ]
     },
     "execution_count": 14,
     "metadata": {},
     "output_type": "execute_result"
    }
   ],
   "source": [
    "r\"\"\" N-ARY TREE\n",
    "             Sonia\n",
    "        /      |     \\ \n",
    "    elisa   carlos         basilio\n",
    "    /        /   \\     /        \\      \\\n",
    "  gero   carly  karla roberto fernando david \n",
    "\n",
    "\"\"\""
   ]
  },
  {
   "cell_type": "markdown",
   "id": "49cdff0c-c865-44ba-af00-eacc2ed83bbd",
   "metadata": {},
   "source": [
    "# BF Traversal"
   ]
  },
  {
   "cell_type": "code",
   "execution_count": 15,
   "id": "9d755984-80cd-4793-858b-162e832d41f5",
   "metadata": {},
   "outputs": [],
   "source": [
    "# breadth first traversal\n",
    "def bft(root):\n",
    "    if not root:\n",
    "        return\n",
    "    queue = deque([root])\n",
    "    while queue:\n",
    "        curr = queue.popleft()\n",
    "        print(curr.data, end=\" \")\n",
    "        if curr.children:\n",
    "            for child in curr.children:\n",
    "                queue.append(child)"
   ]
  },
  {
   "cell_type": "code",
   "execution_count": 16,
   "id": "eb89d5c6-0ef9-430a-aa27-de7035eacb04",
   "metadata": {},
   "outputs": [
    {
     "name": "stdout",
     "output_type": "stream",
     "text": [
      "Sonia Elisa Carlos Basilio Gero Carly Karla Roberto Fernando David "
     ]
    }
   ],
   "source": [
    "bft(root)"
   ]
  },
  {
   "cell_type": "markdown",
   "id": "c98f9477-6dc7-4747-b657-cec1ac647f3f",
   "metadata": {},
   "source": [
    "# DF Traversal"
   ]
  },
  {
   "cell_type": "code",
   "execution_count": 17,
   "id": "a135e192-476e-4164-a306-1d23928b642d",
   "metadata": {},
   "outputs": [],
   "source": [
    "# Depth First Traversal\n",
    "# Pre-order, in-order, post-order"
   ]
  },
  {
   "cell_type": "code",
   "execution_count": 18,
   "id": "39b51843-b7f8-4092-ae63-c07a8cb4910a",
   "metadata": {},
   "outputs": [],
   "source": [
    "# pre-order DF traversal\n",
    "def df_in_order_trav(root):\n",
    "    ..."
   ]
  },
  {
   "cell_type": "code",
   "execution_count": null,
   "id": "73e38b0e-901a-4428-9d3c-d454768fd14f",
   "metadata": {},
   "outputs": [],
   "source": []
  }
 ],
 "metadata": {
  "kernelspec": {
   "display_name": "Python 3 (ipykernel)",
   "language": "python",
   "name": "python3"
  },
  "language_info": {
   "codemirror_mode": {
    "name": "ipython",
    "version": 3
   },
   "file_extension": ".py",
   "mimetype": "text/x-python",
   "name": "python",
   "nbconvert_exporter": "python",
   "pygments_lexer": "ipython3",
   "version": "3.12.1"
  }
 },
 "nbformat": 4,
 "nbformat_minor": 5
}
