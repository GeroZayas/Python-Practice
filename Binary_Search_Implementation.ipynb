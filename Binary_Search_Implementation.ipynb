{
 "cells": [
  {
   "cell_type": "code",
   "execution_count": 1,
   "id": "f79da072-cd65-47e8-a882-ff811b9c08f2",
   "metadata": {},
   "outputs": [],
   "source": [
    "# Binary search implementation"
   ]
  },
  {
   "cell_type": "code",
   "execution_count": 17,
   "id": "0df2f791-9a84-4dcc-a04d-4a3ea947bd56",
   "metadata": {},
   "outputs": [],
   "source": [
    "def bs(array, target):\n",
    "    left, right = 0, len(array) - 1\n",
    "    while left <= right:\n",
    "        mid = (left + right) // 2\n",
    "        if target == array[mid]:\n",
    "            return f\"Target {target} found at index {mid}\"\n",
    "        elif target < array[mid]:\n",
    "            right = mid - 1\n",
    "        else:\n",
    "            left = mid + 1\n",
    "    return f\"Target {target} not found in array\""
   ]
  },
  {
   "cell_type": "code",
   "execution_count": 20,
   "id": "c6f18ea1-d4be-46ad-829c-fce86ec3887e",
   "metadata": {},
   "outputs": [],
   "source": [
    "numbers = [x for x in range(1, 21)]"
   ]
  },
  {
   "cell_type": "code",
   "execution_count": 21,
   "id": "08ed9108-307d-4c55-90a4-ed246fe3d401",
   "metadata": {},
   "outputs": [
    {
     "data": {
      "text/plain": [
       "[1, 2, 3, 4, 5, 6, 7, 8, 9, 10, 11, 12, 13, 14, 15, 16, 17, 18, 19, 20]"
      ]
     },
     "execution_count": 21,
     "metadata": {},
     "output_type": "execute_result"
    }
   ],
   "source": [
    "numbers"
   ]
  },
  {
   "cell_type": "code",
   "execution_count": 22,
   "id": "c5cf1124-c6be-4586-8871-eba706f95103",
   "metadata": {},
   "outputs": [
    {
     "data": {
      "text/plain": [
       "'Target 11 found at index 10'"
      ]
     },
     "execution_count": 22,
     "metadata": {},
     "output_type": "execute_result"
    }
   ],
   "source": [
    "bs(numbers, 11)"
   ]
  },
  {
   "cell_type": "code",
   "execution_count": null,
   "id": "737ecea0-0d33-44a2-a52d-dc83e02c2aae",
   "metadata": {},
   "outputs": [],
   "source": []
  }
 ],
 "metadata": {
  "kernelspec": {
   "display_name": "Python 3 (ipykernel)",
   "language": "python",
   "name": "python3"
  },
  "language_info": {
   "codemirror_mode": {
    "name": "ipython",
    "version": 3
   },
   "file_extension": ".py",
   "mimetype": "text/x-python",
   "name": "python",
   "nbconvert_exporter": "python",
   "pygments_lexer": "ipython3",
   "version": "3.12.1"
  }
 },
 "nbformat": 4,
 "nbformat_minor": 5
}
