{
 "cells": [
  {
   "cell_type": "code",
   "execution_count": 1,
   "id": "8fb201e4-658b-4932-91d1-dd218cc4ecc2",
   "metadata": {},
   "outputs": [],
   "source": [
    "# Tree Data Structure\n",
    "# CSDojo video : https://www.youtube.com/watch?v=1-l_UOFi1Xw"
   ]
  },
  {
   "cell_type": "code",
   "execution_count": 6,
   "id": "4a0add95-bc54-43d1-8943-463effea80dd",
   "metadata": {},
   "outputs": [],
   "source": [
    "class Node:\n",
    "    def __init__(self, data, left_child, right_child):\n",
    "        self.data = data\n",
    "        self.left_child = left_child\n",
    "        self.right_child = right_child\n",
    "root = Node(5, None, None)"
   ]
  },
  {
   "cell_type": "code",
   "execution_count": 9,
   "id": "3307c272-39e6-41aa-9766-acc39620d7aa",
   "metadata": {},
   "outputs": [
    {
     "data": {
      "text/plain": [
       "(5, None, None)"
      ]
     },
     "execution_count": 9,
     "metadata": {},
     "output_type": "execute_result"
    }
   ],
   "source": [
    "root.data, root.left_child, root.right_child"
   ]
  },
  {
   "cell_type": "code",
   "execution_count": 14,
   "id": "533c74b0-d85d-4312-baa4-77e11f71107a",
   "metadata": {},
   "outputs": [],
   "source": [
    "node1, node2, node3, node4 = (Node(n, None, None) for n in range(7,11))"
   ]
  },
  {
   "cell_type": "code",
   "execution_count": 15,
   "id": "be8dd406-b794-42c9-8556-466bdd550411",
   "metadata": {},
   "outputs": [
    {
     "name": "stdout",
     "output_type": "stream",
     "text": [
      "7\n",
      "8\n",
      "9\n",
      "10\n"
     ]
    }
   ],
   "source": [
    "for n in [node1,node2,node3,node4]:\n",
    "    print(n.data)"
   ]
  },
  {
   "cell_type": "code",
   "execution_count": 16,
   "id": "fee23a69-11cb-4531-b2fa-e4f325f11c8b",
   "metadata": {},
   "outputs": [],
   "source": [
    "root.left_child = node1\n",
    "root.right_child = node2\n",
    "node1.left_child = node3\n",
    "node2.right_child = node4"
   ]
  },
  {
   "cell_type": "code",
   "execution_count": 26,
   "id": "64b13367-7bcb-4b90-905b-30f6c4cd87e6",
   "metadata": {},
   "outputs": [],
   "source": [
    "def find_sum(root):\n",
    "    if root == None:\n",
    "        return 0\n",
    "    return root.data + find_sum(root.left_child) \\\n",
    "    + find_sum(root.right_child)"
   ]
  },
  {
   "cell_type": "code",
   "execution_count": 27,
   "id": "1e9b850c-d66b-4f3b-8f6b-dc3c3315c5cd",
   "metadata": {},
   "outputs": [
    {
     "data": {
      "text/plain": [
       "39"
      ]
     },
     "execution_count": 27,
     "metadata": {},
     "output_type": "execute_result"
    }
   ],
   "source": [
    "find_sum(root) # 39"
   ]
  },
  {
   "cell_type": "code",
   "execution_count": null,
   "id": "65c87586-3b8a-45c2-82bb-f958deecc7a9",
   "metadata": {},
   "outputs": [],
   "source": []
  }
 ],
 "metadata": {
  "kernelspec": {
   "display_name": "Python 3 (ipykernel)",
   "language": "python",
   "name": "python3"
  },
  "language_info": {
   "codemirror_mode": {
    "name": "ipython",
    "version": 3
   },
   "file_extension": ".py",
   "mimetype": "text/x-python",
   "name": "python",
   "nbconvert_exporter": "python",
   "pygments_lexer": "ipython3",
   "version": "3.12.1"
  }
 },
 "nbformat": 4,
 "nbformat_minor": 5
}
