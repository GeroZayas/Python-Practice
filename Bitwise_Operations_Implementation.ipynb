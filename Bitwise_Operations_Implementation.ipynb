{
 "cells": [
  {
   "cell_type": "code",
   "execution_count": 1,
   "id": "5ea4262e-9fc8-4428-85c1-6817ef3b6aaf",
   "metadata": {},
   "outputs": [],
   "source": [
    "# Bitwise Operations easy implementation"
   ]
  },
  {
   "cell_type": "code",
   "execution_count": 2,
   "id": "2627928a-5ca5-4e6d-8c2d-3598b4d4451e",
   "metadata": {},
   "outputs": [],
   "source": [
    "a, b = 5, 3"
   ]
  },
  {
   "cell_type": "code",
   "execution_count": 3,
   "id": "ff40738e-4e10-4202-a2d7-91cfd0a3280e",
   "metadata": {},
   "outputs": [
    {
     "data": {
      "text/plain": [
       "5"
      ]
     },
     "execution_count": 3,
     "metadata": {},
     "output_type": "execute_result"
    }
   ],
   "source": [
    "a"
   ]
  },
  {
   "cell_type": "code",
   "execution_count": 4,
   "id": "42cdc8bd-f55f-42f8-9500-a793887f9b2e",
   "metadata": {},
   "outputs": [
    {
     "data": {
      "text/plain": [
       "3"
      ]
     },
     "execution_count": 4,
     "metadata": {},
     "output_type": "execute_result"
    }
   ],
   "source": [
    "b"
   ]
  },
  {
   "cell_type": "code",
   "execution_count": 5,
   "id": "dffc89d6-5d78-43ab-9ed3-35faee2efa47",
   "metadata": {},
   "outputs": [
    {
     "data": {
      "text/plain": [
       "'0b101'"
      ]
     },
     "execution_count": 5,
     "metadata": {},
     "output_type": "execute_result"
    }
   ],
   "source": [
    "bin(a)"
   ]
  },
  {
   "cell_type": "code",
   "execution_count": 6,
   "id": "9b41fb3b-2e02-42fa-bdf4-375fdcec3de1",
   "metadata": {},
   "outputs": [
    {
     "data": {
      "text/plain": [
       "'0b11'"
      ]
     },
     "execution_count": 6,
     "metadata": {},
     "output_type": "execute_result"
    }
   ],
   "source": [
    "bin(b)"
   ]
  },
  {
   "cell_type": "code",
   "execution_count": 10,
   "id": "2c1c85af-5e91-45f1-b01a-fe73011c47a8",
   "metadata": {},
   "outputs": [
    {
     "name": "stdout",
     "output_type": "stream",
     "text": [
      "0b1\n"
     ]
    }
   ],
   "source": [
    "r = bin(a & b)  # and\n",
    "print(r)"
   ]
  },
  {
   "cell_type": "code",
   "execution_count": 11,
   "id": "b404cdea-9859-4719-a4d6-60a9a8e86c56",
   "metadata": {},
   "outputs": [
    {
     "name": "stdout",
     "output_type": "stream",
     "text": [
      "0b111\n"
     ]
    }
   ],
   "source": [
    "r = bin(a | b)  # or\n",
    "print(r)"
   ]
  },
  {
   "cell_type": "code",
   "execution_count": 13,
   "id": "15a2ca86-8a11-49d0-b76b-dfd2859ed9c7",
   "metadata": {},
   "outputs": [
    {
     "name": "stdout",
     "output_type": "stream",
     "text": [
      "0b110\n"
     ]
    }
   ],
   "source": [
    "r = bin(a ^ b)  # xor\n",
    "print(r)"
   ]
  },
  {
   "cell_type": "code",
   "execution_count": 15,
   "id": "7ad421e1-dbce-4536-af6f-de83da2a00d6",
   "metadata": {},
   "outputs": [
    {
     "name": "stdout",
     "output_type": "stream",
     "text": [
      "-0b110\n"
     ]
    }
   ],
   "source": [
    "a = 5  # 0b0101 in binary\n",
    "result = ~a\n",
    "print(bin(result))"
   ]
  },
  {
   "cell_type": "code",
   "execution_count": 18,
   "id": "13656a9a-4b94-4c0a-b0eb-b96c9ac983a7",
   "metadata": {},
   "outputs": [
    {
     "name": "stdout",
     "output_type": "stream",
     "text": [
      "32 4\n",
      "0b100000 0b100\n"
     ]
    }
   ],
   "source": [
    "num = 8  # 0b1000 in binary\n",
    "left_shifted = num << 2\n",
    "right_shifted = num >> 1\n",
    "print(left_shifted, right_shifted)\n",
    "print(bin(left_shifted), bin(right_shifted))"
   ]
  },
  {
   "cell_type": "code",
   "execution_count": null,
   "id": "6a0acea4-ce81-4894-867f-7840dcf6f36f",
   "metadata": {},
   "outputs": [],
   "source": []
  }
 ],
 "metadata": {
  "kernelspec": {
   "display_name": "Python 3 (ipykernel)",
   "language": "python",
   "name": "python3"
  },
  "language_info": {
   "codemirror_mode": {
    "name": "ipython",
    "version": 3
   },
   "file_extension": ".py",
   "mimetype": "text/x-python",
   "name": "python",
   "nbconvert_exporter": "python",
   "pygments_lexer": "ipython3",
   "version": "3.12.1"
  }
 },
 "nbformat": 4,
 "nbformat_minor": 5
}
