{
 "cells": [
  {
   "cell_type": "markdown",
   "metadata": {},
   "source": [
    "# Define TreeNode Class"
   ]
  },
  {
   "cell_type": "markdown",
   "metadata": {},
   "source": [
    "### Note this tree is not binary"
   ]
  },
  {
   "cell_type": "code",
   "execution_count": 1,
   "metadata": {},
   "outputs": [],
   "source": [
    "class TreeNode:\n",
    "    def __init__(self, data):\n",
    "        self.data = data\n",
    "        self.children = []"
   ]
  },
  {
   "cell_type": "markdown",
   "metadata": {},
   "source": [
    "# Function to Traverse the Tree Breadth First"
   ]
  },
  {
   "cell_type": "code",
   "execution_count": 2,
   "metadata": {},
   "outputs": [],
   "source": [
    "def bf_traversal(root):\n",
    "    \"\"\"Breadth First Traversal of Tree\"\"\"\n",
    "    if not root:\n",
    "        return\n",
    "    queue = [root]\n",
    "    while queue:\n",
    "        current_node = queue.pop(0)\n",
    "        print(current_node.data)\n",
    "        if current_node.children is not None:\n",
    "            for child in current_node.children:\n",
    "                queue.append(child)"
   ]
  },
  {
   "cell_type": "markdown",
   "metadata": {},
   "source": [
    "# Create the Tree with root and children"
   ]
  },
  {
   "cell_type": "code",
   "execution_count": 3,
   "metadata": {},
   "outputs": [],
   "source": [
    "root = TreeNode(\"Sonia\")"
   ]
  },
  {
   "cell_type": "code",
   "execution_count": 4,
   "metadata": {},
   "outputs": [],
   "source": [
    "child1, child2 = TreeNode(\"Elisa\"), TreeNode(\"Carlos\")"
   ]
  },
  {
   "cell_type": "code",
   "execution_count": 5,
   "metadata": {},
   "outputs": [],
   "source": [
    "root.children.extend([child1, child2])"
   ]
  },
  {
   "cell_type": "markdown",
   "metadata": {},
   "source": [
    "### We test the BF Traversal function"
   ]
  },
  {
   "cell_type": "code",
   "execution_count": 6,
   "metadata": {},
   "outputs": [
    {
     "name": "stdout",
     "output_type": "stream",
     "text": [
      "Sonia\n",
      "Elisa\n",
      "Carlos\n"
     ]
    }
   ],
   "source": [
    "bf_traversal(root)"
   ]
  },
  {
   "cell_type": "code",
   "execution_count": 7,
   "metadata": {},
   "outputs": [
    {
     "name": "stdout",
     "output_type": "stream",
     "text": [
      "Elisa\n",
      "Carlos\n"
     ]
    }
   ],
   "source": [
    "for ch in root.children:\n",
    "    print(ch.data)"
   ]
  },
  {
   "cell_type": "markdown",
   "metadata": {},
   "source": [
    "## Children of children"
   ]
  },
  {
   "cell_type": "code",
   "execution_count": 8,
   "metadata": {},
   "outputs": [],
   "source": [
    "child1.children.extend([TreeNode(\"Gero\"), TreeNode(\"Rafa\")])"
   ]
  },
  {
   "cell_type": "code",
   "execution_count": 9,
   "metadata": {},
   "outputs": [],
   "source": [
    "child2.children.extend([TreeNode(\"Carly\"), TreeNode(\"Karla\"), TreeNode(\"Tania\")])"
   ]
  },
  {
   "cell_type": "code",
   "execution_count": 10,
   "metadata": {},
   "outputs": [],
   "source": [
    "carly = child2.children[0]"
   ]
  },
  {
   "cell_type": "code",
   "execution_count": 11,
   "metadata": {},
   "outputs": [
    {
     "data": {
      "text/plain": [
       "'Carly'"
      ]
     },
     "execution_count": 11,
     "metadata": {},
     "output_type": "execute_result"
    }
   ],
   "source": [
    "carly.data"
   ]
  },
  {
   "cell_type": "code",
   "execution_count": 12,
   "metadata": {},
   "outputs": [],
   "source": [
    "carly.children.append(TreeNode(\"Dylan\"))"
   ]
  },
  {
   "cell_type": "markdown",
   "metadata": {},
   "source": [
    "# Full Traversal Now"
   ]
  },
  {
   "cell_type": "code",
   "execution_count": 13,
   "metadata": {},
   "outputs": [
    {
     "name": "stdout",
     "output_type": "stream",
     "text": [
      "Sonia\n",
      "Elisa\n",
      "Carlos\n",
      "Gero\n",
      "Rafa\n",
      "Carly\n",
      "Karla\n",
      "Tania\n",
      "Dylan\n"
     ]
    }
   ],
   "source": [
    "bf_traversal(root)"
   ]
  },
  {
   "cell_type": "markdown",
   "metadata": {},
   "source": [
    "# We define a Breadth First Search function \n",
    "#### We want to find 'target'"
   ]
  },
  {
   "cell_type": "code",
   "execution_count": 25,
   "metadata": {},
   "outputs": [],
   "source": [
    "def BFS(start_node, target):\n",
    "    from collections import deque\n",
    "\n",
    "    if not start_node:\n",
    "        return\n",
    "    queue = deque([start_node])\n",
    "    visited = set()\n",
    "    level = 0\n",
    "    while queue:\n",
    "        node = queue.popleft()\n",
    "        level = ...\n",
    "        if node not in visited:\n",
    "            print(node.data)\n",
    "            if node.data == target:\n",
    "                return f\"Node {target} found\"\n",
    "            visited.add(node)\n",
    "            queue.extend(child for child in node.children if child not in visited)\n",
    "\n",
    "    return f\"Node {target} not found in this tree\""
   ]
  },
  {
   "cell_type": "markdown",
   "metadata": {},
   "source": [
    "**Run the function**"
   ]
  },
  {
   "cell_type": "code",
   "execution_count": 26,
   "metadata": {},
   "outputs": [
    {
     "name": "stdout",
     "output_type": "stream",
     "text": [
      "Sonia\n",
      "Elisa\n",
      "Carlos\n",
      "Gero\n"
     ]
    },
    {
     "data": {
      "text/plain": [
       "'Node Gero found'"
      ]
     },
     "execution_count": 26,
     "metadata": {},
     "output_type": "execute_result"
    }
   ],
   "source": [
    "BFS(root, \"Gero\")"
   ]
  },
  {
   "cell_type": "code",
   "execution_count": null,
   "metadata": {},
   "outputs": [],
   "source": []
  }
 ],
 "metadata": {
  "kernelspec": {
   "display_name": "Python 3 (ipykernel)",
   "language": "python",
   "name": "python3"
  },
  "language_info": {
   "codemirror_mode": {
    "name": "ipython",
    "version": 3
   },
   "file_extension": ".py",
   "mimetype": "text/x-python",
   "name": "python",
   "nbconvert_exporter": "python",
   "pygments_lexer": "ipython3",
   "version": "3.12.1"
  },
  "vscode": {
   "interpreter": {
    "hash": "369f2c481f4da34e4445cda3fffd2e751bd1c4d706f27375911949ba6bb62e1c"
   }
  }
 },
 "nbformat": 4,
 "nbformat_minor": 4
}
