{
 "cells": [
  {
   "cell_type": "markdown",
   "metadata": {},
   "source": [
    "# Collections OrderedDict"
   ]
  },
  {
   "cell_type": "code",
   "execution_count": 2,
   "metadata": {},
   "outputs": [],
   "source": [
    "from collections import OrderedDict"
   ]
  },
  {
   "cell_type": "code",
   "execution_count": 4,
   "metadata": {},
   "outputs": [],
   "source": [
    "my_ord_dict = OrderedDict([(\"Gero\", 32),(\"Mar\", 33),(\"Elisa\", 56)])"
   ]
  },
  {
   "cell_type": "code",
   "execution_count": 5,
   "metadata": {},
   "outputs": [
    {
     "data": {
      "text/plain": [
       "OrderedDict([('Gero', 32), ('Mar', 33), ('Elisa', 56)])"
      ]
     },
     "execution_count": 5,
     "metadata": {},
     "output_type": "execute_result"
    }
   ],
   "source": [
    "my_ord_dict"
   ]
  },
  {
   "cell_type": "code",
   "execution_count": 6,
   "metadata": {},
   "outputs": [
    {
     "data": {
      "text/plain": [
       "odict_items([('Gero', 32), ('Mar', 33), ('Elisa', 56)])"
      ]
     },
     "execution_count": 6,
     "metadata": {},
     "output_type": "execute_result"
    }
   ],
   "source": [
    "my_ord_dict.items()"
   ]
  },
  {
   "cell_type": "markdown",
   "metadata": {},
   "source": [
    "# Inspect"
   ]
  },
  {
   "cell_type": "code",
   "execution_count": 7,
   "metadata": {},
   "outputs": [],
   "source": [
    "import inspect"
   ]
  },
  {
   "cell_type": "code",
   "execution_count": 8,
   "metadata": {},
   "outputs": [],
   "source": [
    "def square(x):\n",
    "    return x**2"
   ]
  },
  {
   "cell_type": "code",
   "execution_count": 9,
   "metadata": {},
   "outputs": [],
   "source": [
    "source_code = inspect.getsource(square)"
   ]
  },
  {
   "cell_type": "code",
   "execution_count": 10,
   "metadata": {},
   "outputs": [
    {
     "data": {
      "text/plain": [
       "'def square(x):\\n    return x**2\\n'"
      ]
     },
     "execution_count": 10,
     "metadata": {},
     "output_type": "execute_result"
    }
   ],
   "source": [
    "source_code"
   ]
  },
  {
   "cell_type": "markdown",
   "metadata": {},
   "source": [
    "# Subprocess"
   ]
  },
  {
   "cell_type": "code",
   "execution_count": 33,
   "metadata": {},
   "outputs": [
    {
     "name": "stdout",
     "output_type": "stream",
     "text": [
      "b'Algorithms Gero\\nBarcelona_Rent_Price_Streamlit_App.py\\nChange_Names_Files_With_Underscores_For_Spaces.Py\\nClick_2.py\\nClick.py\\nclick_test.py\\nClick_Test.py\\nCODING_INTERVIEW_UNIVERSITY\\nCollections_Practice.ipynb\\ncomercio_barcelona_2019.csv\\nCSES Problem Set\\nCustomTKinter\\ndata_file.json\\ndatasets\\ndesktop.ini\\nDifferent\\nDifferent \\nen_sp.csv\\nenv\\nExercises_from_platforms\\nExtract_Blog_Posts_Links.py\\nextract_links_from_website.py\\nFaker_Generate_Names_Words_Emails.py\\nFaker_Practice.py\\nFile Renamer\\ngero_utils\\nGero-Zayas-Blog-master.zip~\\nHackerRank\\nHyperdiv\\nimages\\nleetcode_exercises\\nLogging_Practice.log\\nMarkdown_Epub_Converter_Gui.py\\nMarkdown_Epub_Converter.py\\nmarkdown_files\\nmarp_practice_1\\nmy_asyncio.py\\nNotebooks\\nopendatabcn_allotjament_hotels-csv.csv\\nOs_Practice.py\\nPlayground2.py\\nPlayground_Notebook.ipynb\\nPlayground.py\\n__pycache__\\nPyData2023\\nPyScript-Practice\\nPysimplegui_1.py\\nPytest_Training.py\\nPython PPTX practice\\nPyWebView\\nQuotes_Scraper_Gooreads.py\\nREADME.md\\nReverse_Words.py\\nSetter_And_Getter_Practice.py\\nSimple_Matplotlib_Practice.ipynb\\nSlinding_Window_Algo_Example.py\\nStreamlit\\nstreamlit_english_game\\nstreamlit_quotes_app\\nTechie Delight\\ntechnical_interview_iteration.ipynb\\ntextual_demo_2024-04-30T08_22_21_041705.svg\\ntextual-web\\n#tinkering_with_emacs.py#~\\ntinydb-practice\\ntutorial.db\\nUnittest_Training.py\\nVector.py\\nwords.csv\\n'\n"
     ]
    }
   ],
   "source": [
    "import subprocess\n",
    "result = subprocess.run(['ls'], stdout=subprocess.PIPE)\n",
    "print(result.stdout)"
   ]
  },
  {
   "cell_type": "markdown",
   "metadata": {},
   "source": [
    "---------------------------------------"
   ]
  },
  {
   "cell_type": "code",
   "execution_count": 34,
   "metadata": {},
   "outputs": [
    {
     "name": "stdout",
     "output_type": "stream",
     "text": [
      "Module(body=[Expr(value=Call(func=Name(id='print', ctx=Load()), args=[Constant(value='Hello, World!')], keywords=[]))], type_ignores=[])\n"
     ]
    }
   ],
   "source": [
    "import ast\n",
    "\n",
    "source_code = \"print('Hello, World!')\"\n",
    "ast_tree = ast.parse(source_code)\n",
    "print(ast.dump(ast_tree))"
   ]
  }
 ],
 "metadata": {
  "kernelspec": {
   "display_name": "Python 3 (ipykernel)",
   "language": "python",
   "name": "python3"
  },
  "language_info": {
   "codemirror_mode": {
    "name": "ipython",
    "version": 3
   },
   "file_extension": ".py",
   "mimetype": "text/x-python",
   "name": "python",
   "nbconvert_exporter": "python",
   "pygments_lexer": "ipython3",
   "version": "3.12.2"
  },
  "vscode": {
   "interpreter": {
    "hash": "369f2c481f4da34e4445cda3fffd2e751bd1c4d706f27375911949ba6bb62e1c"
   }
  }
 },
 "nbformat": 4,
 "nbformat_minor": 4
}
