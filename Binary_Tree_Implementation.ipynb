{
 "cells": [
  {
   "cell_type": "markdown",
   "id": "78afd1dc-a039-49fc-bb91-b0cb99bc750a",
   "metadata": {},
   "source": [
    "# Binary Tree Implementation"
   ]
  },
  {
   "cell_type": "code",
   "execution_count": 1,
   "id": "ef0d47f6-a0ff-4403-a5db-4ad887171fa6",
   "metadata": {},
   "outputs": [],
   "source": [
    "class TreeNode:\n",
    "    def __init__(self, data):\n",
    "        self.data = data\n",
    "        self.left = None\n",
    "        self.right = None\n",
    "    def __repr__(self):\n",
    "        if not isinstance(self.data, str):\n",
    "            self.data = str(self.data)\n",
    "        return self.data"
   ]
  },
  {
   "cell_type": "code",
   "execution_count": null,
   "id": "f3148fa1-b2a7-4dc5-8fad-4cbf9af0f37e",
   "metadata": {},
   "outputs": [],
   "source": [
    "root = "
   ]
  }
 ],
 "metadata": {
  "kernelspec": {
   "display_name": "Python 3 (ipykernel)",
   "language": "python",
   "name": "python3"
  },
  "language_info": {
   "codemirror_mode": {
    "name": "ipython",
    "version": 3
   },
   "file_extension": ".py",
   "mimetype": "text/x-python",
   "name": "python",
   "nbconvert_exporter": "python",
   "pygments_lexer": "ipython3",
   "version": "3.12.1"
  }
 },
 "nbformat": 4,
 "nbformat_minor": 5
}
